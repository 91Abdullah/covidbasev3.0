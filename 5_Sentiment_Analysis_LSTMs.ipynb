{
 "cells": [
  {
   "cell_type": "code",
   "execution_count": 3,
   "metadata": {},
   "outputs": [
    {
     "name": "stdout",
     "output_type": "stream",
     "text": [
      "Done\n"
     ]
    }
   ],
   "source": [
    "import re\n",
    "import matplotlib.pyplot as plt\n",
    "import string\n",
    "from nltk.corpus import stopwords\n",
    "import nltk\n",
    "from nltk.corpus import wordnet\n",
    "from nltk.stem import WordNetLemmatizer\n",
    "from nltk.tokenize.treebank import TreebankWordDetokenizer\n",
    "from collections import Counter\n",
    "from wordcloud import WordCloud\n",
    "from nltk.corpus import stopwords\n",
    "import nltk\n",
    "from gensim.utils import simple_preprocess\n",
    "from nltk.corpus import stopwords\n",
    "import gensim\n",
    "from sklearn.model_selection import train_test_split\n",
    "import pickle\n",
    "import warnings\n",
    "warnings.filterwarnings('ignore')\n",
    "import seaborn as sns\n",
    "from sklearn.metrics import confusion_matrix\n",
    "import matplotlib.pyplot as plt \n",
    "import tensorflow as tf\n",
    "import keras\n",
    "import numpy as np\n",
    "import pandas as pd\n",
    "print('Done')"
   ]
  },
  {
   "cell_type": "code",
   "execution_count": 4,
   "metadata": {},
   "outputs": [],
   "source": [
    "train = pd.read_csv('Dataset/Combined_Dataset_2022-18-02.csv')"
   ]
  },
  {
   "cell_type": "code",
   "execution_count": 43,
   "metadata": {},
   "outputs": [
    {
     "data": {
      "text/html": [
       "<div>\n",
       "<style scoped>\n",
       "    .dataframe tbody tr th:only-of-type {\n",
       "        vertical-align: middle;\n",
       "    }\n",
       "\n",
       "    .dataframe tbody tr th {\n",
       "        vertical-align: top;\n",
       "    }\n",
       "\n",
       "    .dataframe thead th {\n",
       "        text-align: right;\n",
       "    }\n",
       "</style>\n",
       "<table border=\"1\" class=\"dataframe\">\n",
       "  <thead>\n",
       "    <tr style=\"text-align: right;\">\n",
       "      <th></th>\n",
       "      <th>sentences</th>\n",
       "      <th>manual_label</th>\n",
       "    </tr>\n",
       "  </thead>\n",
       "  <tbody>\n",
       "    <tr>\n",
       "      <th>148</th>\n",
       "      <td>.   indeed, two drugs (homoharringtonine and h...</td>\n",
       "      <td>-1.0</td>\n",
       "    </tr>\n",
       "    <tr>\n",
       "      <th>152</th>\n",
       "      <td>.   the negative control compounds cinnamaldeh...</td>\n",
       "      <td>-1.0</td>\n",
       "    </tr>\n",
       "    <tr>\n",
       "      <th>162</th>\n",
       "      <td>.   on the one hand, proteasome inhibition wit...</td>\n",
       "      <td>-1.0</td>\n",
       "    </tr>\n",
       "    <tr>\n",
       "      <th>163</th>\n",
       "      <td>.   indeed, two drugs (homoharringtonine and h...</td>\n",
       "      <td>-1.0</td>\n",
       "    </tr>\n",
       "    <tr>\n",
       "      <th>173</th>\n",
       "      <td>.   the half-maximal effective concentration (...</td>\n",
       "      <td>-1.0</td>\n",
       "    </tr>\n",
       "    <tr>\n",
       "      <th>...</th>\n",
       "      <td>...</td>\n",
       "      <td>...</td>\n",
       "    </tr>\n",
       "    <tr>\n",
       "      <th>767</th>\n",
       "      <td>Nicotine -Reaches brain within 15 s after puff...</td>\n",
       "      <td>-1.0</td>\n",
       "    </tr>\n",
       "    <tr>\n",
       "      <th>769</th>\n",
       "      <td>Additionally, she developed kidney dysfunction...</td>\n",
       "      <td>-1.0</td>\n",
       "    </tr>\n",
       "    <tr>\n",
       "      <th>771</th>\n",
       "      <td>Recently, some epidemiological studies indicat...</td>\n",
       "      <td>-1.0</td>\n",
       "    </tr>\n",
       "    <tr>\n",
       "      <th>773</th>\n",
       "      <td>Till date, only dexamethasone and remdesivir h...</td>\n",
       "      <td>-1.0</td>\n",
       "    </tr>\n",
       "    <tr>\n",
       "      <th>782</th>\n",
       "      <td>Hyperglycemia, diabetic ketoacidosis, and the ...</td>\n",
       "      <td>-1.0</td>\n",
       "    </tr>\n",
       "  </tbody>\n",
       "</table>\n",
       "<p>113 rows × 2 columns</p>\n",
       "</div>"
      ],
      "text/plain": [
       "                                             sentences  manual_label\n",
       "148  .   indeed, two drugs (homoharringtonine and h...          -1.0\n",
       "152  .   the negative control compounds cinnamaldeh...          -1.0\n",
       "162  .   on the one hand, proteasome inhibition wit...          -1.0\n",
       "163  .   indeed, two drugs (homoharringtonine and h...          -1.0\n",
       "173  .   the half-maximal effective concentration (...          -1.0\n",
       "..                                                 ...           ...\n",
       "767  Nicotine -Reaches brain within 15 s after puff...          -1.0\n",
       "769  Additionally, she developed kidney dysfunction...          -1.0\n",
       "771  Recently, some epidemiological studies indicat...          -1.0\n",
       "773  Till date, only dexamethasone and remdesivir h...          -1.0\n",
       "782  Hyperglycemia, diabetic ketoacidosis, and the ...          -1.0\n",
       "\n",
       "[113 rows x 2 columns]"
      ]
     },
     "execution_count": 43,
     "metadata": {},
     "output_type": "execute_result"
    }
   ],
   "source": [
    "train[train['manual_label'] == -1]"
   ]
  },
  {
   "cell_type": "code",
   "execution_count": 6,
   "metadata": {},
   "outputs": [
    {
     "data": {
      "text/plain": [
       "790"
      ]
     },
     "execution_count": 6,
     "metadata": {},
     "output_type": "execute_result"
    }
   ],
   "source": [
    "#Let's get the dataset lenght\n",
    "len(train)"
   ]
  },
  {
   "cell_type": "code",
   "execution_count": 7,
   "metadata": {},
   "outputs": [
    {
     "data": {
      "text/plain": [
       "array([ 0.,  1., -1.])"
      ]
     },
     "execution_count": 7,
     "metadata": {},
     "output_type": "execute_result"
    }
   ],
   "source": [
    "#Is there any other different value than neutral, negative and positive?\n",
    "train['manual_label'].unique()"
   ]
  },
  {
   "cell_type": "code",
   "execution_count": 8,
   "metadata": {},
   "outputs": [
    {
     "data": {
      "text/html": [
       "<div>\n",
       "<style scoped>\n",
       "    .dataframe tbody tr th:only-of-type {\n",
       "        vertical-align: middle;\n",
       "    }\n",
       "\n",
       "    .dataframe tbody tr th {\n",
       "        vertical-align: top;\n",
       "    }\n",
       "\n",
       "    .dataframe thead th {\n",
       "        text-align: right;\n",
       "    }\n",
       "</style>\n",
       "<table border=\"1\" class=\"dataframe\">\n",
       "  <thead>\n",
       "    <tr style=\"text-align: right;\">\n",
       "      <th></th>\n",
       "      <th>disease</th>\n",
       "      <th>drug</th>\n",
       "      <th>sentences</th>\n",
       "      <th>distance</th>\n",
       "      <th>polarity</th>\n",
       "      <th>title</th>\n",
       "    </tr>\n",
       "    <tr>\n",
       "      <th>manual_label</th>\n",
       "      <th></th>\n",
       "      <th></th>\n",
       "      <th></th>\n",
       "      <th></th>\n",
       "      <th></th>\n",
       "      <th></th>\n",
       "    </tr>\n",
       "  </thead>\n",
       "  <tbody>\n",
       "    <tr>\n",
       "      <th>-1.0</th>\n",
       "      <td>62</td>\n",
       "      <td>89</td>\n",
       "      <td>111</td>\n",
       "      <td>28</td>\n",
       "      <td>69</td>\n",
       "      <td>110</td>\n",
       "    </tr>\n",
       "    <tr>\n",
       "      <th>0.0</th>\n",
       "      <td>110</td>\n",
       "      <td>158</td>\n",
       "      <td>200</td>\n",
       "      <td>46</td>\n",
       "      <td>114</td>\n",
       "      <td>200</td>\n",
       "    </tr>\n",
       "    <tr>\n",
       "      <th>1.0</th>\n",
       "      <td>162</td>\n",
       "      <td>303</td>\n",
       "      <td>423</td>\n",
       "      <td>47</td>\n",
       "      <td>197</td>\n",
       "      <td>417</td>\n",
       "    </tr>\n",
       "  </tbody>\n",
       "</table>\n",
       "</div>"
      ],
      "text/plain": [
       "              disease  drug  sentences  distance  polarity  title\n",
       "manual_label                                                     \n",
       "-1.0               62    89        111        28        69    110\n",
       " 0.0              110   158        200        46       114    200\n",
       " 1.0              162   303        423        47       197    417"
      ]
     },
     "execution_count": 8,
     "metadata": {},
     "output_type": "execute_result"
    }
   ],
   "source": [
    "#How's distributed the dataset? Is it biased?\n",
    "train.groupby('manual_label').nunique()"
   ]
  },
  {
   "cell_type": "markdown",
   "metadata": {},
   "source": [
    "## Data cleaning"
   ]
  },
  {
   "cell_type": "code",
   "execution_count": 9,
   "metadata": {},
   "outputs": [
    {
     "data": {
      "text/html": [
       "<div>\n",
       "<style scoped>\n",
       "    .dataframe tbody tr th:only-of-type {\n",
       "        vertical-align: middle;\n",
       "    }\n",
       "\n",
       "    .dataframe tbody tr th {\n",
       "        vertical-align: top;\n",
       "    }\n",
       "\n",
       "    .dataframe thead th {\n",
       "        text-align: right;\n",
       "    }\n",
       "</style>\n",
       "<table border=\"1\" class=\"dataframe\">\n",
       "  <thead>\n",
       "    <tr style=\"text-align: right;\">\n",
       "      <th></th>\n",
       "      <th>sentences</th>\n",
       "      <th>manual_label</th>\n",
       "    </tr>\n",
       "  </thead>\n",
       "  <tbody>\n",
       "    <tr>\n",
       "      <th>0</th>\n",
       "      <td>) population in thuringia (germany), (103) (...</td>\n",
       "      <td>0.0</td>\n",
       "    </tr>\n",
       "    <tr>\n",
       "      <th>1</th>\n",
       "      <td>christmas disease-national survey (biggs an...</td>\n",
       "      <td>0.0</td>\n",
       "    </tr>\n",
       "    <tr>\n",
       "      <th>2</th>\n",
       "      <td>christmas disease-national survey (biggs an...</td>\n",
       "      <td>0.0</td>\n",
       "    </tr>\n",
       "    <tr>\n",
       "      <th>3</th>\n",
       "      <td>christmas disease-national survey (biggs an...</td>\n",
       "      <td>0.0</td>\n",
       "    </tr>\n",
       "    <tr>\n",
       "      <th>4</th>\n",
       "      <td>5mg  00521183  dacarbazine  iv pws  200mg/vi...</td>\n",
       "      <td>0.0</td>\n",
       "    </tr>\n",
       "  </tbody>\n",
       "</table>\n",
       "</div>"
      ],
      "text/plain": [
       "                                           sentences  manual_label\n",
       "0    ) population in thuringia (germany), (103) (...           0.0\n",
       "1     christmas disease-national survey (biggs an...           0.0\n",
       "2     christmas disease-national survey (biggs an...           0.0\n",
       "3     christmas disease-national survey (biggs an...           0.0\n",
       "4    5mg  00521183  dacarbazine  iv pws  200mg/vi...           0.0"
      ]
     },
     "execution_count": 9,
     "metadata": {},
     "output_type": "execute_result"
    }
   ],
   "source": [
    "#Let's keep only the columns that we're going to use\n",
    "train = train[['sentences','manual_label']]\n",
    "train.head()"
   ]
  },
  {
   "cell_type": "code",
   "execution_count": 10,
   "metadata": {},
   "outputs": [
    {
     "data": {
      "text/plain": [
       "0"
      ]
     },
     "execution_count": 10,
     "metadata": {},
     "output_type": "execute_result"
    }
   ],
   "source": [
    "#Is there any null value?\n",
    "train[\"sentences\"].isnull().sum()"
   ]
  },
  {
   "cell_type": "code",
   "execution_count": 11,
   "metadata": {},
   "outputs": [],
   "source": [
    "#Let's fill the only null value.\n",
    "train[\"sentences\"].fillna(\"No content\", inplace = True)"
   ]
  },
  {
   "cell_type": "code",
   "execution_count": 12,
   "metadata": {},
   "outputs": [],
   "source": [
    "def depure_data(data):\n",
    "    \n",
    "    #Removing URLs with a regular expression\n",
    "    url_pattern = re.compile(r'https?://\\S+|www\\.\\S+')\n",
    "    data = url_pattern.sub(r'', data)\n",
    "\n",
    "    # Remove Emails\n",
    "    data = re.sub('\\S*@\\S*\\s?', '', data)\n",
    "\n",
    "    # Remove new line characters\n",
    "    data = re.sub('\\s+', ' ', data)\n",
    "\n",
    "    # Remove distracting single quotes\n",
    "    data = re.sub(\"\\'\", \"\", data)\n",
    "        \n",
    "    return data"
   ]
  },
  {
   "cell_type": "code",
   "execution_count": 13,
   "metadata": {},
   "outputs": [
    {
     "data": {
      "text/plain": [
       "[' ) population in thuringia (germany), (103) (2004) 121 chlamydophila abortus efficacy of different commercial and new inactivated vaccines against ovine enzootic abortion, (100) (2004) 65 recombinant major outer membrane protein (momp) of chlamydophila abortus, chlamydophila pecorum, and chlamydia suis as antigens to distinguish chlamydial species-specific antibodies in animal sera, (103) (2004) 85 molecular characterisation and ovine live vaccine 1b evaluation toward a chlamydophila abortus strain isolated from springbok antelope abortion, (103) (2004) 231 efficacy of live chlamydophila abortus vaccine 1b in protecting mice placentas and foetuses against strains of chlamydophila pecorum isolated from cases of abortion, (99) (2004) 295 recombinant major outer membrane protein (momp) of chlamydophila abortus, chlamydophila pecorum, and chlamydia suis as antigens to distinguish chlamydial species-specific antibodies in animal sera, (103) (2004) 85 chlamydophila psittaci molecular characterisation of chlamydial isolates from birds, evaluation of the german cockroach (blattella germanica) as a vector for verotoxigenic escherichia coli f18 in confined swine production, (101) (2004) 263 virulence-associated genes in escherichia coli isolates from poultry with colibacillosis: correction, (102) (2004) 95 molecular epidemiology of avian pathogenic escherichia coli (apec) isolated from colisepticemia in poultry, (104) (2004) 91 the o-antigen of salmonella enterica serotype enteritidis pt4: a significant factor in gastrointestinal colonisation of young but not newly hatched chicks, (102) (2004) 73 intestinal colonisation-inhibition and virulence of salmonella phop, rpos and ompc deletion mutants in chickens, (98) (2004) 37 correlation between invasion of caco-2 eukaryotic cells and colonization ability in the chick gut in campylobacter jejuni, (101) (2004) 75 colostral transmission of maedi visna virus: sites of viral entry in lambs born from experimentally infected ewes, (104) (2004) 157 colostrum-deprived comparison between haemophilus parasuis infection in colostrums-deprived and sow-reared piglets, (103) (2004) 21 comparable sensitivity and specificity in three commercially available elisas to differentiate between cattle infected with or vaccinated against foot-and-mouth disease virus, (99) (2004) 93 enterotoxigenic k99 þ escherichia coli attachment to host cell receptors inhibited by recombinant pili protein, (101) (2004) 153 competitive-elisa development of a monoclonal antibody based competitive-elisa for detection and titration of antibodies to peste des petits ruminants (ppr) virus, (98) (2004) 3 the clinical expression and emergence of porcine circovirus 2, evaluation of three serum i-elisas using monoclonal antibodies and protein g as peroxidase conjugate for the diagnosis of bovine brucellosis, (100) (2004) 91 susceptibility of different bacterial species isolated from food animals to copper sulphate, zinc chloride and antimicrobial substances used for disinfection, (100) (2004) 83 higher incidence of malassezia pachydermatis in the eyes of dogs with corneal ulcer than in healthy dogs, (100) (2004) 115 coronavirus infection of spotted hyenas in the serengeti ecosystem, (102) (2004) 1 comparison of an interferon-g to a phospholipase d enzymelinked immunosorbent assay for diagnosis of corynebacterium pseudotuberculosis infection in experimentally infected goats, characterization of a 39 kda capsular protein of avian pasteurella multocida using monoclonal antibodies, (100) (2004) 43 evaluation of three serum i-elisas using monoclonal antibodies and protein g as peroxidase conjugate for the diagnosis of bovine brucellosis, (100) (2004) 91 phenotypic and genotypic characteristics of staphylococcus aureus isolates from raw bulk-tank milk samples of goats and sheep, (101) (2004) 101 evaluation of a monoclonal antibody-based enzyme-linked immunosorbent assay for detection of campylobacter fetus in bovine preputial washing and vaginal mucus samples, (103) (2004) 77 co-circulation of two genetically distinct viruses in an outbreak of african swine fever in mozambique: no evidence for individual co-infection, (103) (2004) 169 cytoplasm/periplasm analysis of differential protein expression in actinobacillus pleuropneumoniae by surface enhanced laser desorption ionisation-proteinchip tm (seldi) technology, (99) (2004) 215 impact of sawdust and wood shavings in bedding on pig tuberculous lesions in lymph nodes, and is1245 rflp analysis of mycobacterium avium subsp .. coli (epec), (101) (2004) 269 serotyping pcr-based identification of serotype 2 isolates of actinobacillus pleuropneumoniae biovars i and ii, (99) (2004) 307 serological characterization of danish haemophilus parasuis isolates, (103) (2004) 255 molecular epidemiology of avian pathogenic escherichia coli (apec) isolated from colisepticemia in poultry, (104) (2004) 91 serovars antimicrobial resistance of salmonella isolated from finishing swine and the environment of 60 alberta swine farms, (104) (2004) 189 virulence-associated genes in escherichia coli isolates from poultry with colibacillosis: correction, (102) (2004) 95 shedding the effect of a killed porcine reproductive and respiratory syndrome virus (prrsv) vaccine treatment on virus shedding in previously prrsv infected pigs, (102) (2004) 11 sheep evaluation of molecular and immunological techniques for the diagnosis of mammary aspergillosis in ewes, (98) (2004) 17 occurrence, distribution, and role in abortion of coxiella burnetii in sheep and goats in sardinia, italy, (99) (2004) 301 phenotypic and genotypic characteristics of staphylococcus aureus isolates from raw bulk-tank milk samples of goats and sheep, (101) (2004) viremia and effect of fetal infection with porcine viruses with special reference to porcine circovirus 2 infection, (98) (2004) 175 species conservation of deduced amino acid sequence of fimh among escherichia coli of bovine, porcine and avian disease origin, (101) (2004) 147 recombinant major outer membrane protein (momp) of chlamydophila abortus, chlamydophila pecorum, and chlamydia suis as antigens to distinguish chlamydial species-specific antibodies in animal sera, (103) (2004) chicken anemia virus induced apoptosis: underlying molecular mechanisms, (98) (2004) 89 staphylococci susceptibility of different bacterial species isolated from food animals to copper sulphate, zinc chloride and antimicrobial substances used for disinfection, (100) (2004) 83 characterization of two proteins of staphylococcus aureus isolated from bovine clinical mastitis with homology to glyceraldehyde-3-phosphate dehydrogenase, (99) (2004) 269 phenotypic and genotypic characteristics of staphylococcus aureus isolates from raw bulk-tank milk samples of goats and sheep, (101) (2004) 101 antimicrobial resistance and resistance genes in staphylococcus aureus strains from rabbits, (101) (2004) 245 mouse mastitis model of infection for antimicrobial compound efficacy studies against intracellular and extracellular forms of staphylococcus aureus, (101) (2004) 253 genotypic and phenotypic screening of high and low virulence staphylococcus aureus isolates from rabbits for biofilm formation and mscramms, (103) (2004) 241 in vitro growth inhibition of major mastitis pathogens by staphylococcus chromogenes originating from teat apices of dairy heifers, (101) (2004) determination of species-specific sequences of superoxide dismutase a encoding gene soda and chaperonin 60 encoding gene cpn60 for identification and phylogenetic analysis of streptococcus phocae, (101) (2004) 117 cloning and purification of the streptococcus suis serotype 2 glyceraldehyde-3-phosphate dehydrogenase and its involvement as an adhesin, (102) (2004) 87 intestinal translocation of streptococcus suis type 2 ef þ in pigs, (103) (2004) 29 characterization of streptococcus suis serotype 7 isolates from diseased pigs in denmark, (103) (2004) 55 stress intestinal translocation of streptococcus suis type 2 ef þ in pigs, (103) (2004) 29 subgenotype bovine viral diarrhea virus 1 is classified into different subgenotypes depending on the analyzed region within the viral genome, (99) (2004) 131 chicken anemia virus induced apoptosis: underlying molecular mechanisms, (98) (2004) 89 superoxide dismutase a gene determination of species-specific sequences of superoxide dismutase a encoding gene soda and chaperonin 60 encoding gene cpn60 for identification and phylogenetic analysis of streptococcus phocae, (101) (2004) 117 surveillance differentiating infection from vaccination in foot-and-mouthdisease: evaluation of an elisa based on recombinant 3abc, (2004) 187 susceptibility susceptibility of different bacterial species isolated from food animals to copper sulphate, zinc chloride and antimicrobial substances used for disinfection, (100) (2004) 83 antimicrobial susceptibility of haemophilus parasuis and histophilus somni from pigs and cattle in denmark, (101) (2004) 143 comparison of methods for antimicrobial susceptibility testing and mic values for pleuromutilin drugs for brachyspira hyodysenteriae isolated in germany, (102) (2004) 25 swine comparison of pulsed field gel electrophoresis and repetitive sequence polymerase chain reaction as genotyping methods for detection of genetic diversity and inferring transmission of salmonella, (100) (2004) 205 procedures for preventing transmission of foot-and-mouth disease virus (o/taw/97) by people, (103) (2004) 143 antimicrobial resistance of salmonella isolated from finishing swine and the environment of 60 alberta swine farms, (104) (2004) 189 comparison of methods for antimicrobial susceptibility testing and mic values for pleuromutilin drugs for brachyspira hyodysenteriae isolated in germany, (102) (2004) 25 protection of pigs from swine dysentery by vaccination with recombinant bmpb, a 29 .',\n",
       " ' christmas disease-national survey (biggs and spooner) 1143; thrombosis with factor-ix concentrates in (maehm and miller) (c) 1367 chromosomal variation in man (borgaonkar) (malawista) (c) 943 chronic leukaemias (galton) (r) 78 cimetidine-bone-marrow toxicity with (lopez-luque et al) (c) 444, (james and prout) (c) 987; and brady-cardia (jefferys and vale) (c) 828, and brainstem dysfunction (cumming and foster) (c) 1096; and diabetes (pomare) (c) 1202; drug fever with (ramboer) (c) 330, (mcloughlin et al) (c) 499; duodenal perforation after (hoste et at) (c) 666 ; effect on delayed hypersensitivity (avella et al) 624, (jones) (c) 880, (askenase) (c) 880, (greaves) (c) 880, (goodwin (c) 934, (rudge et al) (c) 1] 54; effect on iron absorption (rosner) (c) 95; and gastric mucus (guslandi) (c) 1267; gastritis with, and candida albicans (nicholls and henry) (c) 1095; and glucose handling (jefferys and vale) (c) 383, impaired creatine clearance after (mcelligott) (c) 99; intravenous, hypotension after (mahon and kolton) (c) 828; and kidney transplant rejection (primack) (c) 824, (doherty and mc- geown) (c) 1048, (rudge et al) (c) 1154, (charpentier and fries) (c) 1265; and large bowel function (frew) (c) 279; long-term safety of (e) 1242; in maintenance treatment of recurrent peptic ulcer (bodemar and walan) 403, (blackwood et al) 626, (machell et a1) (c) 663, (langman and wormsley) (c) 932, (northfield and blackwood) (c) 1045, (guslandi) (c) 1267; in malignant gastric ulcers, response to (taylor et al) 686, (clark) (c) 939, (taylor and menzies-gow) (c) 939, (murray et clioquinol-progressive visual loss with (derakhshan and forough) (c) 715; and subacute myelo-optic neuropathy, court decision in japan, 1144; toxicity of, animal studies (worden and heywood) (c) 212 clock, biological-and seasonality in schizophrenia (morgan) clomdme-inoplate withdrawal (gold et clostridium botulinum-intestinal infection and toxin production in cot deaths (arnon et (templeton) (c) 821; seasonal variation in (beal) (c) 1257; see also babies co-trimoxazole-and creatine clearance (shouval et zinc, and free radical biochemistry, 191 education-anti-smoking health education, failure of (rawbone and guz) (c) 159 education, medical-health-care problems (powell) (c) 394; history taking (havens) 138; innovations at newcastle, new south wales (clarke) (brooks) 140, (paulley) 199, (crawford) (c) 213, (smith) (c) 213, (chambers) 259, (booth) (c) 271, (barley) 320, (grant) (c) 339, (ctaoue) 381, (smith) (c) 395, (mair) (c) 395, (woodall) 433, (negus) (c) 450, (greenfield) embolism, pulmonary-long term prognosis (e) 194 embryology-human (fi rald) (r) 1134; limb develolopment, influence of neurons in, and thalidomide (stevens) (veatch) (r)248 exomphalos-early diagnosis of (gordon et al) 677, (campbell et (ferguson-smith et glaucoma-close-angle, with disopyramide (trope and hind) (c) 329; secondary, in chronic uveitis, timolol in (saari et growth-and its disorders (marshall) hyperparathyroidism-primary, in paraneoplastic hypercalcaemia (drezner and lebovitz) 1004; pro-propranolol in (caro and adenoma, in large bowel, aetiology of (hill et al) 245 cancer, and immunoproliferation, common macrophage-derived promotor substance for (salmon and hamburger) 1289 cholestasis: pump failure, microvilli defect, or both? (erlinger) 533 colitis, antimicrobial4agent-associated, aetiology of (george et al) 802 fungal skin mfections, occlusion and carbon dioxide m (allen and king) 360 hypoxia, mechanism of pressor response to (weir) 476 pool-priming, m generation of t lymphocytes cytotoxic to tumour or virus infected cells (bach et (flenley) 542; mechanism of pressor response to (weir) intestine-gut-hormone profiles (besterman et (ingham et mycoplasma pneumoniae-infecuon with, mucocutaneous reactions to (lind) (c) 655 (griffiths) (c) 988, (swift and stevens) (c) 1104 myeloma-circulating lymphocytes in the spread of (warner and krueger) 1174 myocardial infarction-blood-sugar in prognosis of (burden et national health service-administration of (stewart) 867, (pygott) (musher) (c) 389, (bradley et omphalocele-mercury poisoning, from mercurochrome therapy of (yeh et pagets disease-with hyperparathyroidism, mithramycm in (veldhuis) (c) 1152; treatment of (e) 914, (veldhuis) (c) 1152, (milhaud) (c) 1153, (hamdy) (c) 1267 pain-dural pain, (cyriax) pre-eclampsia-and disequilibrium in proteolysis control (stark) propranolol-acute brain syndrome after, (helson and duque) (c) 98; in hyperparathyroidism (caro and besarb) (c) 827; long-term safety of (e) 1242; lowdose, beta-blockade and blood levels after (davies et renin-\"big renin\" in normal plasma (hsueh et al) 1281; inactive, protease as endogenous activator of (osmond and loh) (c) 102, (atlas et al) (c) 555; suppressed, in hypertension, dexamethazone treatment of (hoefnagels et al) 741 reorganised national health service (levitt) a .. there is a risk of thrombosis with thalidomide especially at the initiation of therapy, and prophylaxis with heparin, warfarin or antiplatelet agents, depending on an assessment of the risk, may be warranted .',\n",
       " ' christmas disease-national survey (biggs and spooner) 1143; thrombosis with factor-ix concentrates in (maehm and miller) (c) 1367 chromosomal variation in man (borgaonkar) (malawista) (c) 943 chronic leukaemias (galton) (r) 78 cimetidine-bone-marrow toxicity with (lopez-luque et al) (c) 444, (james and prout) (c) 987; and brady-cardia (jefferys and vale) (c) 828, and brainstem dysfunction (cumming and foster) (c) 1096; and diabetes (pomare) (c) 1202; drug fever with (ramboer) (c) 330, (mcloughlin et al) (c) 499; duodenal perforation after (hoste et at) (c) 666 ; effect on delayed hypersensitivity (avella et al) 624, (jones) (c) 880, (askenase) (c) 880, (greaves) (c) 880, (goodwin (c) 934, (rudge et al) (c) 1] 54; effect on iron absorption (rosner) (c) 95; and gastric mucus (guslandi) (c) 1267; gastritis with, and candida albicans (nicholls and henry) (c) 1095; and glucose handling (jefferys and vale) (c) 383, impaired creatine clearance after (mcelligott) (c) 99; intravenous, hypotension after (mahon and kolton) (c) 828; and kidney transplant rejection (primack) (c) 824, (doherty and mc- geown) (c) 1048, (rudge et al) (c) 1154, (charpentier and fries) (c) 1265; and large bowel function (frew) (c) 279; long-term safety of (e) 1242; in maintenance treatment of recurrent peptic ulcer (bodemar and walan) 403, (blackwood et al) 626, (machell et a1) (c) 663, (langman and wormsley) (c) 932, (northfield and blackwood) (c) 1045, (guslandi) (c) 1267; in malignant gastric ulcers, response to (taylor et al) 686, (clark) (c) 939, (taylor and menzies-gow) (c) 939, (murray et clioquinol-progressive visual loss with (derakhshan and forough) (c) 715; and subacute myelo-optic neuropathy, court decision in japan, 1144; toxicity of, animal studies (worden and heywood) (c) 212 clock, biological-and seasonality in schizophrenia (morgan) clomdme-inoplate withdrawal (gold et clostridium botulinum-intestinal infection and toxin production in cot deaths (arnon et (templeton) (c) 821; seasonal variation in (beal) (c) 1257; see also babies co-trimoxazole-and creatine clearance (shouval et zinc, and free radical biochemistry, 191 education-anti-smoking health education, failure of (rawbone and guz) (c) 159 education, medical-health-care problems (powell) (c) 394; history taking (havens) 138; innovations at newcastle, new south wales (clarke) (brooks) 140, (paulley) 199, (crawford) (c) 213, (smith) (c) 213, (chambers) 259, (booth) (c) 271, (barley) 320, (grant) (c) 339, (ctaoue) 381, (smith) (c) 395, (mair) (c) 395, (woodall) 433, (negus) (c) 450, (greenfield) embolism, pulmonary-long term prognosis (e) 194 embryology-human (fi rald) (r) 1134; limb develolopment, influence of neurons in, and thalidomide (stevens) (veatch) (r)248 exomphalos-early diagnosis of (gordon et al) 677, (campbell et (ferguson-smith et glaucoma-close-angle, with disopyramide (trope and hind) (c) 329; secondary, in chronic uveitis, timolol in (saari et growth-and its disorders (marshall) hyperparathyroidism-primary, in paraneoplastic hypercalcaemia (drezner and lebovitz) 1004; pro-propranolol in (caro and adenoma, in large bowel, aetiology of (hill et al) 245 cancer, and immunoproliferation, common macrophage-derived promotor substance for (salmon and hamburger) 1289 cholestasis: pump failure, microvilli defect, or both? (erlinger) 533 colitis, antimicrobial4agent-associated, aetiology of (george et al) 802 fungal skin mfections, occlusion and carbon dioxide m (allen and king) 360 hypoxia, mechanism of pressor response to (weir) 476 pool-priming, m generation of t lymphocytes cytotoxic to tumour or virus infected cells (bach et (flenley) 542; mechanism of pressor response to (weir) intestine-gut-hormone profiles (besterman et (ingham et mycoplasma pneumoniae-infecuon with, mucocutaneous reactions to (lind) (c) 655 (griffiths) (c) 988, (swift and stevens) (c) 1104 myeloma-circulating lymphocytes in the spread of (warner and krueger) 1174 myocardial infarction-blood-sugar in prognosis of (burden et national health service-administration of (stewart) 867, (pygott) (musher) (c) 389, (bradley et omphalocele-mercury poisoning, from mercurochrome therapy of (yeh et pagets disease-with hyperparathyroidism, mithramycm in (veldhuis) (c) 1152; treatment of (e) 914, (veldhuis) (c) 1152, (milhaud) (c) 1153, (hamdy) (c) 1267 pain-dural pain, (cyriax) pre-eclampsia-and disequilibrium in proteolysis control (stark) propranolol-acute brain syndrome after, (helson and duque) (c) 98; in hyperparathyroidism (caro and besarb) (c) 827; long-term safety of (e) 1242; lowdose, beta-blockade and blood levels after (davies et renin-\"big renin\" in normal plasma (hsueh et al) 1281; inactive, protease as endogenous activator of (osmond and loh) (c) 102, (atlas et al) (c) 555; suppressed, in hypertension, dexamethazone treatment of (hoefnagels et al) 741 reorganised national health service (levitt) a .. there are localized destruction and occlusion of the vascular bed of the lungs by intravascular thrombosis and an increment of the anatomical dead space resulting in an increase of arterial carbon dioxide associated with a poor outcome .',\n",
       " ' christmas disease-national survey (biggs and spooner) 1143; thrombosis with factor-ix concentrates in (maehm and miller) (c) 1367 chromosomal variation in man (borgaonkar) (malawista) (c) 943 chronic leukaemias (galton) (r) 78 cimetidine-bone-marrow toxicity with (lopez-luque et al) (c) 444, (james and prout) (c) 987; and brady-cardia (jefferys and vale) (c) 828, and brainstem dysfunction (cumming and foster) (c) 1096; and diabetes (pomare) (c) 1202; drug fever with (ramboer) (c) 330, (mcloughlin et al) (c) 499; duodenal perforation after (hoste et at) (c) 666 ; effect on delayed hypersensitivity (avella et al) 624, (jones) (c) 880, (askenase) (c) 880, (greaves) (c) 880, (goodwin (c) 934, (rudge et al) (c) 1] 54; effect on iron absorption (rosner) (c) 95; and gastric mucus (guslandi) (c) 1267; gastritis with, and candida albicans (nicholls and henry) (c) 1095; and glucose handling (jefferys and vale) (c) 383, impaired creatine clearance after (mcelligott) (c) 99; intravenous, hypotension after (mahon and kolton) (c) 828; and kidney transplant rejection (primack) (c) 824, (doherty and mc- geown) (c) 1048, (rudge et al) (c) 1154, (charpentier and fries) (c) 1265; and large bowel function (frew) (c) 279; long-term safety of (e) 1242; in maintenance treatment of recurrent peptic ulcer (bodemar and walan) 403, (blackwood et al) 626, (machell et a1) (c) 663, (langman and wormsley) (c) 932, (northfield and blackwood) (c) 1045, (guslandi) (c) 1267; in malignant gastric ulcers, response to (taylor et al) 686, (clark) (c) 939, (taylor and menzies-gow) (c) 939, (murray et clioquinol-progressive visual loss with (derakhshan and forough) (c) 715; and subacute myelo-optic neuropathy, court decision in japan, 1144; toxicity of, animal studies (worden and heywood) (c) 212 clock, biological-and seasonality in schizophrenia (morgan) clomdme-inoplate withdrawal (gold et clostridium botulinum-intestinal infection and toxin production in cot deaths (arnon et (templeton) (c) 821; seasonal variation in (beal) (c) 1257; see also babies co-trimoxazole-and creatine clearance (shouval et zinc, and free radical biochemistry, 191 education-anti-smoking health education, failure of (rawbone and guz) (c) 159 education, medical-health-care problems (powell) (c) 394; history taking (havens) 138; innovations at newcastle, new south wales (clarke) (brooks) 140, (paulley) 199, (crawford) (c) 213, (smith) (c) 213, (chambers) 259, (booth) (c) 271, (barley) 320, (grant) (c) 339, (ctaoue) 381, (smith) (c) 395, (mair) (c) 395, (woodall) 433, (negus) (c) 450, (greenfield) embolism, pulmonary-long term prognosis (e) 194 embryology-human (fi rald) (r) 1134; limb develolopment, influence of neurons in, and thalidomide (stevens) (veatch) (r)248 exomphalos-early diagnosis of (gordon et al) 677, (campbell et (ferguson-smith et glaucoma-close-angle, with disopyramide (trope and hind) (c) 329; secondary, in chronic uveitis, timolol in (saari et growth-and its disorders (marshall) hyperparathyroidism-primary, in paraneoplastic hypercalcaemia (drezner and lebovitz) 1004; pro-propranolol in (caro and adenoma, in large bowel, aetiology of (hill et al) 245 cancer, and immunoproliferation, common macrophage-derived promotor substance for (salmon and hamburger) 1289 cholestasis: pump failure, microvilli defect, or both? (erlinger) 533 colitis, antimicrobial4agent-associated, aetiology of (george et al) 802 fungal skin mfections, occlusion and carbon dioxide m (allen and king) 360 hypoxia, mechanism of pressor response to (weir) 476 pool-priming, m generation of t lymphocytes cytotoxic to tumour or virus infected cells (bach et (flenley) 542; mechanism of pressor response to (weir) intestine-gut-hormone profiles (besterman et (ingham et mycoplasma pneumoniae-infecuon with, mucocutaneous reactions to (lind) (c) 655 (griffiths) (c) 988, (swift and stevens) (c) 1104 myeloma-circulating lymphocytes in the spread of (warner and krueger) 1174 myocardial infarction-blood-sugar in prognosis of (burden et national health service-administration of (stewart) 867, (pygott) (musher) (c) 389, (bradley et omphalocele-mercury poisoning, from mercurochrome therapy of (yeh et pagets disease-with hyperparathyroidism, mithramycm in (veldhuis) (c) 1152; treatment of (e) 914, (veldhuis) (c) 1152, (milhaud) (c) 1153, (hamdy) (c) 1267 pain-dural pain, (cyriax) pre-eclampsia-and disequilibrium in proteolysis control (stark) propranolol-acute brain syndrome after, (helson and duque) (c) 98; in hyperparathyroidism (caro and besarb) (c) 827; long-term safety of (e) 1242; lowdose, beta-blockade and blood levels after (davies et renin-\"big renin\" in normal plasma (hsueh et al) 1281; inactive, protease as endogenous activator of (osmond and loh) (c) 102, (atlas et al) (c) 555; suppressed, in hypertension, dexamethazone treatment of (hoefnagels et al) 741 reorganised national health service (levitt) a .. there are localized destruction and occlusion of the vascular bed of the lungs by intravascular thrombosis and an increment of the anatomical dead space resulting in an increase of arterial carbon dioxide associated with a poor outcome .',\n",
       " ' 5mg 00521183 dacarbazine iv pws 200mg/vial 02154854 dacarbazine iv pws 200mg 02248676 gefitinib tab 250mg 02244725 imatinib mesylate cap 100mg 02399806 imatinib mesylate fc tab 100mg 02355337 imatinib mesylate tab 100mg 02355345 imatinib mesylate tab 400mg 02397285 imatinib mesylate tab 100mg 02397293 imatinib mesylate tab 400mg 02399814 imatinib mesylate tab 400mg 02431114 imatinib mesylate tab 100mg 02431122 imatinib mesylate tab 400mg 1 2 3 4 5 6 7 8 9 10 11 12 13 14 15 16 17 18 19 20 21 22 23 24 25 26 27 28 29 30 31 32 33 34 35 36 37 38 39 40 41 42 43 44 45 46 47 48 49 50 51 52 53 54 55 56 57 58 59 1 2 3 4 5 6 7 8 9 10 11 12 13 14 15 16 17 18 19 20 21 22 23 24 25 26 27 28 29 30 31 32 33 34 35 36 37 38 39 40 41 42 43 44 45 46 47 48 49 50 51 52 53 54 55 56 57 58 59 1 2 3 4 5 6 7 8 9 10 11 12 13 14 15 16 17 18 19 20 21 22 23 24 25 26 27 28 29 30 31 32 33 34 35 36 37 38 39 40 41 42 43 44 45 46 47 48 49 50 51 52 53 54 55 56 57 58 59 it is important to ensure that the population has the chance to be exposed to influenza and there is sufficient influenza test during the influenza season will be used, and potential control samples will be selected from 171 among those who only tested negative for influenza during that influenza season, using the first negative test .. 5mg 00521183 dacarbazine iv pws 200mg/vial 02154854 dacarbazine iv pws 200mg 02248676 gefitinib tab 250mg 02244725 imatinib mesylate cap 100mg 02399806 imatinib mesylate fc tab 100mg 02355337 imatinib mesylate tab 100mg 02355345 imatinib mesylate tab 400mg 02397285 imatinib mesylate tab 100mg 02397293 imatinib mesylate tab 400mg 02399814 imatinib mesylate tab 400mg 02431114 imatinib mesylate tab 100mg 02431122 imatinib mesylate tab 400mg 1 2 3 4 5 6 7 8 9 10 11 12 13 14 15 16 17 18 19 20 21 22 23 24 25 26 27 28 29 30 31 32 33 34 35 36 37 38 39 40 41 42 43 44 45 46 47 48 49 50 51 52 53 54 55 56 57 58 59 60 f o r p e e r r e v i e w o n l y 22 din drug name route of administration strength 09857448 imatinib mesylate tab 400mg 02253275 imatinib mesylate tab 100mg 02253283 imatinib mesylate tab 400mg 02326442 lapatinib ditosylate tab 250mg 02315874 nilotinib cap 200mg 02368250 nilotinib cap 150mg 02352303 pazopanib hcl tab 200mg 00012750 isolates will be considered eligible for inclusion in the analysis if they met all of the following criteria: a valid 160 phn is recorded, the isolate is not from a resident of a long-term care facility, the isolate was collected at 161 least four weeks after the initiation of the public influenza vaccination program, and the isolate was collected 162 during the influenza season, as determined using the method recommended by the who r [19-21] .']"
      ]
     },
     "execution_count": 13,
     "metadata": {},
     "output_type": "execute_result"
    }
   ],
   "source": [
    "temp = []\n",
    "#Splitting pd.Series to list\n",
    "data_to_list = train['sentences'].values.tolist()\n",
    "for i in range(len(data_to_list)):\n",
    "    temp.append(depure_data(data_to_list[i]))\n",
    "list(temp[:5])"
   ]
  },
  {
   "cell_type": "code",
   "execution_count": 14,
   "metadata": {},
   "outputs": [
    {
     "name": "stdout",
     "output_type": "stream",
     "text": [
      "[['population', 'in', 'thuringia', 'germany', 'chlamydophila', 'abortus', 'efficacy', 'of', 'different', 'commercial', 'and', 'new', 'inactivated', 'vaccines', 'against', 'ovine', 'enzootic', 'abortion', 'recombinant', 'major', 'outer', 'membrane', 'protein', 'momp', 'of', 'chlamydophila', 'abortus', 'chlamydophila', 'pecorum', 'and', 'chlamydia', 'suis', 'as', 'antigens', 'to', 'distinguish', 'chlamydial', 'species', 'specific', 'antibodies', 'in', 'animal', 'sera', 'molecular', 'and', 'ovine', 'live', 'vaccine', 'evaluation', 'toward', 'chlamydophila', 'abortus', 'strain', 'isolated', 'from', 'springbok', 'antelope', 'abortion', 'efficacy', 'of', 'live', 'chlamydophila', 'abortus', 'vaccine', 'in', 'protecting', 'mice', 'placentas', 'and', 'foetuses', 'against', 'strains', 'of', 'chlamydophila', 'pecorum', 'isolated', 'from', 'cases', 'of', 'abortion', 'recombinant', 'major', 'outer', 'membrane', 'protein', 'momp', 'of', 'chlamydophila', 'abortus', 'chlamydophila', 'pecorum', 'and', 'chlamydia', 'suis', 'as', 'antigens', 'to', 'distinguish', 'chlamydial', 'species', 'specific', 'antibodies', 'in', 'animal', 'sera', 'chlamydophila', 'psittaci', 'molecular', 'of', 'chlamydial', 'isolates', 'from', 'birds', 'evaluation', 'of', 'the', 'german', 'cockroach', 'blattella', 'germanica', 'as', 'vector', 'for', 'verotoxigenic', 'escherichia', 'coli', 'in', 'confined', 'swine', 'production', 'virulence', 'associated', 'genes', 'in', 'escherichia', 'coli', 'isolates', 'from', 'poultry', 'with', 'colibacillosis', 'correction', 'molecular', 'epidemiology', 'of', 'avian', 'pathogenic', 'escherichia', 'coli', 'apec', 'isolated', 'from', 'colisepticemia', 'in', 'poultry', 'the', 'antigen', 'of', 'salmonella', 'enterica', 'serotype', 'enteritidis', 'pt', 'significant', 'factor', 'in', 'colonisation', 'of', 'young', 'but', 'not', 'newly', 'hatched', 'chicks', 'intestinal', 'colonisation', 'inhibition', 'and', 'virulence', 'of', 'salmonella', 'phop', 'rpos', 'and', 'ompc', 'deletion', 'mutants', 'in', 'chickens', 'correlation', 'between', 'invasion', 'of', 'caco', 'eukaryotic', 'cells', 'and', 'colonization', 'ability', 'in', 'the', 'chick', 'gut', 'in', 'campylobacter', 'jejuni', 'colostral', 'transmission', 'of', 'maedi', 'visna', 'virus', 'sites', 'of', 'viral', 'entry', 'in', 'lambs', 'born', 'from', 'experimentally', 'infected', 'ewes', 'colostrum', 'deprived', 'comparison', 'between', 'haemophilus', 'parasuis', 'infection', 'in', 'colostrums', 'deprived', 'and', 'sow', 'reared', 'piglets', 'comparable', 'sensitivity', 'and', 'specificity', 'in', 'three', 'commercially', 'available', 'elisas', 'to', 'differentiate', 'between', 'cattle', 'infected', 'with', 'or', 'vaccinated', 'against', 'foot', 'and', 'mouth', 'disease', 'virus', 'enterotoxigenic', 'escherichia', 'coli', 'attachment', 'to', 'host', 'cell', 'receptors', 'inhibited', 'by', 'recombinant', 'pili', 'protein', 'competitive', 'elisa', 'development', 'of', 'monoclonal', 'antibody', 'based', 'competitive', 'elisa', 'for', 'detection', 'and', 'titration', 'of', 'antibodies', 'to', 'peste', 'des', 'petits', 'ruminants', 'ppr', 'virus', 'the', 'clinical', 'expression', 'and', 'emergence', 'of', 'porcine', 'circovirus', 'evaluation', 'of', 'three', 'serum', 'elisas', 'using', 'monoclonal', 'antibodies', 'and', 'protein', 'as', 'peroxidase', 'conjugate', 'for', 'the', 'diagnosis', 'of', 'bovine', 'brucellosis', 'susceptibility', 'of', 'different', 'bacterial', 'species', 'isolated', 'from', 'food', 'animals', 'to', 'copper', 'sulphate', 'zinc', 'chloride', 'and', 'antimicrobial', 'substances', 'used', 'for', 'disinfection', 'higher', 'incidence', 'of', 'malassezia', 'pachydermatis', 'in', 'the', 'eyes', 'of', 'dogs', 'with', 'corneal', 'ulcer', 'than', 'in', 'healthy', 'dogs', 'coronavirus', 'infection', 'of', 'spotted', 'hyenas', 'in', 'the', 'serengeti', 'ecosystem', 'comparison', 'of', 'an', 'interferon', 'to', 'phospholipase', 'enzymelinked', 'immunosorbent', 'assay', 'for', 'diagnosis', 'of', 'corynebacterium', 'infection', 'in', 'experimentally', 'infected', 'goats', 'of', 'kda', 'capsular', 'protein', 'of', 'avian', 'pasteurella', 'multocida', 'using', 'monoclonal', 'antibodies', 'evaluation', 'of', 'three', 'serum', 'elisas', 'using', 'monoclonal', 'antibodies', 'and', 'protein', 'as', 'peroxidase', 'conjugate', 'for', 'the', 'diagnosis', 'of', 'bovine', 'brucellosis', 'phenotypic', 'and', 'genotypic', 'characteristics', 'of', 'staphylococcus', 'aureus', 'isolates', 'from', 'raw', 'bulk', 'tank', 'milk', 'samples', 'of', 'goats', 'and', 'sheep', 'evaluation', 'of', 'monoclonal', 'antibody', 'based', 'enzyme', 'linked', 'immunosorbent', 'assay', 'for', 'detection', 'of', 'campylobacter', 'fetus', 'in', 'bovine', 'preputial', 'washing', 'and', 'vaginal', 'mucus', 'samples', 'co', 'circulation', 'of', 'two', 'genetically', 'distinct', 'viruses', 'in', 'an', 'outbreak', 'of', 'african', 'swine', 'fever', 'in', 'mozambique', 'no', 'evidence', 'for', 'individual', 'co', 'infection', 'cytoplasm', 'periplasm', 'analysis', 'of', 'differential', 'protein', 'expression', 'in', 'actinobacillus', 'by', 'surface', 'enhanced', 'laser', 'desorption', 'ionisation', 'proteinchip', 'tm', 'seldi', 'technology', 'impact', 'of', 'sawdust', 'and', 'wood', 'shavings', 'in', 'bedding', 'on', 'pig', 'tuberculous', 'lesions', 'in', 'lymph', 'nodes', 'and', 'is', 'rflp', 'analysis', 'of', 'mycobacterium', 'avium', 'subsp', 'coli', 'epec', 'serotyping', 'pcr', 'based', 'identification', 'of', 'serotype', 'isolates', 'of', 'actinobacillus', 'biovars', 'and', 'ii', 'serological', 'of', 'danish', 'haemophilus', 'parasuis', 'isolates', 'molecular', 'epidemiology', 'of', 'avian', 'pathogenic', 'escherichia', 'coli', 'apec', 'isolated', 'from', 'colisepticemia', 'in', 'poultry', 'serovars', 'antimicrobial', 'resistance', 'of', 'salmonella', 'isolated', 'from', 'finishing', 'swine', 'and', 'the', 'environment', 'of', 'alberta', 'swine', 'farms', 'virulence', 'associated', 'genes', 'in', 'escherichia', 'coli', 'isolates', 'from', 'poultry', 'with', 'colibacillosis', 'correction', 'shedding', 'the', 'effect', 'of', 'killed', 'porcine', 'reproductive', 'and', 'respiratory', 'syndrome', 'virus', 'prrsv', 'vaccine', 'treatment', 'on', 'virus', 'shedding', 'in', 'previously', 'prrsv', 'infected', 'pigs', 'sheep', 'evaluation', 'of', 'molecular', 'and', 'immunological', 'techniques', 'for', 'the', 'diagnosis', 'of', 'mammary', 'aspergillosis', 'in', 'ewes', 'occurrence', 'distribution', 'and', 'role', 'in', 'abortion', 'of', 'coxiella', 'burnetii', 'in', 'sheep', 'and', 'goats', 'in', 'sardinia', 'italy', 'phenotypic', 'and', 'genotypic', 'characteristics', 'of', 'staphylococcus', 'aureus', 'isolates', 'from', 'raw', 'bulk', 'tank', 'milk', 'samples', 'of', 'goats', 'and', 'sheep', 'viremia', 'and', 'effect', 'of', 'fetal', 'infection', 'with', 'porcine', 'viruses', 'with', 'special', 'reference', 'to', 'porcine', 'circovirus', 'infection', 'species', 'conservation', 'of', 'deduced', 'amino', 'acid', 'sequence', 'of', 'fimh', 'among', 'escherichia', 'coli', 'of', 'bovine', 'porcine', 'and', 'avian', 'disease', 'origin', 'recombinant', 'major', 'outer', 'membrane', 'protein', 'momp', 'of', 'chlamydophila', 'abortus', 'chlamydophila', 'pecorum', 'and', 'chlamydia', 'suis', 'as', 'antigens', 'to', 'distinguish', 'chlamydial', 'species', 'specific', 'antibodies', 'in', 'animal', 'sera', 'chicken', 'anemia', 'virus', 'induced', 'apoptosis', 'underlying', 'molecular', 'mechanisms', 'staphylococci', 'susceptibility', 'of', 'different', 'bacterial', 'species', 'isolated', 'from', 'food', 'animals', 'to', 'copper', 'sulphate', 'zinc', 'chloride', 'and', 'antimicrobial', 'substances', 'used', 'for', 'disinfection', 'of', 'two', 'proteins', 'of', 'staphylococcus', 'aureus', 'isolated', 'from', 'bovine', 'clinical', 'mastitis', 'with', 'homology', 'to', 'glyceraldehyde', 'phosphate', 'dehydrogenase', 'phenotypic', 'and', 'genotypic', 'characteristics', 'of', 'staphylococcus', 'aureus', 'isolates', 'from', 'raw', 'bulk', 'tank', 'milk', 'samples', 'of', 'goats', 'and', 'sheep', 'antimicrobial', 'resistance', 'and', 'resistance', 'genes', 'in', 'staphylococcus', 'aureus', 'strains', 'from', 'rabbits', 'mouse', 'mastitis', 'model', 'of', 'infection', 'for', 'antimicrobial', 'compound', 'efficacy', 'studies', 'against', 'intracellular', 'and', 'extracellular', 'forms', 'of', 'staphylococcus', 'aureus', 'genotypic', 'and', 'phenotypic', 'screening', 'of', 'high', 'and', 'low', 'virulence', 'staphylococcus', 'aureus', 'isolates', 'from', 'rabbits', 'for', 'biofilm', 'formation', 'and', 'mscramms', 'in', 'vitro', 'growth', 'inhibition', 'of', 'major', 'mastitis', 'pathogens', 'by', 'staphylococcus', 'chromogenes', 'originating', 'from', 'teat', 'apices', 'of', 'dairy', 'heifers', 'determination', 'of', 'species', 'specific', 'sequences', 'of', 'superoxide', 'dismutase', 'encoding', 'gene', 'soda', 'and', 'chaperonin', 'encoding', 'gene', 'cpn', 'for', 'identification', 'and', 'phylogenetic', 'analysis', 'of', 'streptococcus', 'phocae', 'cloning', 'and', 'purification', 'of', 'the', 'streptococcus', 'suis', 'serotype', 'glyceraldehyde', 'phosphate', 'dehydrogenase', 'and', 'its', 'involvement', 'as', 'an', 'adhesin', 'intestinal', 'translocation', 'of', 'streptococcus', 'suis', 'type', 'ef', 'in', 'pigs', 'of', 'streptococcus', 'suis', 'serotype', 'isolates', 'from', 'diseased', 'pigs', 'in', 'denmark', 'stress', 'intestinal', 'translocation', 'of', 'streptococcus', 'suis', 'type', 'ef', 'in', 'pigs', 'subgenotype', 'bovine', 'viral', 'diarrhea', 'virus', 'is', 'classified', 'into', 'different', 'subgenotypes', 'depending', 'on', 'the', 'analyzed', 'region', 'within', 'the', 'viral', 'genome', 'chicken', 'anemia', 'virus', 'induced', 'apoptosis', 'underlying', 'molecular', 'mechanisms', 'superoxide', 'dismutase', 'gene', 'determination', 'of', 'species', 'specific', 'sequences', 'of', 'superoxide', 'dismutase', 'encoding', 'gene', 'soda', 'and', 'chaperonin', 'encoding', 'gene', 'cpn', 'for', 'identification', 'and', 'phylogenetic', 'analysis', 'of', 'streptococcus', 'phocae', 'surveillance', 'differentiating', 'infection', 'from', 'vaccination', 'in', 'foot', 'and', 'mouthdisease', 'evaluation', 'of', 'an', 'elisa', 'based', 'on', 'recombinant', 'abc', 'susceptibility', 'susceptibility', 'of', 'different', 'bacterial', 'species', 'isolated', 'from', 'food', 'animals', 'to', 'copper', 'sulphate', 'zinc', 'chloride', 'and', 'antimicrobial', 'substances', 'used', 'for', 'disinfection', 'antimicrobial', 'susceptibility', 'of', 'haemophilus', 'parasuis', 'and', 'histophilus', 'somni', 'from', 'pigs', 'and', 'cattle', 'in', 'denmark', 'comparison', 'of', 'methods', 'for', 'antimicrobial', 'susceptibility', 'testing', 'and', 'mic', 'values', 'for', 'pleuromutilin', 'drugs', 'for', 'brachyspira', 'hyodysenteriae', 'isolated', 'in', 'germany', 'swine', 'comparison', 'of', 'pulsed', 'field', 'gel', 'electrophoresis', 'and', 'repetitive', 'sequence', 'polymerase', 'chain', 'reaction', 'as', 'genotyping', 'methods', 'for', 'detection', 'of', 'genetic', 'diversity', 'and', 'inferring', 'transmission', 'of', 'salmonella', 'procedures', 'for', 'preventing', 'transmission', 'of', 'foot', 'and', 'mouth', 'disease', 'virus', 'taw', 'by', 'people', 'antimicrobial', 'resistance', 'of', 'salmonella', 'isolated', 'from', 'finishing', 'swine', 'and', 'the', 'environment', 'of', 'alberta', 'swine', 'farms', 'comparison', 'of', 'methods', 'for', 'antimicrobial', 'susceptibility', 'testing', 'and', 'mic', 'values', 'for', 'pleuromutilin', 'drugs', 'for', 'brachyspira', 'hyodysenteriae', 'isolated', 'in', 'germany', 'protection', 'of', 'pigs', 'from', 'swine', 'dysentery', 'by', 'vaccination', 'with', 'recombinant', 'bmpb'], ['christmas', 'disease', 'national', 'survey', 'biggs', 'and', 'spooner', 'thrombosis', 'with', 'factor', 'ix', 'concentrates', 'in', 'maehm', 'and', 'miller', 'chromosomal', 'variation', 'in', 'man', 'borgaonkar', 'malawista', 'chronic', 'leukaemias', 'galton', 'cimetidine', 'bone', 'marrow', 'toxicity', 'with', 'lopez', 'luque', 'et', 'al', 'james', 'and', 'prout', 'and', 'brady', 'cardia', 'jefferys', 'and', 'vale', 'and', 'brainstem', 'dysfunction', 'cumming', 'and', 'foster', 'and', 'diabetes', 'pomare', 'drug', 'fever', 'with', 'ramboer', 'mcloughlin', 'et', 'al', 'duodenal', 'perforation', 'after', 'hoste', 'et', 'at', 'effect', 'on', 'delayed', 'avella', 'et', 'al', 'jones', 'askenase', 'greaves', 'goodwin', 'rudge', 'et', 'al', 'effect', 'on', 'iron', 'absorption', 'rosner', 'and', 'gastric', 'mucus', 'guslandi', 'gastritis', 'with', 'and', 'candida', 'albicans', 'nicholls', 'and', 'henry', 'and', 'glucose', 'handling', 'jefferys', 'and', 'vale', 'impaired', 'creatine', 'clearance', 'after', 'mcelligott', 'intravenous', 'hypotension', 'after', 'mahon', 'and', 'kolton', 'and', 'kidney', 'transplant', 'rejection', 'primack', 'doherty', 'and', 'mc', 'geown', 'rudge', 'et', 'al', 'charpentier', 'and', 'fries', 'and', 'large', 'bowel', 'function', 'frew', 'long', 'term', 'safety', 'of', 'in', 'maintenance', 'treatment', 'of', 'recurrent', 'peptic', 'ulcer', 'bodemar', 'and', 'walan', 'blackwood', 'et', 'al', 'machell', 'et', 'langman', 'and', 'wormsley', 'northfield', 'and', 'blackwood', 'guslandi', 'in', 'malignant', 'gastric', 'ulcers', 'response', 'to', 'taylor', 'et', 'al', 'clark', 'taylor', 'and', 'menzies', 'gow', 'murray', 'et', 'clioquinol', 'progressive', 'visual', 'loss', 'with', 'derakhshan', 'and', 'forough', 'and', 'subacute', 'myelo', 'optic', 'neuropathy', 'court', 'decision', 'in', 'japan', 'toxicity', 'of', 'animal', 'studies', 'worden', 'and', 'heywood', 'clock', 'biological', 'and', 'seasonality', 'in', 'schizophrenia', 'morgan', 'clomdme', 'inoplate', 'withdrawal', 'gold', 'et', 'clostridium', 'botulinum', 'intestinal', 'infection', 'and', 'toxin', 'production', 'in', 'cot', 'deaths', 'arnon', 'et', 'templeton', 'seasonal', 'variation', 'in', 'beal', 'see', 'also', 'babies', 'co', 'trimoxazole', 'and', 'creatine', 'clearance', 'shouval', 'et', 'zinc', 'and', 'free', 'radical', 'biochemistry', 'education', 'anti', 'smoking', 'health', 'education', 'failure', 'of', 'rawbone', 'and', 'guz', 'education', 'medical', 'health', 'care', 'problems', 'powell', 'history', 'taking', 'havens', 'innovations', 'at', 'newcastle', 'new', 'south', 'wales', 'clarke', 'brooks', 'paulley', 'crawford', 'smith', 'chambers', 'booth', 'barley', 'grant', 'ctaoue', 'smith', 'mair', 'woodall', 'negus', 'greenfield', 'embolism', 'pulmonary', 'long', 'term', 'prognosis', 'embryology', 'human', 'fi', 'rald', 'limb', 'develolopment', 'influence', 'of', 'neurons', 'in', 'and', 'thalidomide', 'stevens', 'veatch', 'exomphalos', 'early', 'diagnosis', 'of', 'gordon', 'et', 'al', 'campbell', 'et', 'ferguson', 'smith', 'et', 'glaucoma', 'close', 'angle', 'with', 'disopyramide', 'trope', 'and', 'hind', 'secondary', 'in', 'chronic', 'uveitis', 'timolol', 'in', 'saari', 'et', 'growth', 'and', 'its', 'disorders', 'marshall', 'primary', 'in', 'paraneoplastic', 'hypercalcaemia', 'drezner', 'and', 'lebovitz', 'pro', 'propranolol', 'in', 'caro', 'and', 'adenoma', 'in', 'large', 'bowel', 'aetiology', 'of', 'hill', 'et', 'al', 'cancer', 'and', 'common', 'macrophage', 'derived', 'promotor', 'substance', 'for', 'salmon', 'and', 'hamburger', 'cholestasis', 'pump', 'failure', 'microvilli', 'defect', 'or', 'both', 'erlinger', 'colitis', 'antimicrobial', 'agent', 'associated', 'aetiology', 'of', 'george', 'et', 'al', 'fungal', 'skin', 'mfections', 'occlusion', 'and', 'carbon', 'dioxide', 'allen', 'and', 'king', 'hypoxia', 'mechanism', 'of', 'pressor', 'response', 'to', 'weir', 'pool', 'priming', 'generation', 'of', 'lymphocytes', 'cytotoxic', 'to', 'tumour', 'or', 'virus', 'infected', 'cells', 'bach', 'et', 'flenley', 'mechanism', 'of', 'pressor', 'response', 'to', 'weir', 'intestine', 'gut', 'hormone', 'profiles', 'besterman', 'et', 'ingham', 'et', 'mycoplasma', 'pneumoniae', 'infecuon', 'with', 'mucocutaneous', 'reactions', 'to', 'lind', 'griffiths', 'swift', 'and', 'stevens', 'myeloma', 'circulating', 'lymphocytes', 'in', 'the', 'spread', 'of', 'warner', 'and', 'krueger', 'myocardial', 'infarction', 'blood', 'sugar', 'in', 'prognosis', 'of', 'burden', 'et', 'national', 'health', 'service', 'administration', 'of', 'stewart', 'pygott', 'musher', 'bradley', 'et', 'omphalocele', 'mercury', 'poisoning', 'from', 'mercurochrome', 'therapy', 'of', 'yeh', 'et', 'pagets', 'disease', 'with', 'mithramycm', 'in', 'veldhuis', 'treatment', 'of', 'veldhuis', 'milhaud', 'hamdy', 'pain', 'dural', 'pain', 'cyriax', 'pre', 'eclampsia', 'and', 'disequilibrium', 'in', 'proteolysis', 'control', 'stark', 'propranolol', 'acute', 'brain', 'syndrome', 'after', 'helson', 'and', 'duque', 'in', 'caro', 'and', 'besarb', 'long', 'term', 'safety', 'of', 'lowdose', 'beta', 'blockade', 'and', 'blood', 'levels', 'after', 'davies', 'et', 'renin', 'big', 'renin', 'in', 'normal', 'plasma', 'hsueh', 'et', 'al', 'inactive', 'protease', 'as', 'endogenous', 'activator', 'of', 'osmond', 'and', 'loh', 'atlas', 'et', 'al', 'suppressed', 'in', 'hypertension', 'dexamethazone', 'treatment', 'of', 'hoefnagels', 'et', 'al', 'reorganised', 'national', 'health', 'service', 'levitt', 'there', 'is', 'risk', 'of', 'thrombosis', 'with', 'thalidomide', 'especially', 'at', 'the', 'initiation', 'of', 'therapy', 'and', 'prophylaxis', 'with', 'heparin', 'warfarin', 'or', 'antiplatelet', 'agents', 'depending', 'on', 'an', 'assessment', 'of', 'the', 'risk', 'may', 'be', 'warranted'], ['christmas', 'disease', 'national', 'survey', 'biggs', 'and', 'spooner', 'thrombosis', 'with', 'factor', 'ix', 'concentrates', 'in', 'maehm', 'and', 'miller', 'chromosomal', 'variation', 'in', 'man', 'borgaonkar', 'malawista', 'chronic', 'leukaemias', 'galton', 'cimetidine', 'bone', 'marrow', 'toxicity', 'with', 'lopez', 'luque', 'et', 'al', 'james', 'and', 'prout', 'and', 'brady', 'cardia', 'jefferys', 'and', 'vale', 'and', 'brainstem', 'dysfunction', 'cumming', 'and', 'foster', 'and', 'diabetes', 'pomare', 'drug', 'fever', 'with', 'ramboer', 'mcloughlin', 'et', 'al', 'duodenal', 'perforation', 'after', 'hoste', 'et', 'at', 'effect', 'on', 'delayed', 'avella', 'et', 'al', 'jones', 'askenase', 'greaves', 'goodwin', 'rudge', 'et', 'al', 'effect', 'on', 'iron', 'absorption', 'rosner', 'and', 'gastric', 'mucus', 'guslandi', 'gastritis', 'with', 'and', 'candida', 'albicans', 'nicholls', 'and', 'henry', 'and', 'glucose', 'handling', 'jefferys', 'and', 'vale', 'impaired', 'creatine', 'clearance', 'after', 'mcelligott', 'intravenous', 'hypotension', 'after', 'mahon', 'and', 'kolton', 'and', 'kidney', 'transplant', 'rejection', 'primack', 'doherty', 'and', 'mc', 'geown', 'rudge', 'et', 'al', 'charpentier', 'and', 'fries', 'and', 'large', 'bowel', 'function', 'frew', 'long', 'term', 'safety', 'of', 'in', 'maintenance', 'treatment', 'of', 'recurrent', 'peptic', 'ulcer', 'bodemar', 'and', 'walan', 'blackwood', 'et', 'al', 'machell', 'et', 'langman', 'and', 'wormsley', 'northfield', 'and', 'blackwood', 'guslandi', 'in', 'malignant', 'gastric', 'ulcers', 'response', 'to', 'taylor', 'et', 'al', 'clark', 'taylor', 'and', 'menzies', 'gow', 'murray', 'et', 'clioquinol', 'progressive', 'visual', 'loss', 'with', 'derakhshan', 'and', 'forough', 'and', 'subacute', 'myelo', 'optic', 'neuropathy', 'court', 'decision', 'in', 'japan', 'toxicity', 'of', 'animal', 'studies', 'worden', 'and', 'heywood', 'clock', 'biological', 'and', 'seasonality', 'in', 'schizophrenia', 'morgan', 'clomdme', 'inoplate', 'withdrawal', 'gold', 'et', 'clostridium', 'botulinum', 'intestinal', 'infection', 'and', 'toxin', 'production', 'in', 'cot', 'deaths', 'arnon', 'et', 'templeton', 'seasonal', 'variation', 'in', 'beal', 'see', 'also', 'babies', 'co', 'trimoxazole', 'and', 'creatine', 'clearance', 'shouval', 'et', 'zinc', 'and', 'free', 'radical', 'biochemistry', 'education', 'anti', 'smoking', 'health', 'education', 'failure', 'of', 'rawbone', 'and', 'guz', 'education', 'medical', 'health', 'care', 'problems', 'powell', 'history', 'taking', 'havens', 'innovations', 'at', 'newcastle', 'new', 'south', 'wales', 'clarke', 'brooks', 'paulley', 'crawford', 'smith', 'chambers', 'booth', 'barley', 'grant', 'ctaoue', 'smith', 'mair', 'woodall', 'negus', 'greenfield', 'embolism', 'pulmonary', 'long', 'term', 'prognosis', 'embryology', 'human', 'fi', 'rald', 'limb', 'develolopment', 'influence', 'of', 'neurons', 'in', 'and', 'thalidomide', 'stevens', 'veatch', 'exomphalos', 'early', 'diagnosis', 'of', 'gordon', 'et', 'al', 'campbell', 'et', 'ferguson', 'smith', 'et', 'glaucoma', 'close', 'angle', 'with', 'disopyramide', 'trope', 'and', 'hind', 'secondary', 'in', 'chronic', 'uveitis', 'timolol', 'in', 'saari', 'et', 'growth', 'and', 'its', 'disorders', 'marshall', 'primary', 'in', 'paraneoplastic', 'hypercalcaemia', 'drezner', 'and', 'lebovitz', 'pro', 'propranolol', 'in', 'caro', 'and', 'adenoma', 'in', 'large', 'bowel', 'aetiology', 'of', 'hill', 'et', 'al', 'cancer', 'and', 'common', 'macrophage', 'derived', 'promotor', 'substance', 'for', 'salmon', 'and', 'hamburger', 'cholestasis', 'pump', 'failure', 'microvilli', 'defect', 'or', 'both', 'erlinger', 'colitis', 'antimicrobial', 'agent', 'associated', 'aetiology', 'of', 'george', 'et', 'al', 'fungal', 'skin', 'mfections', 'occlusion', 'and', 'carbon', 'dioxide', 'allen', 'and', 'king', 'hypoxia', 'mechanism', 'of', 'pressor', 'response', 'to', 'weir', 'pool', 'priming', 'generation', 'of', 'lymphocytes', 'cytotoxic', 'to', 'tumour', 'or', 'virus', 'infected', 'cells', 'bach', 'et', 'flenley', 'mechanism', 'of', 'pressor', 'response', 'to', 'weir', 'intestine', 'gut', 'hormone', 'profiles', 'besterman', 'et', 'ingham', 'et', 'mycoplasma', 'pneumoniae', 'infecuon', 'with', 'mucocutaneous', 'reactions', 'to', 'lind', 'griffiths', 'swift', 'and', 'stevens', 'myeloma', 'circulating', 'lymphocytes', 'in', 'the', 'spread', 'of', 'warner', 'and', 'krueger', 'myocardial', 'infarction', 'blood', 'sugar', 'in', 'prognosis', 'of', 'burden', 'et', 'national', 'health', 'service', 'administration', 'of', 'stewart', 'pygott', 'musher', 'bradley', 'et', 'omphalocele', 'mercury', 'poisoning', 'from', 'mercurochrome', 'therapy', 'of', 'yeh', 'et', 'pagets', 'disease', 'with', 'mithramycm', 'in', 'veldhuis', 'treatment', 'of', 'veldhuis', 'milhaud', 'hamdy', 'pain', 'dural', 'pain', 'cyriax', 'pre', 'eclampsia', 'and', 'disequilibrium', 'in', 'proteolysis', 'control', 'stark', 'propranolol', 'acute', 'brain', 'syndrome', 'after', 'helson', 'and', 'duque', 'in', 'caro', 'and', 'besarb', 'long', 'term', 'safety', 'of', 'lowdose', 'beta', 'blockade', 'and', 'blood', 'levels', 'after', 'davies', 'et', 'renin', 'big', 'renin', 'in', 'normal', 'plasma', 'hsueh', 'et', 'al', 'inactive', 'protease', 'as', 'endogenous', 'activator', 'of', 'osmond', 'and', 'loh', 'atlas', 'et', 'al', 'suppressed', 'in', 'hypertension', 'dexamethazone', 'treatment', 'of', 'hoefnagels', 'et', 'al', 'reorganised', 'national', 'health', 'service', 'levitt', 'there', 'are', 'localized', 'destruction', 'and', 'occlusion', 'of', 'the', 'vascular', 'bed', 'of', 'the', 'lungs', 'by', 'intravascular', 'thrombosis', 'and', 'an', 'increment', 'of', 'the', 'anatomical', 'dead', 'space', 'resulting', 'in', 'an', 'increase', 'of', 'arterial', 'carbon', 'dioxide', 'associated', 'with', 'poor', 'outcome'], ['christmas', 'disease', 'national', 'survey', 'biggs', 'and', 'spooner', 'thrombosis', 'with', 'factor', 'ix', 'concentrates', 'in', 'maehm', 'and', 'miller', 'chromosomal', 'variation', 'in', 'man', 'borgaonkar', 'malawista', 'chronic', 'leukaemias', 'galton', 'cimetidine', 'bone', 'marrow', 'toxicity', 'with', 'lopez', 'luque', 'et', 'al', 'james', 'and', 'prout', 'and', 'brady', 'cardia', 'jefferys', 'and', 'vale', 'and', 'brainstem', 'dysfunction', 'cumming', 'and', 'foster', 'and', 'diabetes', 'pomare', 'drug', 'fever', 'with', 'ramboer', 'mcloughlin', 'et', 'al', 'duodenal', 'perforation', 'after', 'hoste', 'et', 'at', 'effect', 'on', 'delayed', 'avella', 'et', 'al', 'jones', 'askenase', 'greaves', 'goodwin', 'rudge', 'et', 'al', 'effect', 'on', 'iron', 'absorption', 'rosner', 'and', 'gastric', 'mucus', 'guslandi', 'gastritis', 'with', 'and', 'candida', 'albicans', 'nicholls', 'and', 'henry', 'and', 'glucose', 'handling', 'jefferys', 'and', 'vale', 'impaired', 'creatine', 'clearance', 'after', 'mcelligott', 'intravenous', 'hypotension', 'after', 'mahon', 'and', 'kolton', 'and', 'kidney', 'transplant', 'rejection', 'primack', 'doherty', 'and', 'mc', 'geown', 'rudge', 'et', 'al', 'charpentier', 'and', 'fries', 'and', 'large', 'bowel', 'function', 'frew', 'long', 'term', 'safety', 'of', 'in', 'maintenance', 'treatment', 'of', 'recurrent', 'peptic', 'ulcer', 'bodemar', 'and', 'walan', 'blackwood', 'et', 'al', 'machell', 'et', 'langman', 'and', 'wormsley', 'northfield', 'and', 'blackwood', 'guslandi', 'in', 'malignant', 'gastric', 'ulcers', 'response', 'to', 'taylor', 'et', 'al', 'clark', 'taylor', 'and', 'menzies', 'gow', 'murray', 'et', 'clioquinol', 'progressive', 'visual', 'loss', 'with', 'derakhshan', 'and', 'forough', 'and', 'subacute', 'myelo', 'optic', 'neuropathy', 'court', 'decision', 'in', 'japan', 'toxicity', 'of', 'animal', 'studies', 'worden', 'and', 'heywood', 'clock', 'biological', 'and', 'seasonality', 'in', 'schizophrenia', 'morgan', 'clomdme', 'inoplate', 'withdrawal', 'gold', 'et', 'clostridium', 'botulinum', 'intestinal', 'infection', 'and', 'toxin', 'production', 'in', 'cot', 'deaths', 'arnon', 'et', 'templeton', 'seasonal', 'variation', 'in', 'beal', 'see', 'also', 'babies', 'co', 'trimoxazole', 'and', 'creatine', 'clearance', 'shouval', 'et', 'zinc', 'and', 'free', 'radical', 'biochemistry', 'education', 'anti', 'smoking', 'health', 'education', 'failure', 'of', 'rawbone', 'and', 'guz', 'education', 'medical', 'health', 'care', 'problems', 'powell', 'history', 'taking', 'havens', 'innovations', 'at', 'newcastle', 'new', 'south', 'wales', 'clarke', 'brooks', 'paulley', 'crawford', 'smith', 'chambers', 'booth', 'barley', 'grant', 'ctaoue', 'smith', 'mair', 'woodall', 'negus', 'greenfield', 'embolism', 'pulmonary', 'long', 'term', 'prognosis', 'embryology', 'human', 'fi', 'rald', 'limb', 'develolopment', 'influence', 'of', 'neurons', 'in', 'and', 'thalidomide', 'stevens', 'veatch', 'exomphalos', 'early', 'diagnosis', 'of', 'gordon', 'et', 'al', 'campbell', 'et', 'ferguson', 'smith', 'et', 'glaucoma', 'close', 'angle', 'with', 'disopyramide', 'trope', 'and', 'hind', 'secondary', 'in', 'chronic', 'uveitis', 'timolol', 'in', 'saari', 'et', 'growth', 'and', 'its', 'disorders', 'marshall', 'primary', 'in', 'paraneoplastic', 'hypercalcaemia', 'drezner', 'and', 'lebovitz', 'pro', 'propranolol', 'in', 'caro', 'and', 'adenoma', 'in', 'large', 'bowel', 'aetiology', 'of', 'hill', 'et', 'al', 'cancer', 'and', 'common', 'macrophage', 'derived', 'promotor', 'substance', 'for', 'salmon', 'and', 'hamburger', 'cholestasis', 'pump', 'failure', 'microvilli', 'defect', 'or', 'both', 'erlinger', 'colitis', 'antimicrobial', 'agent', 'associated', 'aetiology', 'of', 'george', 'et', 'al', 'fungal', 'skin', 'mfections', 'occlusion', 'and', 'carbon', 'dioxide', 'allen', 'and', 'king', 'hypoxia', 'mechanism', 'of', 'pressor', 'response', 'to', 'weir', 'pool', 'priming', 'generation', 'of', 'lymphocytes', 'cytotoxic', 'to', 'tumour', 'or', 'virus', 'infected', 'cells', 'bach', 'et', 'flenley', 'mechanism', 'of', 'pressor', 'response', 'to', 'weir', 'intestine', 'gut', 'hormone', 'profiles', 'besterman', 'et', 'ingham', 'et', 'mycoplasma', 'pneumoniae', 'infecuon', 'with', 'mucocutaneous', 'reactions', 'to', 'lind', 'griffiths', 'swift', 'and', 'stevens', 'myeloma', 'circulating', 'lymphocytes', 'in', 'the', 'spread', 'of', 'warner', 'and', 'krueger', 'myocardial', 'infarction', 'blood', 'sugar', 'in', 'prognosis', 'of', 'burden', 'et', 'national', 'health', 'service', 'administration', 'of', 'stewart', 'pygott', 'musher', 'bradley', 'et', 'omphalocele', 'mercury', 'poisoning', 'from', 'mercurochrome', 'therapy', 'of', 'yeh', 'et', 'pagets', 'disease', 'with', 'mithramycm', 'in', 'veldhuis', 'treatment', 'of', 'veldhuis', 'milhaud', 'hamdy', 'pain', 'dural', 'pain', 'cyriax', 'pre', 'eclampsia', 'and', 'disequilibrium', 'in', 'proteolysis', 'control', 'stark', 'propranolol', 'acute', 'brain', 'syndrome', 'after', 'helson', 'and', 'duque', 'in', 'caro', 'and', 'besarb', 'long', 'term', 'safety', 'of', 'lowdose', 'beta', 'blockade', 'and', 'blood', 'levels', 'after', 'davies', 'et', 'renin', 'big', 'renin', 'in', 'normal', 'plasma', 'hsueh', 'et', 'al', 'inactive', 'protease', 'as', 'endogenous', 'activator', 'of', 'osmond', 'and', 'loh', 'atlas', 'et', 'al', 'suppressed', 'in', 'hypertension', 'dexamethazone', 'treatment', 'of', 'hoefnagels', 'et', 'al', 'reorganised', 'national', 'health', 'service', 'levitt', 'there', 'are', 'localized', 'destruction', 'and', 'occlusion', 'of', 'the', 'vascular', 'bed', 'of', 'the', 'lungs', 'by', 'intravascular', 'thrombosis', 'and', 'an', 'increment', 'of', 'the', 'anatomical', 'dead', 'space', 'resulting', 'in', 'an', 'increase', 'of', 'arterial', 'carbon', 'dioxide', 'associated', 'with', 'poor', 'outcome'], ['mg', 'dacarbazine', 'iv', 'pws', 'mg', 'vial', 'dacarbazine', 'iv', 'pws', 'mg', 'gefitinib', 'tab', 'mg', 'imatinib', 'mesylate', 'cap', 'mg', 'imatinib', 'mesylate', 'fc', 'tab', 'mg', 'imatinib', 'mesylate', 'tab', 'mg', 'imatinib', 'mesylate', 'tab', 'mg', 'imatinib', 'mesylate', 'tab', 'mg', 'imatinib', 'mesylate', 'tab', 'mg', 'imatinib', 'mesylate', 'tab', 'mg', 'imatinib', 'mesylate', 'tab', 'mg', 'imatinib', 'mesylate', 'tab', 'mg', 'it', 'is', 'important', 'to', 'ensure', 'that', 'the', 'population', 'has', 'the', 'chance', 'to', 'be', 'exposed', 'to', 'influenza', 'and', 'there', 'is', 'sufficient', 'influenza', 'test', 'during', 'the', 'influenza', 'season', 'will', 'be', 'used', 'and', 'potential', 'control', 'samples', 'will', 'be', 'selected', 'from', 'among', 'those', 'who', 'only', 'tested', 'negative', 'for', 'influenza', 'during', 'that', 'influenza', 'season', 'using', 'the', 'first', 'negative', 'test', 'mg', 'dacarbazine', 'iv', 'pws', 'mg', 'vial', 'dacarbazine', 'iv', 'pws', 'mg', 'gefitinib', 'tab', 'mg', 'imatinib', 'mesylate', 'cap', 'mg', 'imatinib', 'mesylate', 'fc', 'tab', 'mg', 'imatinib', 'mesylate', 'tab', 'mg', 'imatinib', 'mesylate', 'tab', 'mg', 'imatinib', 'mesylate', 'tab', 'mg', 'imatinib', 'mesylate', 'tab', 'mg', 'imatinib', 'mesylate', 'tab', 'mg', 'imatinib', 'mesylate', 'tab', 'mg', 'imatinib', 'mesylate', 'tab', 'mg', 'din', 'drug', 'name', 'route', 'of', 'administration', 'strength', 'imatinib', 'mesylate', 'tab', 'mg', 'imatinib', 'mesylate', 'tab', 'mg', 'imatinib', 'mesylate', 'tab', 'mg', 'lapatinib', 'ditosylate', 'tab', 'mg', 'nilotinib', 'cap', 'mg', 'nilotinib', 'cap', 'mg', 'pazopanib', 'hcl', 'tab', 'mg', 'isolates', 'will', 'be', 'considered', 'eligible', 'for', 'inclusion', 'in', 'the', 'analysis', 'if', 'they', 'met', 'all', 'of', 'the', 'following', 'criteria', 'valid', 'phn', 'is', 'recorded', 'the', 'isolate', 'is', 'not', 'from', 'resident', 'of', 'long', 'term', 'care', 'facility', 'the', 'isolate', 'was', 'collected', 'at', 'least', 'four', 'weeks', 'after', 'the', 'initiation', 'of', 'the', 'public', 'influenza', 'vaccination', 'program', 'and', 'the', 'isolate', 'was', 'collected', 'during', 'the', 'influenza', 'season', 'as', 'determined', 'using', 'the', 'method', 'recommended', 'by', 'the', 'who'], ['all', 'the', 'synthesized', 'compounds', 'were', 'tested', 'for', 'their', 'antiviral', 'activities', 'against', 'human', 'cytomegalovirus', 'hcmv', 'varicellazoster', 'virus', 'vzv', 'wild', 'type', 'and', 'thymidine', 'kinase', 'deficient', 'tk', 'strains', 'herpes', 'simplex', 'virus', 'hsv', 'wild', 'type', 'and', 'tk', 'strains', 'herpes', 'simplex', 'virus', 'hsv', 'vaccinia', 'virus', 'and', 'vesicular', 'stomatitis', 'in', 'human', 'embryonic', 'lung', 'hel', 'cells', 'coxsackie', 'virus', 'and', 'respiratory', 'syncytial', 'virus', 'in', 'human', 'cervix', 'carcinoma', 'hela', 'cells', 'parainfluenza', 'virus', 'reovirus', 'sindbis', 'virus', 'coxsackie', 'virus', 'and', 'punta', 'toro', 'virus', 'in', 'green', 'monkey', 'kidney', 'vero', 'cells', 'feline', 'corona', 'virus', 'in', 'feline', 'kidney', 'crfk', 'cells', 'and', 'influenza', 'influenza', 'and', 'influenza', 'viruses', 'in', 'canine', 'kidney', 'mdck', 'cells'], ['he', 'had', 'past', 'history', 'of', 'asthma', 'allergic', 'rhinitis', 'and', 'atopic', 'dermatitis', 'and', 'was', 'previously', 'diagnosed', 'as', 'allergic', 'to', 'egg', 'white', 'and', 'peanut'], ['christmas', 'disease', 'national', 'survey', 'biggs', 'and', 'spooner', 'thrombosis', 'with', 'factor', 'ix', 'concentrates', 'in', 'maehm', 'and', 'miller', 'chromosomal', 'variation', 'in', 'man', 'borgaonkar', 'malawista', 'chronic', 'leukaemias', 'galton', 'cimetidine', 'bone', 'marrow', 'toxicity', 'with', 'lopez', 'luque', 'et', 'al', 'james', 'and', 'prout', 'and', 'brady', 'cardia', 'jefferys', 'and', 'vale', 'and', 'brainstem', 'dysfunction', 'cumming', 'and', 'foster', 'and', 'diabetes', 'pomare', 'drug', 'fever', 'with', 'ramboer', 'mcloughlin', 'et', 'al', 'duodenal', 'perforation', 'after', 'hoste', 'et', 'at', 'effect', 'on', 'delayed', 'avella', 'et', 'al', 'jones', 'askenase', 'greaves', 'goodwin', 'rudge', 'et', 'al', 'effect', 'on', 'iron', 'absorption', 'rosner', 'and', 'gastric', 'mucus', 'guslandi', 'gastritis', 'with', 'and', 'candida', 'albicans', 'nicholls', 'and', 'henry', 'and', 'glucose', 'handling', 'jefferys', 'and', 'vale', 'impaired', 'creatine', 'clearance', 'after', 'mcelligott', 'intravenous', 'hypotension', 'after', 'mahon', 'and', 'kolton', 'and', 'kidney', 'transplant', 'rejection', 'primack', 'doherty', 'and', 'mc', 'geown', 'rudge', 'et', 'al', 'charpentier', 'and', 'fries', 'and', 'large', 'bowel', 'function', 'frew', 'long', 'term', 'safety', 'of', 'in', 'maintenance', 'treatment', 'of', 'recurrent', 'peptic', 'ulcer', 'bodemar', 'and', 'walan', 'blackwood', 'et', 'al', 'machell', 'et', 'langman', 'and', 'wormsley', 'northfield', 'and', 'blackwood', 'guslandi', 'in', 'malignant', 'gastric', 'ulcers', 'response', 'to', 'taylor', 'et', 'al', 'clark', 'taylor', 'and', 'menzies', 'gow', 'murray', 'et', 'clioquinol', 'progressive', 'visual', 'loss', 'with', 'derakhshan', 'and', 'forough', 'and', 'subacute', 'myelo', 'optic', 'neuropathy', 'court', 'decision', 'in', 'japan', 'toxicity', 'of', 'animal', 'studies', 'worden', 'and', 'heywood', 'clock', 'biological', 'and', 'seasonality', 'in', 'schizophrenia', 'morgan', 'clomdme', 'inoplate', 'withdrawal', 'gold', 'et', 'clostridium', 'botulinum', 'intestinal', 'infection', 'and', 'toxin', 'production', 'in', 'cot', 'deaths', 'arnon', 'et', 'templeton', 'seasonal', 'variation', 'in', 'beal', 'see', 'also', 'babies', 'co', 'trimoxazole', 'and', 'creatine', 'clearance', 'shouval', 'et', 'zinc', 'and', 'free', 'radical', 'biochemistry', 'education', 'anti', 'smoking', 'health', 'education', 'failure', 'of', 'rawbone', 'and', 'guz', 'education', 'medical', 'health', 'care', 'problems', 'powell', 'history', 'taking', 'havens', 'innovations', 'at', 'newcastle', 'new', 'south', 'wales', 'clarke', 'brooks', 'paulley', 'crawford', 'smith', 'chambers', 'booth', 'barley', 'grant', 'ctaoue', 'smith', 'mair', 'woodall', 'negus', 'greenfield', 'embolism', 'pulmonary', 'long', 'term', 'prognosis', 'embryology', 'human', 'fi', 'rald', 'limb', 'develolopment', 'influence', 'of', 'neurons', 'in', 'and', 'thalidomide', 'stevens', 'veatch', 'exomphalos', 'early', 'diagnosis', 'of', 'gordon', 'et', 'al', 'campbell', 'et', 'ferguson', 'smith', 'et', 'glaucoma', 'close', 'angle', 'with', 'disopyramide', 'trope', 'and', 'hind', 'secondary', 'in', 'chronic', 'uveitis', 'timolol', 'in', 'saari', 'et', 'growth', 'and', 'its', 'disorders', 'marshall', 'primary', 'in', 'paraneoplastic', 'hypercalcaemia', 'drezner', 'and', 'lebovitz', 'pro', 'propranolol', 'in', 'caro', 'and', 'adenoma', 'in', 'large', 'bowel', 'aetiology', 'of', 'hill', 'et', 'al', 'cancer', 'and', 'common', 'macrophage', 'derived', 'promotor', 'substance', 'for', 'salmon', 'and', 'hamburger', 'cholestasis', 'pump', 'failure', 'microvilli', 'defect', 'or', 'both', 'erlinger', 'colitis', 'antimicrobial', 'agent', 'associated', 'aetiology', 'of', 'george', 'et', 'al', 'fungal', 'skin', 'mfections', 'occlusion', 'and', 'carbon', 'dioxide', 'allen', 'and', 'king', 'hypoxia', 'mechanism', 'of', 'pressor', 'response', 'to', 'weir', 'pool', 'priming', 'generation', 'of', 'lymphocytes', 'cytotoxic', 'to', 'tumour', 'or', 'virus', 'infected', 'cells', 'bach', 'et', 'flenley', 'mechanism', 'of', 'pressor', 'response', 'to', 'weir', 'intestine', 'gut', 'hormone', 'profiles', 'besterman', 'et', 'ingham', 'et', 'mycoplasma', 'pneumoniae', 'infecuon', 'with', 'mucocutaneous', 'reactions', 'to', 'lind', 'griffiths', 'swift', 'and', 'stevens', 'myeloma', 'circulating', 'lymphocytes', 'in', 'the', 'spread', 'of', 'warner', 'and', 'krueger', 'myocardial', 'infarction', 'blood', 'sugar', 'in', 'prognosis', 'of', 'burden', 'et', 'national', 'health', 'service', 'administration', 'of', 'stewart', 'pygott', 'musher', 'bradley', 'et', 'omphalocele', 'mercury', 'poisoning', 'from', 'mercurochrome', 'therapy', 'of', 'yeh', 'et', 'pagets', 'disease', 'with', 'mithramycm', 'in', 'veldhuis', 'treatment', 'of', 'veldhuis', 'milhaud', 'hamdy', 'pain', 'dural', 'pain', 'cyriax', 'pre', 'eclampsia', 'and', 'disequilibrium', 'in', 'proteolysis', 'control', 'stark', 'propranolol', 'acute', 'brain', 'syndrome', 'after', 'helson', 'and', 'duque', 'in', 'caro', 'and', 'besarb', 'long', 'term', 'safety', 'of', 'lowdose', 'beta', 'blockade', 'and', 'blood', 'levels', 'after', 'davies', 'et', 'renin', 'big', 'renin', 'in', 'normal', 'plasma', 'hsueh', 'et', 'al', 'inactive', 'protease', 'as', 'endogenous', 'activator', 'of', 'osmond', 'and', 'loh', 'atlas', 'et', 'al', 'suppressed', 'in', 'hypertension', 'dexamethazone', 'treatment', 'of', 'hoefnagels', 'et', 'al', 'reorganised', 'national', 'health', 'service', 'levitt', 'troglitazone', 'is', 'ligand', 'to', 'both', 'pparα', 'and', 'more', 'strongly', 'pparγ', 'promotes', 'glucose', 'uptake', 'by', 'increasing', 'two', 'transporters', 'we', 'previously', 'found', 'decreased', 'in', 'pyramidal', 'neurons', 'in', 'schizophrenia', 'glut', 'and', 'glut', 'and', 'inhibits', 'the', 'pro', 'inflammatory', 'factor', 'nfkb', 'implicated', 'in', 'our', 'enrichr', 'analyses'], ['enterica', 'serovar', 'livingstone', 'and', 'serovar', 'cerro', 'isolates', 'obtained', 'from', 'chicken', 'layer', 'farm', 'differential', 'expression', 'of', 'the', 'msp', 'gene', 'of', 'anaplasma', 'marginale', 'occurs', 'in', 'bovine', 'erythrocytes', 'and', 'tick', 'cells', 'adhesion', 'of', 'outer', 'membrane', 'proteins', 'containing', 'tandem', 'repeats', 'of', 'anaplasma', 'and', 'ehrlichia', 'species', 'rickettsiales', 'anaplasmataceae', 'to', 'tick', 'cells', 'anaplasma', 'infection', 'in', 'free', 'ranging', 'iberian', 'red', 'deer', 'in', 'the', 'region', 'of', 'castilla', 'la', 'mancha', 'spain', 'tissue', 'culture', 'interaction', 'between', 'attaching', 'and', 'effacing', 'escherichia', 'coli', 'serotypes', 'and', 'in', 'cell', 'culture', 'diagnostic', 'multiplex', 'pcr', 'for', 'toxin', 'genotyping', 'of', 'clostridium', 'perfringens', 'isolates', 'toxins', 'prevalence', 'of', 'serogroups', 'and', 'virulence', 'factors', 'of', 'escherichia', 'coli', 'strains', 'isolated', 'from', 'pigs', 'with', 'postweaning', 'diarrhoea', 'in', 'eastern', 'china', 'transmission', 'transmission', 'of', 'multiple', 'antimicrobial', 'resistant', 'staphylococcus', 'intermedius', 'between', 'dogs', 'affected', 'by', 'deep', 'pyoderma', 'and', 'their', 'owners', 'comparison', 'of', 'pulsed', 'field', 'gel', 'electrophoresis', 'and', 'repetitive', 'sequence', 'polymerase', 'chain', 'reaction', 'as', 'genotyping', 'methods', 'for', 'detection', 'of', 'genetic', 'diversity', 'and', 'inferring', 'transmission', 'of', 'salmonella', 'transmission', 'of', 'small', 'ruminant', 'lentiviruses', 'procedures', 'for', 'preventing', 'transmission', 'of', 'foot', 'and', 'mouth', 'disease', 'virus', 'taw', 'by', 'people', 'risk', 'assessment', 'of', 'transmission', 'of', 'capsule', 'deficient', 'recombinant', 'actinobacillus', 'lawsonia', 'intracellularis', 'transmission', 'study', 'using', 'pure', 'culture', 'inoculated', 'seeder', 'pig', 'sentinel', 'model', 'human', 'circoviruses', 'tuberculosis', 'isolation', 'and', 'identification', 'of', 'mycobacteria', 'in', 'new', 'world', 'primates', 'maintained', 'in', 'captivity', 'prevalence', 'of', 'feline', 'coronavirus', 'types', 'and', 'ii', 'in', 'cats', 'with', 'verified', 'feline', 'infectious', 'peritonitis', 'oxalate', 'degradation', 'by', 'intestinal', 'lactic', 'acid', 'bacteria', 'in', 'dogs', 'and', 'cats', 'vaccination', 'effect', 'of', 'porcine', 'parvovirus', 'vaccination', 'on', 'the', 'development', 'of', 'pmws', 'in', 'segregated', 'early', 'weaned', 'pigs', 'coinfected', 'with', 'type', 'porcine', 'circovirus', 'and', 'porcine', 'parvovirus', 'differentiating', 'infection', 'from', 'vaccination', 'in', 'foot', 'and', 'mouthdisease', 'evaluation', 'of', 'an', 'elisa', 'based', 'on', 'recombinant', 'abc', 'resistance', 'of', 'broiler', 'chickens', 'to', 'escherichia', 'coli', 'respiratory', 'tract', 'infection', 'induced', 'by', 'passively', 'transferred', 'egg', 'yolk', 'antibodies', 'safety', 'and', 'efficacy', 'of', 'modified', 'live', 'canine', 'coronavirus', 'vaccine', 'in', 'dogs', 'pasteurella', 'multocida', 'contains', 'multiple', 'immunogenic', 'haeminand', 'haemoglobin', 'binding', 'proteins', 'of', 'two', 'proteins', 'of', 'staphylococcus', 'aureus', 'isolated', 'from', 'bovine', 'clinical', 'mastitis', 'with', 'homology', 'to', 'glyceraldehyde', 'phosphate', 'dehydrogenase', 'efficacy', 'of', 'live', 'chlamydophila', 'abortus', 'vaccine', 'in', 'protecting', 'mice', 'placentas', 'and', 'foetuses', 'against', 'strains', 'of', 'chlamydophila', 'pecorum', 'isolated', 'from', 'cases', 'of', 'abortion', 'efficacy', 'of', 'vaccines', 'against', 'bacterial', 'diseases', 'in', 'swine', 'what', 'can', 'we', 'expect', 'immunogenicity', 'of', 'recombinant', 'omp', 'from', 'brucella', 'melitensis', 'in', 'rams', 'and', 'serum', 'bactericidal', 'activity', 'against', 'hominissuis', 'of', 'serotypes', 'and', 'isolated', 'from', 'pigs', 'and', 'environment', 'comparison', 'between', 'haemophilus', 'parasuis', 'infection', 'in', 'colostrums', 'deprived', 'and', 'sow', 'reared', 'piglets', 'of', 'streptococcus', 'suis', 'serotype', 'isolates', 'from', 'diseased', 'pigs', 'in', 'denmark', 'influence', 'of', 'porcine', 'intestinal', 'ph', 'and', 'gastric', 'digestion', 'on', 'antigenicity', 'of', 'fimbriae', 'for', 'oral', 'immunisation', 'prevalence', 'and', 'deletion', 'types', 'of', 'the', 'pathogenicity', 'island', 'ett', 'among', 'escherichia', 'coli', 'strains', 'from', 'oedema', 'disease', 'and', 'colibacillosis', 'in', 'pigs', 'effect', 'of', 'porcine', 'parvovirus', 'vaccination', 'on', 'the', 'development', 'of', 'pmws', 'in', 'segregated', 'early', 'weaned', 'pigs', 'coinfected', 'with', 'type', 'porcine', 'circovirus', 'and', 'porcine', 'parvovirus', 'excessive', 'porcine', 'circovirus', 'type', 'antibody', 'titres', 'may', 'trigger', 'the', 'development', 'of', 'porcine', 'dermatitis', 'and', 'nephropathy', 'syndrome', 'case', 'control', 'study', 'the', 'clinical', 'expression', 'and', 'emergence', 'of', 'porcine', 'circovirus', 'prevalence', 'of', 'serogroups', 'and', 'virulence', 'factors', 'of', 'escherichia', 'coli', 'strains', 'isolated', 'from', 'pigs', 'with', 'postweaning', 'diarrhoea', 'in', 'eastern', 'china', 'post', 'weaning', 'multisystemic', 'wasting', 'syndrome', 'the', 'clinical', 'expression', 'and', 'emergence', 'of', 'porcine', 'circovirus', 'pathological', 'findings', 'associated', 'with', 'naturally', 'acquired', 'porcine', 'circovirus', 'type', 'associated', 'disease', 'in', 'postweaning', 'multisystemic', 'wasting', 'syndrome', 'affected', 'pigs', 'effect', 'of', 'porcine', 'parvovirus', 'vaccination', 'on', 'the', 'development', 'of', 'pmws', 'in', 'segregated', 'early', 'weaned', 'pigs', 'coinfected', 'with', 'type', 'porcine', 'circovirus', 'and', 'porcine', 'parvovirus', 'poultry', 'antimicrobial', 'susceptibility', 'of', 'swedish', 'norwegian', 'and', 'danish', 'isolates', 'of', 'clostridium', 'perfringens', 'from', 'poultry', 'and', 'distribution', 'of', 'tetracycline', 'resistance', 'genes', 'high', 'prevalence', 'of', 'multiple', 'resistance', 'to', 'antibiotics', 'in', 'salmonella', 'serovars', 'isolated', 'from', 'poultry', 'slaughterhouse', 'in', 'spain', 'prebiotic', 'oxalate', 'degradation', 'by', 'intestinal', 'lactic', 'acid', 'bacteria', 'in', 'dogs', 'and', 'cats', 'predisposing', 'conditions', 'oxytetracycline', 'as', 'predisposing', 'condition', 'for', 'chalkbrood', 'in', 'honeybee', 'prevalence', 'of', 'attaching', 'effacing', 'escherichia', 'coli', 'isolated', 'from', 'animals', 'at', 'slaughter', 'in', 'england', 'and', 'wales', 'selection', 'of', 'enterococci', 'for', 'potential', 'canine', 'probiotic', 'additives', 'the', 'influence', 'of', 'diet', 'on', 'lawsonia', 'intracellularis', 'colonization', 'in', 'pigs', 'upon', 'experimental', 'challenge', 'infection', 'dynamics', 'of', 'lawsonia', 'intracellularis', 'in', 'pig', 'herds', 'proliferative', 'necrotizing', 'pneumonia', 'the', 'clinical', 'expression', 'and', 'emergence', 'of', 'porcine', 'circovirus', 'correlation', 'between', 'production', 'of', 'acyl', 'homoserine', 'lactones', 'and', 'proteases', 'in', 'an', 'aeromonas', 'hydrophila', 'aroa', 'live', 'vaccine', 'protein', 'enzyme', 'immunoassay', 'for', 'the', 'diagnosis', 'of', 'brucellosis', 'chimeric', 'protein', 'protein', 'as', 'common', 'enzyme', 'labeled', 'detection', 'reagent', 'for', 'sera', 'for', 'different', 'animal', 'species', 'protein', 'expression', 'analysis', 'of', 'differential', 'protein', 'expression', 'in', 'actinobacillus', 'by', 'surface', 'enhanced', 'laser', 'desorption', 'ionisation', 'proteinchip', 'tm', 'seldi', 'technology', 'protein', 'structure', 'nanoviruses', 'genome', 'organisation', 'and', 'protein', 'function', 'genetics', 'and', 'geographical', 'variation', 'of', 'porcine', 'reproductive', 'and', 'respiratory', 'syndrome', 'virus', 'prrsv', 'in', 'thailand', 'the', 'effect', 'of', 'killed', 'porcine', 'reproductive', 'and', 'respiratory', 'syndrome', 'virus', 'prrsv', 'vaccine', 'treatment', 'on', 'virus', 'shedding', 'in', 'previously', 'prrsv', 'infected', 'pigs', 'genetic', 'of', 'orf', 'viruses', 'isolated', 'from', 'various', 'ruminant', 'species', 'of', 'zoo', 'pseudogene', 'the', 'adhesin', 'pseudogene', 'of', 'mycoplasma', 'bovis', 'pseudomonas', 'aeruginosa', 'from', 'canine', 'otitis', 'externa', 'exhibit', 'quorum', 'sensing', 'deficiency', 'multiplex', 'pcr', 'for', 'rapid', 'detection', 'of', 'pseudorabies', 'virus', 'porcine', 'parvovirus', 'and', 'porcine', 'circoviruses', 'transmission', 'of', 'multiple', 'antimicrobial', 'resistant', 'staphylococcus', 'intermedius', 'between', 'dogs', 'affected', 'by', 'deep', 'pyoderma', 'and', 'their', 'owners', 'the', 'high', 'prevalence', 'of', 'helicobacter', 'sp'], ['he', 'had', 'past', 'history', 'of', 'asthma', 'allergic', 'rhinitis', 'and', 'atopic', 'dermatitis', 'and', 'was', 'previously', 'diagnosed', 'as', 'allergic', 'to', 'egg', 'white', 'and', 'peanut']]\n"
     ]
    }
   ],
   "source": [
    "def sent_to_words(sentences):\n",
    "    for sentence in sentences:\n",
    "        yield(gensim.utils.simple_preprocess(str(sentence), deacc=True))  # deacc=True removes punctuations\n",
    "        \n",
    "\n",
    "data_words = list(sent_to_words(temp))\n",
    "\n",
    "print(data_words[:10])"
   ]
  },
  {
   "cell_type": "code",
   "execution_count": 15,
   "metadata": {},
   "outputs": [
    {
     "data": {
      "text/plain": [
       "790"
      ]
     },
     "execution_count": 15,
     "metadata": {},
     "output_type": "execute_result"
    }
   ],
   "source": [
    "len(data_words)"
   ]
  },
  {
   "cell_type": "code",
   "execution_count": 16,
   "metadata": {},
   "outputs": [],
   "source": [
    "def detokenize(text):\n",
    "    return TreebankWordDetokenizer().detokenize(text)"
   ]
  },
  {
   "cell_type": "code",
   "execution_count": 17,
   "metadata": {},
   "outputs": [
    {
     "name": "stdout",
     "output_type": "stream",
     "text": [
      "['population in thuringia germany chlamydophila abortus efficacy of different commercial and new inactivated vaccines against ovine enzootic abortion recombinant major outer membrane protein momp of chlamydophila abortus chlamydophila pecorum and chlamydia suis as antigens to distinguish chlamydial species specific antibodies in animal sera molecular and ovine live vaccine evaluation toward chlamydophila abortus strain isolated from springbok antelope abortion efficacy of live chlamydophila abortus vaccine in protecting mice placentas and foetuses against strains of chlamydophila pecorum isolated from cases of abortion recombinant major outer membrane protein momp of chlamydophila abortus chlamydophila pecorum and chlamydia suis as antigens to distinguish chlamydial species specific antibodies in animal sera chlamydophila psittaci molecular of chlamydial isolates from birds evaluation of the german cockroach blattella germanica as vector for verotoxigenic escherichia coli in confined swine production virulence associated genes in escherichia coli isolates from poultry with colibacillosis correction molecular epidemiology of avian pathogenic escherichia coli apec isolated from colisepticemia in poultry the antigen of salmonella enterica serotype enteritidis pt significant factor in colonisation of young but not newly hatched chicks intestinal colonisation inhibition and virulence of salmonella phop rpos and ompc deletion mutants in chickens correlation between invasion of caco eukaryotic cells and colonization ability in the chick gut in campylobacter jejuni colostral transmission of maedi visna virus sites of viral entry in lambs born from experimentally infected ewes colostrum deprived comparison between haemophilus parasuis infection in colostrums deprived and sow reared piglets comparable sensitivity and specificity in three commercially available elisas to differentiate between cattle infected with or vaccinated against foot and mouth disease virus enterotoxigenic escherichia coli attachment to host cell receptors inhibited by recombinant pili protein competitive elisa development of monoclonal antibody based competitive elisa for detection and titration of antibodies to peste des petits ruminants ppr virus the clinical expression and emergence of porcine circovirus evaluation of three serum elisas using monoclonal antibodies and protein as peroxidase conjugate for the diagnosis of bovine brucellosis susceptibility of different bacterial species isolated from food animals to copper sulphate zinc chloride and antimicrobial substances used for disinfection higher incidence of malassezia pachydermatis in the eyes of dogs with corneal ulcer than in healthy dogs coronavirus infection of spotted hyenas in the serengeti ecosystem comparison of an interferon to phospholipase enzymelinked immunosorbent assay for diagnosis of corynebacterium infection in experimentally infected goats of kda capsular protein of avian pasteurella multocida using monoclonal antibodies evaluation of three serum elisas using monoclonal antibodies and protein as peroxidase conjugate for the diagnosis of bovine brucellosis phenotypic and genotypic characteristics of staphylococcus aureus isolates from raw bulk tank milk samples of goats and sheep evaluation of monoclonal antibody based enzyme linked immunosorbent assay for detection of campylobacter fetus in bovine preputial washing and vaginal mucus samples co circulation of two genetically distinct viruses in an outbreak of african swine fever in mozambique no evidence for individual co infection cytoplasm periplasm analysis of differential protein expression in actinobacillus by surface enhanced laser desorption ionisation proteinchip tm seldi technology impact of sawdust and wood shavings in bedding on pig tuberculous lesions in lymph nodes and is rflp analysis of mycobacterium avium subsp coli epec serotyping pcr based identification of serotype isolates of actinobacillus biovars and ii serological of danish haemophilus parasuis isolates molecular epidemiology of avian pathogenic escherichia coli apec isolated from colisepticemia in poultry serovars antimicrobial resistance of salmonella isolated from finishing swine and the environment of alberta swine farms virulence associated genes in escherichia coli isolates from poultry with colibacillosis correction shedding the effect of killed porcine reproductive and respiratory syndrome virus prrsv vaccine treatment on virus shedding in previously prrsv infected pigs sheep evaluation of molecular and immunological techniques for the diagnosis of mammary aspergillosis in ewes occurrence distribution and role in abortion of coxiella burnetii in sheep and goats in sardinia italy phenotypic and genotypic characteristics of staphylococcus aureus isolates from raw bulk tank milk samples of goats and sheep viremia and effect of fetal infection with porcine viruses with special reference to porcine circovirus infection species conservation of deduced amino acid sequence of fimh among escherichia coli of bovine porcine and avian disease origin recombinant major outer membrane protein momp of chlamydophila abortus chlamydophila pecorum and chlamydia suis as antigens to distinguish chlamydial species specific antibodies in animal sera chicken anemia virus induced apoptosis underlying molecular mechanisms staphylococci susceptibility of different bacterial species isolated from food animals to copper sulphate zinc chloride and antimicrobial substances used for disinfection of two proteins of staphylococcus aureus isolated from bovine clinical mastitis with homology to glyceraldehyde phosphate dehydrogenase phenotypic and genotypic characteristics of staphylococcus aureus isolates from raw bulk tank milk samples of goats and sheep antimicrobial resistance and resistance genes in staphylococcus aureus strains from rabbits mouse mastitis model of infection for antimicrobial compound efficacy studies against intracellular and extracellular forms of staphylococcus aureus genotypic and phenotypic screening of high and low virulence staphylococcus aureus isolates from rabbits for biofilm formation and mscramms in vitro growth inhibition of major mastitis pathogens by staphylococcus chromogenes originating from teat apices of dairy heifers determination of species specific sequences of superoxide dismutase encoding gene soda and chaperonin encoding gene cpn for identification and phylogenetic analysis of streptococcus phocae cloning and purification of the streptococcus suis serotype glyceraldehyde phosphate dehydrogenase and its involvement as an adhesin intestinal translocation of streptococcus suis type ef in pigs of streptococcus suis serotype isolates from diseased pigs in denmark stress intestinal translocation of streptococcus suis type ef in pigs subgenotype bovine viral diarrhea virus is classified into different subgenotypes depending on the analyzed region within the viral genome chicken anemia virus induced apoptosis underlying molecular mechanisms superoxide dismutase gene determination of species specific sequences of superoxide dismutase encoding gene soda and chaperonin encoding gene cpn for identification and phylogenetic analysis of streptococcus phocae surveillance differentiating infection from vaccination in foot and mouthdisease evaluation of an elisa based on recombinant abc susceptibility susceptibility of different bacterial species isolated from food animals to copper sulphate zinc chloride and antimicrobial substances used for disinfection antimicrobial susceptibility of haemophilus parasuis and histophilus somni from pigs and cattle in denmark comparison of methods for antimicrobial susceptibility testing and mic values for pleuromutilin drugs for brachyspira hyodysenteriae isolated in germany swine comparison of pulsed field gel electrophoresis and repetitive sequence polymerase chain reaction as genotyping methods for detection of genetic diversity and inferring transmission of salmonella procedures for preventing transmission of foot and mouth disease virus taw by people antimicrobial resistance of salmonella isolated from finishing swine and the environment of alberta swine farms comparison of methods for antimicrobial susceptibility testing and mic values for pleuromutilin drugs for brachyspira hyodysenteriae isolated in germany protection of pigs from swine dysentery by vaccination with recombinant bmpb', 'christmas disease national survey biggs and spooner thrombosis with factor ix concentrates in maehm and miller chromosomal variation in man borgaonkar malawista chronic leukaemias galton cimetidine bone marrow toxicity with lopez luque et al james and prout and brady cardia jefferys and vale and brainstem dysfunction cumming and foster and diabetes pomare drug fever with ramboer mcloughlin et al duodenal perforation after hoste et at effect on delayed avella et al jones askenase greaves goodwin rudge et al effect on iron absorption rosner and gastric mucus guslandi gastritis with and candida albicans nicholls and henry and glucose handling jefferys and vale impaired creatine clearance after mcelligott intravenous hypotension after mahon and kolton and kidney transplant rejection primack doherty and mc geown rudge et al charpentier and fries and large bowel function frew long term safety of in maintenance treatment of recurrent peptic ulcer bodemar and walan blackwood et al machell et langman and wormsley northfield and blackwood guslandi in malignant gastric ulcers response to taylor et al clark taylor and menzies gow murray et clioquinol progressive visual loss with derakhshan and forough and subacute myelo optic neuropathy court decision in japan toxicity of animal studies worden and heywood clock biological and seasonality in schizophrenia morgan clomdme inoplate withdrawal gold et clostridium botulinum intestinal infection and toxin production in cot deaths arnon et templeton seasonal variation in beal see also babies co trimoxazole and creatine clearance shouval et zinc and free radical biochemistry education anti smoking health education failure of rawbone and guz education medical health care problems powell history taking havens innovations at newcastle new south wales clarke brooks paulley crawford smith chambers booth barley grant ctaoue smith mair woodall negus greenfield embolism pulmonary long term prognosis embryology human fi rald limb develolopment influence of neurons in and thalidomide stevens veatch exomphalos early diagnosis of gordon et al campbell et ferguson smith et glaucoma close angle with disopyramide trope and hind secondary in chronic uveitis timolol in saari et growth and its disorders marshall primary in paraneoplastic hypercalcaemia drezner and lebovitz pro propranolol in caro and adenoma in large bowel aetiology of hill et al cancer and common macrophage derived promotor substance for salmon and hamburger cholestasis pump failure microvilli defect or both erlinger colitis antimicrobial agent associated aetiology of george et al fungal skin mfections occlusion and carbon dioxide allen and king hypoxia mechanism of pressor response to weir pool priming generation of lymphocytes cytotoxic to tumour or virus infected cells bach et flenley mechanism of pressor response to weir intestine gut hormone profiles besterman et ingham et mycoplasma pneumoniae infecuon with mucocutaneous reactions to lind griffiths swift and stevens myeloma circulating lymphocytes in the spread of warner and krueger myocardial infarction blood sugar in prognosis of burden et national health service administration of stewart pygott musher bradley et omphalocele mercury poisoning from mercurochrome therapy of yeh et pagets disease with mithramycm in veldhuis treatment of veldhuis milhaud hamdy pain dural pain cyriax pre eclampsia and disequilibrium in proteolysis control stark propranolol acute brain syndrome after helson and duque in caro and besarb long term safety of lowdose beta blockade and blood levels after davies et renin big renin in normal plasma hsueh et al inactive protease as endogenous activator of osmond and loh atlas et al suppressed in hypertension dexamethazone treatment of hoefnagels et al reorganised national health service levitt there is risk of thrombosis with thalidomide especially at the initiation of therapy and prophylaxis with heparin warfarin or antiplatelet agents depending on an assessment of the risk may be warranted', 'christmas disease national survey biggs and spooner thrombosis with factor ix concentrates in maehm and miller chromosomal variation in man borgaonkar malawista chronic leukaemias galton cimetidine bone marrow toxicity with lopez luque et al james and prout and brady cardia jefferys and vale and brainstem dysfunction cumming and foster and diabetes pomare drug fever with ramboer mcloughlin et al duodenal perforation after hoste et at effect on delayed avella et al jones askenase greaves goodwin rudge et al effect on iron absorption rosner and gastric mucus guslandi gastritis with and candida albicans nicholls and henry and glucose handling jefferys and vale impaired creatine clearance after mcelligott intravenous hypotension after mahon and kolton and kidney transplant rejection primack doherty and mc geown rudge et al charpentier and fries and large bowel function frew long term safety of in maintenance treatment of recurrent peptic ulcer bodemar and walan blackwood et al machell et langman and wormsley northfield and blackwood guslandi in malignant gastric ulcers response to taylor et al clark taylor and menzies gow murray et clioquinol progressive visual loss with derakhshan and forough and subacute myelo optic neuropathy court decision in japan toxicity of animal studies worden and heywood clock biological and seasonality in schizophrenia morgan clomdme inoplate withdrawal gold et clostridium botulinum intestinal infection and toxin production in cot deaths arnon et templeton seasonal variation in beal see also babies co trimoxazole and creatine clearance shouval et zinc and free radical biochemistry education anti smoking health education failure of rawbone and guz education medical health care problems powell history taking havens innovations at newcastle new south wales clarke brooks paulley crawford smith chambers booth barley grant ctaoue smith mair woodall negus greenfield embolism pulmonary long term prognosis embryology human fi rald limb develolopment influence of neurons in and thalidomide stevens veatch exomphalos early diagnosis of gordon et al campbell et ferguson smith et glaucoma close angle with disopyramide trope and hind secondary in chronic uveitis timolol in saari et growth and its disorders marshall primary in paraneoplastic hypercalcaemia drezner and lebovitz pro propranolol in caro and adenoma in large bowel aetiology of hill et al cancer and common macrophage derived promotor substance for salmon and hamburger cholestasis pump failure microvilli defect or both erlinger colitis antimicrobial agent associated aetiology of george et al fungal skin mfections occlusion and carbon dioxide allen and king hypoxia mechanism of pressor response to weir pool priming generation of lymphocytes cytotoxic to tumour or virus infected cells bach et flenley mechanism of pressor response to weir intestine gut hormone profiles besterman et ingham et mycoplasma pneumoniae infecuon with mucocutaneous reactions to lind griffiths swift and stevens myeloma circulating lymphocytes in the spread of warner and krueger myocardial infarction blood sugar in prognosis of burden et national health service administration of stewart pygott musher bradley et omphalocele mercury poisoning from mercurochrome therapy of yeh et pagets disease with mithramycm in veldhuis treatment of veldhuis milhaud hamdy pain dural pain cyriax pre eclampsia and disequilibrium in proteolysis control stark propranolol acute brain syndrome after helson and duque in caro and besarb long term safety of lowdose beta blockade and blood levels after davies et renin big renin in normal plasma hsueh et al inactive protease as endogenous activator of osmond and loh atlas et al suppressed in hypertension dexamethazone treatment of hoefnagels et al reorganised national health service levitt there are localized destruction and occlusion of the vascular bed of the lungs by intravascular thrombosis and an increment of the anatomical dead space resulting in an increase of arterial carbon dioxide associated with poor outcome', 'christmas disease national survey biggs and spooner thrombosis with factor ix concentrates in maehm and miller chromosomal variation in man borgaonkar malawista chronic leukaemias galton cimetidine bone marrow toxicity with lopez luque et al james and prout and brady cardia jefferys and vale and brainstem dysfunction cumming and foster and diabetes pomare drug fever with ramboer mcloughlin et al duodenal perforation after hoste et at effect on delayed avella et al jones askenase greaves goodwin rudge et al effect on iron absorption rosner and gastric mucus guslandi gastritis with and candida albicans nicholls and henry and glucose handling jefferys and vale impaired creatine clearance after mcelligott intravenous hypotension after mahon and kolton and kidney transplant rejection primack doherty and mc geown rudge et al charpentier and fries and large bowel function frew long term safety of in maintenance treatment of recurrent peptic ulcer bodemar and walan blackwood et al machell et langman and wormsley northfield and blackwood guslandi in malignant gastric ulcers response to taylor et al clark taylor and menzies gow murray et clioquinol progressive visual loss with derakhshan and forough and subacute myelo optic neuropathy court decision in japan toxicity of animal studies worden and heywood clock biological and seasonality in schizophrenia morgan clomdme inoplate withdrawal gold et clostridium botulinum intestinal infection and toxin production in cot deaths arnon et templeton seasonal variation in beal see also babies co trimoxazole and creatine clearance shouval et zinc and free radical biochemistry education anti smoking health education failure of rawbone and guz education medical health care problems powell history taking havens innovations at newcastle new south wales clarke brooks paulley crawford smith chambers booth barley grant ctaoue smith mair woodall negus greenfield embolism pulmonary long term prognosis embryology human fi rald limb develolopment influence of neurons in and thalidomide stevens veatch exomphalos early diagnosis of gordon et al campbell et ferguson smith et glaucoma close angle with disopyramide trope and hind secondary in chronic uveitis timolol in saari et growth and its disorders marshall primary in paraneoplastic hypercalcaemia drezner and lebovitz pro propranolol in caro and adenoma in large bowel aetiology of hill et al cancer and common macrophage derived promotor substance for salmon and hamburger cholestasis pump failure microvilli defect or both erlinger colitis antimicrobial agent associated aetiology of george et al fungal skin mfections occlusion and carbon dioxide allen and king hypoxia mechanism of pressor response to weir pool priming generation of lymphocytes cytotoxic to tumour or virus infected cells bach et flenley mechanism of pressor response to weir intestine gut hormone profiles besterman et ingham et mycoplasma pneumoniae infecuon with mucocutaneous reactions to lind griffiths swift and stevens myeloma circulating lymphocytes in the spread of warner and krueger myocardial infarction blood sugar in prognosis of burden et national health service administration of stewart pygott musher bradley et omphalocele mercury poisoning from mercurochrome therapy of yeh et pagets disease with mithramycm in veldhuis treatment of veldhuis milhaud hamdy pain dural pain cyriax pre eclampsia and disequilibrium in proteolysis control stark propranolol acute brain syndrome after helson and duque in caro and besarb long term safety of lowdose beta blockade and blood levels after davies et renin big renin in normal plasma hsueh et al inactive protease as endogenous activator of osmond and loh atlas et al suppressed in hypertension dexamethazone treatment of hoefnagels et al reorganised national health service levitt there are localized destruction and occlusion of the vascular bed of the lungs by intravascular thrombosis and an increment of the anatomical dead space resulting in an increase of arterial carbon dioxide associated with poor outcome', 'mg dacarbazine iv pws mg vial dacarbazine iv pws mg gefitinib tab mg imatinib mesylate cap mg imatinib mesylate fc tab mg imatinib mesylate tab mg imatinib mesylate tab mg imatinib mesylate tab mg imatinib mesylate tab mg imatinib mesylate tab mg imatinib mesylate tab mg imatinib mesylate tab mg it is important to ensure that the population has the chance to be exposed to influenza and there is sufficient influenza test during the influenza season will be used and potential control samples will be selected from among those who only tested negative for influenza during that influenza season using the first negative test mg dacarbazine iv pws mg vial dacarbazine iv pws mg gefitinib tab mg imatinib mesylate cap mg imatinib mesylate fc tab mg imatinib mesylate tab mg imatinib mesylate tab mg imatinib mesylate tab mg imatinib mesylate tab mg imatinib mesylate tab mg imatinib mesylate tab mg imatinib mesylate tab mg din drug name route of administration strength imatinib mesylate tab mg imatinib mesylate tab mg imatinib mesylate tab mg lapatinib ditosylate tab mg nilotinib cap mg nilotinib cap mg pazopanib hcl tab mg isolates will be considered eligible for inclusion in the analysis if they met all of the following criteria valid phn is recorded the isolate is not from resident of long term care facility the isolate was collected at least four weeks after the initiation of the public influenza vaccination program and the isolate was collected during the influenza season as determined using the method recommended by the who']\n"
     ]
    }
   ],
   "source": [
    "data = []\n",
    "for i in range(len(data_words)):\n",
    "    data.append(detokenize(data_words[i]))\n",
    "print(data[:5])"
   ]
  },
  {
   "cell_type": "code",
   "execution_count": 18,
   "metadata": {},
   "outputs": [],
   "source": [
    "data = np.array(data)"
   ]
  },
  {
   "cell_type": "code",
   "execution_count": 19,
   "metadata": {},
   "outputs": [],
   "source": [
    "labels = np.array(train['manual_label'])\n",
    "y = []\n",
    "for i in range(len(labels)):\n",
    "    if labels[i] == 0:\n",
    "        y.append(0)\n",
    "    if labels[i] == -1:\n",
    "        y.append(1)\n",
    "    if labels[i] == 1:\n",
    "        y.append(2)\n",
    "y = np.array(y)\n",
    "labels = tf.keras.utils.to_categorical(y, 3, dtype=\"float32\")\n",
    "del y"
   ]
  },
  {
   "cell_type": "code",
   "execution_count": 20,
   "metadata": {},
   "outputs": [
    {
     "data": {
      "text/plain": [
       "array([[1., 0., 0.],\n",
       "       [1., 0., 0.],\n",
       "       [1., 0., 0.],\n",
       "       ...,\n",
       "       [0., 0., 1.],\n",
       "       [0., 0., 1.],\n",
       "       [0., 0., 1.]], dtype=float32)"
      ]
     },
     "execution_count": 20,
     "metadata": {},
     "output_type": "execute_result"
    }
   ],
   "source": [
    "labels"
   ]
  },
  {
   "cell_type": "code",
   "execution_count": 21,
   "metadata": {},
   "outputs": [
    {
     "data": {
      "text/plain": [
       "790"
      ]
     },
     "execution_count": 21,
     "metadata": {},
     "output_type": "execute_result"
    }
   ],
   "source": [
    "len(labels)"
   ]
  },
  {
   "cell_type": "code",
   "execution_count": 22,
   "metadata": {},
   "outputs": [
    {
     "name": "stdout",
     "output_type": "stream",
     "text": [
      "[[   0    0    0 ...    5  401 2741]\n",
      " [   0    0    0 ...   46   23 2742]\n",
      " [   0    0    0 ...    5 1712  286]\n",
      " ...\n",
      " [   0    0    0 ...    1 1456  551]\n",
      " [   0    0    0 ... 2536  556 1311]\n",
      " [   0    0    0 ...   89    6   11]]\n"
     ]
    }
   ],
   "source": [
    "from keras.models import Sequential\n",
    "from keras import layers\n",
    "from tensorflow.keras.optimizers import RMSprop, Adam\n",
    "from keras.preprocessing.text import Tokenizer\n",
    "from keras.preprocessing.sequence import pad_sequences\n",
    "from keras import regularizers\n",
    "from keras import backend as K\n",
    "from keras.callbacks import ModelCheckpoint\n",
    "max_words = 50000\n",
    "max_len = 200\n",
    "\n",
    "#tokenizer = Tokenizer(num_words=max_words)\n",
    "tokenizer = Tokenizer()\n",
    "tokenizer.fit_on_texts(data)\n",
    "sequences = tokenizer.texts_to_sequences(data)\n",
    "#sentences = pad_sequences(sequences, maxlen=max_len)\n",
    "sentences = pad_sequences(sequences)\n",
    "print(sentences)"
   ]
  },
  {
   "cell_type": "code",
   "execution_count": 23,
   "metadata": {},
   "outputs": [
    {
     "name": "stdout",
     "output_type": "stream",
     "text": [
      "[[1. 0. 0.]\n",
      " [1. 0. 0.]\n",
      " [1. 0. 0.]\n",
      " ...\n",
      " [0. 0. 1.]\n",
      " [0. 0. 1.]\n",
      " [0. 0. 1.]]\n"
     ]
    }
   ],
   "source": [
    "print(labels)"
   ]
  },
  {
   "cell_type": "code",
   "execution_count": 24,
   "metadata": {},
   "outputs": [
    {
     "name": "stdout",
     "output_type": "stream",
     "text": [
      "592 198 592 198\n"
     ]
    }
   ],
   "source": [
    "#Splitting the data\n",
    "X_train, X_test, y_train, y_test = train_test_split(sentences,labels, random_state=0)\n",
    "print (len(X_train),len(X_test),len(y_train),len(y_test))"
   ]
  },
  {
   "cell_type": "code",
   "execution_count": 80,
   "metadata": {},
   "outputs": [
    {
     "data": {
      "text/plain": [
       "({0.0: 2.330383480825959, 1.0: 1.266025641025641},)"
      ]
     },
     "execution_count": 80,
     "metadata": {},
     "output_type": "execute_result"
    }
   ],
   "source": [
    "from sklearn.utils.class_weight import compute_class_weight\n",
    "\n",
    "class_weights = compute_class_weight(\n",
    "                                        class_weight = \"balanced\",\n",
    "                                        classes = np.unique(train['manual_label']),\n",
    "                                        y = train['manual_label']                                                    \n",
    "                                    )\n",
    "class_weights = dict(zip(np.unique(labels), class_weights)),\n",
    "class_weights"
   ]
  },
  {
   "cell_type": "code",
   "execution_count": 81,
   "metadata": {},
   "outputs": [
    {
     "data": {
      "text/plain": [
       "array([-1.,  0.,  1.])"
      ]
     },
     "execution_count": 81,
     "metadata": {},
     "output_type": "execute_result"
    }
   ],
   "source": [
    "train.manual_label.value_counts()\n",
    "np.unique(train.manual_label)"
   ]
  },
  {
   "cell_type": "code",
   "execution_count": 82,
   "metadata": {},
   "outputs": [
    {
     "name": "stdout",
     "output_type": "stream",
     "text": [
      "WARNING:tensorflow:`period` argument is deprecated. Please use `save_freq` to specify the frequency in number of batches seen.\n",
      "Epoch 1/70\n",
      "19/19 [==============================] - 6s 247ms/step - loss: 1.7382 - accuracy: 0.5895 - val_loss: 0.9291 - val_accuracy: 0.5859\n",
      "\n",
      "Epoch 00001: val_accuracy improved from -inf to 0.58586, saving model to best_model1.hdf5\n",
      "Epoch 2/70\n",
      "19/19 [==============================] - 4s 234ms/step - loss: 1.1983 - accuracy: 0.5963 - val_loss: 0.9932 - val_accuracy: 0.5859\n",
      "\n",
      "Epoch 00002: val_accuracy did not improve from 0.58586\n",
      "Epoch 3/70\n",
      "19/19 [==============================] - 4s 237ms/step - loss: 1.1487 - accuracy: 0.5963 - val_loss: 1.0301 - val_accuracy: 0.5859\n",
      "\n",
      "Epoch 00003: val_accuracy did not improve from 0.58586\n",
      "Epoch 4/70\n",
      "19/19 [==============================] - 4s 234ms/step - loss: 1.1385 - accuracy: 0.5963 - val_loss: 0.9599 - val_accuracy: 0.5859\n",
      "\n",
      "Epoch 00004: val_accuracy did not improve from 0.58586\n",
      "Epoch 5/70\n",
      "19/19 [==============================] - 4s 231ms/step - loss: 1.1044 - accuracy: 0.5963 - val_loss: 0.9566 - val_accuracy: 0.5859\n",
      "\n",
      "Epoch 00005: val_accuracy did not improve from 0.58586\n",
      "Epoch 6/70\n",
      "19/19 [==============================] - 4s 237ms/step - loss: 1.0248 - accuracy: 0.5963 - val_loss: 1.0114 - val_accuracy: 0.5859\n",
      "\n",
      "Epoch 00006: val_accuracy did not improve from 0.58586\n",
      "Epoch 7/70\n",
      "19/19 [==============================] - 5s 239ms/step - loss: 0.9120 - accuracy: 0.5963 - val_loss: 0.9112 - val_accuracy: 0.5859\n",
      "\n",
      "Epoch 00007: val_accuracy did not improve from 0.58586\n",
      "Epoch 8/70\n",
      "19/19 [==============================] - 4s 231ms/step - loss: 0.8004 - accuracy: 0.6064 - val_loss: 1.0950 - val_accuracy: 0.5859\n",
      "\n",
      "Epoch 00008: val_accuracy did not improve from 0.58586\n",
      "Epoch 9/70\n",
      "19/19 [==============================] - 4s 233ms/step - loss: 0.7265 - accuracy: 0.6334 - val_loss: 0.9115 - val_accuracy: 0.6010\n",
      "\n",
      "Epoch 00009: val_accuracy improved from 0.58586 to 0.60101, saving model to best_model1.hdf5\n",
      "Epoch 10/70\n",
      "19/19 [==============================] - 4s 236ms/step - loss: 0.6653 - accuracy: 0.6757 - val_loss: 0.9327 - val_accuracy: 0.6010\n",
      "\n",
      "Epoch 00010: val_accuracy did not improve from 0.60101\n",
      "Epoch 11/70\n",
      "19/19 [==============================] - 4s 232ms/step - loss: 0.5876 - accuracy: 0.7145 - val_loss: 1.0016 - val_accuracy: 0.6111\n",
      "\n",
      "Epoch 00011: val_accuracy improved from 0.60101 to 0.61111, saving model to best_model1.hdf5\n",
      "Epoch 12/70\n",
      "19/19 [==============================] - 4s 235ms/step - loss: 0.5540 - accuracy: 0.7517 - val_loss: 0.9486 - val_accuracy: 0.6111\n",
      "\n",
      "Epoch 00012: val_accuracy did not improve from 0.61111\n",
      "Epoch 13/70\n",
      "19/19 [==============================] - 4s 237ms/step - loss: 0.5088 - accuracy: 0.7821 - val_loss: 1.2342 - val_accuracy: 0.6162\n",
      "\n",
      "Epoch 00013: val_accuracy improved from 0.61111 to 0.61616, saving model to best_model1.hdf5\n",
      "Epoch 14/70\n",
      "19/19 [==============================] - 4s 235ms/step - loss: 0.4700 - accuracy: 0.7956 - val_loss: 1.0346 - val_accuracy: 0.6313\n",
      "\n",
      "Epoch 00014: val_accuracy improved from 0.61616 to 0.63131, saving model to best_model1.hdf5\n",
      "Epoch 15/70\n",
      "19/19 [==============================] - 4s 234ms/step - loss: 0.4252 - accuracy: 0.8193 - val_loss: 0.9494 - val_accuracy: 0.6313\n",
      "\n",
      "Epoch 00015: val_accuracy did not improve from 0.63131\n",
      "Epoch 16/70\n",
      "19/19 [==============================] - 4s 236ms/step - loss: 0.3978 - accuracy: 0.8243 - val_loss: 1.0448 - val_accuracy: 0.6212\n",
      "\n",
      "Epoch 00016: val_accuracy did not improve from 0.63131\n",
      "Epoch 17/70\n",
      "19/19 [==============================] - 4s 233ms/step - loss: 0.3632 - accuracy: 0.8361 - val_loss: 1.0425 - val_accuracy: 0.6313\n",
      "\n",
      "Epoch 00017: val_accuracy did not improve from 0.63131\n",
      "Epoch 18/70\n",
      "19/19 [==============================] - 4s 236ms/step - loss: 0.3421 - accuracy: 0.8311 - val_loss: 1.0105 - val_accuracy: 0.6212\n",
      "\n",
      "Epoch 00018: val_accuracy did not improve from 0.63131\n",
      "Epoch 19/70\n",
      "19/19 [==============================] - 4s 232ms/step - loss: 0.3180 - accuracy: 0.8361 - val_loss: 0.9814 - val_accuracy: 0.6162\n",
      "\n",
      "Epoch 00019: val_accuracy did not improve from 0.63131\n",
      "Epoch 20/70\n",
      "19/19 [==============================] - 4s 232ms/step - loss: 0.3237 - accuracy: 0.8311 - val_loss: 1.0002 - val_accuracy: 0.6061\n",
      "\n",
      "Epoch 00020: val_accuracy did not improve from 0.63131\n",
      "Epoch 21/70\n",
      "19/19 [==============================] - 4s 233ms/step - loss: 0.2768 - accuracy: 0.8378 - val_loss: 1.0253 - val_accuracy: 0.6162\n",
      "\n",
      "Epoch 00021: val_accuracy did not improve from 0.63131\n",
      "Epoch 22/70\n",
      "19/19 [==============================] - 4s 233ms/step - loss: 0.2664 - accuracy: 0.8378 - val_loss: 1.2900 - val_accuracy: 0.6111\n",
      "\n",
      "Epoch 00022: val_accuracy did not improve from 0.63131\n",
      "Epoch 23/70\n",
      "19/19 [==============================] - 4s 233ms/step - loss: 0.2995 - accuracy: 0.8311 - val_loss: 1.1506 - val_accuracy: 0.6162\n",
      "\n",
      "Epoch 00023: val_accuracy did not improve from 0.63131\n",
      "Epoch 24/70\n",
      "19/19 [==============================] - 4s 237ms/step - loss: 0.2389 - accuracy: 0.8429 - val_loss: 1.1335 - val_accuracy: 0.5960\n",
      "\n",
      "Epoch 00024: val_accuracy did not improve from 0.63131\n",
      "Epoch 25/70\n",
      "19/19 [==============================] - 4s 233ms/step - loss: 0.2208 - accuracy: 0.8429 - val_loss: 1.2241 - val_accuracy: 0.6263\n",
      "\n",
      "Epoch 00025: val_accuracy did not improve from 0.63131\n",
      "Epoch 26/70\n",
      "19/19 [==============================] - 4s 235ms/step - loss: 0.2361 - accuracy: 0.8395 - val_loss: 1.1597 - val_accuracy: 0.6061\n",
      "\n",
      "Epoch 00026: val_accuracy did not improve from 0.63131\n",
      "Epoch 27/70\n",
      "19/19 [==============================] - 4s 234ms/step - loss: 0.2010 - accuracy: 0.8480 - val_loss: 1.2393 - val_accuracy: 0.6263\n",
      "\n",
      "Epoch 00027: val_accuracy did not improve from 0.63131\n",
      "Epoch 28/70\n",
      "19/19 [==============================] - 4s 232ms/step - loss: 0.2171 - accuracy: 0.8446 - val_loss: 1.1508 - val_accuracy: 0.5909\n",
      "\n",
      "Epoch 00028: val_accuracy did not improve from 0.63131\n",
      "Epoch 29/70\n",
      "19/19 [==============================] - 4s 233ms/step - loss: 0.1854 - accuracy: 0.8530 - val_loss: 1.2338 - val_accuracy: 0.6212\n",
      "\n",
      "Epoch 00029: val_accuracy did not improve from 0.63131\n",
      "Epoch 30/70\n",
      "19/19 [==============================] - 4s 235ms/step - loss: 0.1602 - accuracy: 0.8598 - val_loss: 1.2005 - val_accuracy: 0.5808\n",
      "\n",
      "Epoch 00030: val_accuracy did not improve from 0.63131\n",
      "Epoch 31/70\n",
      "19/19 [==============================] - 4s 234ms/step - loss: 0.1523 - accuracy: 0.9003 - val_loss: 1.2806 - val_accuracy: 0.6212\n",
      "\n",
      "Epoch 00031: val_accuracy did not improve from 0.63131\n",
      "Epoch 32/70\n",
      "19/19 [==============================] - 4s 233ms/step - loss: 0.1339 - accuracy: 0.9223 - val_loss: 1.3258 - val_accuracy: 0.6465\n",
      "\n",
      "Epoch 00032: val_accuracy improved from 0.63131 to 0.64646, saving model to best_model1.hdf5\n",
      "Epoch 33/70\n",
      "19/19 [==============================] - 4s 235ms/step - loss: 0.1175 - accuracy: 0.9409 - val_loss: 1.2757 - val_accuracy: 0.6162\n",
      "\n",
      "Epoch 00033: val_accuracy did not improve from 0.64646\n",
      "Epoch 34/70\n",
      "19/19 [==============================] - 4s 233ms/step - loss: 0.1077 - accuracy: 0.9645 - val_loss: 1.3112 - val_accuracy: 0.5707\n",
      "\n",
      "Epoch 00034: val_accuracy did not improve from 0.64646\n",
      "Epoch 35/70\n",
      "19/19 [==============================] - 4s 233ms/step - loss: 0.0949 - accuracy: 0.9696 - val_loss: 1.6525 - val_accuracy: 0.6364\n",
      "\n",
      "Epoch 00035: val_accuracy did not improve from 0.64646\n",
      "Epoch 36/70\n",
      "19/19 [==============================] - 4s 233ms/step - loss: 0.0984 - accuracy: 0.9679 - val_loss: 1.6960 - val_accuracy: 0.6515\n",
      "\n",
      "Epoch 00036: val_accuracy improved from 0.64646 to 0.65152, saving model to best_model1.hdf5\n",
      "Epoch 37/70\n",
      "19/19 [==============================] - 4s 236ms/step - loss: 0.0792 - accuracy: 0.9899 - val_loss: 1.3510 - val_accuracy: 0.6364\n",
      "\n",
      "Epoch 00037: val_accuracy did not improve from 0.65152\n",
      "Epoch 38/70\n",
      "19/19 [==============================] - 4s 234ms/step - loss: 0.0754 - accuracy: 0.9882 - val_loss: 1.4160 - val_accuracy: 0.6212\n",
      "\n",
      "Epoch 00038: val_accuracy did not improve from 0.65152\n",
      "Epoch 39/70\n",
      "19/19 [==============================] - 4s 235ms/step - loss: 0.0582 - accuracy: 0.9932 - val_loss: 1.5785 - val_accuracy: 0.6465\n",
      "\n",
      "Epoch 00039: val_accuracy did not improve from 0.65152\n",
      "Epoch 40/70\n",
      "19/19 [==============================] - 4s 231ms/step - loss: 0.0573 - accuracy: 0.9916 - val_loss: 1.5415 - val_accuracy: 0.6364\n",
      "\n",
      "Epoch 00040: val_accuracy did not improve from 0.65152\n",
      "Epoch 41/70\n",
      "19/19 [==============================] - 4s 234ms/step - loss: 0.0536 - accuracy: 0.9899 - val_loss: 1.5196 - val_accuracy: 0.6364\n",
      "\n",
      "Epoch 00041: val_accuracy did not improve from 0.65152\n",
      "Epoch 42/70\n",
      "19/19 [==============================] - 4s 233ms/step - loss: 0.0481 - accuracy: 0.9916 - val_loss: 1.4801 - val_accuracy: 0.6313\n",
      "\n",
      "Epoch 00042: val_accuracy did not improve from 0.65152\n",
      "Epoch 43/70\n",
      "19/19 [==============================] - 4s 232ms/step - loss: 0.0297 - accuracy: 0.9966 - val_loss: 1.6667 - val_accuracy: 0.6313\n",
      "\n",
      "Epoch 00043: val_accuracy did not improve from 0.65152\n",
      "Epoch 44/70\n",
      "19/19 [==============================] - 4s 233ms/step - loss: 0.0342 - accuracy: 0.9932 - val_loss: 1.5910 - val_accuracy: 0.6212\n",
      "\n",
      "Epoch 00044: val_accuracy did not improve from 0.65152\n",
      "Epoch 45/70\n",
      "19/19 [==============================] - 4s 234ms/step - loss: 0.0262 - accuracy: 0.9966 - val_loss: 1.7032 - val_accuracy: 0.6313\n",
      "\n",
      "Epoch 00045: val_accuracy did not improve from 0.65152\n",
      "Epoch 46/70\n",
      "19/19 [==============================] - 4s 234ms/step - loss: 0.0293 - accuracy: 0.9932 - val_loss: 1.7241 - val_accuracy: 0.6465\n",
      "\n",
      "Epoch 00046: val_accuracy did not improve from 0.65152\n",
      "Epoch 47/70\n",
      "19/19 [==============================] - 4s 237ms/step - loss: 0.0227 - accuracy: 0.9983 - val_loss: 1.7133 - val_accuracy: 0.5707\n",
      "\n",
      "Epoch 00047: val_accuracy did not improve from 0.65152\n",
      "Epoch 48/70\n",
      "19/19 [==============================] - 4s 234ms/step - loss: 0.0261 - accuracy: 0.9949 - val_loss: 1.9125 - val_accuracy: 0.6616\n",
      "\n",
      "Epoch 00048: val_accuracy improved from 0.65152 to 0.66162, saving model to best_model1.hdf5\n",
      "Epoch 49/70\n",
      "19/19 [==============================] - 4s 234ms/step - loss: 0.0247 - accuracy: 0.9983 - val_loss: 1.7990 - val_accuracy: 0.6212\n",
      "\n",
      "Epoch 00049: val_accuracy did not improve from 0.66162\n",
      "Epoch 50/70\n",
      "19/19 [==============================] - 4s 234ms/step - loss: 0.0161 - accuracy: 0.9983 - val_loss: 1.8298 - val_accuracy: 0.6313\n",
      "\n",
      "Epoch 00050: val_accuracy did not improve from 0.66162\n",
      "Epoch 51/70\n",
      "19/19 [==============================] - 4s 233ms/step - loss: 0.0267 - accuracy: 0.9932 - val_loss: 1.8275 - val_accuracy: 0.6010\n",
      "\n",
      "Epoch 00051: val_accuracy did not improve from 0.66162\n",
      "Epoch 52/70\n",
      "19/19 [==============================] - 4s 233ms/step - loss: 0.0123 - accuracy: 0.9983 - val_loss: 1.8903 - val_accuracy: 0.5960\n",
      "\n",
      "Epoch 00052: val_accuracy did not improve from 0.66162\n",
      "Epoch 53/70\n",
      "19/19 [==============================] - 4s 230ms/step - loss: 0.0284 - accuracy: 0.9966 - val_loss: 1.8943 - val_accuracy: 0.6162\n",
      "\n",
      "Epoch 00053: val_accuracy did not improve from 0.66162\n",
      "Epoch 54/70\n",
      "19/19 [==============================] - 4s 233ms/step - loss: 0.0191 - accuracy: 0.9949 - val_loss: 1.9485 - val_accuracy: 0.6364\n",
      "\n",
      "Epoch 00054: val_accuracy did not improve from 0.66162\n",
      "Epoch 55/70\n",
      "19/19 [==============================] - 4s 235ms/step - loss: 0.0141 - accuracy: 0.9966 - val_loss: 2.0910 - val_accuracy: 0.5909\n",
      "\n",
      "Epoch 00055: val_accuracy did not improve from 0.66162\n",
      "Epoch 56/70\n",
      "19/19 [==============================] - 4s 234ms/step - loss: 0.0123 - accuracy: 0.9966 - val_loss: 1.8591 - val_accuracy: 0.5960\n",
      "\n",
      "Epoch 00056: val_accuracy did not improve from 0.66162\n",
      "Epoch 57/70\n",
      "19/19 [==============================] - 4s 235ms/step - loss: 0.0111 - accuracy: 0.9983 - val_loss: 2.1136 - val_accuracy: 0.5859\n",
      "\n",
      "Epoch 00057: val_accuracy did not improve from 0.66162\n",
      "Epoch 58/70\n",
      "19/19 [==============================] - 4s 233ms/step - loss: 0.0137 - accuracy: 0.9983 - val_loss: 1.9826 - val_accuracy: 0.5808\n",
      "\n",
      "Epoch 00058: val_accuracy did not improve from 0.66162\n",
      "Epoch 59/70\n",
      "19/19 [==============================] - 4s 236ms/step - loss: 0.0224 - accuracy: 0.9949 - val_loss: 2.1460 - val_accuracy: 0.5606\n",
      "\n",
      "Epoch 00059: val_accuracy did not improve from 0.66162\n",
      "Epoch 60/70\n",
      "19/19 [==============================] - 4s 232ms/step - loss: 0.0128 - accuracy: 0.9966 - val_loss: 2.0681 - val_accuracy: 0.6212\n",
      "\n",
      "Epoch 00060: val_accuracy did not improve from 0.66162\n",
      "Epoch 61/70\n",
      "19/19 [==============================] - 4s 230ms/step - loss: 0.0177 - accuracy: 0.9966 - val_loss: 1.9874 - val_accuracy: 0.5808\n",
      "\n",
      "Epoch 00061: val_accuracy did not improve from 0.66162\n",
      "Epoch 62/70\n",
      "19/19 [==============================] - 4s 232ms/step - loss: 0.0136 - accuracy: 0.9983 - val_loss: 1.9904 - val_accuracy: 0.5758\n",
      "\n",
      "Epoch 00062: val_accuracy did not improve from 0.66162\n",
      "Epoch 63/70\n",
      "19/19 [==============================] - 4s 233ms/step - loss: 0.0114 - accuracy: 0.9983 - val_loss: 2.0769 - val_accuracy: 0.5909\n",
      "\n",
      "Epoch 00063: val_accuracy did not improve from 0.66162\n",
      "Epoch 64/70\n",
      "19/19 [==============================] - 4s 234ms/step - loss: 0.0157 - accuracy: 0.9966 - val_loss: 2.1055 - val_accuracy: 0.6212\n",
      "\n",
      "Epoch 00064: val_accuracy did not improve from 0.66162\n",
      "Epoch 65/70\n",
      "19/19 [==============================] - 4s 237ms/step - loss: 0.0092 - accuracy: 0.9983 - val_loss: 2.1042 - val_accuracy: 0.6010\n",
      "\n",
      "Epoch 00065: val_accuracy did not improve from 0.66162\n",
      "Epoch 66/70\n",
      "19/19 [==============================] - 4s 236ms/step - loss: 0.0105 - accuracy: 0.9966 - val_loss: 2.2815 - val_accuracy: 0.5859\n",
      "\n",
      "Epoch 00066: val_accuracy did not improve from 0.66162\n",
      "Epoch 67/70\n",
      "19/19 [==============================] - 4s 233ms/step - loss: 0.0074 - accuracy: 0.9983 - val_loss: 2.1731 - val_accuracy: 0.5505\n",
      "\n",
      "Epoch 00067: val_accuracy did not improve from 0.66162\n",
      "Epoch 68/70\n",
      "19/19 [==============================] - 4s 235ms/step - loss: 0.0146 - accuracy: 0.9966 - val_loss: 2.1030 - val_accuracy: 0.6010\n",
      "\n",
      "Epoch 00068: val_accuracy did not improve from 0.66162\n",
      "Epoch 69/70\n",
      "19/19 [==============================] - 4s 234ms/step - loss: 0.0132 - accuracy: 0.9983 - val_loss: 2.0683 - val_accuracy: 0.6010\n",
      "\n",
      "Epoch 00069: val_accuracy did not improve from 0.66162\n",
      "Epoch 70/70\n",
      "19/19 [==============================] - 4s 230ms/step - loss: 0.0090 - accuracy: 0.9983 - val_loss: 2.2773 - val_accuracy: 0.5758\n",
      "\n",
      "Epoch 00070: val_accuracy did not improve from 0.66162\n"
     ]
    }
   ],
   "source": [
    "model1 = Sequential()\n",
    "model1.add(layers.Embedding(max_words, 20))\n",
    "model1.add(layers.LSTM(15,dropout=0.5))\n",
    "model1.add(layers.Dense(3,activation='softmax'))\n",
    "\n",
    "\n",
    "model1.compile(optimizer='rmsprop',loss='categorical_crossentropy', metrics=['accuracy'])\n",
    "#Implementing model checkpoins to save the best metric and do not lose it on training.\n",
    "checkpoint1 = ModelCheckpoint(\"best_model1.hdf5\", monitor='val_accuracy', verbose=1,save_best_only=True, mode='auto', period=1,save_weights_only=False)\n",
    "history = model1.fit(X_train, y_train, epochs=70,validation_data=(X_test, y_test),callbacks=[checkpoint1], class_weight={0: 1.266025641025641, 1: 0.5614783226723525, 2: 2.330383480825959})"
   ]
  },
  {
   "cell_type": "code",
   "execution_count": 83,
   "metadata": {},
   "outputs": [
    {
     "name": "stdout",
     "output_type": "stream",
     "text": [
      "WARNING:tensorflow:`period` argument is deprecated. Please use `save_freq` to specify the frequency in number of batches seen.\n",
      "Epoch 1/70\n",
      "19/19 [==============================] - 8s 311ms/step - loss: 1.4922 - accuracy: 0.5980 - val_loss: 1.0194 - val_accuracy: 0.5859\n",
      "\n",
      "Epoch 00001: val_accuracy improved from -inf to 0.58586, saving model to best_model2.hdf5\n",
      "Epoch 2/70\n",
      "19/19 [==============================] - 5s 278ms/step - loss: 1.1566 - accuracy: 0.5963 - val_loss: 1.1100 - val_accuracy: 0.5859\n",
      "\n",
      "Epoch 00002: val_accuracy did not improve from 0.58586\n",
      "Epoch 3/70\n",
      "19/19 [==============================] - 5s 277ms/step - loss: 1.1269 - accuracy: 0.5963 - val_loss: 0.9886 - val_accuracy: 0.5859\n",
      "\n",
      "Epoch 00003: val_accuracy did not improve from 0.58586\n",
      "Epoch 4/70\n",
      "19/19 [==============================] - 5s 277ms/step - loss: 1.0492 - accuracy: 0.5963 - val_loss: 0.9573 - val_accuracy: 0.5859\n",
      "\n",
      "Epoch 00004: val_accuracy did not improve from 0.58586\n",
      "Epoch 5/70\n",
      "19/19 [==============================] - 5s 273ms/step - loss: 0.9377 - accuracy: 0.5963 - val_loss: 0.9846 - val_accuracy: 0.5859\n",
      "\n",
      "Epoch 00005: val_accuracy did not improve from 0.58586\n",
      "Epoch 6/70\n",
      "19/19 [==============================] - 5s 274ms/step - loss: 0.8484 - accuracy: 0.5997 - val_loss: 1.0368 - val_accuracy: 0.5859\n",
      "\n",
      "Epoch 00006: val_accuracy did not improve from 0.58586\n",
      "Epoch 7/70\n",
      "19/19 [==============================] - 5s 275ms/step - loss: 0.7562 - accuracy: 0.6622 - val_loss: 1.0196 - val_accuracy: 0.6111\n",
      "\n",
      "Epoch 00007: val_accuracy improved from 0.58586 to 0.61111, saving model to best_model2.hdf5\n",
      "Epoch 8/70\n",
      "19/19 [==============================] - 5s 275ms/step - loss: 0.6441 - accuracy: 0.7500 - val_loss: 0.9229 - val_accuracy: 0.6414\n",
      "\n",
      "Epoch 00008: val_accuracy improved from 0.61111 to 0.64141, saving model to best_model2.hdf5\n",
      "Epoch 9/70\n",
      "19/19 [==============================] - 5s 276ms/step - loss: 0.5427 - accuracy: 0.7922 - val_loss: 1.0435 - val_accuracy: 0.6616\n",
      "\n",
      "Epoch 00009: val_accuracy improved from 0.64141 to 0.66162, saving model to best_model2.hdf5\n",
      "Epoch 10/70\n",
      "19/19 [==============================] - 5s 277ms/step - loss: 0.4829 - accuracy: 0.8024 - val_loss: 0.9424 - val_accuracy: 0.6667\n",
      "\n",
      "Epoch 00010: val_accuracy improved from 0.66162 to 0.66667, saving model to best_model2.hdf5\n",
      "Epoch 11/70\n",
      "19/19 [==============================] - 5s 276ms/step - loss: 0.4359 - accuracy: 0.8142 - val_loss: 0.9363 - val_accuracy: 0.6364\n",
      "\n",
      "Epoch 00011: val_accuracy did not improve from 0.66667\n",
      "Epoch 12/70\n",
      "19/19 [==============================] - 5s 277ms/step - loss: 0.3901 - accuracy: 0.8193 - val_loss: 0.9955 - val_accuracy: 0.6566\n",
      "\n",
      "Epoch 00012: val_accuracy did not improve from 0.66667\n",
      "Epoch 13/70\n",
      "19/19 [==============================] - 5s 277ms/step - loss: 0.3504 - accuracy: 0.8294 - val_loss: 1.0216 - val_accuracy: 0.6465\n",
      "\n",
      "Epoch 00013: val_accuracy did not improve from 0.66667\n",
      "Epoch 14/70\n",
      "19/19 [==============================] - 5s 277ms/step - loss: 0.3652 - accuracy: 0.8226 - val_loss: 1.0464 - val_accuracy: 0.6515\n",
      "\n",
      "Epoch 00014: val_accuracy did not improve from 0.66667\n",
      "Epoch 15/70\n",
      "19/19 [==============================] - 5s 276ms/step - loss: 0.3003 - accuracy: 0.8361 - val_loss: 1.0450 - val_accuracy: 0.6364\n",
      "\n",
      "Epoch 00015: val_accuracy did not improve from 0.66667\n",
      "Epoch 16/70\n",
      "19/19 [==============================] - 5s 276ms/step - loss: 0.2810 - accuracy: 0.8378 - val_loss: 1.0803 - val_accuracy: 0.6414\n",
      "\n",
      "Epoch 00016: val_accuracy did not improve from 0.66667\n",
      "Epoch 17/70\n",
      "19/19 [==============================] - 5s 276ms/step - loss: 0.2641 - accuracy: 0.8412 - val_loss: 1.2612 - val_accuracy: 0.6667\n",
      "\n",
      "Epoch 00017: val_accuracy did not improve from 0.66667\n",
      "Epoch 18/70\n",
      "19/19 [==============================] - 5s 274ms/step - loss: 0.2841 - accuracy: 0.8361 - val_loss: 1.1561 - val_accuracy: 0.6414\n",
      "\n",
      "Epoch 00018: val_accuracy did not improve from 0.66667\n",
      "Epoch 19/70\n",
      "19/19 [==============================] - 5s 276ms/step - loss: 0.2445 - accuracy: 0.8429 - val_loss: 1.2135 - val_accuracy: 0.6414\n",
      "\n",
      "Epoch 00019: val_accuracy did not improve from 0.66667\n",
      "Epoch 20/70\n",
      "19/19 [==============================] - 5s 276ms/step - loss: 0.2664 - accuracy: 0.8345 - val_loss: 1.2931 - val_accuracy: 0.6515\n",
      "\n",
      "Epoch 00020: val_accuracy did not improve from 0.66667\n",
      "Epoch 21/70\n",
      "19/19 [==============================] - 5s 275ms/step - loss: 0.2363 - accuracy: 0.8412 - val_loss: 1.2166 - val_accuracy: 0.6263\n",
      "\n",
      "Epoch 00021: val_accuracy did not improve from 0.66667\n",
      "Epoch 22/70\n",
      "19/19 [==============================] - 5s 276ms/step - loss: 0.2451 - accuracy: 0.8395 - val_loss: 1.2627 - val_accuracy: 0.6465\n",
      "\n",
      "Epoch 00022: val_accuracy did not improve from 0.66667\n",
      "Epoch 23/70\n",
      "19/19 [==============================] - 5s 276ms/step - loss: 0.2331 - accuracy: 0.8412 - val_loss: 1.3985 - val_accuracy: 0.6616\n",
      "\n",
      "Epoch 00023: val_accuracy did not improve from 0.66667\n",
      "Epoch 24/70\n",
      "19/19 [==============================] - 5s 278ms/step - loss: 0.2107 - accuracy: 0.8463 - val_loss: 1.3205 - val_accuracy: 0.6364\n",
      "\n",
      "Epoch 00024: val_accuracy did not improve from 0.66667\n",
      "Epoch 25/70\n",
      "19/19 [==============================] - 5s 276ms/step - loss: 0.2028 - accuracy: 0.8564 - val_loss: 1.3052 - val_accuracy: 0.6162\n",
      "\n",
      "Epoch 00025: val_accuracy did not improve from 0.66667\n",
      "Epoch 26/70\n",
      "19/19 [==============================] - 5s 275ms/step - loss: 0.1778 - accuracy: 0.8784 - val_loss: 1.4376 - val_accuracy: 0.6111\n",
      "\n",
      "Epoch 00026: val_accuracy did not improve from 0.66667\n",
      "Epoch 27/70\n",
      "19/19 [==============================] - 5s 278ms/step - loss: 0.1662 - accuracy: 0.9172 - val_loss: 1.7082 - val_accuracy: 0.6263\n",
      "\n",
      "Epoch 00027: val_accuracy did not improve from 0.66667\n",
      "Epoch 28/70\n",
      "19/19 [==============================] - 5s 276ms/step - loss: 0.1386 - accuracy: 0.9324 - val_loss: 1.5257 - val_accuracy: 0.5808\n",
      "\n",
      "Epoch 00028: val_accuracy did not improve from 0.66667\n",
      "Epoch 29/70\n",
      "19/19 [==============================] - 5s 275ms/step - loss: 0.1314 - accuracy: 0.9426 - val_loss: 1.5058 - val_accuracy: 0.6061\n",
      "\n",
      "Epoch 00029: val_accuracy did not improve from 0.66667\n",
      "Epoch 30/70\n",
      "19/19 [==============================] - 5s 277ms/step - loss: 0.1247 - accuracy: 0.9459 - val_loss: 1.7323 - val_accuracy: 0.5808\n",
      "\n",
      "Epoch 00030: val_accuracy did not improve from 0.66667\n",
      "Epoch 31/70\n",
      "19/19 [==============================] - 5s 275ms/step - loss: 0.1124 - accuracy: 0.9611 - val_loss: 1.7061 - val_accuracy: 0.5253\n",
      "\n",
      "Epoch 00031: val_accuracy did not improve from 0.66667\n",
      "Epoch 32/70\n",
      "19/19 [==============================] - 5s 278ms/step - loss: 0.1193 - accuracy: 0.9561 - val_loss: 1.7049 - val_accuracy: 0.5657\n",
      "\n",
      "Epoch 00032: val_accuracy did not improve from 0.66667\n",
      "Epoch 33/70\n",
      "19/19 [==============================] - 5s 278ms/step - loss: 0.0921 - accuracy: 0.9662 - val_loss: 1.6857 - val_accuracy: 0.5455\n",
      "\n",
      "Epoch 00033: val_accuracy did not improve from 0.66667\n",
      "Epoch 34/70\n",
      "19/19 [==============================] - 5s 279ms/step - loss: 0.0873 - accuracy: 0.9797 - val_loss: 1.6802 - val_accuracy: 0.5404\n",
      "\n",
      "Epoch 00034: val_accuracy did not improve from 0.66667\n",
      "Epoch 35/70\n",
      "19/19 [==============================] - 5s 276ms/step - loss: 0.0779 - accuracy: 0.9747 - val_loss: 1.7863 - val_accuracy: 0.5455\n",
      "\n",
      "Epoch 00035: val_accuracy did not improve from 0.66667\n",
      "Epoch 36/70\n",
      "19/19 [==============================] - 5s 278ms/step - loss: 0.0620 - accuracy: 0.9814 - val_loss: 1.7834 - val_accuracy: 0.4798\n",
      "\n",
      "Epoch 00036: val_accuracy did not improve from 0.66667\n",
      "Epoch 37/70\n",
      "19/19 [==============================] - 5s 275ms/step - loss: 0.0622 - accuracy: 0.9831 - val_loss: 2.1892 - val_accuracy: 0.6162\n",
      "\n",
      "Epoch 00037: val_accuracy did not improve from 0.66667\n",
      "Epoch 38/70\n",
      "19/19 [==============================] - 5s 277ms/step - loss: 0.0595 - accuracy: 0.9814 - val_loss: 1.9386 - val_accuracy: 0.5303\n",
      "\n",
      "Epoch 00038: val_accuracy did not improve from 0.66667\n",
      "Epoch 39/70\n",
      "19/19 [==============================] - 5s 275ms/step - loss: 0.0538 - accuracy: 0.9865 - val_loss: 1.9155 - val_accuracy: 0.5202\n",
      "\n",
      "Epoch 00039: val_accuracy did not improve from 0.66667\n",
      "Epoch 40/70\n",
      "19/19 [==============================] - 5s 277ms/step - loss: 0.0691 - accuracy: 0.9814 - val_loss: 1.9982 - val_accuracy: 0.5101\n",
      "\n",
      "Epoch 00040: val_accuracy did not improve from 0.66667\n",
      "Epoch 41/70\n",
      "19/19 [==============================] - 5s 278ms/step - loss: 0.0617 - accuracy: 0.9831 - val_loss: 2.0758 - val_accuracy: 0.5707\n",
      "\n",
      "Epoch 00041: val_accuracy did not improve from 0.66667\n",
      "Epoch 42/70\n",
      "19/19 [==============================] - 5s 278ms/step - loss: 0.0712 - accuracy: 0.9831 - val_loss: 2.0056 - val_accuracy: 0.4646\n",
      "\n",
      "Epoch 00042: val_accuracy did not improve from 0.66667\n",
      "Epoch 43/70\n",
      "19/19 [==============================] - 5s 277ms/step - loss: 0.0490 - accuracy: 0.9916 - val_loss: 2.0710 - val_accuracy: 0.5303\n",
      "\n",
      "Epoch 00043: val_accuracy did not improve from 0.66667\n",
      "Epoch 44/70\n",
      "19/19 [==============================] - 5s 277ms/step - loss: 0.0380 - accuracy: 0.9932 - val_loss: 2.0554 - val_accuracy: 0.5000\n",
      "\n",
      "Epoch 00044: val_accuracy did not improve from 0.66667\n",
      "Epoch 45/70\n",
      "19/19 [==============================] - 5s 278ms/step - loss: 0.0692 - accuracy: 0.9814 - val_loss: 2.0729 - val_accuracy: 0.5354\n",
      "\n",
      "Epoch 00045: val_accuracy did not improve from 0.66667\n",
      "Epoch 46/70\n",
      "19/19 [==============================] - 5s 277ms/step - loss: 0.0293 - accuracy: 0.9966 - val_loss: 2.1478 - val_accuracy: 0.4697\n",
      "\n",
      "Epoch 00046: val_accuracy did not improve from 0.66667\n",
      "Epoch 47/70\n",
      "19/19 [==============================] - 5s 279ms/step - loss: 0.0443 - accuracy: 0.9882 - val_loss: 2.0885 - val_accuracy: 0.5556\n",
      "\n",
      "Epoch 00047: val_accuracy did not improve from 0.66667\n",
      "Epoch 48/70\n",
      "19/19 [==============================] - 5s 275ms/step - loss: 0.0464 - accuracy: 0.9865 - val_loss: 2.1350 - val_accuracy: 0.5000\n",
      "\n",
      "Epoch 00048: val_accuracy did not improve from 0.66667\n",
      "Epoch 49/70\n",
      "19/19 [==============================] - 5s 278ms/step - loss: 0.0348 - accuracy: 0.9899 - val_loss: 2.1157 - val_accuracy: 0.5455\n",
      "\n",
      "Epoch 00049: val_accuracy did not improve from 0.66667\n",
      "Epoch 50/70\n",
      "19/19 [==============================] - 5s 278ms/step - loss: 0.0249 - accuracy: 0.9983 - val_loss: 2.1815 - val_accuracy: 0.4949\n",
      "\n",
      "Epoch 00050: val_accuracy did not improve from 0.66667\n",
      "Epoch 51/70\n",
      "19/19 [==============================] - 5s 277ms/step - loss: 0.0355 - accuracy: 0.9916 - val_loss: 2.3007 - val_accuracy: 0.5707\n",
      "\n",
      "Epoch 00051: val_accuracy did not improve from 0.66667\n",
      "Epoch 52/70\n",
      "19/19 [==============================] - 5s 275ms/step - loss: 0.0276 - accuracy: 0.9949 - val_loss: 2.2598 - val_accuracy: 0.4848\n",
      "\n",
      "Epoch 00052: val_accuracy did not improve from 0.66667\n",
      "Epoch 53/70\n",
      "19/19 [==============================] - 5s 275ms/step - loss: 0.0384 - accuracy: 0.9949 - val_loss: 2.2236 - val_accuracy: 0.5303\n",
      "\n",
      "Epoch 00053: val_accuracy did not improve from 0.66667\n",
      "Epoch 54/70\n",
      "19/19 [==============================] - 5s 276ms/step - loss: 0.0235 - accuracy: 0.9966 - val_loss: 2.3445 - val_accuracy: 0.4697\n",
      "\n",
      "Epoch 00054: val_accuracy did not improve from 0.66667\n",
      "Epoch 55/70\n",
      "19/19 [==============================] - 5s 277ms/step - loss: 0.0343 - accuracy: 0.9949 - val_loss: 2.1895 - val_accuracy: 0.5606\n",
      "\n",
      "Epoch 00055: val_accuracy did not improve from 0.66667\n",
      "Epoch 56/70\n",
      "19/19 [==============================] - 5s 276ms/step - loss: 0.0234 - accuracy: 0.9966 - val_loss: 2.2440 - val_accuracy: 0.5657\n",
      "\n",
      "Epoch 00056: val_accuracy did not improve from 0.66667\n",
      "Epoch 57/70\n",
      "19/19 [==============================] - 5s 275ms/step - loss: 0.0254 - accuracy: 0.9966 - val_loss: 2.3427 - val_accuracy: 0.4899\n",
      "\n",
      "Epoch 00057: val_accuracy did not improve from 0.66667\n",
      "Epoch 58/70\n",
      "19/19 [==============================] - 5s 277ms/step - loss: 0.0335 - accuracy: 0.9966 - val_loss: 2.2448 - val_accuracy: 0.5152\n",
      "\n",
      "Epoch 00058: val_accuracy did not improve from 0.66667\n",
      "Epoch 59/70\n",
      "19/19 [==============================] - 5s 277ms/step - loss: 0.0314 - accuracy: 0.9916 - val_loss: 2.2389 - val_accuracy: 0.5303\n",
      "\n",
      "Epoch 00059: val_accuracy did not improve from 0.66667\n",
      "Epoch 60/70\n",
      "19/19 [==============================] - 5s 276ms/step - loss: 0.0216 - accuracy: 0.9966 - val_loss: 2.2417 - val_accuracy: 0.5202\n",
      "\n",
      "Epoch 00060: val_accuracy did not improve from 0.66667\n",
      "Epoch 61/70\n",
      "19/19 [==============================] - 5s 273ms/step - loss: 0.0222 - accuracy: 0.9966 - val_loss: 2.3794 - val_accuracy: 0.4697\n",
      "\n",
      "Epoch 00061: val_accuracy did not improve from 0.66667\n",
      "Epoch 62/70\n",
      "19/19 [==============================] - 5s 277ms/step - loss: 0.0193 - accuracy: 0.9966 - val_loss: 2.4162 - val_accuracy: 0.4596\n",
      "\n",
      "Epoch 00062: val_accuracy did not improve from 0.66667\n",
      "Epoch 63/70\n",
      "19/19 [==============================] - 5s 276ms/step - loss: 0.0250 - accuracy: 0.9966 - val_loss: 2.3266 - val_accuracy: 0.5859\n",
      "\n",
      "Epoch 00063: val_accuracy did not improve from 0.66667\n",
      "Epoch 64/70\n",
      "19/19 [==============================] - 5s 278ms/step - loss: 0.0262 - accuracy: 0.9882 - val_loss: 2.1471 - val_accuracy: 0.5707\n",
      "\n",
      "Epoch 00064: val_accuracy did not improve from 0.66667\n",
      "Epoch 65/70\n",
      "19/19 [==============================] - 5s 277ms/step - loss: 0.0162 - accuracy: 0.9983 - val_loss: 2.2883 - val_accuracy: 0.5303\n",
      "\n",
      "Epoch 00065: val_accuracy did not improve from 0.66667\n",
      "Epoch 66/70\n",
      "19/19 [==============================] - 5s 276ms/step - loss: 0.0328 - accuracy: 0.9949 - val_loss: 2.2076 - val_accuracy: 0.5202\n",
      "\n",
      "Epoch 00066: val_accuracy did not improve from 0.66667\n",
      "Epoch 67/70\n",
      "19/19 [==============================] - 5s 277ms/step - loss: 0.0166 - accuracy: 0.9966 - val_loss: 2.3410 - val_accuracy: 0.4747\n",
      "\n",
      "Epoch 00067: val_accuracy did not improve from 0.66667\n",
      "Epoch 68/70\n",
      "19/19 [==============================] - 5s 277ms/step - loss: 0.0149 - accuracy: 0.9966 - val_loss: 2.3853 - val_accuracy: 0.4899\n",
      "\n",
      "Epoch 00068: val_accuracy did not improve from 0.66667\n",
      "Epoch 69/70\n",
      "19/19 [==============================] - 5s 277ms/step - loss: 0.0152 - accuracy: 0.9966 - val_loss: 2.3528 - val_accuracy: 0.5000\n",
      "\n",
      "Epoch 00069: val_accuracy did not improve from 0.66667\n",
      "Epoch 70/70\n",
      "19/19 [==============================] - 5s 276ms/step - loss: 0.0329 - accuracy: 0.9916 - val_loss: 2.2827 - val_accuracy: 0.5202\n",
      "\n",
      "Epoch 00070: val_accuracy did not improve from 0.66667\n"
     ]
    }
   ],
   "source": [
    "model2 = Sequential()\n",
    "model2.add(layers.Embedding(max_words, 40, input_length=1328))\n",
    "model2.add(layers.Bidirectional(layers.LSTM(20,dropout=0.6)))\n",
    "model2.add(layers.Dense(3,activation='softmax'))\n",
    "model2.compile(optimizer='rmsprop',loss='categorical_crossentropy', metrics=['accuracy'])\n",
    "#Implementing model checkpoins to save the best metric and do not lose it on training.\n",
    "checkpoint2 = ModelCheckpoint(\"best_model2.hdf5\", monitor='val_accuracy', verbose=1,save_best_only=True, mode='auto', period=1,save_weights_only=False)\n",
    "history = model2.fit(X_train, y_train, epochs=70,validation_data=(X_test, y_test),callbacks=[checkpoint2], class_weight={0: 1.266025641025641, 1: 0.5614783226723525, 2: 2.330383480825959})"
   ]
  },
  {
   "cell_type": "code",
   "execution_count": 84,
   "metadata": {},
   "outputs": [
    {
     "name": "stdout",
     "output_type": "stream",
     "text": [
      "WARNING:tensorflow:`period` argument is deprecated. Please use `save_freq` to specify the frequency in number of batches seen.\n",
      "Epoch 1/70\n",
      "19/19 [==============================] - 1s 22ms/step - loss: 2.5240 - accuracy: 0.5912 - val_loss: 1.7868 - val_accuracy: 0.5859\n",
      "\n",
      "Epoch 00001: val_accuracy improved from -inf to 0.58586, saving model to best_model3.hdf5\n",
      "Epoch 2/70\n",
      "19/19 [==============================] - 0s 16ms/step - loss: 1.9386 - accuracy: 0.5963 - val_loss: 1.6581 - val_accuracy: 0.5859\n",
      "\n",
      "Epoch 00002: val_accuracy did not improve from 0.58586\n",
      "Epoch 3/70\n",
      "19/19 [==============================] - 0s 16ms/step - loss: 1.7511 - accuracy: 0.5963 - val_loss: 1.5076 - val_accuracy: 0.5859\n",
      "\n",
      "Epoch 00003: val_accuracy did not improve from 0.58586\n",
      "Epoch 4/70\n",
      "19/19 [==============================] - 0s 16ms/step - loss: 1.6110 - accuracy: 0.5963 - val_loss: 1.4168 - val_accuracy: 0.5859\n",
      "\n",
      "Epoch 00004: val_accuracy did not improve from 0.58586\n",
      "Epoch 5/70\n",
      "19/19 [==============================] - 0s 16ms/step - loss: 1.4973 - accuracy: 0.5963 - val_loss: 1.3263 - val_accuracy: 0.5859\n",
      "\n",
      "Epoch 00005: val_accuracy did not improve from 0.58586\n",
      "Epoch 6/70\n",
      "19/19 [==============================] - 0s 16ms/step - loss: 1.4089 - accuracy: 0.5963 - val_loss: 1.2096 - val_accuracy: 0.5859\n",
      "\n",
      "Epoch 00006: val_accuracy did not improve from 0.58586\n",
      "Epoch 7/70\n",
      "19/19 [==============================] - 0s 16ms/step - loss: 1.3456 - accuracy: 0.5963 - val_loss: 1.1733 - val_accuracy: 0.5859\n",
      "\n",
      "Epoch 00007: val_accuracy did not improve from 0.58586\n",
      "Epoch 8/70\n",
      "19/19 [==============================] - 0s 16ms/step - loss: 1.3067 - accuracy: 0.5963 - val_loss: 1.1210 - val_accuracy: 0.5859\n",
      "\n",
      "Epoch 00008: val_accuracy did not improve from 0.58586\n",
      "Epoch 9/70\n",
      "19/19 [==============================] - 0s 16ms/step - loss: 1.2815 - accuracy: 0.5963 - val_loss: 1.1114 - val_accuracy: 0.5859\n",
      "\n",
      "Epoch 00009: val_accuracy did not improve from 0.58586\n",
      "Epoch 10/70\n",
      "19/19 [==============================] - 0s 16ms/step - loss: 1.2584 - accuracy: 0.5963 - val_loss: 1.1056 - val_accuracy: 0.5859\n",
      "\n",
      "Epoch 00010: val_accuracy did not improve from 0.58586\n",
      "Epoch 11/70\n",
      "19/19 [==============================] - 0s 16ms/step - loss: 1.2307 - accuracy: 0.5963 - val_loss: 1.0887 - val_accuracy: 0.5859\n",
      "\n",
      "Epoch 00011: val_accuracy did not improve from 0.58586\n",
      "Epoch 12/70\n",
      "19/19 [==============================] - 0s 16ms/step - loss: 1.2023 - accuracy: 0.5963 - val_loss: 1.0940 - val_accuracy: 0.5859\n",
      "\n",
      "Epoch 00012: val_accuracy did not improve from 0.58586\n",
      "Epoch 13/70\n",
      "19/19 [==============================] - 0s 16ms/step - loss: 1.1617 - accuracy: 0.5963 - val_loss: 1.0988 - val_accuracy: 0.5859\n",
      "\n",
      "Epoch 00013: val_accuracy did not improve from 0.58586\n",
      "Epoch 14/70\n",
      "19/19 [==============================] - 0s 16ms/step - loss: 1.1090 - accuracy: 0.5963 - val_loss: 1.1008 - val_accuracy: 0.5859\n",
      "\n",
      "Epoch 00014: val_accuracy did not improve from 0.58586\n",
      "Epoch 15/70\n",
      "19/19 [==============================] - 0s 16ms/step - loss: 1.0461 - accuracy: 0.5963 - val_loss: 1.0856 - val_accuracy: 0.5859\n",
      "\n",
      "Epoch 00015: val_accuracy did not improve from 0.58586\n",
      "Epoch 16/70\n",
      "19/19 [==============================] - 0s 16ms/step - loss: 0.9717 - accuracy: 0.5963 - val_loss: 1.1308 - val_accuracy: 0.5859\n",
      "\n",
      "Epoch 00016: val_accuracy did not improve from 0.58586\n",
      "Epoch 17/70\n",
      "19/19 [==============================] - 0s 16ms/step - loss: 0.8879 - accuracy: 0.6233 - val_loss: 1.0901 - val_accuracy: 0.6010\n",
      "\n",
      "Epoch 00017: val_accuracy improved from 0.58586 to 0.60101, saving model to best_model3.hdf5\n",
      "Epoch 18/70\n",
      "19/19 [==============================] - 0s 16ms/step - loss: 0.7973 - accuracy: 0.7399 - val_loss: 1.1346 - val_accuracy: 0.5960\n",
      "\n",
      "Epoch 00018: val_accuracy did not improve from 0.60101\n",
      "Epoch 19/70\n",
      "19/19 [==============================] - 0s 16ms/step - loss: 0.7176 - accuracy: 0.7990 - val_loss: 1.1131 - val_accuracy: 0.6061\n",
      "\n",
      "Epoch 00019: val_accuracy improved from 0.60101 to 0.60606, saving model to best_model3.hdf5\n",
      "Epoch 20/70\n",
      "19/19 [==============================] - 0s 16ms/step - loss: 0.6481 - accuracy: 0.8209 - val_loss: 1.1834 - val_accuracy: 0.6162\n",
      "\n",
      "Epoch 00020: val_accuracy improved from 0.60606 to 0.61616, saving model to best_model3.hdf5\n",
      "Epoch 21/70\n",
      "19/19 [==============================] - 0s 16ms/step - loss: 0.5989 - accuracy: 0.8260 - val_loss: 1.1399 - val_accuracy: 0.6263\n",
      "\n",
      "Epoch 00021: val_accuracy improved from 0.61616 to 0.62626, saving model to best_model3.hdf5\n",
      "Epoch 22/70\n",
      "19/19 [==============================] - 0s 16ms/step - loss: 0.5563 - accuracy: 0.8345 - val_loss: 1.1820 - val_accuracy: 0.6162\n",
      "\n",
      "Epoch 00022: val_accuracy did not improve from 0.62626\n",
      "Epoch 23/70\n",
      "19/19 [==============================] - 0s 16ms/step - loss: 0.5301 - accuracy: 0.8311 - val_loss: 1.1733 - val_accuracy: 0.6263\n",
      "\n",
      "Epoch 00023: val_accuracy did not improve from 0.62626\n",
      "Epoch 24/70\n",
      "19/19 [==============================] - 0s 16ms/step - loss: 0.5019 - accuracy: 0.8361 - val_loss: 1.1824 - val_accuracy: 0.6364\n",
      "\n",
      "Epoch 00024: val_accuracy improved from 0.62626 to 0.63636, saving model to best_model3.hdf5\n",
      "Epoch 25/70\n",
      "19/19 [==============================] - 0s 16ms/step - loss: 0.4876 - accuracy: 0.8361 - val_loss: 1.2112 - val_accuracy: 0.6162\n",
      "\n",
      "Epoch 00025: val_accuracy did not improve from 0.63636\n",
      "Epoch 26/70\n",
      "19/19 [==============================] - 0s 16ms/step - loss: 0.4670 - accuracy: 0.8378 - val_loss: 1.2062 - val_accuracy: 0.6364\n",
      "\n",
      "Epoch 00026: val_accuracy did not improve from 0.63636\n",
      "Epoch 27/70\n",
      "19/19 [==============================] - 0s 16ms/step - loss: 0.4521 - accuracy: 0.8412 - val_loss: 1.2402 - val_accuracy: 0.6364\n",
      "\n",
      "Epoch 00027: val_accuracy did not improve from 0.63636\n",
      "Epoch 28/70\n",
      "19/19 [==============================] - 0s 16ms/step - loss: 0.4381 - accuracy: 0.8395 - val_loss: 1.2341 - val_accuracy: 0.6313\n",
      "\n",
      "Epoch 00028: val_accuracy did not improve from 0.63636\n",
      "Epoch 29/70\n",
      "19/19 [==============================] - 0s 16ms/step - loss: 0.4230 - accuracy: 0.8412 - val_loss: 1.2794 - val_accuracy: 0.6364\n",
      "\n",
      "Epoch 00029: val_accuracy did not improve from 0.63636\n",
      "Epoch 30/70\n",
      "19/19 [==============================] - 0s 16ms/step - loss: 0.4115 - accuracy: 0.8412 - val_loss: 1.3078 - val_accuracy: 0.6414\n",
      "\n",
      "Epoch 00030: val_accuracy improved from 0.63636 to 0.64141, saving model to best_model3.hdf5\n",
      "Epoch 31/70\n",
      "19/19 [==============================] - 1s 43ms/step - loss: 0.3991 - accuracy: 0.8429 - val_loss: 1.2656 - val_accuracy: 0.6364\n",
      "\n",
      "Epoch 00031: val_accuracy did not improve from 0.64141\n",
      "Epoch 32/70\n",
      "19/19 [==============================] - 1s 30ms/step - loss: 0.3849 - accuracy: 0.8412 - val_loss: 1.3064 - val_accuracy: 0.6313\n",
      "\n",
      "Epoch 00032: val_accuracy did not improve from 0.64141\n",
      "Epoch 33/70\n",
      "19/19 [==============================] - 1s 30ms/step - loss: 0.3741 - accuracy: 0.8412 - val_loss: 1.4127 - val_accuracy: 0.6364\n",
      "\n",
      "Epoch 00033: val_accuracy did not improve from 0.64141\n",
      "Epoch 34/70\n",
      "19/19 [==============================] - 1s 30ms/step - loss: 0.3606 - accuracy: 0.8429 - val_loss: 1.3301 - val_accuracy: 0.6364\n",
      "\n",
      "Epoch 00034: val_accuracy did not improve from 0.64141\n",
      "Epoch 35/70\n",
      "19/19 [==============================] - 1s 29ms/step - loss: 0.3481 - accuracy: 0.8429 - val_loss: 1.3600 - val_accuracy: 0.6313\n",
      "\n",
      "Epoch 00035: val_accuracy did not improve from 0.64141\n",
      "Epoch 36/70\n",
      "19/19 [==============================] - 1s 29ms/step - loss: 0.3373 - accuracy: 0.8514 - val_loss: 1.4388 - val_accuracy: 0.6465\n",
      "\n",
      "Epoch 00036: val_accuracy improved from 0.64141 to 0.64646, saving model to best_model3.hdf5\n",
      "Epoch 37/70\n",
      "19/19 [==============================] - 1s 29ms/step - loss: 0.3255 - accuracy: 0.8902 - val_loss: 1.4227 - val_accuracy: 0.6364\n",
      "\n",
      "Epoch 00037: val_accuracy did not improve from 0.64646\n",
      "Epoch 38/70\n",
      "19/19 [==============================] - 1s 29ms/step - loss: 0.3148 - accuracy: 0.9020 - val_loss: 1.4923 - val_accuracy: 0.6263\n",
      "\n",
      "Epoch 00038: val_accuracy did not improve from 0.64646\n",
      "Epoch 39/70\n",
      "19/19 [==============================] - 1s 29ms/step - loss: 0.3057 - accuracy: 0.9493 - val_loss: 1.5265 - val_accuracy: 0.6313\n",
      "\n",
      "Epoch 00039: val_accuracy did not improve from 0.64646\n",
      "Epoch 40/70\n",
      "19/19 [==============================] - 1s 29ms/step - loss: 0.2927 - accuracy: 0.9628 - val_loss: 1.5760 - val_accuracy: 0.5758\n",
      "\n",
      "Epoch 00040: val_accuracy did not improve from 0.64646\n",
      "Epoch 41/70\n",
      "19/19 [==============================] - 1s 29ms/step - loss: 0.2854 - accuracy: 0.9780 - val_loss: 1.6258 - val_accuracy: 0.5808\n",
      "\n",
      "Epoch 00041: val_accuracy did not improve from 0.64646\n",
      "Epoch 42/70\n",
      "19/19 [==============================] - 1s 30ms/step - loss: 0.2728 - accuracy: 0.9814 - val_loss: 1.6618 - val_accuracy: 0.5657\n",
      "\n",
      "Epoch 00042: val_accuracy did not improve from 0.64646\n",
      "Epoch 43/70\n",
      "19/19 [==============================] - 1s 29ms/step - loss: 0.2714 - accuracy: 0.9797 - val_loss: 1.7357 - val_accuracy: 0.5657\n",
      "\n",
      "Epoch 00043: val_accuracy did not improve from 0.64646\n",
      "Epoch 44/70\n",
      "19/19 [==============================] - 1s 30ms/step - loss: 0.2604 - accuracy: 0.9848 - val_loss: 1.7342 - val_accuracy: 0.5707\n",
      "\n",
      "Epoch 00044: val_accuracy did not improve from 0.64646\n",
      "Epoch 45/70\n",
      "19/19 [==============================] - 1s 29ms/step - loss: 0.2528 - accuracy: 0.9916 - val_loss: 1.8026 - val_accuracy: 0.5253\n",
      "\n",
      "Epoch 00045: val_accuracy did not improve from 0.64646\n",
      "Epoch 46/70\n",
      "19/19 [==============================] - 1s 29ms/step - loss: 0.2507 - accuracy: 0.9899 - val_loss: 1.8359 - val_accuracy: 0.5404\n",
      "\n",
      "Epoch 00046: val_accuracy did not improve from 0.64646\n",
      "Epoch 47/70\n",
      "19/19 [==============================] - 1s 29ms/step - loss: 0.2414 - accuracy: 0.9916 - val_loss: 1.8780 - val_accuracy: 0.5354\n",
      "\n",
      "Epoch 00047: val_accuracy did not improve from 0.64646\n",
      "Epoch 48/70\n",
      "19/19 [==============================] - 1s 30ms/step - loss: 0.2374 - accuracy: 0.9899 - val_loss: 1.9042 - val_accuracy: 0.5253\n",
      "\n",
      "Epoch 00048: val_accuracy did not improve from 0.64646\n",
      "Epoch 49/70\n",
      "19/19 [==============================] - 1s 30ms/step - loss: 0.2321 - accuracy: 0.9949 - val_loss: 1.8724 - val_accuracy: 0.5404\n",
      "\n",
      "Epoch 00049: val_accuracy did not improve from 0.64646\n",
      "Epoch 50/70\n",
      "19/19 [==============================] - 1s 29ms/step - loss: 0.2283 - accuracy: 0.9882 - val_loss: 1.9433 - val_accuracy: 0.5404\n",
      "\n",
      "Epoch 00050: val_accuracy did not improve from 0.64646\n",
      "Epoch 51/70\n",
      "19/19 [==============================] - 1s 29ms/step - loss: 0.2246 - accuracy: 0.9932 - val_loss: 2.0055 - val_accuracy: 0.4949\n",
      "\n",
      "Epoch 00051: val_accuracy did not improve from 0.64646\n",
      "Epoch 52/70\n",
      "19/19 [==============================] - 1s 29ms/step - loss: 0.2195 - accuracy: 0.9966 - val_loss: 1.9612 - val_accuracy: 0.5253\n",
      "\n",
      "Epoch 00052: val_accuracy did not improve from 0.64646\n",
      "Epoch 53/70\n",
      "19/19 [==============================] - 1s 29ms/step - loss: 0.2148 - accuracy: 0.9949 - val_loss: 2.0249 - val_accuracy: 0.5000\n",
      "\n",
      "Epoch 00053: val_accuracy did not improve from 0.64646\n",
      "Epoch 54/70\n",
      "19/19 [==============================] - 1s 29ms/step - loss: 0.2132 - accuracy: 0.9949 - val_loss: 2.0473 - val_accuracy: 0.5152\n",
      "\n",
      "Epoch 00054: val_accuracy did not improve from 0.64646\n",
      "Epoch 55/70\n",
      "19/19 [==============================] - 1s 28ms/step - loss: 0.2065 - accuracy: 0.9983 - val_loss: 2.0401 - val_accuracy: 0.5101\n",
      "\n",
      "Epoch 00055: val_accuracy did not improve from 0.64646\n",
      "Epoch 56/70\n",
      "19/19 [==============================] - 1s 29ms/step - loss: 0.2055 - accuracy: 0.9932 - val_loss: 2.0601 - val_accuracy: 0.5202\n",
      "\n",
      "Epoch 00056: val_accuracy did not improve from 0.64646\n",
      "Epoch 57/70\n",
      "19/19 [==============================] - 1s 29ms/step - loss: 0.2007 - accuracy: 0.9966 - val_loss: 2.0190 - val_accuracy: 0.5152\n",
      "\n",
      "Epoch 00057: val_accuracy did not improve from 0.64646\n",
      "Epoch 58/70\n",
      "19/19 [==============================] - 1s 29ms/step - loss: 0.1976 - accuracy: 0.9966 - val_loss: 2.0559 - val_accuracy: 0.5152\n",
      "\n",
      "Epoch 00058: val_accuracy did not improve from 0.64646\n",
      "Epoch 59/70\n",
      "19/19 [==============================] - 1s 29ms/step - loss: 0.1928 - accuracy: 0.9966 - val_loss: 2.0364 - val_accuracy: 0.5202\n",
      "\n",
      "Epoch 00059: val_accuracy did not improve from 0.64646\n",
      "Epoch 60/70\n",
      "19/19 [==============================] - 1s 30ms/step - loss: 0.1914 - accuracy: 0.9983 - val_loss: 2.1108 - val_accuracy: 0.4899\n",
      "\n",
      "Epoch 00060: val_accuracy did not improve from 0.64646\n",
      "Epoch 61/70\n",
      "19/19 [==============================] - 1s 29ms/step - loss: 0.1899 - accuracy: 0.9983 - val_loss: 2.0783 - val_accuracy: 0.5051\n",
      "\n",
      "Epoch 00061: val_accuracy did not improve from 0.64646\n",
      "Epoch 62/70\n",
      "19/19 [==============================] - 1s 29ms/step - loss: 0.1850 - accuracy: 0.9932 - val_loss: 2.1001 - val_accuracy: 0.5101\n",
      "\n",
      "Epoch 00062: val_accuracy did not improve from 0.64646\n",
      "Epoch 63/70\n",
      "19/19 [==============================] - 1s 29ms/step - loss: 0.1834 - accuracy: 0.9949 - val_loss: 2.0886 - val_accuracy: 0.5152\n",
      "\n",
      "Epoch 00063: val_accuracy did not improve from 0.64646\n",
      "Epoch 64/70\n",
      "19/19 [==============================] - 1s 29ms/step - loss: 0.1794 - accuracy: 0.9966 - val_loss: 2.0377 - val_accuracy: 0.5303\n",
      "\n",
      "Epoch 00064: val_accuracy did not improve from 0.64646\n",
      "Epoch 65/70\n",
      "19/19 [==============================] - 1s 29ms/step - loss: 0.1765 - accuracy: 0.9966 - val_loss: 2.0816 - val_accuracy: 0.4949\n",
      "\n",
      "Epoch 00065: val_accuracy did not improve from 0.64646\n",
      "Epoch 66/70\n",
      "19/19 [==============================] - 1s 30ms/step - loss: 0.1749 - accuracy: 0.9966 - val_loss: 2.0068 - val_accuracy: 0.5404\n",
      "\n",
      "Epoch 00066: val_accuracy did not improve from 0.64646\n",
      "Epoch 67/70\n",
      "19/19 [==============================] - 1s 29ms/step - loss: 0.1724 - accuracy: 0.9966 - val_loss: 2.1034 - val_accuracy: 0.5152\n",
      "\n",
      "Epoch 00067: val_accuracy did not improve from 0.64646\n",
      "Epoch 68/70\n",
      "19/19 [==============================] - 1s 29ms/step - loss: 0.1691 - accuracy: 0.9966 - val_loss: 2.1120 - val_accuracy: 0.5051\n",
      "\n",
      "Epoch 00068: val_accuracy did not improve from 0.64646\n",
      "Epoch 69/70\n",
      "19/19 [==============================] - 1s 29ms/step - loss: 0.1679 - accuracy: 0.9983 - val_loss: 2.1007 - val_accuracy: 0.5101\n",
      "\n",
      "Epoch 00069: val_accuracy did not improve from 0.64646\n",
      "Epoch 70/70\n",
      "19/19 [==============================] - 1s 29ms/step - loss: 0.1644 - accuracy: 0.9966 - val_loss: 2.0863 - val_accuracy: 0.5303\n",
      "\n",
      "Epoch 00070: val_accuracy did not improve from 0.64646\n"
     ]
    }
   ],
   "source": [
    "from keras import regularizers\n",
    "model3 = Sequential()\n",
    "model3.add(layers.Embedding(max_words, 40, input_length=1328))\n",
    "model3.add(layers.Conv1D(20, 6, activation='relu',kernel_regularizer=regularizers.l1_l2(l1=2e-3, l2=2e-3),bias_regularizer=regularizers.l2(2e-3)))\n",
    "model3.add(layers.MaxPooling1D(5))\n",
    "model3.add(layers.Conv1D(20, 6, activation='relu',kernel_regularizer=regularizers.l1_l2(l1=2e-3, l2=2e-3),bias_regularizer=regularizers.l2(2e-3)))\n",
    "model3.add(layers.GlobalMaxPooling1D())\n",
    "model3.add(layers.Dense(3,activation='softmax'))\n",
    "model3.compile(optimizer='rmsprop',loss='categorical_crossentropy',metrics=['accuracy'])\n",
    "checkpoint3 = ModelCheckpoint(\"best_model3.hdf5\", monitor='val_accuracy', verbose=1,save_best_only=True, mode='auto', period=1,save_weights_only=False)\n",
    "history = model3.fit(X_train, y_train, epochs=70,validation_data=(X_test, y_test),callbacks=[checkpoint3], class_weight={0: 1.266025641025641, 1: 0.5614783226723525, 2: 2.330383480825959})"
   ]
  },
  {
   "cell_type": "code",
   "execution_count": 26,
   "metadata": {},
   "outputs": [],
   "source": [
    "#Let's load the best model obtained during training\n",
    "best_model2 = keras.models.load_model(\"best_model2.hdf5\")"
   ]
  },
  {
   "cell_type": "code",
   "execution_count": 27,
   "metadata": {},
   "outputs": [
    {
     "name": "stdout",
     "output_type": "stream",
     "text": [
      "7/7 - 1s - loss: 0.9424 - accuracy: 0.6667\n",
      "Model accuracy:  0.6666666865348816\n"
     ]
    }
   ],
   "source": [
    "test_loss, test_acc = best_model2.evaluate(X_test, y_test, verbose=2)\n",
    "print('Model accuracy: ',test_acc)"
   ]
  },
  {
   "cell_type": "code",
   "execution_count": 28,
   "metadata": {},
   "outputs": [],
   "source": [
    "predictions = best_model2.predict(X_test)"
   ]
  },
  {
   "cell_type": "code",
   "execution_count": 36,
   "metadata": {},
   "outputs": [
    {
     "data": {
      "text/plain": [
       "array([0, 2, 0, 2, 2, 2, 2, 2, 0, 0, 2, 0, 0, 2, 2, 2, 2, 2, 2, 2, 2, 2,\n",
       "       2, 2, 2, 2, 2, 2, 2, 2, 2, 2, 0, 2, 2, 2, 0, 2, 2, 2, 0, 0, 2, 0,\n",
       "       0, 2, 0, 2, 2, 2, 2, 2, 2, 0, 2, 0, 2, 2, 0, 2, 2, 2, 0, 2, 2, 2,\n",
       "       2, 2, 2, 0, 2, 2, 0, 0, 2, 2, 2, 2, 0, 2, 2, 0, 2, 0, 2, 2, 2, 0,\n",
       "       2, 2, 2, 2, 0, 2, 2, 2, 2, 2, 2, 2, 2, 2, 2, 0, 2, 2, 0, 0, 0, 2,\n",
       "       2, 2, 0, 0, 2, 2, 0, 2, 2, 2, 2, 2, 0, 2, 2, 2, 2, 2, 2, 2, 2, 0,\n",
       "       2, 2, 0, 2, 0, 0, 2, 2, 2, 2, 2, 2, 0, 0, 0, 2, 2, 2, 2, 2, 2, 2,\n",
       "       2, 0, 2, 2, 2, 0, 2, 0, 2, 0, 2, 2, 0, 2, 2, 0, 2, 2, 2, 2, 2, 2,\n",
       "       2, 0, 2, 2, 2, 2, 2, 0, 0, 2, 2, 2, 0, 0, 2, 2, 2, 2, 2, 2, 0, 2])"
      ]
     },
     "execution_count": 36,
     "metadata": {},
     "output_type": "execute_result"
    }
   ],
   "source": [
    "np.argmax(predictions, axis=1)"
   ]
  },
  {
   "cell_type": "code",
   "execution_count": 32,
   "metadata": {},
   "outputs": [
    {
     "data": {
      "text/plain": [
       "array([1, 2, 1, 2, 1, 0, 2, 2, 0, 0, 2, 2, 1, 2, 2, 0, 2, 0, 2, 1, 2, 2,\n",
       "       0, 2, 2, 0, 1, 2, 2, 0, 2, 2, 1, 2, 0, 2, 0, 2, 2, 2, 0, 2, 1, 2,\n",
       "       0, 2, 0, 2, 0, 2, 2, 0, 2, 0, 2, 0, 2, 2, 1, 0, 2, 2, 0, 2, 2, 2,\n",
       "       2, 2, 1, 2, 0, 2, 2, 0, 0, 1, 2, 2, 0, 2, 2, 1, 2, 0, 2, 2, 0, 1,\n",
       "       2, 2, 2, 2, 0, 1, 0, 0, 2, 0, 2, 2, 2, 0, 2, 2, 2, 2, 0, 0, 0, 2,\n",
       "       2, 2, 0, 0, 2, 0, 0, 2, 2, 2, 2, 2, 0, 1, 2, 0, 2, 2, 2, 2, 0, 0,\n",
       "       0, 2, 0, 0, 2, 1, 1, 2, 0, 2, 0, 2, 0, 2, 0, 2, 2, 2, 0, 2, 2, 2,\n",
       "       2, 0, 0, 2, 2, 2, 0, 2, 2, 0, 2, 2, 2, 0, 2, 0, 0, 2, 2, 1, 2, 2,\n",
       "       2, 0, 2, 2, 2, 2, 0, 2, 1, 0, 0, 2, 1, 2, 1, 2, 2, 2, 2, 2, 0, 2])"
      ]
     },
     "execution_count": 32,
     "metadata": {},
     "output_type": "execute_result"
    }
   ],
   "source": [
    "y_test.argmax(axis=1)"
   ]
  },
  {
   "cell_type": "code",
   "execution_count": 25,
   "metadata": {},
   "outputs": [
    {
     "name": "stderr",
     "output_type": "stream",
     "text": [
      "2022-06-04 14:49:33.516126: I tensorflow/compiler/mlir/mlir_graph_optimization_pass.cc:185] None of the MLIR Optimization Passes are enabled (registered 2)\n"
     ]
    },
    {
     "name": "stdout",
     "output_type": "stream",
     "text": [
      "7/7 - 1s - loss: 1.9125 - accuracy: 0.6616\n",
      "Model accuracy:  0.6616161465644836\n"
     ]
    }
   ],
   "source": [
    "#Let's load the best model obtained during training\n",
    "best_model1 = keras.models.load_model(\"best_model1.hdf5\")\n",
    "\n",
    "test_loss, test_acc = best_model1.evaluate(X_test, y_test, verbose=2)\n",
    "print('Model accuracy: ',test_acc)"
   ]
  },
  {
   "cell_type": "code",
   "execution_count": 89,
   "metadata": {},
   "outputs": [],
   "source": [
    "predictions1 = best_model.predict(X_test)"
   ]
  },
  {
   "cell_type": "code",
   "execution_count": 90,
   "metadata": {},
   "outputs": [],
   "source": [
    "from sklearn.metrics import confusion_matrix\n",
    "matrix = confusion_matrix(y_test.argmax(axis=1), np.around(predictions, decimals=0).argmax(axis=1))\n",
    "matrix1 = confusion_matrix(y_test.argmax(axis=1), np.around(predictions1, decimals=0).argmax(axis=1))"
   ]
  },
  {
   "cell_type": "code",
   "execution_count": 91,
   "metadata": {},
   "outputs": [],
   "source": [
    "from sklearn.metrics import classification_report"
   ]
  },
  {
   "cell_type": "code",
   "execution_count": null,
   "metadata": {},
   "outputs": [],
   "source": [
    "print(classification_report(y_test.argmax(axis=1), np.around(predictions, decimals=0).argmax(axis=1)))"
   ]
  },
  {
   "cell_type": "code",
   "execution_count": 92,
   "metadata": {},
   "outputs": [
    {
     "name": "stdout",
     "output_type": "stream",
     "text": [
      "              precision    recall  f1-score   support\n",
      "\n",
      "           0       0.52      0.49      0.50        61\n",
      "           1       0.00      0.00      0.00        21\n",
      "           2       0.71      0.86      0.78       116\n",
      "\n",
      "    accuracy                           0.66       198\n",
      "   macro avg       0.41      0.45      0.43       198\n",
      "weighted avg       0.58      0.66      0.61       198\n",
      "\n"
     ]
    }
   ],
   "source": [
    "print(classification_report(y_test.argmax(axis=1), np.around(predictions, decimals=0).argmax(axis=1)))"
   ]
  },
  {
   "cell_type": "code",
   "execution_count": 93,
   "metadata": {},
   "outputs": [
    {
     "name": "stdout",
     "output_type": "stream",
     "text": [
      "              precision    recall  f1-score   support\n",
      "\n",
      "           0       0.54      0.44      0.49        61\n",
      "           1       0.00      0.00      0.00        21\n",
      "           2       0.69      0.88      0.77       116\n",
      "\n",
      "    accuracy                           0.65       198\n",
      "   macro avg       0.41      0.44      0.42       198\n",
      "weighted avg       0.57      0.65      0.60       198\n",
      "\n"
     ]
    }
   ],
   "source": [
    "print(classification_report(y_test.argmax(axis=1), np.around(predictions1, decimals=0).argmax(axis=1)))"
   ]
  },
  {
   "cell_type": "code",
   "execution_count": 94,
   "metadata": {},
   "outputs": [
    {
     "data": {
      "text/plain": [
       "<AxesSubplot:>"
      ]
     },
     "execution_count": 94,
     "metadata": {},
     "output_type": "execute_result"
    },
    {
     "data": {
      "image/png": "[encoded data removed]",
      "text/plain": [
       "<Figure size 1080x1080 with 2 Axes>"
      ]
     },
     "metadata": {
      "needs_background": "light"
     },
     "output_type": "display_data"
    }
   ],
   "source": [
    "import seaborn as sns\n",
    "conf_matrix = pd.DataFrame(matrix, index = ['Neutral','Negative','Positive'],columns = ['Neutral','Negative','Positive'])\n",
    "#Normalizing\n",
    "conf_matrix = conf_matrix.astype('float') / conf_matrix.sum(axis=1)[:, np.newaxis]\n",
    "plt.figure(figsize = (15,15))\n",
    "sns.heatmap(conf_matrix, annot=True, annot_kws={\"size\": 15})"
   ]
  },
  {
   "cell_type": "code",
   "execution_count": 101,
   "metadata": {},
   "outputs": [],
   "source": [
    "best_model3 = keras.models.load_model('best_model3.hdf5')"
   ]
  },
  {
   "cell_type": "code",
   "execution_count": 155,
   "metadata": {},
   "outputs": [
    {
     "name": "stdout",
     "output_type": "stream",
     "text": [
      "Negative\n"
     ]
    },
    {
     "data": {
      "text/plain": [
       "93.9"
      ]
     },
     "execution_count": 155,
     "metadata": {},
     "output_type": "execute_result"
    }
   ],
   "source": [
    "sequence = tokenizer.texts_to_sequences(['based on the above findings, a diagnosis of chronic invasive mucormycosis with recurrence was established, and treatment with sski and itraconazole was stopped.'])\n",
    "test = pad_sequences(sequence)\n",
    "print(sentiment[np.around(best_model1.predict(test), decimals=0).argmax(axis=1)[0]])\n",
    "predict = best_model1.predict(test)\n",
    "#print(np.around(predict[0][np.argmax(predict, axis=1)][0]*100, decimals=2))\n",
    "np.around(predict[0][predict.argmax(axis=-1)][0]*100, decimals=2)"
   ]
  },
  {
   "cell_type": "code",
   "execution_count": 95,
   "metadata": {},
   "outputs": [],
   "source": [
    "sentiment = ['Neutral','Negative','Positive']"
   ]
  },
  {
   "cell_type": "code",
   "execution_count": 154,
   "metadata": {},
   "outputs": [
    {
     "data": {
      "text/plain": [
       "'Positive'"
      ]
     },
     "execution_count": 154,
     "metadata": {},
     "output_type": "execute_result"
    }
   ],
   "source": [
    "sequence = tokenizer.texts_to_sequences(['auranofin is an orally bioavailable gold salt introduced in the 1980s as a disease-modifying treatment for rheumatoid arthritis.'])\n",
    "test = pad_sequences(sequence)\n",
    "sentiment[np.around(best_model1.predict(test), decimals=0).argmax(axis=1)[0]]"
   ]
  },
  {
   "cell_type": "code",
   "execution_count": 153,
   "metadata": {},
   "outputs": [
    {
     "data": {
      "text/plain": [
       "'Negative'"
      ]
     },
     "execution_count": 153,
     "metadata": {},
     "output_type": "execute_result"
    }
   ],
   "source": [
    "sequence = tokenizer.texts_to_sequences(['based on findings, it was considered that the treatment with clozapine and hydroxychloroquine caused neutropenia.'])\n",
    "test = pad_sequences(sequence)\n",
    "sentiment[np.around(best_model1.predict(test), decimals=0).argmax(axis=1)[0]]"
   ]
  },
  {
   "cell_type": "code",
   "execution_count": 98,
   "metadata": {},
   "outputs": [
    {
     "data": {
      "text/plain": [
       "'Negative'"
      ]
     },
     "execution_count": 98,
     "metadata": {},
     "output_type": "execute_result"
    }
   ],
   "source": [
    "sequence = tokenizer.texts_to_sequences(['based on the above findings, a diagnosis of chronic invasive mucormycosis with recurrence was established, and treatment with sski and itraconazole was stopped.'])\n",
    "test = pad_sequences(sequence)\n",
    "sentiment[np.around(best_model1.predict(test), decimals=0).argmax(axis=1)[0]]"
   ]
  },
  {
   "cell_type": "code",
   "execution_count": 99,
   "metadata": {},
   "outputs": [
    {
     "data": {
      "text/plain": [
       "'Neutral'"
      ]
     },
     "execution_count": 99,
     "metadata": {},
     "output_type": "execute_result"
    }
   ],
   "source": [
    "sequence = tokenizer.texts_to_sequences(['Similarly, among 209 patients admitted with COVID-19 in Turkey, lower vertebral bone density, as assessed by computed tomography, was associated with increased mortality risk in multivariate analyses (27)'])\n",
    "test = pad_sequences(sequence)\n",
    "sentiment[np.around(best_model1.predict(test), decimals=0).argmax(axis=1)[0]]"
   ]
  },
  {
   "cell_type": "code",
   "execution_count": 167,
   "metadata": {},
   "outputs": [],
   "source": [
    "def classPredict(row):\n",
    "    sentences = row['sentences']\n",
    "    sequence = tokenizer.texts_to_sequences([sentences])\n",
    "    test = pad_sequences(sequence)\n",
    "    predict = best_model1.predict(test)\n",
    "    return pd.Series((np.around(predict[0][predict.argmax(axis=-1)][0]*100, decimals=2), sentiment[np.around(predict, decimals=0).argmax(axis=1)[0]]))"
   ]
  },
  {
   "cell_type": "code",
   "execution_count": 114,
   "metadata": {},
   "outputs": [],
   "source": [
    "productionDataset = pd.read_csv('Dataset/cleaned_dataset_with_labels.csv')"
   ]
  },
  {
   "cell_type": "code",
   "execution_count": 116,
   "metadata": {},
   "outputs": [],
   "source": [
    "productionDataset = productionDataset[['disease', 'drug', 'sentences']]"
   ]
  },
  {
   "cell_type": "code",
   "execution_count": 183,
   "metadata": {},
   "outputs": [
    {
     "data": {
      "text/plain": [
       "Positive    2145\n",
       "Neutral      207\n",
       "Negative     159\n",
       "Name: class, dtype: int64"
      ]
     },
     "execution_count": 183,
     "metadata": {},
     "output_type": "execute_result"
    }
   ],
   "source": [
    "productionDataset['class'].value_counts()"
   ]
  },
  {
   "cell_type": "code",
   "execution_count": 169,
   "metadata": {},
   "outputs": [],
   "source": [
    "productionDataset[['confidence', 'class']] = productionDataset.apply(classPredict, axis=1)"
   ]
  },
  {
   "cell_type": "code",
   "execution_count": 184,
   "metadata": {},
   "outputs": [],
   "source": [
    "productionDataset.to_csv('Results/result_on_dataset_05-03-2022.csv', index=False)"
   ]
  },
  {
   "cell_type": "code",
   "execution_count": 185,
   "metadata": {},
   "outputs": [
    {
     "data": {
      "text/html": [
       "<div>\n",
       "<style scoped>\n",
       "    .dataframe tbody tr th:only-of-type {\n",
       "        vertical-align: middle;\n",
       "    }\n",
       "\n",
       "    .dataframe tbody tr th {\n",
       "        vertical-align: top;\n",
       "    }\n",
       "\n",
       "    .dataframe thead th {\n",
       "        text-align: right;\n",
       "    }\n",
       "</style>\n",
       "<table border=\"1\" class=\"dataframe\">\n",
       "  <thead>\n",
       "    <tr style=\"text-align: right;\">\n",
       "      <th></th>\n",
       "      <th>disease</th>\n",
       "      <th>drug</th>\n",
       "      <th>sentences</th>\n",
       "      <th>confidence</th>\n",
       "      <th>class</th>\n",
       "    </tr>\n",
       "  </thead>\n",
       "  <tbody>\n",
       "    <tr>\n",
       "      <th>0</th>\n",
       "      <td>COVID-19</td>\n",
       "      <td>Hydroxychloroquine</td>\n",
       "      <td>She was confirmed to be SARS-CoV2 positive and...</td>\n",
       "      <td>99.97</td>\n",
       "      <td>Positive</td>\n",
       "    </tr>\n",
       "    <tr>\n",
       "      <th>1</th>\n",
       "      <td>cancer</td>\n",
       "      <td>Teriflunomide</td>\n",
       "      <td>Teriflunomide downregulation of MMP-9, epithel...</td>\n",
       "      <td>84.17</td>\n",
       "      <td>Neutral</td>\n",
       "    </tr>\n",
       "    <tr>\n",
       "      <th>2</th>\n",
       "      <td>hepatitis</td>\n",
       "      <td>Sofosbuvir</td>\n",
       "      <td>Sofosbuvir is an FDA-approved drug that is mai...</td>\n",
       "      <td>94.59</td>\n",
       "      <td>Positive</td>\n",
       "    </tr>\n",
       "    <tr>\n",
       "      <th>3</th>\n",
       "      <td>cardiomyopathy</td>\n",
       "      <td>Acetylcholine</td>\n",
       "      <td>CHRM2 encodes muscarinic acetylcholine recepto...</td>\n",
       "      <td>63.05</td>\n",
       "      <td>Neutral</td>\n",
       "    </tr>\n",
       "    <tr>\n",
       "      <th>4</th>\n",
       "      <td>cancer</td>\n",
       "      <td>Hydrogen</td>\n",
       "      <td>investigated the effects of Pd-Ni hydrogen sto...</td>\n",
       "      <td>99.99</td>\n",
       "      <td>Positive</td>\n",
       "    </tr>\n",
       "    <tr>\n",
       "      <th>...</th>\n",
       "      <td>...</td>\n",
       "      <td>...</td>\n",
       "      <td>...</td>\n",
       "      <td>...</td>\n",
       "      <td>...</td>\n",
       "    </tr>\n",
       "    <tr>\n",
       "      <th>2506</th>\n",
       "      <td>COVID-19</td>\n",
       "      <td>Ozone</td>\n",
       "      <td>Ozone therapy can be a better technique for th...</td>\n",
       "      <td>99.95</td>\n",
       "      <td>Positive</td>\n",
       "    </tr>\n",
       "    <tr>\n",
       "      <th>2507</th>\n",
       "      <td>cancer</td>\n",
       "      <td>NADH</td>\n",
       "      <td>Overall, these findings suggest that, while pa...</td>\n",
       "      <td>99.95</td>\n",
       "      <td>Positive</td>\n",
       "    </tr>\n",
       "    <tr>\n",
       "      <th>2508</th>\n",
       "      <td>arthritis</td>\n",
       "      <td>Iguratimod</td>\n",
       "      <td>Iguratimod is a new small molecular, anti-rheu...</td>\n",
       "      <td>96.08</td>\n",
       "      <td>Positive</td>\n",
       "    </tr>\n",
       "    <tr>\n",
       "      <th>2509</th>\n",
       "      <td>COVID-19</td>\n",
       "      <td>Ciclesonide</td>\n",
       "      <td>Thus, ciclesonide is expected to have a dual e...</td>\n",
       "      <td>99.96</td>\n",
       "      <td>Positive</td>\n",
       "    </tr>\n",
       "    <tr>\n",
       "      <th>2510</th>\n",
       "      <td>sarcoma</td>\n",
       "      <td>Doxorubicin</td>\n",
       "      <td>Doxorubicin is used to treat breast cancer, bl...</td>\n",
       "      <td>99.95</td>\n",
       "      <td>Positive</td>\n",
       "    </tr>\n",
       "  </tbody>\n",
       "</table>\n",
       "<p>2511 rows × 5 columns</p>\n",
       "</div>"
      ],
      "text/plain": [
       "             disease                drug  \\\n",
       "0           COVID-19  Hydroxychloroquine   \n",
       "1             cancer       Teriflunomide   \n",
       "2          hepatitis          Sofosbuvir   \n",
       "3     cardiomyopathy       Acetylcholine   \n",
       "4             cancer            Hydrogen   \n",
       "...              ...                 ...   \n",
       "2506        COVID-19               Ozone   \n",
       "2507          cancer                NADH   \n",
       "2508       arthritis          Iguratimod   \n",
       "2509        COVID-19         Ciclesonide   \n",
       "2510         sarcoma         Doxorubicin   \n",
       "\n",
       "                                              sentences  confidence     class  \n",
       "0     She was confirmed to be SARS-CoV2 positive and...       99.97  Positive  \n",
       "1     Teriflunomide downregulation of MMP-9, epithel...       84.17   Neutral  \n",
       "2     Sofosbuvir is an FDA-approved drug that is mai...       94.59  Positive  \n",
       "3     CHRM2 encodes muscarinic acetylcholine recepto...       63.05   Neutral  \n",
       "4     investigated the effects of Pd-Ni hydrogen sto...       99.99  Positive  \n",
       "...                                                 ...         ...       ...  \n",
       "2506  Ozone therapy can be a better technique for th...       99.95  Positive  \n",
       "2507  Overall, these findings suggest that, while pa...       99.95  Positive  \n",
       "2508  Iguratimod is a new small molecular, anti-rheu...       96.08  Positive  \n",
       "2509  Thus, ciclesonide is expected to have a dual e...       99.96  Positive  \n",
       "2510  Doxorubicin is used to treat breast cancer, bl...       99.95  Positive  \n",
       "\n",
       "[2511 rows x 5 columns]"
      ]
     },
     "execution_count": 185,
     "metadata": {},
     "output_type": "execute_result"
    }
   ],
   "source": [
    "productionDataset"
   ]
  },
  {
   "cell_type": "code",
   "execution_count": null,
   "metadata": {},
   "outputs": [],
   "source": []
  }
 ],
 "metadata": {
  "kernelspec": {
   "display_name": "Python 3 (ipykernel)",
   "language": "python",
   "name": "python3"
  },
  "language_info": {
   "codemirror_mode": {
    "name": "ipython",
    "version": 3
   },
   "file_extension": ".py",
   "mimetype": "text/x-python",
   "name": "python",
   "nbconvert_exporter": "python",
   "pygments_lexer": "ipython3",
   "version": "3.8.12"
  }
 },
 "nbformat": 4,
 "nbformat_minor": 4
}
