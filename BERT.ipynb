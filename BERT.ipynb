{
  "cells": [
    {
      "cell_type": "code",
      "execution_count": 5,
      "metadata": {
        "id": "OkFdlBdOjiCT",
        "colab": {
          "base_uri": "https://localhost:8080/"
        },
        "outputId": "eb1fdf93-504d-4c2f-9311-1c1cd9e86dfc"
      },
      "outputs": [
        {
          "output_type": "stream",
          "name": "stdout",
          "text": [
            "Looking in indexes: https://pypi.org/simple, https://us-python.pkg.dev/colab-wheels/public/simple/\n",
            "Requirement already satisfied: transformers in /usr/local/lib/python3.7/dist-packages (4.21.0)\n",
            "Requirement already satisfied: filelock in /usr/local/lib/python3.7/dist-packages (from transformers) (3.7.1)\n",
            "Requirement already satisfied: requests in /usr/local/lib/python3.7/dist-packages (from transformers) (2.23.0)\n",
            "Requirement already satisfied: pyyaml>=5.1 in /usr/local/lib/python3.7/dist-packages (from transformers) (6.0)\n",
            "Requirement already satisfied: tokenizers!=0.11.3,<0.13,>=0.11.1 in /usr/local/lib/python3.7/dist-packages (from transformers) (0.12.1)\n",
            "Requirement already satisfied: importlib-metadata in /usr/local/lib/python3.7/dist-packages (from transformers) (4.12.0)\n",
            "Requirement already satisfied: numpy>=1.17 in /usr/local/lib/python3.7/dist-packages (from transformers) (1.21.6)\n",
            "Requirement already satisfied: regex!=2019.12.17 in /usr/local/lib/python3.7/dist-packages (from transformers) (2022.6.2)\n",
            "Requirement already satisfied: huggingface-hub<1.0,>=0.1.0 in /usr/local/lib/python3.7/dist-packages (from transformers) (0.8.1)\n",
            "Requirement already satisfied: tqdm>=4.27 in /usr/local/lib/python3.7/dist-packages (from transformers) (4.64.0)\n",
            "Requirement already satisfied: packaging>=20.0 in /usr/local/lib/python3.7/dist-packages (from transformers) (21.3)\n",
            "Requirement already satisfied: typing-extensions>=3.7.4.3 in /usr/local/lib/python3.7/dist-packages (from huggingface-hub<1.0,>=0.1.0->transformers) (4.1.1)\n",
            "Requirement already satisfied: pyparsing!=3.0.5,>=2.0.2 in /usr/local/lib/python3.7/dist-packages (from packaging>=20.0->transformers) (3.0.9)\n",
            "Requirement already satisfied: zipp>=0.5 in /usr/local/lib/python3.7/dist-packages (from importlib-metadata->transformers) (3.8.1)\n",
            "Requirement already satisfied: urllib3!=1.25.0,!=1.25.1,<1.26,>=1.21.1 in /usr/local/lib/python3.7/dist-packages (from requests->transformers) (1.24.3)\n",
            "Requirement already satisfied: certifi>=2017.4.17 in /usr/local/lib/python3.7/dist-packages (from requests->transformers) (2022.6.15)\n",
            "Requirement already satisfied: chardet<4,>=3.0.2 in /usr/local/lib/python3.7/dist-packages (from requests->transformers) (3.0.4)\n",
            "Requirement already satisfied: idna<3,>=2.5 in /usr/local/lib/python3.7/dist-packages (from requests->transformers) (2.10)\n"
          ]
        }
      ],
      "source": [
        "! pip install transformers"
      ]
    },
    {
      "cell_type": "code",
      "execution_count": 6,
      "metadata": {
        "id": "XFLKwm_9jegW"
      },
      "outputs": [],
      "source": [
        "# Data processing\n",
        "import pandas as pd\n",
        "import numpy as np\n",
        "import matplotlib.pyplot as plt\n",
        "import seaborn as sns\n",
        "# Machine Learning\n",
        "from sklearn.model_selection import train_test_split\n",
        "from sklearn.feature_extraction.text import CountVectorizer, TfidfVectorizer\n",
        "from sklearn.linear_model import LogisticRegression, SGDClassifier\n",
        "from sklearn.pipeline import Pipeline\n",
        "from sklearn.metrics import accuracy_score\n",
        "from sklearn.preprocessing import LabelBinarizer\n",
        "\n",
        "from tensorflow.keras import preprocessing as kprocessing\n",
        "from tensorflow.keras import models, layers, optimizers\n",
        "\n",
        "import transformers\n",
        "\n",
        "# Visualization\n",
        "from matplotlib import pyplot as plt\n",
        "\n",
        "# Text processing\n",
        "import re\n",
        "import nltk\n",
        "import gensim.downloader as api\n",
        "\n",
        "# Various\n",
        "from datetime import datetime"
      ]
    },
    {
      "cell_type": "code",
      "execution_count": 7,
      "metadata": {
        "colab": {
          "base_uri": "https://localhost:8080/",
          "height": 206
        },
        "id": "6GvGR60AjlDg",
        "outputId": "62c5f0d2-4f97-45aa-c1d5-7cd07ba0f090"
      },
      "outputs": [
        {
          "output_type": "execute_result",
          "data": {
            "text/plain": [
              "                                            sentence  label\n",
              "0  usage and adverse effects of identified mtbfad...      1\n",
              "1  long-term maternal administration of ritodrine...      1\n",
              "2  /2021 assessed for eligibility (n=102) exclude...      1\n",
              "3  35 this is an important consideration when com...      1\n",
              "4  thus, hospital admission in itself is a severe...      1"
            ],
            "text/html": [
              "\n",
              "  <div id=\"df-c4585bf9-47a7-4a2e-8778-7fd415b96114\">\n",
              "    <div class=\"colab-df-container\">\n",
              "      <div>\n",
              "<style scoped>\n",
              "    .dataframe tbody tr th:only-of-type {\n",
              "        vertical-align: middle;\n",
              "    }\n",
              "\n",
              "    .dataframe tbody tr th {\n",
              "        vertical-align: top;\n",
              "    }\n",
              "\n",
              "    .dataframe thead th {\n",
              "        text-align: right;\n",
              "    }\n",
              "</style>\n",
              "<table border=\"1\" class=\"dataframe\">\n",
              "  <thead>\n",
              "    <tr style=\"text-align: right;\">\n",
              "      <th></th>\n",
              "      <th>sentence</th>\n",
              "      <th>label</th>\n",
              "    </tr>\n",
              "  </thead>\n",
              "  <tbody>\n",
              "    <tr>\n",
              "      <th>0</th>\n",
              "      <td>usage and adverse effects of identified mtbfad...</td>\n",
              "      <td>1</td>\n",
              "    </tr>\n",
              "    <tr>\n",
              "      <th>1</th>\n",
              "      <td>long-term maternal administration of ritodrine...</td>\n",
              "      <td>1</td>\n",
              "    </tr>\n",
              "    <tr>\n",
              "      <th>2</th>\n",
              "      <td>/2021 assessed for eligibility (n=102) exclude...</td>\n",
              "      <td>1</td>\n",
              "    </tr>\n",
              "    <tr>\n",
              "      <th>3</th>\n",
              "      <td>35 this is an important consideration when com...</td>\n",
              "      <td>1</td>\n",
              "    </tr>\n",
              "    <tr>\n",
              "      <th>4</th>\n",
              "      <td>thus, hospital admission in itself is a severe...</td>\n",
              "      <td>1</td>\n",
              "    </tr>\n",
              "  </tbody>\n",
              "</table>\n",
              "</div>\n",
              "      <button class=\"colab-df-convert\" onclick=\"convertToInteractive('df-c4585bf9-47a7-4a2e-8778-7fd415b96114')\"\n",
              "              title=\"Convert this dataframe to an interactive table.\"\n",
              "              style=\"display:none;\">\n",
              "        \n",
              "  <svg xmlns=\"http://www.w3.org/2000/svg\" height=\"24px\"viewBox=\"0 0 24 24\"\n",
              "       width=\"24px\">\n",
              "    <path d=\"M0 0h24v24H0V0z\" fill=\"none\"/>\n",
              "    <path d=\"M18.56 5.44l.94 2.06.94-2.06 2.06-.94-2.06-.94-.94-2.06-.94 2.06-2.06.94zm-11 1L8.5 8.5l.94-2.06 2.06-.94-2.06-.94L8.5 2.5l-.94 2.06-2.06.94zm10 10l.94 2.06.94-2.06 2.06-.94-2.06-.94-.94-2.06-.94 2.06-2.06.94z\"/><path d=\"M17.41 7.96l-1.37-1.37c-.4-.4-.92-.59-1.43-.59-.52 0-1.04.2-1.43.59L10.3 9.45l-7.72 7.72c-.78.78-.78 2.05 0 2.83L4 21.41c.39.39.9.59 1.41.59.51 0 1.02-.2 1.41-.59l7.78-7.78 2.81-2.81c.8-.78.8-2.07 0-2.86zM5.41 20L4 18.59l7.72-7.72 1.47 1.35L5.41 20z\"/>\n",
              "  </svg>\n",
              "      </button>\n",
              "      \n",
              "  <style>\n",
              "    .colab-df-container {\n",
              "      display:flex;\n",
              "      flex-wrap:wrap;\n",
              "      gap: 12px;\n",
              "    }\n",
              "\n",
              "    .colab-df-convert {\n",
              "      background-color: #E8F0FE;\n",
              "      border: none;\n",
              "      border-radius: 50%;\n",
              "      cursor: pointer;\n",
              "      display: none;\n",
              "      fill: #1967D2;\n",
              "      height: 32px;\n",
              "      padding: 0 0 0 0;\n",
              "      width: 32px;\n",
              "    }\n",
              "\n",
              "    .colab-df-convert:hover {\n",
              "      background-color: #E2EBFA;\n",
              "      box-shadow: 0px 1px 2px rgba(60, 64, 67, 0.3), 0px 1px 3px 1px rgba(60, 64, 67, 0.15);\n",
              "      fill: #174EA6;\n",
              "    }\n",
              "\n",
              "    [theme=dark] .colab-df-convert {\n",
              "      background-color: #3B4455;\n",
              "      fill: #D2E3FC;\n",
              "    }\n",
              "\n",
              "    [theme=dark] .colab-df-convert:hover {\n",
              "      background-color: #434B5C;\n",
              "      box-shadow: 0px 1px 3px 1px rgba(0, 0, 0, 0.15);\n",
              "      filter: drop-shadow(0px 1px 2px rgba(0, 0, 0, 0.3));\n",
              "      fill: #FFFFFF;\n",
              "    }\n",
              "  </style>\n",
              "\n",
              "      <script>\n",
              "        const buttonEl =\n",
              "          document.querySelector('#df-c4585bf9-47a7-4a2e-8778-7fd415b96114 button.colab-df-convert');\n",
              "        buttonEl.style.display =\n",
              "          google.colab.kernel.accessAllowed ? 'block' : 'none';\n",
              "\n",
              "        async function convertToInteractive(key) {\n",
              "          const element = document.querySelector('#df-c4585bf9-47a7-4a2e-8778-7fd415b96114');\n",
              "          const dataTable =\n",
              "            await google.colab.kernel.invokeFunction('convertToInteractive',\n",
              "                                                     [key], {});\n",
              "          if (!dataTable) return;\n",
              "\n",
              "          const docLinkHtml = 'Like what you see? Visit the ' +\n",
              "            '<a target=\"_blank\" href=https://colab.research.google.com/notebooks/data_table.ipynb>data table notebook</a>'\n",
              "            + ' to learn more about interactive tables.';\n",
              "          element.innerHTML = '';\n",
              "          dataTable['output_type'] = 'display_data';\n",
              "          await google.colab.output.renderOutput(dataTable, element);\n",
              "          const docLink = document.createElement('div');\n",
              "          docLink.innerHTML = docLinkHtml;\n",
              "          element.appendChild(docLink);\n",
              "        }\n",
              "      </script>\n",
              "    </div>\n",
              "  </div>\n",
              "  "
            ]
          },
          "metadata": {},
          "execution_count": 7
        }
      ],
      "source": [
        "# Select the dataset for the analysis\n",
        "df = pd.read_csv(\"final_3label863.csv\")\n",
        "df = df[[\"sentence\", \"label\"]]\n",
        "\n",
        "# Show the data\n",
        "df.head()"
      ]
    },
    {
      "cell_type": "code",
      "execution_count": 8,
      "metadata": {
        "colab": {
          "base_uri": "https://localhost:8080/"
        },
        "id": "D_oqwS3LkHLt",
        "outputId": "0de38720-b53e-4e85-a1e5-7790df5a3db9"
      },
      "outputs": [
        {
          "output_type": "stream",
          "name": "stdout",
          "text": [
            "Total number of news: 862\n",
            "----------------------------------------\n",
            "Split by category:\n",
            "2    398\n",
            "1    300\n",
            "0    164\n",
            "Name: label, dtype: int64\n",
            "----------------------------------------\n",
            "Number of categories: 3\n"
          ]
        }
      ],
      "source": [
        "print('Total number of news: {}'.format(len(df)))\n",
        "print(40*'-')\n",
        "print('Split by category:')\n",
        "print(df[\"label\"].value_counts())\n",
        "print(40*'-')\n",
        "nr_categories = len(df[\"label\"].unique())\n",
        "print(\"Number of categories: {n}\".format(n=nr_categories))"
      ]
    },
    {
      "cell_type": "code",
      "execution_count": 9,
      "metadata": {
        "colab": {
          "base_uri": "https://localhost:8080/"
        },
        "id": "p6rCVgExkZXv",
        "outputId": "49c461a6-e938-42bb-9398-4bbaeb64ee61"
      },
      "outputs": [
        {
          "output_type": "stream",
          "name": "stdout",
          "text": [
            "Category:  1\n",
            "----------------------------------------------------------------------------------------------------\n",
            "Text:\n",
            "although naltrexone/bupropion may increase blood pressure and should therefore not be used in patients with uncontrolled hypertension, no adverse signal for increased cardiovascular events was found in the interim analysis of a cardiovascular outcome trial 75 .in 2014, liraglutide 3 mg became the first glp1-based aom to be introduced to the us market for treatment of obesity in adults, and in 2020 was approved for weight management in adolescents aged 12 years and older with obesity (see related links).\n"
          ]
        }
      ],
      "source": [
        "# You can adjust n:\n",
        "n=100\n",
        "print('Category: ',df['label'][n])\n",
        "print(100*'-')\n",
        "print('Text:')\n",
        "print(df['sentence'][n])"
      ]
    },
    {
      "cell_type": "code",
      "execution_count": 10,
      "metadata": {
        "colab": {
          "base_uri": "https://localhost:8080/"
        },
        "id": "kYuax8MLlBhX",
        "outputId": "f59312d8-7291-4ae8-f261-ede933da36b1"
      },
      "outputs": [
        {
          "output_type": "stream",
          "name": "stderr",
          "text": [
            "[nltk_data] Downloading package stopwords to /root/nltk_data...\n",
            "[nltk_data]   Unzipping corpora/stopwords.zip.\n",
            "[nltk_data] Downloading package wordnet to /root/nltk_data...\n",
            "[nltk_data] Downloading package omw-1.4 to /root/nltk_data...\n"
          ]
        },
        {
          "output_type": "execute_result",
          "data": {
            "text/plain": [
              "True"
            ]
          },
          "metadata": {},
          "execution_count": 10
        }
      ],
      "source": [
        "import nltk\n",
        "nltk.download('stopwords')\n",
        "nltk.download('wordnet')\n",
        "nltk.download('omw-1.4')"
      ]
    },
    {
      "cell_type": "code",
      "execution_count": 11,
      "metadata": {
        "colab": {
          "base_uri": "https://localhost:8080/",
          "height": 206
        },
        "id": "hVw1wbPEk2RO",
        "outputId": "1e87e2ae-a5e1-463e-99ab-3a5c31ac9de7"
      },
      "outputs": [
        {
          "output_type": "execute_result",
          "data": {
            "text/plain": [
              "                                            sentence  label  \\\n",
              "0  usage and adverse effects of identified mtbfad...      1   \n",
              "1  long-term maternal administration of ritodrine...      1   \n",
              "2  /2021 assessed for eligibility (n=102) exclude...      1   \n",
              "3  35 this is an important consideration when com...      1   \n",
              "4  thus, hospital admission in itself is a severe...      1   \n",
              "\n",
              "                                      sentence_clean  \n",
              "0  usage adverse effect identified mtbfadd32 pote...  \n",
              "1  longterm maternal administration ritodrine kno...  \n",
              "2  2021 assessed eligibility n102 excluded n5 scr...  \n",
              "3  35 important consideration comparing outcome r...  \n",
              "4  thus hospital admission severe prognostic fact...  "
            ],
            "text/html": [
              "\n",
              "  <div id=\"df-178c9c8b-f010-4918-ab9a-2fe587afbf7e\">\n",
              "    <div class=\"colab-df-container\">\n",
              "      <div>\n",
              "<style scoped>\n",
              "    .dataframe tbody tr th:only-of-type {\n",
              "        vertical-align: middle;\n",
              "    }\n",
              "\n",
              "    .dataframe tbody tr th {\n",
              "        vertical-align: top;\n",
              "    }\n",
              "\n",
              "    .dataframe thead th {\n",
              "        text-align: right;\n",
              "    }\n",
              "</style>\n",
              "<table border=\"1\" class=\"dataframe\">\n",
              "  <thead>\n",
              "    <tr style=\"text-align: right;\">\n",
              "      <th></th>\n",
              "      <th>sentence</th>\n",
              "      <th>label</th>\n",
              "      <th>sentence_clean</th>\n",
              "    </tr>\n",
              "  </thead>\n",
              "  <tbody>\n",
              "    <tr>\n",
              "      <th>0</th>\n",
              "      <td>usage and adverse effects of identified mtbfad...</td>\n",
              "      <td>1</td>\n",
              "      <td>usage adverse effect identified mtbfadd32 pote...</td>\n",
              "    </tr>\n",
              "    <tr>\n",
              "      <th>1</th>\n",
              "      <td>long-term maternal administration of ritodrine...</td>\n",
              "      <td>1</td>\n",
              "      <td>longterm maternal administration ritodrine kno...</td>\n",
              "    </tr>\n",
              "    <tr>\n",
              "      <th>2</th>\n",
              "      <td>/2021 assessed for eligibility (n=102) exclude...</td>\n",
              "      <td>1</td>\n",
              "      <td>2021 assessed eligibility n102 excluded n5 scr...</td>\n",
              "    </tr>\n",
              "    <tr>\n",
              "      <th>3</th>\n",
              "      <td>35 this is an important consideration when com...</td>\n",
              "      <td>1</td>\n",
              "      <td>35 important consideration comparing outcome r...</td>\n",
              "    </tr>\n",
              "    <tr>\n",
              "      <th>4</th>\n",
              "      <td>thus, hospital admission in itself is a severe...</td>\n",
              "      <td>1</td>\n",
              "      <td>thus hospital admission severe prognostic fact...</td>\n",
              "    </tr>\n",
              "  </tbody>\n",
              "</table>\n",
              "</div>\n",
              "      <button class=\"colab-df-convert\" onclick=\"convertToInteractive('df-178c9c8b-f010-4918-ab9a-2fe587afbf7e')\"\n",
              "              title=\"Convert this dataframe to an interactive table.\"\n",
              "              style=\"display:none;\">\n",
              "        \n",
              "  <svg xmlns=\"http://www.w3.org/2000/svg\" height=\"24px\"viewBox=\"0 0 24 24\"\n",
              "       width=\"24px\">\n",
              "    <path d=\"M0 0h24v24H0V0z\" fill=\"none\"/>\n",
              "    <path d=\"M18.56 5.44l.94 2.06.94-2.06 2.06-.94-2.06-.94-.94-2.06-.94 2.06-2.06.94zm-11 1L8.5 8.5l.94-2.06 2.06-.94-2.06-.94L8.5 2.5l-.94 2.06-2.06.94zm10 10l.94 2.06.94-2.06 2.06-.94-2.06-.94-.94-2.06-.94 2.06-2.06.94z\"/><path d=\"M17.41 7.96l-1.37-1.37c-.4-.4-.92-.59-1.43-.59-.52 0-1.04.2-1.43.59L10.3 9.45l-7.72 7.72c-.78.78-.78 2.05 0 2.83L4 21.41c.39.39.9.59 1.41.59.51 0 1.02-.2 1.41-.59l7.78-7.78 2.81-2.81c.8-.78.8-2.07 0-2.86zM5.41 20L4 18.59l7.72-7.72 1.47 1.35L5.41 20z\"/>\n",
              "  </svg>\n",
              "      </button>\n",
              "      \n",
              "  <style>\n",
              "    .colab-df-container {\n",
              "      display:flex;\n",
              "      flex-wrap:wrap;\n",
              "      gap: 12px;\n",
              "    }\n",
              "\n",
              "    .colab-df-convert {\n",
              "      background-color: #E8F0FE;\n",
              "      border: none;\n",
              "      border-radius: 50%;\n",
              "      cursor: pointer;\n",
              "      display: none;\n",
              "      fill: #1967D2;\n",
              "      height: 32px;\n",
              "      padding: 0 0 0 0;\n",
              "      width: 32px;\n",
              "    }\n",
              "\n",
              "    .colab-df-convert:hover {\n",
              "      background-color: #E2EBFA;\n",
              "      box-shadow: 0px 1px 2px rgba(60, 64, 67, 0.3), 0px 1px 3px 1px rgba(60, 64, 67, 0.15);\n",
              "      fill: #174EA6;\n",
              "    }\n",
              "\n",
              "    [theme=dark] .colab-df-convert {\n",
              "      background-color: #3B4455;\n",
              "      fill: #D2E3FC;\n",
              "    }\n",
              "\n",
              "    [theme=dark] .colab-df-convert:hover {\n",
              "      background-color: #434B5C;\n",
              "      box-shadow: 0px 1px 3px 1px rgba(0, 0, 0, 0.15);\n",
              "      filter: drop-shadow(0px 1px 2px rgba(0, 0, 0, 0.3));\n",
              "      fill: #FFFFFF;\n",
              "    }\n",
              "  </style>\n",
              "\n",
              "      <script>\n",
              "        const buttonEl =\n",
              "          document.querySelector('#df-178c9c8b-f010-4918-ab9a-2fe587afbf7e button.colab-df-convert');\n",
              "        buttonEl.style.display =\n",
              "          google.colab.kernel.accessAllowed ? 'block' : 'none';\n",
              "\n",
              "        async function convertToInteractive(key) {\n",
              "          const element = document.querySelector('#df-178c9c8b-f010-4918-ab9a-2fe587afbf7e');\n",
              "          const dataTable =\n",
              "            await google.colab.kernel.invokeFunction('convertToInteractive',\n",
              "                                                     [key], {});\n",
              "          if (!dataTable) return;\n",
              "\n",
              "          const docLinkHtml = 'Like what you see? Visit the ' +\n",
              "            '<a target=\"_blank\" href=https://colab.research.google.com/notebooks/data_table.ipynb>data table notebook</a>'\n",
              "            + ' to learn more about interactive tables.';\n",
              "          element.innerHTML = '';\n",
              "          dataTable['output_type'] = 'display_data';\n",
              "          await google.colab.output.renderOutput(dataTable, element);\n",
              "          const docLink = document.createElement('div');\n",
              "          docLink.innerHTML = docLinkHtml;\n",
              "          element.appendChild(docLink);\n",
              "        }\n",
              "      </script>\n",
              "    </div>\n",
              "  </div>\n",
              "  "
            ]
          },
          "metadata": {},
          "execution_count": 11
        }
      ],
      "source": [
        "# Reference: Text Classification with NLP: Tf-Idf vs Word2Vec vs BERT from Medium\n",
        "\n",
        "# Use stopwords list from nltk\n",
        "lst_stopwords = nltk.corpus.stopwords.words(\"english\")\n",
        "\n",
        "def utils_preprocess_text(text, flg_stemm=False, flg_lemm=True, lst_stopwords=None):\n",
        "    # Clean (convert to lowercase and remove punctuations and characters and then strip)\n",
        "    # The function is not optimized for speed but split into various steps for pedagogical purpose\n",
        "    text = str(text).lower()\n",
        "    text = text.strip()\n",
        "    text = re.sub(r'[^\\w\\s]', '', text)\n",
        "\n",
        "    # Tokenize (convert from string to list)\n",
        "    lst_text = text.split()\n",
        "    # remove Stopwords\n",
        "    if lst_stopwords is not None:\n",
        "        lst_text = [word for word in lst_text if word not in lst_stopwords]\n",
        "\n",
        "    # Stemming (remove -ing, -ly, ...)\n",
        "    if flg_stemm == True:\n",
        "        ps = nltk.stem.porter.PorterStemmer()\n",
        "        lst_text = [ps.stem(word) for word in lst_text]\n",
        "\n",
        "    # Lemmatisation (convert the word into root word)\n",
        "    if flg_lemm == True:\n",
        "        lem = nltk.stem.wordnet.WordNetLemmatizer()\n",
        "        lst_text = [lem.lemmatize(word) for word in lst_text]\n",
        "\n",
        "    # back to string from list\n",
        "    text = \" \".join(lst_text)\n",
        "    return text\n",
        "# Let's apply this function to the whole corpus\n",
        "df[\"sentence_clean\"] = df[\"sentence\"].apply(lambda x: utils_preprocess_text(x, flg_stemm=False, flg_lemm=True, lst_stopwords=lst_stopwords))\n",
        "\n",
        "# Let's look at the output\n",
        "df.head()"
      ]
    },
    {
      "cell_type": "code",
      "execution_count": 12,
      "metadata": {
        "id": "7ppOixDjmCrX"
      },
      "outputs": [],
      "source": [
        "X = df['sentence_clean']\n",
        "y = df['label']"
      ]
    },
    {
      "cell_type": "code",
      "execution_count": 13,
      "metadata": {
        "id": "C91ShVLcmLGr"
      },
      "outputs": [],
      "source": [
        "X_train, X_test, y_train, y_test = train_test_split(X, y, test_size=0.3, random_state=42, stratify=df['label'])"
      ]
    },
    {
      "cell_type": "code",
      "execution_count": 14,
      "metadata": {
        "colab": {
          "base_uri": "https://localhost:8080/"
        },
        "id": "0cWXixk2maY1",
        "outputId": "c9b9f66d-183d-4c87-912b-c37c97d04a98"
      },
      "outputs": [
        {
          "output_type": "execute_result",
          "data": {
            "text/plain": [
              "2    0.698492\n",
              "1    0.700000\n",
              "0    0.701220\n",
              "Name: label, dtype: float64"
            ]
          },
          "metadata": {},
          "execution_count": 14
        }
      ],
      "source": [
        "y_train.value_counts()/y.value_counts()\n"
      ]
    },
    {
      "cell_type": "code",
      "execution_count": 15,
      "metadata": {
        "colab": {
          "base_uri": "https://localhost:8080/"
        },
        "id": "OsU0pvZBmjFh",
        "outputId": "dc4bb635-d411-4fe4-bfdd-b6238976c4ed"
      },
      "outputs": [
        {
          "output_type": "execute_result",
          "data": {
            "text/plain": [
              "TfidfVectorizer(max_features=15000, ngram_range=(1, 2))"
            ]
          },
          "metadata": {},
          "execution_count": 15
        }
      ],
      "source": [
        "corpus = X_train\n",
        "#Initizalize the vectorizer with max nr words and ngrams (1: single words, 2: two words in a row)\n",
        "vectorizer_tfidf = TfidfVectorizer(max_features=15000, ngram_range=(1,2))\n",
        "# Fit the vectorizer to the training data\n",
        "vectorizer_tfidf.fit(corpus)\n",
        "TfidfVectorizer(max_features=15000, ngram_range=(1, 2))"
      ]
    },
    {
      "cell_type": "code",
      "execution_count": 16,
      "metadata": {
        "id": "Y5OpM4Zcms-Y"
      },
      "outputs": [],
      "source": [
        "classifier_tfidf = LogisticRegression()\n",
        "model_tfidf = Pipeline([(\"vectorizer\", vectorizer_tfidf), (\"classifier\", classifier_tfidf)])\n",
        "\n",
        "start_time = datetime.now()\n",
        "model_tfidf.fit(X_train, y_train)\n",
        "end_time = datetime.now()\n",
        "\n",
        "training_time_tfidf = (end_time - start_time).total_seconds()"
      ]
    },
    {
      "cell_type": "code",
      "execution_count": 17,
      "metadata": {
        "colab": {
          "base_uri": "https://localhost:8080/"
        },
        "id": "DBYYWRjWm3Eo",
        "outputId": "946633e0-7bff-45b3-e3b0-0abf3c9341d3"
      },
      "outputs": [
        {
          "output_type": "stream",
          "name": "stdout",
          "text": [
            "Accuracy Training data: 92.0%\n",
            "Accuracy Test data: 75.7%\n",
            "Training time: 0.5s\n"
          ]
        }
      ],
      "source": [
        "predicted_train_tfidf = model_tfidf.predict(X_train)\n",
        "accuracy_train_tfidf = accuracy_score(y_train, predicted_train_tfidf)\n",
        "print('Accuracy Training data: {:.1%}'.format(accuracy_train_tfidf))\n",
        "predicted_test_tfidf = model_tfidf.predict(X_test)\n",
        "accuracy_test_tfidf = accuracy_score(y_test, predicted_test_tfidf)\n",
        "accuracy_tfidf = accuracy_test_tfidf\n",
        "print('Accuracy Test data: {:.1%}'.format(accuracy_test_tfidf))\n",
        "\n",
        "print('Training time: {:.1f}s'.format(training_time_tfidf))"
      ]
    },
    {
      "cell_type": "code",
      "execution_count": 18,
      "metadata": {
        "id": "4evZErH9nekV"
      },
      "outputs": [],
      "source": [
        "from sklearn.metrics import confusion_matrix\n",
        "matrix = confusion_matrix(y_test, predicted_test_tfidf)\n",
        "#matrix = matrix /matrix.astype(np.float).sum(axis=0)"
      ]
    },
    {
      "cell_type": "code",
      "execution_count": 19,
      "metadata": {
        "colab": {
          "base_uri": "https://localhost:8080/",
          "height": 509
        },
        "id": "i4daRKc0sJ3j",
        "outputId": "6c9682a7-b5dc-427d-d624-5e0c4e7a1a71"
      },
      "outputs": [
        {
          "output_type": "execute_result",
          "data": {
            "text/plain": [
              "207    1\n",
              "607    2\n",
              "676    2\n",
              "283    1\n",
              "346    2\n",
              "      ..\n",
              "463    2\n",
              "589    2\n",
              "553    2\n",
              "856    0\n",
              "814    0\n",
              "Name: label, Length: 259, dtype: int64"
            ]
          },
          "metadata": {},
          "execution_count": 19
        },
        {
          "output_type": "display_data",
          "data": {
            "text/plain": [
              "<Figure size 432x288 with 2 Axes>"
            ],
            "image/png": "[encoded data removed]"
          },
          "metadata": {
            "needs_background": "light"
          }
        }
      ],
      "source": [
        "ax= plt.subplot()\n",
        "conf_matrix = pd.DataFrame(matrix)\n",
        "conf_matrix=sns.heatmap(matrix, annot=True, fmt='g', ax=ax);\n",
        "#conf_matrix = conf_matrix.astype('float') / conf_matrix.sum(axis=1)[:, np.newaxis]\n",
        "ax.set_title('Confusion Matrix Logistic Regreesion TFIDF'); \n",
        "ax.set_xlabel('Predicted labels');\n",
        "ax.set_ylabel('True labels'); \n",
        "ax.xaxis.set_ticklabels(['Negative', 'Positive']); ax.yaxis.set_ticklabels(['Negative', 'Positive']);\n",
        "y_test"
      ]
    },
    {
      "cell_type": "code",
      "execution_count": 20,
      "metadata": {
        "colab": {
          "base_uri": "https://localhost:8080/"
        },
        "id": "haIuNLQVqBYN",
        "outputId": "5c9a61f5-fead-4e1c-9cc0-4f3264261920"
      },
      "outputs": [
        {
          "output_type": "stream",
          "name": "stdout",
          "text": [
            "              precision    recall  f1-score   support\n",
            "\n",
            "           0       1.00      0.06      0.12        49\n",
            "           1       0.84      0.90      0.87        90\n",
            "           2       0.70      0.93      0.80       120\n",
            "\n",
            "    accuracy                           0.76       259\n",
            "   macro avg       0.85      0.63      0.60       259\n",
            "weighted avg       0.81      0.76      0.70       259\n",
            "\n"
          ]
        }
      ],
      "source": [
        "from sklearn.metrics import classification_report\n",
        "print(classification_report(y_test, predicted_test_tfidf))\n"
      ]
    },
    {
      "cell_type": "code",
      "execution_count": 21,
      "metadata": {
        "colab": {
          "base_uri": "https://localhost:8080/",
          "height": 265
        },
        "id": "gcw7P2KCwyuq",
        "outputId": "a77f9076-3c19-4e4c-e2c3-79cade474cc2"
      },
      "outputs": [
        {
          "output_type": "display_data",
          "data": {
            "text/plain": [
              "<Figure size 432x288 with 2 Axes>"
            ],
            "image/png": "[encoded data removed]"
          },
          "metadata": {
            "needs_background": "light"
          }
        }
      ],
      "source": [
        "clf_report_nn = classification_report(y_test, predicted_test_tfidf, labels=[1, 2 ], target_names=['Negative', 'Positive'], output_dict=True)\n",
        "sns.heatmap(pd.DataFrame(clf_report_nn).iloc[:-1, :].T, annot=True)\n",
        "ax.set_title('Classification Report Neural Network'); "
      ]
    },
    {
      "cell_type": "code",
      "execution_count": 22,
      "metadata": {
        "colab": {
          "base_uri": "https://localhost:8080/"
        },
        "id": "ilRW-DIR7w7L",
        "outputId": "d8ea3c7c-1804-408c-eb3b-c9cbc287720c"
      },
      "outputs": [
        {
          "output_type": "stream",
          "name": "stdout",
          "text": [
            "Coding of labels into a one-hot vector: 1 is  [0 1 0]\n"
          ]
        }
      ],
      "source": [
        "# Renaming, Input -> X, Output -> y\n",
        "X_tf = df['sentence']\n",
        "y_tf_class = df['label']\n",
        "#Convert labels into a one-hot vector of size 5 (the number of distinct labels)\n",
        "lab = LabelBinarizer()\n",
        "lab.fit(y_tf_class)\n",
        "y_tf = lab.transform(y_tf_class)\n",
        "n=100\n",
        "print('Coding of labels into a one-hot vector: ' +str(y_tf_class[n]) + ' is ', y_tf[n])\n",
        "\n",
        "# Split into training and test data\n",
        "X_tf_train, X_tf_test, y_tf_train, y_tf_test = train_test_split(X_tf, y_tf, test_size=0.5, random_state=42, stratify=df['label'])"
      ]
    },
    {
      "cell_type": "code",
      "execution_count": 23,
      "metadata": {
        "id": "UzRMXNpX9gVU"
      },
      "outputs": [],
      "source": [
        "corpus = X_tf_train\n",
        "max_words = 5000\n",
        "tokenizer = kprocessing.text.Tokenizer(lower=True, split=' ', num_words=max_words, oov_token=\"<pad>\", filters='!\"#$%&()*+,-./:;<=>?@[\\\\]^_`{|}~\\t\\n')\n",
        "tokenizer.fit_on_texts(corpus)\n",
        "voc = tokenizer.word_index\n",
        "reverse_voc = dict([(value, key) for (key, value) in voc.items()])"
      ]
    },
    {
      "cell_type": "code",
      "execution_count": 24,
      "metadata": {
        "colab": {
          "base_uri": "https://localhost:8080/"
        },
        "id": "JL-5ceSL9v11",
        "outputId": "ed396973-e9d8-404b-e0ff-f9c50f793cf5"
      },
      "outputs": [
        {
          "output_type": "stream",
          "name": "stdout",
          "text": [
            "Shape:  (431, 250)\n",
            "----------------------------------------------------------------------------------------------------\n",
            "Example:  [   0    0    0    0    0    0    0    0    0    0    0    0    0    0\n",
            "    0    0    0    0    0    0    0    0    0    0    0    0    0    0\n",
            "    0    0    0    0    0    0    0    0    0    0    0    0    0    0\n",
            "    0    0    0    0    0    0    0    0    0    0    0    0    0    0\n",
            "    0    0    0    0    0    0    0    0    0    0    0    0    0    0\n",
            "    0    0    0    0    0    0    0    0    0    0    0    0    0    0\n",
            "    0    0    0    0    0    0    0    0    0    0    0    0    0    0\n",
            "    0    0    0    0    0    0    0    0    0    0    0    0    0    0\n",
            "    0    0    0    0    0    0    0    0    0    0    0    0    0    0\n",
            "    0    0    0    0    0    0    0    0    0    0    0    0    0    0\n",
            "    0    0    0    0    0    0    0    0    0    0    0    0    0    0\n",
            "    0    0    0    0    0    0    0    0    0    0    0    0    0    0\n",
            "    0    0    0    0    0    0    0    0    0    0    0    0    0    0\n",
            "    0    0    0    0    0    0    0    0    0    0    0    0    0    0\n",
            "    0    0    0    0    0    0    0    0    0    0    0    0    0    0\n",
            "    0    0    0    0    0    0    0    0    0   10   78  986 1870  353\n",
            "   55   15 2512  106  353   96   17  501    6 3917   18  154    7 1435\n",
            "  604    9 1871 3918  144  121   26 1872  686  312 1189  330]\n"
          ]
        }
      ],
      "source": [
        "max_len = 250\n",
        "sequences = tokenizer.texts_to_sequences(X_tf_train)\n",
        "X_tf_train_seq = kprocessing.sequence.pad_sequences(sequences, maxlen=max_len)\n",
        "# Apply the same to test data\n",
        "X_tf_test_seq = kprocessing.sequence.pad_sequences(tokenizer.texts_to_sequences(X_tf_test), maxlen=max_len)\n",
        "n=10 # You can adjust n\n",
        "print('Shape: ',X_tf_train_seq.shape)\n",
        "print(100*'-')\n",
        "print('Example: ',X_tf_train_seq[n,:])"
      ]
    },
    {
      "cell_type": "code",
      "execution_count": 25,
      "metadata": {
        "id": "5dD23y7Q_hl1",
        "colab": {
          "base_uri": "https://localhost:8080/"
        },
        "outputId": "70334920-4166-4a68-ee25-483beaa97642"
      },
      "outputs": [
        {
          "output_type": "stream",
          "name": "stdout",
          "text": [
            "[==================================================] 100.0% 1662.8/1662.8MB downloaded\n"
          ]
        }
      ],
      "source": [
        "# This may take several minutes\n",
        "w2v = api.load(\"word2vec-google-news-300\")\n",
        "# Example of a word representation:\n",
        "w2v['hello'].shape\n",
        "(300,)\n",
        "# Build weights of the embbeddings matrix using w2v\n",
        "emb_matrix=np.zeros((max_words+1, 300))\n",
        "for i in range(max_words):\n",
        "    w = reverse_voc[i+1]\n",
        "    if w in w2v:\n",
        "      emb_matrix[i+1,:] = w2v[w]\n",
        "emb_size = emb_matrix.shape[1]\n"
      ]
    },
    {
      "cell_type": "code",
      "execution_count": 26,
      "metadata": {
        "id": "bXl9c0J9nrjK"
      },
      "outputs": [],
      "source": [
        "input_ = layers.Input(shape = X_tf_train_seq[0,:].shape,name='input')\n",
        "# Embedding layer (voc size plus un (\"UNK\", word with index 0)), using the pre-trained emb_matrix obtained from Word2Vec\n",
        "x = layers.Embedding(max_words+1,emb_size,weights=[emb_matrix],trainable=False, name='embedding')(input_)\n",
        "x = layers.Bidirectional(layers.LSTM(15,dropout=0.2),name='bidirectional-lstm')(x) # LSTM layer\n",
        "x = layers.Dropout(0.2, name='dropout')(x)\n",
        "x = layers.Dense(64, activation='relu', name='dense')(x)\n",
        "output = layers.Dense(3,activation='softmax', name='classification')(x)\n",
        "model = models.Model(input_, output)\n",
        "opt = optimizers.Adam(learning_rate=0.01, beta_1=0.9)\n",
        "model.compile(optimizer=opt,loss='categorical_crossentropy', metrics=['accuracy'])"
      ]
    },
    {
      "cell_type": "code",
      "execution_count": 27,
      "metadata": {
        "colab": {
          "base_uri": "https://localhost:8080/"
        },
        "id": "-5vx0_RdnxQ2",
        "outputId": "f0cb4c21-0441-4442-b42b-61d4eea6a85b"
      },
      "outputs": [
        {
          "output_type": "stream",
          "name": "stdout",
          "text": [
            "Model: \"model\"\n",
            "_________________________________________________________________\n",
            " Layer (type)                Output Shape              Param #   \n",
            "=================================================================\n",
            " input (InputLayer)          [(None, 250)]             0         \n",
            "                                                                 \n",
            " embedding (Embedding)       (None, 250, 300)          1500300   \n",
            "                                                                 \n",
            " bidirectional-lstm (Bidirec  (None, 30)               37920     \n",
            " tional)                                                         \n",
            "                                                                 \n",
            " dropout (Dropout)           (None, 30)                0         \n",
            "                                                                 \n",
            " dense (Dense)               (None, 64)                1984      \n",
            "                                                                 \n",
            " classification (Dense)      (None, 3)                 195       \n",
            "                                                                 \n",
            "=================================================================\n",
            "Total params: 1,540,399\n",
            "Trainable params: 40,099\n",
            "Non-trainable params: 1,500,300\n",
            "_________________________________________________________________\n"
          ]
        }
      ],
      "source": [
        "model.summary()\n"
      ]
    },
    {
      "cell_type": "code",
      "execution_count": 28,
      "metadata": {
        "id": "0OyHZ2NCypBH"
      },
      "outputs": [],
      "source": [
        "# early stopping callback\n",
        "# This callback will stop the training when there is no improvement in  \n",
        "# the validation loss for 10 consecutive epochs. \n",
        "import keras\n",
        "from keras.callbacks import EarlyStopping\n",
        "es = keras.callbacks.EarlyStopping(monitor = 'val_loss',\n",
        "                                   mode = 'min',\n",
        "                                   patience = 50,\n",
        "                                   restore_best_weights = True,\n",
        "                                   verbose= 1)"
      ]
    },
    {
      "cell_type": "code",
      "execution_count": 29,
      "metadata": {
        "colab": {
          "base_uri": "https://localhost:8080/"
        },
        "id": "VsrrlEwgoAUp",
        "outputId": "9c54b15c-c712-4422-8786-b165f82cfc6d"
      },
      "outputs": [
        {
          "output_type": "stream",
          "name": "stdout",
          "text": [
            "Epoch 1/100\n",
            "14/14 [==============================] - 10s 110ms/step - loss: 1.0268 - accuracy: 0.4896 - val_loss: 0.9996 - val_accuracy: 0.5035\n",
            "Epoch 2/100\n",
            "14/14 [==============================] - 0s 36ms/step - loss: 0.8743 - accuracy: 0.6218 - val_loss: 1.0459 - val_accuracy: 0.5754\n",
            "Epoch 3/100\n",
            "14/14 [==============================] - 1s 37ms/step - loss: 0.7192 - accuracy: 0.7193 - val_loss: 0.8226 - val_accuracy: 0.6682\n",
            "Epoch 4/100\n",
            "14/14 [==============================] - 1s 37ms/step - loss: 0.5580 - accuracy: 0.7889 - val_loss: 0.6958 - val_accuracy: 0.7541\n",
            "Epoch 5/100\n",
            "14/14 [==============================] - 0s 36ms/step - loss: 0.8414 - accuracy: 0.6450 - val_loss: 1.0680 - val_accuracy: 0.5661\n",
            "Epoch 6/100\n",
            "14/14 [==============================] - 1s 36ms/step - loss: 0.7043 - accuracy: 0.6984 - val_loss: 0.5766 - val_accuracy: 0.7517\n",
            "Epoch 7/100\n",
            "14/14 [==============================] - 0s 35ms/step - loss: 0.4433 - accuracy: 0.8329 - val_loss: 0.6101 - val_accuracy: 0.7193\n",
            "Epoch 8/100\n",
            "14/14 [==============================] - 0s 35ms/step - loss: 0.3625 - accuracy: 0.8654 - val_loss: 0.6809 - val_accuracy: 0.7564\n",
            "Epoch 9/100\n",
            "14/14 [==============================] - 0s 36ms/step - loss: 0.3169 - accuracy: 0.8910 - val_loss: 0.7093 - val_accuracy: 0.7749\n",
            "Epoch 10/100\n",
            "14/14 [==============================] - 0s 35ms/step - loss: 0.3365 - accuracy: 0.8770 - val_loss: 0.6832 - val_accuracy: 0.7378\n",
            "Epoch 11/100\n",
            "14/14 [==============================] - 1s 51ms/step - loss: 0.2704 - accuracy: 0.8979 - val_loss: 0.6842 - val_accuracy: 0.7262\n",
            "Epoch 12/100\n",
            "14/14 [==============================] - 1s 64ms/step - loss: 0.2238 - accuracy: 0.9211 - val_loss: 0.7797 - val_accuracy: 0.7541\n",
            "Epoch 13/100\n",
            "14/14 [==============================] - 1s 61ms/step - loss: 0.2330 - accuracy: 0.9304 - val_loss: 0.8281 - val_accuracy: 0.7541\n",
            "Epoch 14/100\n",
            "14/14 [==============================] - 1s 56ms/step - loss: 0.1722 - accuracy: 0.9397 - val_loss: 0.8689 - val_accuracy: 0.7633\n",
            "Epoch 15/100\n",
            "14/14 [==============================] - 1s 57ms/step - loss: 0.1698 - accuracy: 0.9420 - val_loss: 0.8894 - val_accuracy: 0.7471\n",
            "Epoch 16/100\n",
            "14/14 [==============================] - 1s 75ms/step - loss: 0.1619 - accuracy: 0.9490 - val_loss: 0.9865 - val_accuracy: 0.7541\n",
            "Epoch 17/100\n",
            "14/14 [==============================] - 1s 68ms/step - loss: 0.1686 - accuracy: 0.9374 - val_loss: 0.8668 - val_accuracy: 0.7378\n",
            "Epoch 18/100\n",
            "14/14 [==============================] - 1s 59ms/step - loss: 0.1089 - accuracy: 0.9582 - val_loss: 1.0573 - val_accuracy: 0.7332\n",
            "Epoch 19/100\n",
            "14/14 [==============================] - 1s 55ms/step - loss: 0.1417 - accuracy: 0.9582 - val_loss: 1.1825 - val_accuracy: 0.6705\n",
            "Epoch 20/100\n",
            "14/14 [==============================] - 1s 59ms/step - loss: 0.1202 - accuracy: 0.9536 - val_loss: 1.0094 - val_accuracy: 0.7169\n",
            "Epoch 21/100\n",
            "14/14 [==============================] - 1s 65ms/step - loss: 0.0917 - accuracy: 0.9675 - val_loss: 1.0844 - val_accuracy: 0.7378\n",
            "Epoch 22/100\n",
            "14/14 [==============================] - 1s 64ms/step - loss: 0.0759 - accuracy: 0.9745 - val_loss: 1.2312 - val_accuracy: 0.7262\n",
            "Epoch 23/100\n",
            "14/14 [==============================] - 1s 51ms/step - loss: 0.0759 - accuracy: 0.9675 - val_loss: 1.2787 - val_accuracy: 0.7077\n",
            "Epoch 24/100\n",
            "14/14 [==============================] - 1s 58ms/step - loss: 0.0754 - accuracy: 0.9745 - val_loss: 1.3834 - val_accuracy: 0.7355\n",
            "Epoch 25/100\n",
            "14/14 [==============================] - 1s 62ms/step - loss: 0.0972 - accuracy: 0.9698 - val_loss: 1.4129 - val_accuracy: 0.7355\n",
            "Epoch 26/100\n",
            "14/14 [==============================] - 1s 64ms/step - loss: 0.0769 - accuracy: 0.9722 - val_loss: 1.5345 - val_accuracy: 0.6543\n",
            "Epoch 27/100\n",
            "14/14 [==============================] - 1s 66ms/step - loss: 0.0882 - accuracy: 0.9606 - val_loss: 1.4773 - val_accuracy: 0.7448\n",
            "Epoch 28/100\n",
            "14/14 [==============================] - 1s 59ms/step - loss: 0.1145 - accuracy: 0.9629 - val_loss: 1.4445 - val_accuracy: 0.7355\n",
            "Epoch 29/100\n",
            "14/14 [==============================] - 1s 70ms/step - loss: 0.0858 - accuracy: 0.9745 - val_loss: 1.3200 - val_accuracy: 0.7123\n",
            "Epoch 30/100\n",
            "14/14 [==============================] - 1s 76ms/step - loss: 0.1275 - accuracy: 0.9629 - val_loss: 1.2482 - val_accuracy: 0.7193\n",
            "Epoch 31/100\n",
            "14/14 [==============================] - 1s 72ms/step - loss: 0.0629 - accuracy: 0.9814 - val_loss: 1.1794 - val_accuracy: 0.7332\n",
            "Epoch 32/100\n",
            "14/14 [==============================] - 1s 72ms/step - loss: 0.0735 - accuracy: 0.9745 - val_loss: 1.3824 - val_accuracy: 0.7285\n",
            "Epoch 33/100\n",
            "14/14 [==============================] - 1s 64ms/step - loss: 0.0428 - accuracy: 0.9791 - val_loss: 1.5897 - val_accuracy: 0.7077\n",
            "Epoch 34/100\n",
            "14/14 [==============================] - 1s 69ms/step - loss: 0.0609 - accuracy: 0.9814 - val_loss: 1.8164 - val_accuracy: 0.6705\n",
            "Epoch 35/100\n",
            "14/14 [==============================] - 1s 68ms/step - loss: 0.0701 - accuracy: 0.9814 - val_loss: 1.2770 - val_accuracy: 0.7239\n",
            "Epoch 36/100\n",
            "14/14 [==============================] - 1s 67ms/step - loss: 0.0295 - accuracy: 0.9930 - val_loss: 1.4165 - val_accuracy: 0.7471\n",
            "Epoch 37/100\n",
            "14/14 [==============================] - 1s 83ms/step - loss: 0.0274 - accuracy: 0.9930 - val_loss: 1.6600 - val_accuracy: 0.7610\n",
            "Epoch 38/100\n",
            "14/14 [==============================] - 1s 76ms/step - loss: 0.0176 - accuracy: 0.9930 - val_loss: 1.6307 - val_accuracy: 0.7378\n",
            "Epoch 39/100\n",
            "14/14 [==============================] - 1s 77ms/step - loss: 0.0613 - accuracy: 0.9884 - val_loss: 1.6406 - val_accuracy: 0.7216\n",
            "Epoch 40/100\n",
            "14/14 [==============================] - 1s 61ms/step - loss: 0.1228 - accuracy: 0.9698 - val_loss: 1.4782 - val_accuracy: 0.7378\n",
            "Epoch 41/100\n",
            "14/14 [==============================] - 1s 69ms/step - loss: 0.0686 - accuracy: 0.9791 - val_loss: 1.4851 - val_accuracy: 0.7169\n",
            "Epoch 42/100\n",
            "14/14 [==============================] - 1s 73ms/step - loss: 0.0493 - accuracy: 0.9838 - val_loss: 1.6735 - val_accuracy: 0.7633\n",
            "Epoch 43/100\n",
            "14/14 [==============================] - 1s 68ms/step - loss: 0.0463 - accuracy: 0.9814 - val_loss: 1.7484 - val_accuracy: 0.6961\n",
            "Epoch 44/100\n",
            "14/14 [==============================] - 1s 58ms/step - loss: 0.0690 - accuracy: 0.9768 - val_loss: 1.8080 - val_accuracy: 0.7564\n",
            "Epoch 45/100\n",
            "14/14 [==============================] - 1s 56ms/step - loss: 0.0830 - accuracy: 0.9745 - val_loss: 1.5746 - val_accuracy: 0.7587\n",
            "Epoch 46/100\n",
            "14/14 [==============================] - 1s 60ms/step - loss: 0.0863 - accuracy: 0.9675 - val_loss: 1.2464 - val_accuracy: 0.7100\n",
            "Epoch 47/100\n",
            "14/14 [==============================] - 1s 74ms/step - loss: 0.0389 - accuracy: 0.9861 - val_loss: 1.3519 - val_accuracy: 0.7494\n",
            "Epoch 48/100\n",
            "14/14 [==============================] - 1s 89ms/step - loss: 0.0354 - accuracy: 0.9884 - val_loss: 1.5235 - val_accuracy: 0.7123\n",
            "Epoch 49/100\n",
            "14/14 [==============================] - 1s 67ms/step - loss: 0.0273 - accuracy: 0.9907 - val_loss: 1.6256 - val_accuracy: 0.7494\n",
            "Epoch 50/100\n",
            "14/14 [==============================] - 1s 80ms/step - loss: 0.0200 - accuracy: 0.9930 - val_loss: 1.6847 - val_accuracy: 0.7401\n",
            "Epoch 51/100\n",
            "14/14 [==============================] - 1s 58ms/step - loss: 0.0066 - accuracy: 0.9977 - val_loss: 1.7537 - val_accuracy: 0.7471\n",
            "Epoch 52/100\n",
            "14/14 [==============================] - 1s 72ms/step - loss: 0.0142 - accuracy: 0.9930 - val_loss: 1.8145 - val_accuracy: 0.7355\n",
            "Epoch 53/100\n",
            "14/14 [==============================] - 1s 57ms/step - loss: 0.0136 - accuracy: 0.9954 - val_loss: 1.8266 - val_accuracy: 0.7401\n",
            "Epoch 54/100\n",
            "14/14 [==============================] - 1s 62ms/step - loss: 0.0175 - accuracy: 0.9907 - val_loss: 1.8009 - val_accuracy: 0.7517\n",
            "Epoch 55/100\n",
            "14/14 [==============================] - 1s 56ms/step - loss: 0.0121 - accuracy: 0.9930 - val_loss: 1.8979 - val_accuracy: 0.7401\n",
            "Epoch 56/100\n",
            "13/14 [==========================>...] - ETA: 0s - loss: 0.0052 - accuracy: 0.9976Restoring model weights from the end of the best epoch: 6.\n",
            "14/14 [==============================] - 1s 62ms/step - loss: 0.0057 - accuracy: 0.9977 - val_loss: 2.0391 - val_accuracy: 0.7494\n",
            "Epoch 56: early stopping\n"
          ]
        }
      ],
      "source": [
        "start_time = datetime.now()\n",
        "history = model.fit(X_tf_train_seq, y_tf_train, batch_size=32, shuffle=True, callbacks = [es], verbose=1, epochs=100, validation_data=(X_tf_test_seq, y_tf_test))\n",
        "end_time = datetime.now()\n",
        "training_time_rnn = (end_time - start_time).total_seconds()"
      ]
    },
    {
      "cell_type": "code",
      "execution_count": 30,
      "metadata": {
        "colab": {
          "base_uri": "https://localhost:8080/",
          "height": 354
        },
        "id": "lV9XXiQxoWtu",
        "outputId": "ceda7d71-e9a2-461a-fc0b-6455b9569c11"
      },
      "outputs": [
        {
          "output_type": "execute_result",
          "data": {
            "text/plain": [
              "<matplotlib.legend.Legend at 0x7fab201ea3d0>"
            ]
          },
          "metadata": {},
          "execution_count": 30
        },
        {
          "output_type": "display_data",
          "data": {
            "text/plain": [
              "<Figure size 1080x360 with 2 Axes>"
            ],
            "image/png": "[encoded data removed]"
          },
          "metadata": {
            "needs_background": "light"
          }
        }
      ],
      "source": [
        "fig, ax = plt.subplots(nrows=1, ncols=2, figsize=(15, 5))\n",
        "ax[0].set(title='Loss')\n",
        "ax[0].plot(history.history['loss'], label='Training')\n",
        "ax[0].plot(history.history['val_loss'], label='Validation')\n",
        "ax[0].legend(loc=\"upper right\")\n",
        "\n",
        "ax[1].set(title='Accuracy')\n",
        "ax[1].plot(history.history['accuracy'], label='Training')\n",
        "ax[1].plot(history.history['val_accuracy'], label='Validation')\n",
        "ax[1].legend(loc=\"lower right\")"
      ]
    },
    {
      "cell_type": "code",
      "execution_count": 31,
      "metadata": {
        "colab": {
          "base_uri": "https://localhost:8080/"
        },
        "id": "wQzuh69FojTa",
        "outputId": "25b1b5d4-f7e4-42e7-d02f-ce093d8bc88c"
      },
      "outputs": [
        {
          "output_type": "stream",
          "name": "stdout",
          "text": [
            "Accuracy Training data: 99.8%\n",
            "Accuracy Test data: 74.9%\n",
            "Training time: 56.5s\n"
          ]
        }
      ],
      "source": [
        "accuracy_rnn = history.history['val_accuracy'][-1]\n",
        "print('Accuracy Training data: {:.1%}'.format(history.history['accuracy'][-1]))\n",
        "print('Accuracy Test data: {:.1%}'.format(history.history['val_accuracy'][-1]))\n",
        "print('Training time: {:.1f}s'.format(training_time_rnn))"
      ]
    },
    {
      "cell_type": "code",
      "execution_count": 32,
      "metadata": {
        "colab": {
          "base_uri": "https://localhost:8080/"
        },
        "id": "LaXBLFkSorr5",
        "outputId": "7cf18757-0f56-4e4e-f8b2-e6cf51b1d7e0"
      },
      "outputs": [
        {
          "output_type": "execute_result",
          "data": {
            "text/plain": [
              "array([1, 2, 1, 2, 0, 1, 2, 0, 2, 2, 0, 0, 1, 2, 2, 2, 2, 1, 1, 2, 2, 0,\n",
              "       1, 0, 2, 0, 1, 2, 1, 2, 2, 1, 1, 1, 2, 2, 1, 1, 1, 1, 2, 2, 2, 2,\n",
              "       0, 2, 2, 1, 1, 0, 0, 1, 0, 2, 1, 2, 1, 0, 1, 1, 1, 2, 2, 2, 1, 2,\n",
              "       0, 2, 1, 2, 1, 1, 1, 0, 2, 2, 2, 0, 2, 1, 0, 1, 0, 2, 1, 0, 0, 1,\n",
              "       1, 1, 2, 2, 1, 2, 1, 2, 0, 2, 1, 1, 2, 0, 2, 1, 1, 1, 1, 2, 0, 1,\n",
              "       2, 0, 2, 2, 1, 1, 2, 1, 0, 1, 0, 2, 2, 2, 2, 0, 1, 1, 2, 0, 0, 2,\n",
              "       1, 1, 2, 0, 2, 2, 2, 2, 1, 2, 2, 2, 1, 0, 1, 1, 2, 2, 1, 2, 2, 2,\n",
              "       1, 2, 2, 1, 1, 1, 2, 2, 2, 2, 0, 1, 2, 2, 1, 2, 0, 0, 2, 2, 1, 2,\n",
              "       1, 0, 1, 2, 0, 1, 1, 2, 0, 2, 2, 0, 2, 0, 2, 2, 1, 2, 0, 2, 2, 2,\n",
              "       1, 2, 2, 2, 2, 1, 1, 1, 2, 0, 2, 2, 1, 2, 2, 2, 1, 0, 2, 2, 0, 2,\n",
              "       2, 1, 2, 0, 1, 1, 0, 1, 1, 2, 2, 2, 0, 1, 1, 2, 1, 2, 0, 1, 2, 2,\n",
              "       2, 2, 1, 2, 1, 1, 0, 1, 0, 2, 2, 2, 2, 1, 2, 2, 2, 1, 1, 2, 0, 2,\n",
              "       1, 1, 2, 2, 1, 2, 2, 1, 2, 2, 1, 1, 0, 2, 1, 1, 0, 2, 2, 2, 1, 2,\n",
              "       1, 0, 2, 2, 0, 0, 2, 1, 2, 1, 2, 1, 1, 2, 2, 2, 2, 1, 0, 2, 2, 0,\n",
              "       2, 2, 0, 1, 2, 0, 1, 1, 1, 1, 1, 2, 0, 0, 2, 1, 0, 1, 1, 2, 2, 2,\n",
              "       0, 2, 2, 2, 2, 1, 2, 0, 2, 2, 2, 0, 2, 1, 1, 0, 2, 2, 1, 1, 2, 1,\n",
              "       1, 1, 0, 2, 2, 1, 2, 2, 2, 1, 2, 1, 2, 2, 1, 0, 0, 1, 1, 1, 2, 2,\n",
              "       2, 2, 1, 1, 1, 2, 2, 0, 2, 2, 1, 1, 0, 2, 1, 1, 0, 0, 0, 2, 0, 2,\n",
              "       2, 1, 2, 0, 2, 2, 1, 1, 0, 1, 0, 2, 2, 2, 1, 2, 2, 2, 0, 0, 0, 2,\n",
              "       1, 2, 1, 1, 1, 1, 0, 1, 1, 1, 0, 2, 2])"
            ]
          },
          "metadata": {},
          "execution_count": 32
        }
      ],
      "source": [
        "import tensorflow as tf\n",
        "y_pred = tf.nn.softmax(model.predict(X_tf_test_seq))\n",
        "y_pred_argmax = tf.math.argmax(y_pred, axis=1)\n",
        "y_tf_test= y_tf_test.argmax(axis=1)\n",
        "y_tf_test"
      ]
    },
    {
      "cell_type": "code",
      "execution_count": 33,
      "metadata": {
        "colab": {
          "base_uri": "https://localhost:8080/"
        },
        "id": "uWn__DUYqAv5",
        "outputId": "8cd71e85-5e32-4278-e68d-56c9ed335c57"
      },
      "outputs": [
        {
          "output_type": "execute_result",
          "data": {
            "text/plain": [
              "array([[ 13,   3,  20],\n",
              "       [  5, 140,   8],\n",
              "       [ 64,   7, 171]])"
            ]
          },
          "metadata": {},
          "execution_count": 33
        }
      ],
      "source": [
        "from sklearn.metrics import confusion_matrix, ConfusionMatrixDisplay\n",
        "from sklearn.metrics import classification_report\n",
        "cm = confusion_matrix(y_pred_argmax, y_tf_test)\n",
        "cm"
      ]
    },
    {
      "cell_type": "code",
      "execution_count": 34,
      "metadata": {
        "colab": {
          "base_uri": "https://localhost:8080/",
          "height": 295
        },
        "id": "ATXpn0CtP6eO",
        "outputId": "ec647204-9ff4-494e-8b89-bd8ec8fdfc9e"
      },
      "outputs": [
        {
          "output_type": "display_data",
          "data": {
            "text/plain": [
              "<Figure size 432x288 with 2 Axes>"
            ],
            "image/png": "[encoded data removed]"
          },
          "metadata": {
            "needs_background": "light"
          }
        }
      ],
      "source": [
        "ax= plt.subplot()\n",
        "conf_matrix = pd.DataFrame(cm)\n",
        "conf_matrix=sns.heatmap(cm, annot=True, fmt='g', ax=ax);\n",
        "#conf_matrix = conf_matrix.astype('float') / conf_matrix.sum(axis=1)[:, np.newaxis]\n",
        "ax.set_title('Confusion Matrix RNN Model'); \n",
        "ax.set_xlabel('Predicted labels');\n",
        "ax.set_ylabel('True labels'); \n",
        "ax.xaxis.set_ticklabels(['Neutral', 'Negative', 'Positive']); ax.yaxis.set_ticklabels(['Neutral', 'Negative', 'Positive']);\n"
      ]
    },
    {
      "cell_type": "code",
      "execution_count": 35,
      "metadata": {
        "colab": {
          "base_uri": "https://localhost:8080/"
        },
        "id": "9VV86okyRWc2",
        "outputId": "bbd359a3-04a5-4114-ee32-61343dc51990"
      },
      "outputs": [
        {
          "output_type": "stream",
          "name": "stdout",
          "text": [
            "              precision    recall  f1-score   support\n",
            "\n",
            "           0       0.36      0.16      0.22        82\n",
            "           1       0.92      0.93      0.92       150\n",
            "           2       0.71      0.86      0.78       199\n",
            "\n",
            "    accuracy                           0.75       431\n",
            "   macro avg       0.66      0.65      0.64       431\n",
            "weighted avg       0.71      0.75      0.72       431\n",
            "\n"
          ]
        }
      ],
      "source": [
        "from sklearn.metrics import classification_report\n",
        "print(classification_report(y_tf_test, y_pred_argmax))"
      ]
    },
    {
      "cell_type": "code",
      "execution_count": 36,
      "metadata": {
        "colab": {
          "base_uri": "https://localhost:8080/",
          "height": 265
        },
        "id": "dh0NioMmRvhm",
        "outputId": "dfb29b56-c867-47a9-cd19-6c809354d1a8"
      },
      "outputs": [
        {
          "output_type": "display_data",
          "data": {
            "text/plain": [
              "<Figure size 432x288 with 2 Axes>"
            ],
            "image/png": "[encoded data removed]"
          },
          "metadata": {
            "needs_background": "light"
          }
        }
      ],
      "source": [
        "clf_report_nn = classification_report(y_tf_test, y_pred_argmax, labels=[0, 1, 2 ], target_names=['Neutral', 'Negative', 'Positive'], output_dict=True)\n",
        "sns.heatmap(pd.DataFrame(clf_report_nn).iloc[:-1, :].T, annot=True)\n",
        "ax.set_title('Classification Report RNN Network'); "
      ]
    },
    {
      "cell_type": "code",
      "execution_count": 37,
      "metadata": {
        "colab": {
          "base_uri": "https://localhost:8080/",
          "height": 131,
          "referenced_widgets": [
            "e9b183ba598b4a618214ceca65727aee",
            "d9fda5456d5343be9996a82156aea66f",
            "3a16cd981dd14ebca3cc5a20fe004543",
            "163b2b542f17475b9e9c4131de6b3caa",
            "117071a51b564bb6ab64b59639b2f5fc",
            "97e3e4c3bbee46f8aa8a5c17b7bac117",
            "ccc528b4ce3d40a98593d6a3ee4a9684",
            "1f578505422b4014b3110d6974c66e38",
            "7d668bdd0f6d4681bc54dda406661972",
            "8d47fa8e6711413bb3e2b14fb056b0ff",
            "0de1ec4ffd3e47bdbfe70fc77a037617",
            "e4e7bb69e4084fd5845439d3812a49e3",
            "a69b39693f274cf18d84b1dc8d4ccaf0",
            "0bdfe5989fe1459a8cc3d5a89ada2b0a",
            "30a43a0f95e14a24994d9f2dce7f5c9c",
            "57e1ccb833aa4b51b2800fd4177ebfc3",
            "2dfaf972f2c64d5fb2f30459002de631",
            "321e7268cd784ee2b86e53dbe8aa5f30",
            "edbc61101e7c4809964f075271d038c5",
            "77fdffc537974604b72a63a5a9247eac",
            "acdb4f730d7a40e0854700e20c9bb699",
            "6fa96289a35d4ee087f17f4ebd4cbfe4",
            "6625e64536bb46e48f6077df33136ec9",
            "6abfc41c4a654ff7a0ec4a3e3e391de3",
            "61c8f568afcc4f8f97c0722615854f44",
            "9b2419c1646a42d7861e0715f5260a8c",
            "2da99a7f1661425e8cc700f619570515",
            "a38d31217aa54a26b44e7a2eaafd00a9",
            "ada09a305d8d4ef9ad9f5b4d00700c30",
            "908abd17e1894966af20257802c6580c",
            "1f4cf0779a1a4e15b5681bd5c821739a",
            "b8c3a20ab8114a81999b60f31ece6652",
            "ae0799e9ea744a27a9c4bf9c588c9573"
          ]
        },
        "id": "ajcYowTUDsgG",
        "outputId": "3e748738-18e2-406c-b5bb-d0a575dc4520"
      },
      "outputs": [
        {
          "output_type": "stream",
          "name": "stdout",
          "text": [
            "Coding of labels into a one-hot vector: 1 is  [0 1 0]\n"
          ]
        },
        {
          "output_type": "display_data",
          "data": {
            "text/plain": [
              "Downloading vocab.txt:   0%|          | 0.00/226k [00:00<?, ?B/s]"
            ],
            "application/vnd.jupyter.widget-view+json": {
              "version_major": 2,
              "version_minor": 0,
              "model_id": "e9b183ba598b4a618214ceca65727aee"
            }
          },
          "metadata": {}
        },
        {
          "output_type": "display_data",
          "data": {
            "text/plain": [
              "Downloading tokenizer_config.json:   0%|          | 0.00/28.0 [00:00<?, ?B/s]"
            ],
            "application/vnd.jupyter.widget-view+json": {
              "version_major": 2,
              "version_minor": 0,
              "model_id": "e4e7bb69e4084fd5845439d3812a49e3"
            }
          },
          "metadata": {}
        },
        {
          "output_type": "display_data",
          "data": {
            "text/plain": [
              "Downloading config.json:   0%|          | 0.00/483 [00:00<?, ?B/s]"
            ],
            "application/vnd.jupyter.widget-view+json": {
              "version_major": 2,
              "version_minor": 0,
              "model_id": "6625e64536bb46e48f6077df33136ec9"
            }
          },
          "metadata": {}
        }
      ],
      "source": [
        "# Renaming, Input -> X, Output -> y\n",
        "X_bert = df['sentence']\n",
        "y_bert_class = df['label']\n",
        "\n",
        "# Convert labels into a one-hot vector of size 5 (the number of distinct labels)\n",
        "lab = LabelBinarizer()\n",
        "lab.fit(y_bert_class)\n",
        "y_bert = lab.transform(y_bert_class)\n",
        "\n",
        "# Example (you can modify n)\n",
        "n=100\n",
        "print('Coding of labels into a one-hot vector: ' +str(y_bert_class[n]) + ' is ', y_bert[n])\n",
        "#Coding of labels into a one-hot vector: entertainment is  [0 1 0 0 0]\n",
        "# distil-bert tokenizer\n",
        "tokenizer_bert = transformers.DistilBertTokenizer.from_pretrained('distilbert-base-uncased')\n",
        "X_bert = [tokenizer_bert(text, padding='max_length', max_length = 512, truncation=True)['input_ids'] for text in X_bert]\n",
        "X_bert = np.array(X_bert, dtype='int32')"
      ]
    },
    {
      "cell_type": "code",
      "execution_count": 38,
      "metadata": {
        "id": "mpfCCBhZEELr",
        "colab": {
          "base_uri": "https://localhost:8080/"
        },
        "outputId": "fac61c02-1154-4b40-bb0a-a3ccbb2156ac"
      },
      "outputs": [
        {
          "output_type": "stream",
          "name": "stdout",
          "text": [
            "Shape of training data:  (603, 512)\n"
          ]
        },
        {
          "output_type": "execute_result",
          "data": {
            "text/plain": [
              "array([[0, 1, 0],\n",
              "       [0, 0, 1],\n",
              "       [0, 0, 1],\n",
              "       [0, 1, 0],\n",
              "       [0, 0, 1],\n",
              "       [0, 0, 1],\n",
              "       [0, 1, 0],\n",
              "       [0, 1, 0],\n",
              "       [0, 1, 0],\n",
              "       [1, 0, 0],\n",
              "       [0, 0, 1],\n",
              "       [0, 1, 0],\n",
              "       [0, 0, 1],\n",
              "       [1, 0, 0],\n",
              "       [0, 0, 1],\n",
              "       [1, 0, 0],\n",
              "       [0, 1, 0],\n",
              "       [0, 0, 1],\n",
              "       [0, 0, 1],\n",
              "       [1, 0, 0],\n",
              "       [0, 1, 0],\n",
              "       [0, 1, 0],\n",
              "       [0, 1, 0],\n",
              "       [0, 0, 1],\n",
              "       [0, 1, 0],\n",
              "       [0, 0, 1],\n",
              "       [0, 1, 0],\n",
              "       [0, 0, 1],\n",
              "       [0, 0, 1],\n",
              "       [0, 0, 1],\n",
              "       [0, 0, 1],\n",
              "       [0, 0, 1],\n",
              "       [0, 0, 1],\n",
              "       [0, 0, 1],\n",
              "       [0, 0, 1],\n",
              "       [1, 0, 0],\n",
              "       [0, 1, 0],\n",
              "       [0, 1, 0],\n",
              "       [1, 0, 0],\n",
              "       [0, 1, 0],\n",
              "       [1, 0, 0],\n",
              "       [0, 0, 1],\n",
              "       [0, 0, 1],\n",
              "       [0, 0, 1],\n",
              "       [0, 1, 0],\n",
              "       [0, 0, 1],\n",
              "       [0, 0, 1],\n",
              "       [0, 1, 0],\n",
              "       [1, 0, 0],\n",
              "       [0, 0, 1],\n",
              "       [0, 0, 1],\n",
              "       [0, 0, 1],\n",
              "       [1, 0, 0],\n",
              "       [0, 1, 0],\n",
              "       [1, 0, 0],\n",
              "       [1, 0, 0],\n",
              "       [0, 1, 0],\n",
              "       [1, 0, 0],\n",
              "       [0, 0, 1],\n",
              "       [0, 1, 0],\n",
              "       [0, 0, 1],\n",
              "       [0, 1, 0],\n",
              "       [0, 0, 1],\n",
              "       [0, 1, 0],\n",
              "       [0, 0, 1],\n",
              "       [0, 0, 1],\n",
              "       [1, 0, 0],\n",
              "       [0, 0, 1],\n",
              "       [0, 1, 0],\n",
              "       [0, 0, 1],\n",
              "       [0, 0, 1],\n",
              "       [0, 1, 0],\n",
              "       [0, 1, 0],\n",
              "       [0, 1, 0],\n",
              "       [1, 0, 0],\n",
              "       [0, 1, 0],\n",
              "       [0, 1, 0],\n",
              "       [1, 0, 0],\n",
              "       [0, 1, 0],\n",
              "       [0, 0, 1],\n",
              "       [0, 1, 0],\n",
              "       [0, 1, 0],\n",
              "       [0, 0, 1],\n",
              "       [1, 0, 0],\n",
              "       [0, 1, 0],\n",
              "       [0, 1, 0],\n",
              "       [1, 0, 0],\n",
              "       [0, 0, 1],\n",
              "       [0, 0, 1],\n",
              "       [0, 0, 1],\n",
              "       [1, 0, 0],\n",
              "       [0, 1, 0],\n",
              "       [1, 0, 0],\n",
              "       [0, 0, 1],\n",
              "       [0, 1, 0],\n",
              "       [1, 0, 0],\n",
              "       [1, 0, 0],\n",
              "       [0, 1, 0],\n",
              "       [0, 0, 1],\n",
              "       [0, 0, 1],\n",
              "       [1, 0, 0],\n",
              "       [0, 0, 1],\n",
              "       [0, 0, 1],\n",
              "       [1, 0, 0],\n",
              "       [0, 0, 1],\n",
              "       [0, 1, 0],\n",
              "       [1, 0, 0],\n",
              "       [0, 1, 0],\n",
              "       [0, 0, 1],\n",
              "       [0, 1, 0],\n",
              "       [0, 0, 1],\n",
              "       [0, 0, 1],\n",
              "       [1, 0, 0],\n",
              "       [1, 0, 0],\n",
              "       [0, 1, 0],\n",
              "       [0, 0, 1],\n",
              "       [0, 1, 0],\n",
              "       [0, 1, 0],\n",
              "       [0, 1, 0],\n",
              "       [0, 1, 0],\n",
              "       [1, 0, 0],\n",
              "       [0, 0, 1],\n",
              "       [0, 0, 1],\n",
              "       [1, 0, 0],\n",
              "       [0, 1, 0],\n",
              "       [0, 0, 1],\n",
              "       [0, 1, 0],\n",
              "       [0, 1, 0],\n",
              "       [0, 0, 1],\n",
              "       [0, 0, 1],\n",
              "       [0, 1, 0],\n",
              "       [0, 0, 1],\n",
              "       [0, 1, 0],\n",
              "       [0, 0, 1],\n",
              "       [0, 0, 1],\n",
              "       [1, 0, 0],\n",
              "       [0, 0, 1],\n",
              "       [0, 1, 0],\n",
              "       [0, 1, 0],\n",
              "       [1, 0, 0],\n",
              "       [0, 1, 0],\n",
              "       [0, 0, 1],\n",
              "       [0, 1, 0],\n",
              "       [0, 0, 1],\n",
              "       [0, 0, 1],\n",
              "       [1, 0, 0],\n",
              "       [0, 0, 1],\n",
              "       [0, 1, 0],\n",
              "       [0, 0, 1],\n",
              "       [1, 0, 0],\n",
              "       [1, 0, 0],\n",
              "       [0, 0, 1],\n",
              "       [0, 1, 0],\n",
              "       [0, 0, 1],\n",
              "       [0, 1, 0],\n",
              "       [0, 0, 1],\n",
              "       [0, 0, 1],\n",
              "       [0, 1, 0],\n",
              "       [0, 1, 0],\n",
              "       [0, 0, 1],\n",
              "       [0, 1, 0],\n",
              "       [0, 1, 0],\n",
              "       [0, 0, 1],\n",
              "       [0, 0, 1],\n",
              "       [0, 0, 1],\n",
              "       [0, 1, 0],\n",
              "       [0, 1, 0],\n",
              "       [0, 0, 1],\n",
              "       [1, 0, 0],\n",
              "       [0, 0, 1],\n",
              "       [0, 0, 1],\n",
              "       [0, 0, 1],\n",
              "       [0, 0, 1],\n",
              "       [0, 1, 0],\n",
              "       [0, 0, 1],\n",
              "       [0, 1, 0],\n",
              "       [0, 0, 1],\n",
              "       [0, 1, 0],\n",
              "       [1, 0, 0],\n",
              "       [0, 1, 0],\n",
              "       [1, 0, 0],\n",
              "       [0, 0, 1],\n",
              "       [1, 0, 0],\n",
              "       [0, 0, 1],\n",
              "       [0, 0, 1],\n",
              "       [1, 0, 0],\n",
              "       [1, 0, 0],\n",
              "       [0, 0, 1],\n",
              "       [0, 0, 1],\n",
              "       [0, 0, 1],\n",
              "       [0, 1, 0],\n",
              "       [0, 1, 0],\n",
              "       [0, 1, 0],\n",
              "       [0, 1, 0],\n",
              "       [0, 1, 0],\n",
              "       [0, 1, 0],\n",
              "       [0, 0, 1],\n",
              "       [0, 1, 0],\n",
              "       [0, 0, 1],\n",
              "       [0, 1, 0],\n",
              "       [0, 1, 0],\n",
              "       [1, 0, 0],\n",
              "       [0, 1, 0],\n",
              "       [0, 0, 1],\n",
              "       [0, 0, 1],\n",
              "       [0, 1, 0],\n",
              "       [0, 1, 0],\n",
              "       [1, 0, 0],\n",
              "       [0, 0, 1],\n",
              "       [1, 0, 0],\n",
              "       [0, 1, 0],\n",
              "       [0, 0, 1],\n",
              "       [0, 0, 1],\n",
              "       [0, 0, 1],\n",
              "       [0, 1, 0],\n",
              "       [0, 0, 1],\n",
              "       [0, 1, 0],\n",
              "       [0, 0, 1],\n",
              "       [0, 0, 1],\n",
              "       [0, 0, 1],\n",
              "       [0, 0, 1],\n",
              "       [0, 1, 0],\n",
              "       [0, 0, 1],\n",
              "       [1, 0, 0],\n",
              "       [0, 0, 1],\n",
              "       [0, 1, 0],\n",
              "       [0, 0, 1],\n",
              "       [0, 0, 1],\n",
              "       [0, 0, 1],\n",
              "       [0, 0, 1],\n",
              "       [0, 0, 1],\n",
              "       [1, 0, 0],\n",
              "       [0, 0, 1],\n",
              "       [0, 0, 1],\n",
              "       [0, 1, 0],\n",
              "       [0, 0, 1],\n",
              "       [0, 1, 0],\n",
              "       [0, 0, 1],\n",
              "       [0, 0, 1],\n",
              "       [1, 0, 0],\n",
              "       [0, 0, 1],\n",
              "       [0, 0, 1],\n",
              "       [0, 1, 0],\n",
              "       [0, 1, 0],\n",
              "       [0, 1, 0],\n",
              "       [0, 1, 0],\n",
              "       [0, 0, 1],\n",
              "       [0, 0, 1],\n",
              "       [1, 0, 0],\n",
              "       [0, 1, 0],\n",
              "       [0, 0, 1],\n",
              "       [0, 0, 1],\n",
              "       [0, 0, 1],\n",
              "       [1, 0, 0],\n",
              "       [0, 0, 1],\n",
              "       [0, 0, 1],\n",
              "       [0, 0, 1],\n",
              "       [1, 0, 0],\n",
              "       [1, 0, 0]])"
            ]
          },
          "metadata": {},
          "execution_count": 38
        }
      ],
      "source": [
        "# Train/test split\n",
        "X_bert_train, X_bert_test, y_bert_train, y_bert_test = train_test_split(X_bert, y_bert, test_size=0.3, random_state=42, stratify=df['label'])\n",
        "print('Shape of training data: ',X_bert_train.shape)\n",
        "y_bert_test"
      ]
    },
    {
      "cell_type": "code",
      "execution_count": null,
      "metadata": {
        "id": "M0nEKMHvERrQ",
        "colab": {
          "base_uri": "https://localhost:8080/",
          "height": 49,
          "referenced_widgets": [
            "8e557e08f81e45cd9092c8cad279c7a3",
            "eb8a844b52224362b3be95e74754eaca",
            "ff9f00e7494b4625a83ec9fbf73bee1e",
            "931aa8c2bf434950a23f3649d724bd23",
            "3b3657090ae54bc28104854891557218",
            "3d85fcbb7f78402fa79e45d64f185f71",
            "09555ec9ad9c44b49723c6f5519ba8b3",
            "b70c23755536466b94e39c24ec50d418",
            "16a5408f86234aac8079dd92504065f9",
            "b87b52f4f07f47648752a1e1159aa5e0",
            "9ae3e69ae1cd4259a55c57898a87f366"
          ]
        },
        "outputId": "577e4a8e-713e-45ef-e97f-b045df2196ae"
      },
      "outputs": [
        {
          "output_type": "display_data",
          "data": {
            "text/plain": [
              "Downloading tf_model.h5:   0%|          | 0.00/1.33G [00:00<?, ?B/s]"
            ],
            "application/vnd.jupyter.widget-view+json": {
              "version_major": 2,
              "version_minor": 0,
              "model_id": "8e557e08f81e45cd9092c8cad279c7a3"
            }
          },
          "metadata": {}
        }
      ],
      "source": [
        "config = transformers.DistilBertConfig(dropout=0.2, attention_dropout=0.2)\n",
        "#dbert = transformers.TFDistilBertModel.from_pretrained('distilbert-base-uncased', config=config, trainable=False)\n",
        "dbert = transformers.TFDistilBertModel.from_pretrained('siebert/sentiment-roberta-large-english', config=config, trainable=False)\n"
      ]
    },
    {
      "cell_type": "code",
      "execution_count": null,
      "metadata": {
        "id": "44eQ64fIEwzW"
      },
      "outputs": [],
      "source": [
        "# Let's create a sampe of size 5 from the training data\n",
        "sample = X_bert_train[0:5]\n",
        "print('Object type: ', type(dbert(sample)))\n",
        "print('Output format (shape): ',dbert(sample)[0].shape)\n",
        "print('Output used as input for the classifier (shape): ', dbert(sample)[0][:,0,:].shape)"
      ]
    },
    {
      "cell_type": "code",
      "execution_count": null,
      "metadata": {
        "id": "0Baone8EE7CE"
      },
      "outputs": [],
      "source": [
        "input_ids_in = layers.Input(shape=(512,), name='input_token', dtype='int32')\n",
        "x = dbert(input_ids=input_ids_in)[0][:,0,:]\n",
        "x = layers.Dropout(0.2, name='dropout')(x)\n",
        "x = layers.Dense(128, activation='relu', name='dense')(x)\n",
        "#x = layers.Dropout(0.2, name='dropout2')(x)\n",
        "#x = layers.Dense(64, activation='relu')(x)\n",
        "x = layers.Dense(3, activation='softmax', name='classification')(x)\n",
        "dmodel = models.Model(inputs=input_ids_in, outputs = x)\n",
        "dmodel.compile(optimizer='adam',loss='categorical_crossentropy', metrics=['accuracy'])\n",
        "dmodel.summary()"
      ]
    },
    {
      "cell_type": "code",
      "execution_count": null,
      "metadata": {
        "id": "9sNRXQ5dSoOR"
      },
      "outputs": [],
      "source": [
        "# early stopping callback\n",
        "# This callback will stop the training when there is no improvement in  \n",
        "# the validation loss for 10 consecutive epochs. \n",
        "import keras\n",
        "from keras.callbacks import EarlyStopping\n",
        "es = keras.callbacks.EarlyStopping(monitor = 'val_loss',\n",
        "                                   mode = 'min',\n",
        "                                   patience = 20,\n",
        "                                   restore_best_weights = True,\n",
        "                                   verbose= 1)"
      ]
    },
    {
      "cell_type": "code",
      "execution_count": null,
      "metadata": {
        "id": "QYb2Am0wFUhd"
      },
      "outputs": [],
      "source": [
        "start_time = datetime.now()\n",
        "history = dmodel.fit(X_bert_train, y_bert_train, batch_size=32, shuffle=True, callbacks = [es], epochs=100, validation_data=(X_bert_test, y_bert_test), \n",
        "                     verbose=1)\n",
        "end_time = datetime.now()"
      ]
    },
    {
      "cell_type": "code",
      "execution_count": null,
      "metadata": {
        "id": "cyYOm7LBX9si"
      },
      "outputs": [],
      "source": [
        "#predictions = dmodel.predict(X_bert_test)\n",
        "#predictions\n",
        "import tensorflow as tf\n",
        "y_pred = tf.nn.softmax(dmodel.predict(X_bert_test))\n",
        "y_pred"
      ]
    },
    {
      "cell_type": "code",
      "execution_count": null,
      "metadata": {
        "id": "sZRLS7RgdcO3"
      },
      "outputs": [],
      "source": [
        "y_pred_argmax = tf.math.argmax(y_pred, axis=1)\n",
        "y_bert1 = y_bert_test.argmax(axis=1)\n",
        "y_bert1"
      ]
    },
    {
      "cell_type": "code",
      "execution_count": null,
      "metadata": {
        "id": "XNCjRERyTifd"
      },
      "outputs": [],
      "source": [
        "from sklearn.metrics import confusion_matrix, ConfusionMatrixDisplay\n",
        "from sklearn.metrics import classification_report\n",
        "ax= plt.subplot()\n",
        "matrix = confusion_matrix(y_pred_argmax, y_bert1)\n",
        "sns.heatmap(matrix, annot=True, fmt='g', ax=ax)\n",
        "ax.set_title('Confusion Matrix BERT-RNN Model'); \n",
        "ax.set_xlabel('Predicted labels');\n",
        "ax.set_ylabel('True labels'); \n",
        "ax.xaxis.set_ticklabels(['Neutral', 'Negative', 'Positive']); ax.yaxis.set_ticklabels(['Neutral', 'Negative', 'Positive']);\n",
        "plt.show()\n"
      ]
    },
    {
      "cell_type": "code",
      "execution_count": null,
      "metadata": {
        "id": "zLd58VvpSXcF"
      },
      "outputs": [],
      "source": [
        "from sklearn.metrics import classification_report\n",
        "print(classification_report(y_pred_argmax, y_bert1))"
      ]
    },
    {
      "cell_type": "code",
      "execution_count": null,
      "metadata": {
        "id": "25jzlIBE_47T"
      },
      "outputs": [],
      "source": [
        "input_ = layers.Input(shape = X_tf_train_seq[0,:].shape,name='input')\n",
        "# Embedding layer (voc size plus un (\"UNK\", word with index 0)), using the pre-trained emb_matrix obtained from Word2Vec\n",
        "x = layers.Embedding(max_words+1,emb_size,weights=[emb_matrix],trainable=False, name='embedding')(input_)\n",
        "x = layers.Bidirectional(layers.LSTM(15,dropout=0.2),name='bidirectional-lstm')(x) # LSTM layer\n",
        "x = layers.Dropout(0.2, name='dropout')(x)\n",
        "x = layers.Dense(64, activation='relu', name='dense')(x)\n",
        "output = layers.Dense(nr_categories,activation='softmax', name='classification')(x)\n",
        "\n",
        "model = models.Model(input_, output)\n",
        "\n",
        "opt = optimizers.Adam(learning_rate=0.01, beta_1=0.9)\n",
        "model.compile(optimizer=opt,loss='categorical_crossentropy', metrics=['accuracy'])"
      ]
    }
  ],
  "metadata": {
    "accelerator": "GPU",
    "colab": {
      "name": "Untitled33.ipynb",
      "provenance": []
    },
    "gpuClass": "standard",
    "kernelspec": {
      "display_name": "Python 3",
      "name": "python3"
    },
    "language_info": {
      "name": "python"
    },
    "widgets": {
      "application/vnd.jupyter.widget-state+json": {
        "e9b183ba598b4a618214ceca65727aee": {
          "model_module": "@jupyter-widgets/controls",
          "model_name": "HBoxModel",
          "model_module_version": "1.5.0",
          "state": {
            "_dom_classes": [],
            "_model_module": "@jupyter-widgets/controls",
            "_model_module_version": "1.5.0",
            "_model_name": "HBoxModel",
            "_view_count": null,
            "_view_module": "@jupyter-widgets/controls",
            "_view_module_version": "1.5.0",
            "_view_name": "HBoxView",
            "box_style": "",
            "children": [
              "IPY_MODEL_d9fda5456d5343be9996a82156aea66f",
              "IPY_MODEL_3a16cd981dd14ebca3cc5a20fe004543",
              "IPY_MODEL_163b2b542f17475b9e9c4131de6b3caa"
            ],
            "layout": "IPY_MODEL_117071a51b564bb6ab64b59639b2f5fc"
          }
        },
        "d9fda5456d5343be9996a82156aea66f": {
          "model_module": "@jupyter-widgets/controls",
          "model_name": "HTMLModel",
          "model_module_version": "1.5.0",
          "state": {
            "_dom_classes": [],
            "_model_module": "@jupyter-widgets/controls",
            "_model_module_version": "1.5.0",
            "_model_name": "HTMLModel",
            "_view_count": null,
            "_view_module": "@jupyter-widgets/controls",
            "_view_module_version": "1.5.0",
            "_view_name": "HTMLView",
            "description": "",
            "description_tooltip": null,
            "layout": "IPY_MODEL_97e3e4c3bbee46f8aa8a5c17b7bac117",
            "placeholder": "​",
            "style": "IPY_MODEL_ccc528b4ce3d40a98593d6a3ee4a9684",
            "value": "Downloading vocab.txt: 100%"
          }
        },
        "3a16cd981dd14ebca3cc5a20fe004543": {
          "model_module": "@jupyter-widgets/controls",
          "model_name": "FloatProgressModel",
          "model_module_version": "1.5.0",
          "state": {
            "_dom_classes": [],
            "_model_module": "@jupyter-widgets/controls",
            "_model_module_version": "1.5.0",
            "_model_name": "FloatProgressModel",
            "_view_count": null,
            "_view_module": "@jupyter-widgets/controls",
            "_view_module_version": "1.5.0",
            "_view_name": "ProgressView",
            "bar_style": "success",
            "description": "",
            "description_tooltip": null,
            "layout": "IPY_MODEL_1f578505422b4014b3110d6974c66e38",
            "max": 231508,
            "min": 0,
            "orientation": "horizontal",
            "style": "IPY_MODEL_7d668bdd0f6d4681bc54dda406661972",
            "value": 231508
          }
        },
        "163b2b542f17475b9e9c4131de6b3caa": {
          "model_module": "@jupyter-widgets/controls",
          "model_name": "HTMLModel",
          "model_module_version": "1.5.0",
          "state": {
            "_dom_classes": [],
            "_model_module": "@jupyter-widgets/controls",
            "_model_module_version": "1.5.0",
            "_model_name": "HTMLModel",
            "_view_count": null,
            "_view_module": "@jupyter-widgets/controls",
            "_view_module_version": "1.5.0",
            "_view_name": "HTMLView",
            "description": "",
            "description_tooltip": null,
            "layout": "IPY_MODEL_8d47fa8e6711413bb3e2b14fb056b0ff",
            "placeholder": "​",
            "style": "IPY_MODEL_0de1ec4ffd3e47bdbfe70fc77a037617",
            "value": " 226k/226k [00:00&lt;00:00, 291kB/s]"
          }
        },
        "117071a51b564bb6ab64b59639b2f5fc": {
          "model_module": "@jupyter-widgets/base",
          "model_name": "LayoutModel",
          "model_module_version": "1.2.0",
          "state": {
            "_model_module": "@jupyter-widgets/base",
            "_model_module_version": "1.2.0",
            "_model_name": "LayoutModel",
            "_view_count": null,
            "_view_module": "@jupyter-widgets/base",
            "_view_module_version": "1.2.0",
            "_view_name": "LayoutView",
            "align_content": null,
            "align_items": null,
            "align_self": null,
            "border": null,
            "bottom": null,
            "display": null,
            "flex": null,
            "flex_flow": null,
            "grid_area": null,
            "grid_auto_columns": null,
            "grid_auto_flow": null,
            "grid_auto_rows": null,
            "grid_column": null,
            "grid_gap": null,
            "grid_row": null,
            "grid_template_areas": null,
            "grid_template_columns": null,
            "grid_template_rows": null,
            "height": null,
            "justify_content": null,
            "justify_items": null,
            "left": null,
            "margin": null,
            "max_height": null,
            "max_width": null,
            "min_height": null,
            "min_width": null,
            "object_fit": null,
            "object_position": null,
            "order": null,
            "overflow": null,
            "overflow_x": null,
            "overflow_y": null,
            "padding": null,
            "right": null,
            "top": null,
            "visibility": null,
            "width": null
          }
        },
        "97e3e4c3bbee46f8aa8a5c17b7bac117": {
          "model_module": "@jupyter-widgets/base",
          "model_name": "LayoutModel",
          "model_module_version": "1.2.0",
          "state": {
            "_model_module": "@jupyter-widgets/base",
            "_model_module_version": "1.2.0",
            "_model_name": "LayoutModel",
            "_view_count": null,
            "_view_module": "@jupyter-widgets/base",
            "_view_module_version": "1.2.0",
            "_view_name": "LayoutView",
            "align_content": null,
            "align_items": null,
            "align_self": null,
            "border": null,
            "bottom": null,
            "display": null,
            "flex": null,
            "flex_flow": null,
            "grid_area": null,
            "grid_auto_columns": null,
            "grid_auto_flow": null,
            "grid_auto_rows": null,
            "grid_column": null,
            "grid_gap": null,
            "grid_row": null,
            "grid_template_areas": null,
            "grid_template_columns": null,
            "grid_template_rows": null,
            "height": null,
            "justify_content": null,
            "justify_items": null,
            "left": null,
            "margin": null,
            "max_height": null,
            "max_width": null,
            "min_height": null,
            "min_width": null,
            "object_fit": null,
            "object_position": null,
            "order": null,
            "overflow": null,
            "overflow_x": null,
            "overflow_y": null,
            "padding": null,
            "right": null,
            "top": null,
            "visibility": null,
            "width": null
          }
        },
        "ccc528b4ce3d40a98593d6a3ee4a9684": {
          "model_module": "@jupyter-widgets/controls",
          "model_name": "DescriptionStyleModel",
          "model_module_version": "1.5.0",
          "state": {
            "_model_module": "@jupyter-widgets/controls",
            "_model_module_version": "1.5.0",
            "_model_name": "DescriptionStyleModel",
            "_view_count": null,
            "_view_module": "@jupyter-widgets/base",
            "_view_module_version": "1.2.0",
            "_view_name": "StyleView",
            "description_width": ""
          }
        },
        "1f578505422b4014b3110d6974c66e38": {
          "model_module": "@jupyter-widgets/base",
          "model_name": "LayoutModel",
          "model_module_version": "1.2.0",
          "state": {
            "_model_module": "@jupyter-widgets/base",
            "_model_module_version": "1.2.0",
            "_model_name": "LayoutModel",
            "_view_count": null,
            "_view_module": "@jupyter-widgets/base",
            "_view_module_version": "1.2.0",
            "_view_name": "LayoutView",
            "align_content": null,
            "align_items": null,
            "align_self": null,
            "border": null,
            "bottom": null,
            "display": null,
            "flex": null,
            "flex_flow": null,
            "grid_area": null,
            "grid_auto_columns": null,
            "grid_auto_flow": null,
            "grid_auto_rows": null,
            "grid_column": null,
            "grid_gap": null,
            "grid_row": null,
            "grid_template_areas": null,
            "grid_template_columns": null,
            "grid_template_rows": null,
            "height": null,
            "justify_content": null,
            "justify_items": null,
            "left": null,
            "margin": null,
            "max_height": null,
            "max_width": null,
            "min_height": null,
            "min_width": null,
            "object_fit": null,
            "object_position": null,
            "order": null,
            "overflow": null,
            "overflow_x": null,
            "overflow_y": null,
            "padding": null,
            "right": null,
            "top": null,
            "visibility": null,
            "width": null
          }
        },
        "7d668bdd0f6d4681bc54dda406661972": {
          "model_module": "@jupyter-widgets/controls",
          "model_name": "ProgressStyleModel",
          "model_module_version": "1.5.0",
          "state": {
            "_model_module": "@jupyter-widgets/controls",
            "_model_module_version": "1.5.0",
            "_model_name": "ProgressStyleModel",
            "_view_count": null,
            "_view_module": "@jupyter-widgets/base",
            "_view_module_version": "1.2.0",
            "_view_name": "StyleView",
            "bar_color": null,
            "description_width": ""
          }
        },
        "8d47fa8e6711413bb3e2b14fb056b0ff": {
          "model_module": "@jupyter-widgets/base",
          "model_name": "LayoutModel",
          "model_module_version": "1.2.0",
          "state": {
            "_model_module": "@jupyter-widgets/base",
            "_model_module_version": "1.2.0",
            "_model_name": "LayoutModel",
            "_view_count": null,
            "_view_module": "@jupyter-widgets/base",
            "_view_module_version": "1.2.0",
            "_view_name": "LayoutView",
            "align_content": null,
            "align_items": null,
            "align_self": null,
            "border": null,
            "bottom": null,
            "display": null,
            "flex": null,
            "flex_flow": null,
            "grid_area": null,
            "grid_auto_columns": null,
            "grid_auto_flow": null,
            "grid_auto_rows": null,
            "grid_column": null,
            "grid_gap": null,
            "grid_row": null,
            "grid_template_areas": null,
            "grid_template_columns": null,
            "grid_template_rows": null,
            "height": null,
            "justify_content": null,
            "justify_items": null,
            "left": null,
            "margin": null,
            "max_height": null,
            "max_width": null,
            "min_height": null,
            "min_width": null,
            "object_fit": null,
            "object_position": null,
            "order": null,
            "overflow": null,
            "overflow_x": null,
            "overflow_y": null,
            "padding": null,
            "right": null,
            "top": null,
            "visibility": null,
            "width": null
          }
        },
        "0de1ec4ffd3e47bdbfe70fc77a037617": {
          "model_module": "@jupyter-widgets/controls",
          "model_name": "DescriptionStyleModel",
          "model_module_version": "1.5.0",
          "state": {
            "_model_module": "@jupyter-widgets/controls",
            "_model_module_version": "1.5.0",
            "_model_name": "DescriptionStyleModel",
            "_view_count": null,
            "_view_module": "@jupyter-widgets/base",
            "_view_module_version": "1.2.0",
            "_view_name": "StyleView",
            "description_width": ""
          }
        },
        "e4e7bb69e4084fd5845439d3812a49e3": {
          "model_module": "@jupyter-widgets/controls",
          "model_name": "HBoxModel",
          "model_module_version": "1.5.0",
          "state": {
            "_dom_classes": [],
            "_model_module": "@jupyter-widgets/controls",
            "_model_module_version": "1.5.0",
            "_model_name": "HBoxModel",
            "_view_count": null,
            "_view_module": "@jupyter-widgets/controls",
            "_view_module_version": "1.5.0",
            "_view_name": "HBoxView",
            "box_style": "",
            "children": [
              "IPY_MODEL_a69b39693f274cf18d84b1dc8d4ccaf0",
              "IPY_MODEL_0bdfe5989fe1459a8cc3d5a89ada2b0a",
              "IPY_MODEL_30a43a0f95e14a24994d9f2dce7f5c9c"
            ],
            "layout": "IPY_MODEL_57e1ccb833aa4b51b2800fd4177ebfc3"
          }
        },
        "a69b39693f274cf18d84b1dc8d4ccaf0": {
          "model_module": "@jupyter-widgets/controls",
          "model_name": "HTMLModel",
          "model_module_version": "1.5.0",
          "state": {
            "_dom_classes": [],
            "_model_module": "@jupyter-widgets/controls",
            "_model_module_version": "1.5.0",
            "_model_name": "HTMLModel",
            "_view_count": null,
            "_view_module": "@jupyter-widgets/controls",
            "_view_module_version": "1.5.0",
            "_view_name": "HTMLView",
            "description": "",
            "description_tooltip": null,
            "layout": "IPY_MODEL_2dfaf972f2c64d5fb2f30459002de631",
            "placeholder": "​",
            "style": "IPY_MODEL_321e7268cd784ee2b86e53dbe8aa5f30",
            "value": "Downloading tokenizer_config.json: 100%"
          }
        },
        "0bdfe5989fe1459a8cc3d5a89ada2b0a": {
          "model_module": "@jupyter-widgets/controls",
          "model_name": "FloatProgressModel",
          "model_module_version": "1.5.0",
          "state": {
            "_dom_classes": [],
            "_model_module": "@jupyter-widgets/controls",
            "_model_module_version": "1.5.0",
            "_model_name": "FloatProgressModel",
            "_view_count": null,
            "_view_module": "@jupyter-widgets/controls",
            "_view_module_version": "1.5.0",
            "_view_name": "ProgressView",
            "bar_style": "success",
            "description": "",
            "description_tooltip": null,
            "layout": "IPY_MODEL_edbc61101e7c4809964f075271d038c5",
            "max": 28,
            "min": 0,
            "orientation": "horizontal",
            "style": "IPY_MODEL_77fdffc537974604b72a63a5a9247eac",
            "value": 28
          }
        },
        "30a43a0f95e14a24994d9f2dce7f5c9c": {
          "model_module": "@jupyter-widgets/controls",
          "model_name": "HTMLModel",
          "model_module_version": "1.5.0",
          "state": {
            "_dom_classes": [],
            "_model_module": "@jupyter-widgets/controls",
            "_model_module_version": "1.5.0",
            "_model_name": "HTMLModel",
            "_view_count": null,
            "_view_module": "@jupyter-widgets/controls",
            "_view_module_version": "1.5.0",
            "_view_name": "HTMLView",
            "description": "",
            "description_tooltip": null,
            "layout": "IPY_MODEL_acdb4f730d7a40e0854700e20c9bb699",
            "placeholder": "​",
            "style": "IPY_MODEL_6fa96289a35d4ee087f17f4ebd4cbfe4",
            "value": " 28.0/28.0 [00:00&lt;00:00, 869B/s]"
          }
        },
        "57e1ccb833aa4b51b2800fd4177ebfc3": {
          "model_module": "@jupyter-widgets/base",
          "model_name": "LayoutModel",
          "model_module_version": "1.2.0",
          "state": {
            "_model_module": "@jupyter-widgets/base",
            "_model_module_version": "1.2.0",
            "_model_name": "LayoutModel",
            "_view_count": null,
            "_view_module": "@jupyter-widgets/base",
            "_view_module_version": "1.2.0",
            "_view_name": "LayoutView",
            "align_content": null,
            "align_items": null,
            "align_self": null,
            "border": null,
            "bottom": null,
            "display": null,
            "flex": null,
            "flex_flow": null,
            "grid_area": null,
            "grid_auto_columns": null,
            "grid_auto_flow": null,
            "grid_auto_rows": null,
            "grid_column": null,
            "grid_gap": null,
            "grid_row": null,
            "grid_template_areas": null,
            "grid_template_columns": null,
            "grid_template_rows": null,
            "height": null,
            "justify_content": null,
            "justify_items": null,
            "left": null,
            "margin": null,
            "max_height": null,
            "max_width": null,
            "min_height": null,
            "min_width": null,
            "object_fit": null,
            "object_position": null,
            "order": null,
            "overflow": null,
            "overflow_x": null,
            "overflow_y": null,
            "padding": null,
            "right": null,
            "top": null,
            "visibility": null,
            "width": null
          }
        },
        "2dfaf972f2c64d5fb2f30459002de631": {
          "model_module": "@jupyter-widgets/base",
          "model_name": "LayoutModel",
          "model_module_version": "1.2.0",
          "state": {
            "_model_module": "@jupyter-widgets/base",
            "_model_module_version": "1.2.0",
            "_model_name": "LayoutModel",
            "_view_count": null,
            "_view_module": "@jupyter-widgets/base",
            "_view_module_version": "1.2.0",
            "_view_name": "LayoutView",
            "align_content": null,
            "align_items": null,
            "align_self": null,
            "border": null,
            "bottom": null,
            "display": null,
            "flex": null,
            "flex_flow": null,
            "grid_area": null,
            "grid_auto_columns": null,
            "grid_auto_flow": null,
            "grid_auto_rows": null,
            "grid_column": null,
            "grid_gap": null,
            "grid_row": null,
            "grid_template_areas": null,
            "grid_template_columns": null,
            "grid_template_rows": null,
            "height": null,
            "justify_content": null,
            "justify_items": null,
            "left": null,
            "margin": null,
            "max_height": null,
            "max_width": null,
            "min_height": null,
            "min_width": null,
            "object_fit": null,
            "object_position": null,
            "order": null,
            "overflow": null,
            "overflow_x": null,
            "overflow_y": null,
            "padding": null,
            "right": null,
            "top": null,
            "visibility": null,
            "width": null
          }
        },
        "321e7268cd784ee2b86e53dbe8aa5f30": {
          "model_module": "@jupyter-widgets/controls",
          "model_name": "DescriptionStyleModel",
          "model_module_version": "1.5.0",
          "state": {
            "_model_module": "@jupyter-widgets/controls",
            "_model_module_version": "1.5.0",
            "_model_name": "DescriptionStyleModel",
            "_view_count": null,
            "_view_module": "@jupyter-widgets/base",
            "_view_module_version": "1.2.0",
            "_view_name": "StyleView",
            "description_width": ""
          }
        },
        "edbc61101e7c4809964f075271d038c5": {
          "model_module": "@jupyter-widgets/base",
          "model_name": "LayoutModel",
          "model_module_version": "1.2.0",
          "state": {
            "_model_module": "@jupyter-widgets/base",
            "_model_module_version": "1.2.0",
            "_model_name": "LayoutModel",
            "_view_count": null,
            "_view_module": "@jupyter-widgets/base",
            "_view_module_version": "1.2.0",
            "_view_name": "LayoutView",
            "align_content": null,
            "align_items": null,
            "align_self": null,
            "border": null,
            "bottom": null,
            "display": null,
            "flex": null,
            "flex_flow": null,
            "grid_area": null,
            "grid_auto_columns": null,
            "grid_auto_flow": null,
            "grid_auto_rows": null,
            "grid_column": null,
            "grid_gap": null,
            "grid_row": null,
            "grid_template_areas": null,
            "grid_template_columns": null,
            "grid_template_rows": null,
            "height": null,
            "justify_content": null,
            "justify_items": null,
            "left": null,
            "margin": null,
            "max_height": null,
            "max_width": null,
            "min_height": null,
            "min_width": null,
            "object_fit": null,
            "object_position": null,
            "order": null,
            "overflow": null,
            "overflow_x": null,
            "overflow_y": null,
            "padding": null,
            "right": null,
            "top": null,
            "visibility": null,
            "width": null
          }
        },
        "77fdffc537974604b72a63a5a9247eac": {
          "model_module": "@jupyter-widgets/controls",
          "model_name": "ProgressStyleModel",
          "model_module_version": "1.5.0",
          "state": {
            "_model_module": "@jupyter-widgets/controls",
            "_model_module_version": "1.5.0",
            "_model_name": "ProgressStyleModel",
            "_view_count": null,
            "_view_module": "@jupyter-widgets/base",
            "_view_module_version": "1.2.0",
            "_view_name": "StyleView",
            "bar_color": null,
            "description_width": ""
          }
        },
        "acdb4f730d7a40e0854700e20c9bb699": {
          "model_module": "@jupyter-widgets/base",
          "model_name": "LayoutModel",
          "model_module_version": "1.2.0",
          "state": {
            "_model_module": "@jupyter-widgets/base",
            "_model_module_version": "1.2.0",
            "_model_name": "LayoutModel",
            "_view_count": null,
            "_view_module": "@jupyter-widgets/base",
            "_view_module_version": "1.2.0",
            "_view_name": "LayoutView",
            "align_content": null,
            "align_items": null,
            "align_self": null,
            "border": null,
            "bottom": null,
            "display": null,
            "flex": null,
            "flex_flow": null,
            "grid_area": null,
            "grid_auto_columns": null,
            "grid_auto_flow": null,
            "grid_auto_rows": null,
            "grid_column": null,
            "grid_gap": null,
            "grid_row": null,
            "grid_template_areas": null,
            "grid_template_columns": null,
            "grid_template_rows": null,
            "height": null,
            "justify_content": null,
            "justify_items": null,
            "left": null,
            "margin": null,
            "max_height": null,
            "max_width": null,
            "min_height": null,
            "min_width": null,
            "object_fit": null,
            "object_position": null,
            "order": null,
            "overflow": null,
            "overflow_x": null,
            "overflow_y": null,
            "padding": null,
            "right": null,
            "top": null,
            "visibility": null,
            "width": null
          }
        },
        "6fa96289a35d4ee087f17f4ebd4cbfe4": {
          "model_module": "@jupyter-widgets/controls",
          "model_name": "DescriptionStyleModel",
          "model_module_version": "1.5.0",
          "state": {
            "_model_module": "@jupyter-widgets/controls",
            "_model_module_version": "1.5.0",
            "_model_name": "DescriptionStyleModel",
            "_view_count": null,
            "_view_module": "@jupyter-widgets/base",
            "_view_module_version": "1.2.0",
            "_view_name": "StyleView",
            "description_width": ""
          }
        },
        "6625e64536bb46e48f6077df33136ec9": {
          "model_module": "@jupyter-widgets/controls",
          "model_name": "HBoxModel",
          "model_module_version": "1.5.0",
          "state": {
            "_dom_classes": [],
            "_model_module": "@jupyter-widgets/controls",
            "_model_module_version": "1.5.0",
            "_model_name": "HBoxModel",
            "_view_count": null,
            "_view_module": "@jupyter-widgets/controls",
            "_view_module_version": "1.5.0",
            "_view_name": "HBoxView",
            "box_style": "",
            "children": [
              "IPY_MODEL_6abfc41c4a654ff7a0ec4a3e3e391de3",
              "IPY_MODEL_61c8f568afcc4f8f97c0722615854f44",
              "IPY_MODEL_9b2419c1646a42d7861e0715f5260a8c"
            ],
            "layout": "IPY_MODEL_2da99a7f1661425e8cc700f619570515"
          }
        },
        "6abfc41c4a654ff7a0ec4a3e3e391de3": {
          "model_module": "@jupyter-widgets/controls",
          "model_name": "HTMLModel",
          "model_module_version": "1.5.0",
          "state": {
            "_dom_classes": [],
            "_model_module": "@jupyter-widgets/controls",
            "_model_module_version": "1.5.0",
            "_model_name": "HTMLModel",
            "_view_count": null,
            "_view_module": "@jupyter-widgets/controls",
            "_view_module_version": "1.5.0",
            "_view_name": "HTMLView",
            "description": "",
            "description_tooltip": null,
            "layout": "IPY_MODEL_a38d31217aa54a26b44e7a2eaafd00a9",
            "placeholder": "​",
            "style": "IPY_MODEL_ada09a305d8d4ef9ad9f5b4d00700c30",
            "value": "Downloading config.json: 100%"
          }
        },
        "61c8f568afcc4f8f97c0722615854f44": {
          "model_module": "@jupyter-widgets/controls",
          "model_name": "FloatProgressModel",
          "model_module_version": "1.5.0",
          "state": {
            "_dom_classes": [],
            "_model_module": "@jupyter-widgets/controls",
            "_model_module_version": "1.5.0",
            "_model_name": "FloatProgressModel",
            "_view_count": null,
            "_view_module": "@jupyter-widgets/controls",
            "_view_module_version": "1.5.0",
            "_view_name": "ProgressView",
            "bar_style": "success",
            "description": "",
            "description_tooltip": null,
            "layout": "IPY_MODEL_908abd17e1894966af20257802c6580c",
            "max": 483,
            "min": 0,
            "orientation": "horizontal",
            "style": "IPY_MODEL_1f4cf0779a1a4e15b5681bd5c821739a",
            "value": 483
          }
        },
        "9b2419c1646a42d7861e0715f5260a8c": {
          "model_module": "@jupyter-widgets/controls",
          "model_name": "HTMLModel",
          "model_module_version": "1.5.0",
          "state": {
            "_dom_classes": [],
            "_model_module": "@jupyter-widgets/controls",
            "_model_module_version": "1.5.0",
            "_model_name": "HTMLModel",
            "_view_count": null,
            "_view_module": "@jupyter-widgets/controls",
            "_view_module_version": "1.5.0",
            "_view_name": "HTMLView",
            "description": "",
            "description_tooltip": null,
            "layout": "IPY_MODEL_b8c3a20ab8114a81999b60f31ece6652",
            "placeholder": "​",
            "style": "IPY_MODEL_ae0799e9ea744a27a9c4bf9c588c9573",
            "value": " 483/483 [00:00&lt;00:00, 8.52kB/s]"
          }
        },
        "2da99a7f1661425e8cc700f619570515": {
          "model_module": "@jupyter-widgets/base",
          "model_name": "LayoutModel",
          "model_module_version": "1.2.0",
          "state": {
            "_model_module": "@jupyter-widgets/base",
            "_model_module_version": "1.2.0",
            "_model_name": "LayoutModel",
            "_view_count": null,
            "_view_module": "@jupyter-widgets/base",
            "_view_module_version": "1.2.0",
            "_view_name": "LayoutView",
            "align_content": null,
            "align_items": null,
            "align_self": null,
            "border": null,
            "bottom": null,
            "display": null,
            "flex": null,
            "flex_flow": null,
            "grid_area": null,
            "grid_auto_columns": null,
            "grid_auto_flow": null,
            "grid_auto_rows": null,
            "grid_column": null,
            "grid_gap": null,
            "grid_row": null,
            "grid_template_areas": null,
            "grid_template_columns": null,
            "grid_template_rows": null,
            "height": null,
            "justify_content": null,
            "justify_items": null,
            "left": null,
            "margin": null,
            "max_height": null,
            "max_width": null,
            "min_height": null,
            "min_width": null,
            "object_fit": null,
            "object_position": null,
            "order": null,
            "overflow": null,
            "overflow_x": null,
            "overflow_y": null,
            "padding": null,
            "right": null,
            "top": null,
            "visibility": null,
            "width": null
          }
        },
        "a38d31217aa54a26b44e7a2eaafd00a9": {
          "model_module": "@jupyter-widgets/base",
          "model_name": "LayoutModel",
          "model_module_version": "1.2.0",
          "state": {
            "_model_module": "@jupyter-widgets/base",
            "_model_module_version": "1.2.0",
            "_model_name": "LayoutModel",
            "_view_count": null,
            "_view_module": "@jupyter-widgets/base",
            "_view_module_version": "1.2.0",
            "_view_name": "LayoutView",
            "align_content": null,
            "align_items": null,
            "align_self": null,
            "border": null,
            "bottom": null,
            "display": null,
            "flex": null,
            "flex_flow": null,
            "grid_area": null,
            "grid_auto_columns": null,
            "grid_auto_flow": null,
            "grid_auto_rows": null,
            "grid_column": null,
            "grid_gap": null,
            "grid_row": null,
            "grid_template_areas": null,
            "grid_template_columns": null,
            "grid_template_rows": null,
            "height": null,
            "justify_content": null,
            "justify_items": null,
            "left": null,
            "margin": null,
            "max_height": null,
            "max_width": null,
            "min_height": null,
            "min_width": null,
            "object_fit": null,
            "object_position": null,
            "order": null,
            "overflow": null,
            "overflow_x": null,
            "overflow_y": null,
            "padding": null,
            "right": null,
            "top": null,
            "visibility": null,
            "width": null
          }
        },
        "ada09a305d8d4ef9ad9f5b4d00700c30": {
          "model_module": "@jupyter-widgets/controls",
          "model_name": "DescriptionStyleModel",
          "model_module_version": "1.5.0",
          "state": {
            "_model_module": "@jupyter-widgets/controls",
            "_model_module_version": "1.5.0",
            "_model_name": "DescriptionStyleModel",
            "_view_count": null,
            "_view_module": "@jupyter-widgets/base",
            "_view_module_version": "1.2.0",
            "_view_name": "StyleView",
            "description_width": ""
          }
        },
        "908abd17e1894966af20257802c6580c": {
          "model_module": "@jupyter-widgets/base",
          "model_name": "LayoutModel",
          "model_module_version": "1.2.0",
          "state": {
            "_model_module": "@jupyter-widgets/base",
            "_model_module_version": "1.2.0",
            "_model_name": "LayoutModel",
            "_view_count": null,
            "_view_module": "@jupyter-widgets/base",
            "_view_module_version": "1.2.0",
            "_view_name": "LayoutView",
            "align_content": null,
            "align_items": null,
            "align_self": null,
            "border": null,
            "bottom": null,
            "display": null,
            "flex": null,
            "flex_flow": null,
            "grid_area": null,
            "grid_auto_columns": null,
            "grid_auto_flow": null,
            "grid_auto_rows": null,
            "grid_column": null,
            "grid_gap": null,
            "grid_row": null,
            "grid_template_areas": null,
            "grid_template_columns": null,
            "grid_template_rows": null,
            "height": null,
            "justify_content": null,
            "justify_items": null,
            "left": null,
            "margin": null,
            "max_height": null,
            "max_width": null,
            "min_height": null,
            "min_width": null,
            "object_fit": null,
            "object_position": null,
            "order": null,
            "overflow": null,
            "overflow_x": null,
            "overflow_y": null,
            "padding": null,
            "right": null,
            "top": null,
            "visibility": null,
            "width": null
          }
        },
        "1f4cf0779a1a4e15b5681bd5c821739a": {
          "model_module": "@jupyter-widgets/controls",
          "model_name": "ProgressStyleModel",
          "model_module_version": "1.5.0",
          "state": {
            "_model_module": "@jupyter-widgets/controls",
            "_model_module_version": "1.5.0",
            "_model_name": "ProgressStyleModel",
            "_view_count": null,
            "_view_module": "@jupyter-widgets/base",
            "_view_module_version": "1.2.0",
            "_view_name": "StyleView",
            "bar_color": null,
            "description_width": ""
          }
        },
        "b8c3a20ab8114a81999b60f31ece6652": {
          "model_module": "@jupyter-widgets/base",
          "model_name": "LayoutModel",
          "model_module_version": "1.2.0",
          "state": {
            "_model_module": "@jupyter-widgets/base",
            "_model_module_version": "1.2.0",
            "_model_name": "LayoutModel",
            "_view_count": null,
            "_view_module": "@jupyter-widgets/base",
            "_view_module_version": "1.2.0",
            "_view_name": "LayoutView",
            "align_content": null,
            "align_items": null,
            "align_self": null,
            "border": null,
            "bottom": null,
            "display": null,
            "flex": null,
            "flex_flow": null,
            "grid_area": null,
            "grid_auto_columns": null,
            "grid_auto_flow": null,
            "grid_auto_rows": null,
            "grid_column": null,
            "grid_gap": null,
            "grid_row": null,
            "grid_template_areas": null,
            "grid_template_columns": null,
            "grid_template_rows": null,
            "height": null,
            "justify_content": null,
            "justify_items": null,
            "left": null,
            "margin": null,
            "max_height": null,
            "max_width": null,
            "min_height": null,
            "min_width": null,
            "object_fit": null,
            "object_position": null,
            "order": null,
            "overflow": null,
            "overflow_x": null,
            "overflow_y": null,
            "padding": null,
            "right": null,
            "top": null,
            "visibility": null,
            "width": null
          }
        },
        "ae0799e9ea744a27a9c4bf9c588c9573": {
          "model_module": "@jupyter-widgets/controls",
          "model_name": "DescriptionStyleModel",
          "model_module_version": "1.5.0",
          "state": {
            "_model_module": "@jupyter-widgets/controls",
            "_model_module_version": "1.5.0",
            "_model_name": "DescriptionStyleModel",
            "_view_count": null,
            "_view_module": "@jupyter-widgets/base",
            "_view_module_version": "1.2.0",
            "_view_name": "StyleView",
            "description_width": ""
          }
        },
        "8e557e08f81e45cd9092c8cad279c7a3": {
          "model_module": "@jupyter-widgets/controls",
          "model_name": "HBoxModel",
          "model_module_version": "1.5.0",
          "state": {
            "_dom_classes": [],
            "_model_module": "@jupyter-widgets/controls",
            "_model_module_version": "1.5.0",
            "_model_name": "HBoxModel",
            "_view_count": null,
            "_view_module": "@jupyter-widgets/controls",
            "_view_module_version": "1.5.0",
            "_view_name": "HBoxView",
            "box_style": "",
            "children": [
              "IPY_MODEL_eb8a844b52224362b3be95e74754eaca",
              "IPY_MODEL_ff9f00e7494b4625a83ec9fbf73bee1e",
              "IPY_MODEL_931aa8c2bf434950a23f3649d724bd23"
            ],
            "layout": "IPY_MODEL_3b3657090ae54bc28104854891557218"
          }
        },
        "eb8a844b52224362b3be95e74754eaca": {
          "model_module": "@jupyter-widgets/controls",
          "model_name": "HTMLModel",
          "model_module_version": "1.5.0",
          "state": {
            "_dom_classes": [],
            "_model_module": "@jupyter-widgets/controls",
            "_model_module_version": "1.5.0",
            "_model_name": "HTMLModel",
            "_view_count": null,
            "_view_module": "@jupyter-widgets/controls",
            "_view_module_version": "1.5.0",
            "_view_name": "HTMLView",
            "description": "",
            "description_tooltip": null,
            "layout": "IPY_MODEL_3d85fcbb7f78402fa79e45d64f185f71",
            "placeholder": "​",
            "style": "IPY_MODEL_09555ec9ad9c44b49723c6f5519ba8b3",
            "value": "Downloading tf_model.h5:  18%"
          }
        },
        "ff9f00e7494b4625a83ec9fbf73bee1e": {
          "model_module": "@jupyter-widgets/controls",
          "model_name": "FloatProgressModel",
          "model_module_version": "1.5.0",
          "state": {
            "_dom_classes": [],
            "_model_module": "@jupyter-widgets/controls",
            "_model_module_version": "1.5.0",
            "_model_name": "FloatProgressModel",
            "_view_count": null,
            "_view_module": "@jupyter-widgets/controls",
            "_view_module_version": "1.5.0",
            "_view_name": "ProgressView",
            "bar_style": "",
            "description": "",
            "description_tooltip": null,
            "layout": "IPY_MODEL_b70c23755536466b94e39c24ec50d418",
            "max": 1426168784,
            "min": 0,
            "orientation": "horizontal",
            "style": "IPY_MODEL_16a5408f86234aac8079dd92504065f9",
            "value": 259960832
          }
        },
        "931aa8c2bf434950a23f3649d724bd23": {
          "model_module": "@jupyter-widgets/controls",
          "model_name": "HTMLModel",
          "model_module_version": "1.5.0",
          "state": {
            "_dom_classes": [],
            "_model_module": "@jupyter-widgets/controls",
            "_model_module_version": "1.5.0",
            "_model_name": "HTMLModel",
            "_view_count": null,
            "_view_module": "@jupyter-widgets/controls",
            "_view_module_version": "1.5.0",
            "_view_name": "HTMLView",
            "description": "",
            "description_tooltip": null,
            "layout": "IPY_MODEL_b87b52f4f07f47648752a1e1159aa5e0",
            "placeholder": "​",
            "style": "IPY_MODEL_9ae3e69ae1cd4259a55c57898a87f366",
            "value": " 248M/1.33G [02:41&lt;09:42, 2.00MB/s]"
          }
        },
        "3b3657090ae54bc28104854891557218": {
          "model_module": "@jupyter-widgets/base",
          "model_name": "LayoutModel",
          "model_module_version": "1.2.0",
          "state": {
            "_model_module": "@jupyter-widgets/base",
            "_model_module_version": "1.2.0",
            "_model_name": "LayoutModel",
            "_view_count": null,
            "_view_module": "@jupyter-widgets/base",
            "_view_module_version": "1.2.0",
            "_view_name": "LayoutView",
            "align_content": null,
            "align_items": null,
            "align_self": null,
            "border": null,
            "bottom": null,
            "display": null,
            "flex": null,
            "flex_flow": null,
            "grid_area": null,
            "grid_auto_columns": null,
            "grid_auto_flow": null,
            "grid_auto_rows": null,
            "grid_column": null,
            "grid_gap": null,
            "grid_row": null,
            "grid_template_areas": null,
            "grid_template_columns": null,
            "grid_template_rows": null,
            "height": null,
            "justify_content": null,
            "justify_items": null,
            "left": null,
            "margin": null,
            "max_height": null,
            "max_width": null,
            "min_height": null,
            "min_width": null,
            "object_fit": null,
            "object_position": null,
            "order": null,
            "overflow": null,
            "overflow_x": null,
            "overflow_y": null,
            "padding": null,
            "right": null,
            "top": null,
            "visibility": null,
            "width": null
          }
        },
        "3d85fcbb7f78402fa79e45d64f185f71": {
          "model_module": "@jupyter-widgets/base",
          "model_name": "LayoutModel",
          "model_module_version": "1.2.0",
          "state": {
            "_model_module": "@jupyter-widgets/base",
            "_model_module_version": "1.2.0",
            "_model_name": "LayoutModel",
            "_view_count": null,
            "_view_module": "@jupyter-widgets/base",
            "_view_module_version": "1.2.0",
            "_view_name": "LayoutView",
            "align_content": null,
            "align_items": null,
            "align_self": null,
            "border": null,
            "bottom": null,
            "display": null,
            "flex": null,
            "flex_flow": null,
            "grid_area": null,
            "grid_auto_columns": null,
            "grid_auto_flow": null,
            "grid_auto_rows": null,
            "grid_column": null,
            "grid_gap": null,
            "grid_row": null,
            "grid_template_areas": null,
            "grid_template_columns": null,
            "grid_template_rows": null,
            "height": null,
            "justify_content": null,
            "justify_items": null,
            "left": null,
            "margin": null,
            "max_height": null,
            "max_width": null,
            "min_height": null,
            "min_width": null,
            "object_fit": null,
            "object_position": null,
            "order": null,
            "overflow": null,
            "overflow_x": null,
            "overflow_y": null,
            "padding": null,
            "right": null,
            "top": null,
            "visibility": null,
            "width": null
          }
        },
        "09555ec9ad9c44b49723c6f5519ba8b3": {
          "model_module": "@jupyter-widgets/controls",
          "model_name": "DescriptionStyleModel",
          "model_module_version": "1.5.0",
          "state": {
            "_model_module": "@jupyter-widgets/controls",
            "_model_module_version": "1.5.0",
            "_model_name": "DescriptionStyleModel",
            "_view_count": null,
            "_view_module": "@jupyter-widgets/base",
            "_view_module_version": "1.2.0",
            "_view_name": "StyleView",
            "description_width": ""
          }
        },
        "b70c23755536466b94e39c24ec50d418": {
          "model_module": "@jupyter-widgets/base",
          "model_name": "LayoutModel",
          "model_module_version": "1.2.0",
          "state": {
            "_model_module": "@jupyter-widgets/base",
            "_model_module_version": "1.2.0",
            "_model_name": "LayoutModel",
            "_view_count": null,
            "_view_module": "@jupyter-widgets/base",
            "_view_module_version": "1.2.0",
            "_view_name": "LayoutView",
            "align_content": null,
            "align_items": null,
            "align_self": null,
            "border": null,
            "bottom": null,
            "display": null,
            "flex": null,
            "flex_flow": null,
            "grid_area": null,
            "grid_auto_columns": null,
            "grid_auto_flow": null,
            "grid_auto_rows": null,
            "grid_column": null,
            "grid_gap": null,
            "grid_row": null,
            "grid_template_areas": null,
            "grid_template_columns": null,
            "grid_template_rows": null,
            "height": null,
            "justify_content": null,
            "justify_items": null,
            "left": null,
            "margin": null,
            "max_height": null,
            "max_width": null,
            "min_height": null,
            "min_width": null,
            "object_fit": null,
            "object_position": null,
            "order": null,
            "overflow": null,
            "overflow_x": null,
            "overflow_y": null,
            "padding": null,
            "right": null,
            "top": null,
            "visibility": null,
            "width": null
          }
        },
        "16a5408f86234aac8079dd92504065f9": {
          "model_module": "@jupyter-widgets/controls",
          "model_name": "ProgressStyleModel",
          "model_module_version": "1.5.0",
          "state": {
            "_model_module": "@jupyter-widgets/controls",
            "_model_module_version": "1.5.0",
            "_model_name": "ProgressStyleModel",
            "_view_count": null,
            "_view_module": "@jupyter-widgets/base",
            "_view_module_version": "1.2.0",
            "_view_name": "StyleView",
            "bar_color": null,
            "description_width": ""
          }
        },
        "b87b52f4f07f47648752a1e1159aa5e0": {
          "model_module": "@jupyter-widgets/base",
          "model_name": "LayoutModel",
          "model_module_version": "1.2.0",
          "state": {
            "_model_module": "@jupyter-widgets/base",
            "_model_module_version": "1.2.0",
            "_model_name": "LayoutModel",
            "_view_count": null,
            "_view_module": "@jupyter-widgets/base",
            "_view_module_version": "1.2.0",
            "_view_name": "LayoutView",
            "align_content": null,
            "align_items": null,
            "align_self": null,
            "border": null,
            "bottom": null,
            "display": null,
            "flex": null,
            "flex_flow": null,
            "grid_area": null,
            "grid_auto_columns": null,
            "grid_auto_flow": null,
            "grid_auto_rows": null,
            "grid_column": null,
            "grid_gap": null,
            "grid_row": null,
            "grid_template_areas": null,
            "grid_template_columns": null,
            "grid_template_rows": null,
            "height": null,
            "justify_content": null,
            "justify_items": null,
            "left": null,
            "margin": null,
            "max_height": null,
            "max_width": null,
            "min_height": null,
            "min_width": null,
            "object_fit": null,
            "object_position": null,
            "order": null,
            "overflow": null,
            "overflow_x": null,
            "overflow_y": null,
            "padding": null,
            "right": null,
            "top": null,
            "visibility": null,
            "width": null
          }
        },
        "9ae3e69ae1cd4259a55c57898a87f366": {
          "model_module": "@jupyter-widgets/controls",
          "model_name": "DescriptionStyleModel",
          "model_module_version": "1.5.0",
          "state": {
            "_model_module": "@jupyter-widgets/controls",
            "_model_module_version": "1.5.0",
            "_model_name": "DescriptionStyleModel",
            "_view_count": null,
            "_view_module": "@jupyter-widgets/base",
            "_view_module_version": "1.2.0",
            "_view_name": "StyleView",
            "description_width": ""
          }
        }
      }
    }
  },
  "nbformat": 4,
  "nbformat_minor": 0
}