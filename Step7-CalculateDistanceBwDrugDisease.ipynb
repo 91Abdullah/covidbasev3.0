{
 "cells": [
  {
   "cell_type": "markdown",
   "metadata": {},
   "source": [
    "# Step 7: Calculate distance between drug and disease"
   ]
  },
  {
   "cell_type": "code",
   "execution_count": 1,
   "metadata": {},
   "outputs": [],
   "source": [
    "import os\n",
    "os.environ[\"MODIN_ENGINE\"] = \"ray\"  # Modin will use Ray\n",
    "import modin.pandas as pd\n",
    "import re"
   ]
  },
  {
   "cell_type": "code",
   "execution_count": 3,
   "metadata": {},
   "outputs": [
    {
     "name": "stderr",
     "output_type": "stream",
     "text": [
      "UserWarning: Ray execution environment not yet initialized. Initializing...\n",
      "To remove this warning, run the following python code before doing dataframe operations:\n",
      "\n",
      "    import ray\n",
      "    ray.init()\n",
      "\n",
      "UserWarning: The size of /dev/shm is too small (27754160128 bytes). The required size at least half of RAM (33631944704 bytes). Please, delete files in /dev/shm or increase size of /dev/shm with --shm-size in Docker. Also, you can set the required memory size for each Ray worker in bytes to MODIN_MEMORY environment variable.\n"
     ]
    }
   ],
   "source": [
    "df_drug_disease_sentences = pd.read_csv('drug_disease_sentences.csv')"
   ]
  },
  {
   "cell_type": "code",
   "execution_count": 4,
   "metadata": {},
   "outputs": [],
   "source": [
    "# Clean sentences before calculating distance:\n",
    "def clean_sentence(text):\n",
    "    return ''.join(e for e in text if (e.isalnum() or e.isspace()))"
   ]
  },
  {
   "cell_type": "code",
   "execution_count": 5,
   "metadata": {},
   "outputs": [],
   "source": [
    "# Get minimum (absolute) distance between word1 and word1 in a sentence\n",
    "def get_distance(w1, w2, sentence):\n",
    "    words = sentence.split()\n",
    "    if w1 in words and w2 in words:\n",
    "          return abs(words.index(w2) - words.index(w1))\n",
    "    return -1"
   ]
  },
  {
   "cell_type": "code",
   "execution_count": 6,
   "metadata": {},
   "outputs": [],
   "source": [
    "def process_disease_drug_rows(data):\n",
    "    word1 = clean_sentence(data['disease'].lower())\n",
    "    word2 = clean_sentence(data['drug'].lower())\n",
    "    sentence = clean_sentence(data['sentences'].lower())\n",
    "    distance = get_distance(word1, word2, sentence)\n",
    "    return distance"
   ]
  },
  {
   "cell_type": "code",
   "execution_count": 10,
   "metadata": {},
   "outputs": [],
   "source": [
    "from tqdm import tqdm"
   ]
  },
  {
   "cell_type": "code",
   "execution_count": 11,
   "metadata": {},
   "outputs": [
    {
     "name": "stderr",
     "output_type": "stream",
     "text": [
      "UserWarning: User-defined function verification is still under development in Modin. The function provided is not verified.\n"
     ]
    }
   ],
   "source": [
    "df_drug_disease_sentences['distance'] = df_drug_disease_sentences.apply(process_disease_drug_rows, axis=1)"
   ]
  },
  {
   "cell_type": "code",
   "execution_count": 12,
   "metadata": {},
   "outputs": [
    {
     "data": {
      "text/plain": [
       "disease      4220\n",
       "drug         4220\n",
       "sentences    4220\n",
       "distance     4220\n",
       "dtype: int64"
      ]
     },
     "execution_count": 12,
     "metadata": {},
     "output_type": "execute_result"
    }
   ],
   "source": [
    "df_drug_disease_sentences.count()"
   ]
  },
  {
   "cell_type": "code",
   "execution_count": 27,
   "metadata": {},
   "outputs": [
    {
     "data": {
      "text/plain": [
       "array([['hypertension', 'Selexipag',\n",
       "        'The TRITON trial (Efficacy and Safety of Initial Triple Versus Initial Dual Oral Combination Therapy in Patients With Newly Diagnosed Pulmonary Arterial Hypertension)-which compared triple therapy with tadalafil, macitentan, and selexipag versus double therapy with tadalafil and macitentanshowed no statistical differences in the primary end point (change in pulmonary vascular resistance, or PVR) and multiple secondary end points (6-minute walk distance [6MWD], NT pro-brain natriuretic peptide, and no worsening in functional class) between the two groups.',\n",
       "        -1],\n",
       "       ['COVID-19', 'Gilteritinib',\n",
       "        \"174 The presence of another small molecule AXL inhibitor, bemcentinib, in the RECOVERY COVID-19 Phase II clinical trial COVID-19 patients backed up gilteritinib's antiviral efficacy.\",\n",
       "        -1],\n",
       "       ['cholera', 'Phthalocyanine',\n",
       "        'All the reagents used were obtained from Sigma-Aldrich South Africa, and include the following: polyacrylonitrile, iron(II)phthalocyanine (FePc), glycine, 1-ethyl-3-(3dimethylaminopropyl) carbodiimide hydrochloride (EDC), N-hydroxysulfosuccinimide (Sulfo-NHS), cholera toxin B subunit antigen (Ag) (from Vibrio cholerae Cat.',\n",
       "        -1],\n",
       "       ['bronchiolitis', 'Thymine',\n",
       "        'This finding indicates that the higher risk of severe RSV bronchiolitis (odds ratio (OR), 2.24; confidence interval (CI), 0.98-5.14) [97, 98] among individuals with Fokl VDR gene polymorphism (rs2228570; cytosine>thymine (C > T)) is likely related to secondary immunopathology rather than proliferation of the virus itself.',\n",
       "        -1],\n",
       "       ['myopathy', 'Remimazolam',\n",
       "        \"Remimazolam's successful use in high-risk patients, including endoscopic retrograde cholangiopancreatography in a patient with impaired respiratory function due to myotonic dystrophy (Fukuda et al., 2021) , MitraClip implantation in a patient with advanced heart failure (Satoh et al., 2021) , and cochlear implant in a patient with mitochondrial myopathy has been published.\",\n",
       "        -1],\n",
       "       ['infertility', 'Mitotane',\n",
       "        'Besides,fertility loss is deemed as the complication in TARTs cases and always related mechanical obstruction and toxic effect of local adrenal steroids or metabolites derived from adrenal rest tumors [23] .In spite of infertility,some effective treatments have been proposed like follicle-stimulating hormone(FSH)/LH induction or mitotane therapy [24] .In most azoospermia or oligozoospermia patients affected by CAH,there are several reversible fertility TARTs cases [25] ,which could provide some guidance for 3β-2HSD population.',\n",
       "        -1],\n",
       "       ['rhinitis', 'Tiotropium',\n",
       "        '[139140] As vilanterol has an onset of action within 15 min and a long half-life, it can only be used as a maintenance treatment while continuing SABA as a reliever.Alternative optionsThe continuation of ICS as a monotherapy by increasing the dose to the medium level is generally less effective strategy (Evidence A)[141142]The addition of LTRA to a low–medium-dose ICS is another option, especially in patients with concomitant rhinitis (Evidence A)[143144145]Tiotropium is a long-acting anticholinergic (antimuscarinic) agent (LAMA) approved for the treatment of COPD.',\n",
       "        -1],\n",
       "       ['aphasia', 'Daptomycin',\n",
       "        'Her aphasia resolved, and following her clinical improvement she was discharged on post-operative day 4 with a plan to complete a 6-week course of daptomycin.Daptomycin, cefepime and metronidazole were started empirically, however she failed to improve and developed worsening aphasia and righthand weakness.',\n",
       "        -1],\n",
       "       ['candidiasis', 'Nystatin',\n",
       "        \"Nystatin's oral suspension (100,000 IU/ml and 400,000-600,000 IU/ml) is available as an oral rinse for oral candidiasis treatment [11, 14] .\",\n",
       "        -1],\n",
       "       ['nephrocalcinosis', 'Chlorine',\n",
       "        'Serial analyzes show an increase in renal losses of chlorine and calcium(calciuria up to Ca/Cr 3.02 mg/mg), hyperaldosteonic hyperreninema and a finding of moderate nephrocalcinosis(grade 2), considering at this point the differential diagnosis between primary type 1 PHA and BS.',\n",
       "        -1],\n",
       "       ['retinoblastoma', 'Tigecycline',\n",
       "        \"Tigecycline's efficacy extends from inhibiting microbes to inhibiting cancer such as myeloid leukemia, glioma, non-small cell lung cancer, and retinoblastoma transcriptional corepressor 1 (RB1) negative breast cancer [69, 70] .\",\n",
       "        -1],\n",
       "       ['glomerulosclerosis', 'VX-765',\n",
       "        'The stimulation of the NF-κB signaling cascade is engaged in NLRP3 inflammasome activity modulation [14, 15] SGLT-2 Inhibitors(Dapagliflozin, Empagliflozin)-P2Y12 Antagonist(Ticagrelor) Dapagliflozin NLRP3 Extenuates inflammation-evoked renal damage and glomerulosclerosis in diabetic kidneys by ameliorating NLRP3 inflammasome stimulation; AMPK activation [16] Empagliflozin NLRP3 Impedes kindling of NLRP3 inflammasome and decrements downstream inflammatory signaling in the diabetic kidneys [17] Ticagrelor NLRP3 Repress NLRP3 inflammasome stimulation; AMPK activation [18] Xanthine oxidase(XOD) enzyme inhibitor Allopurinol NLRP3, XOD Represses xanthine oxidase(XOD) action and subsequently attenuates generation of uric acid (UA) and reactive oxygen species (ROS), which are known to kindle the NLRP3 pathway [19, 20] Vinylsulfones BAY11-7082 NLRP3, IKK, E2/3 enzymes, PTPs Leads to cysteine alkylation of NLRP3 inflammasome ATPase domains; represses NLRP3 ATPase actions [4, 21] Beta-Nitrostyrenes Leads to cysteine alteration of NLRP3 inflammasome ATPase domains; represses NLRP3 inflammasome actions [22] Acrylate Derivatives Abrogates NLRP3 inflammasome ATPase actions; represses priming [23] Acylhydrazone EMD638683 NLRP3 Suppression of NLRP3 and IL-1β expression [24] Benzimidazoles FC11A-2 NLRP3(indirect effect) Hampers pro-caspase-1 autocleavage; impedes IL-1beta/18 secretion [25, 26]  Sulfonylnitriles Dapansutrile (OLT1177) NLRP3 Abrogates NLRP3 inflammasome ATPase actions; suppresses NLRP3 inflammasome stimulation [27, 28] Benzoxathiole Derivatives BOT-4-one NLRP3 Akin to various covalent modulators that repress NLRP3, this agent blunts its ATPase activity; inhibits priming [29] [30] [31] Tryptophan Derivative Tranilast NLRP3 Interacts with NACHT segment of NLRP3 to abrogate NLRP3-NLRP3 and NLRP3-ASC association [4, 32] Natural Products BHB NLRP3(indirectly) Abrogation of outward movement of K+ with consequent decrement in ASC agglomeration and IL-1beta/18 release [33] Parthenolide NLRP1 & 3, Caspase-1, NF-kB, IKKB kinase activity Alkyl modification of cysteine moieties present in ATPase segments of NLRP3 and caspase-1; abrogates NLRP3 ATPase actions [34] Oridonin NLRP3 Selectively represses NLRP3 inflammasome stimulation; associates with cysteine 279 residue of NLRP3 and abrogates NLRP3-NEK7 association [35] Caspase Inhibitors Pralnacasan(VX-740) Caspase-1 Covalent alteration of catalytic cysteine moiety in caspase-1 active site with consequent abrogation of caspase-1 effects and splitting of pro-IL-1Beta/18 [36] [37] [38] Emricasan(VX-765) Caspase-1 Covalent alteration of catalytic cysteine moiety in caspase-1 active site with consequent abrogation of caspase-1 effects and splitting of pro-IL-1Beta/18 [36] [37] [38]  The NLRP3 inflammasome agglomerates are consequent to responding to a wide spectrum of pathogen-related molecular arrangements and damage-related molecular motifs.',\n",
       "        -1],\n",
       "       ['glomerulosclerosis', 'Emricasan',\n",
       "        'The stimulation of the NF-κB signaling cascade is engaged in NLRP3 inflammasome activity modulation [14, 15] SGLT-2 Inhibitors(Dapagliflozin, Empagliflozin)-P2Y12 Antagonist(Ticagrelor) Dapagliflozin NLRP3 Extenuates inflammation-evoked renal damage and glomerulosclerosis in diabetic kidneys by ameliorating NLRP3 inflammasome stimulation; AMPK activation [16] Empagliflozin NLRP3 Impedes kindling of NLRP3 inflammasome and decrements downstream inflammatory signaling in the diabetic kidneys [17] Ticagrelor NLRP3 Repress NLRP3 inflammasome stimulation; AMPK activation [18] Xanthine oxidase(XOD) enzyme inhibitor Allopurinol NLRP3, XOD Represses xanthine oxidase(XOD) action and subsequently attenuates generation of uric acid (UA) and reactive oxygen species (ROS), which are known to kindle the NLRP3 pathway [19, 20] Vinylsulfones BAY11-7082 NLRP3, IKK, E2/3 enzymes, PTPs Leads to cysteine alkylation of NLRP3 inflammasome ATPase domains; represses NLRP3 ATPase actions [4, 21] Beta-Nitrostyrenes Leads to cysteine alteration of NLRP3 inflammasome ATPase domains; represses NLRP3 inflammasome actions [22] Acrylate Derivatives Abrogates NLRP3 inflammasome ATPase actions; represses priming [23] Acylhydrazone EMD638683 NLRP3 Suppression of NLRP3 and IL-1β expression [24] Benzimidazoles FC11A-2 NLRP3(indirect effect) Hampers pro-caspase-1 autocleavage; impedes IL-1beta/18 secretion [25, 26]  Sulfonylnitriles Dapansutrile (OLT1177) NLRP3 Abrogates NLRP3 inflammasome ATPase actions; suppresses NLRP3 inflammasome stimulation [27, 28] Benzoxathiole Derivatives BOT-4-one NLRP3 Akin to various covalent modulators that repress NLRP3, this agent blunts its ATPase activity; inhibits priming [29] [30] [31] Tryptophan Derivative Tranilast NLRP3 Interacts with NACHT segment of NLRP3 to abrogate NLRP3-NLRP3 and NLRP3-ASC association [4, 32] Natural Products BHB NLRP3(indirectly) Abrogation of outward movement of K+ with consequent decrement in ASC agglomeration and IL-1beta/18 release [33] Parthenolide NLRP1 & 3, Caspase-1, NF-kB, IKKB kinase activity Alkyl modification of cysteine moieties present in ATPase segments of NLRP3 and caspase-1; abrogates NLRP3 ATPase actions [34] Oridonin NLRP3 Selectively represses NLRP3 inflammasome stimulation; associates with cysteine 279 residue of NLRP3 and abrogates NLRP3-NEK7 association [35] Caspase Inhibitors Pralnacasan(VX-740) Caspase-1 Covalent alteration of catalytic cysteine moiety in caspase-1 active site with consequent abrogation of caspase-1 effects and splitting of pro-IL-1Beta/18 [36] [37] [38] Emricasan(VX-765) Caspase-1 Covalent alteration of catalytic cysteine moiety in caspase-1 active site with consequent abrogation of caspase-1 effects and splitting of pro-IL-1Beta/18 [36] [37] [38]  The NLRP3 inflammasome agglomerates are consequent to responding to a wide spectrum of pathogen-related molecular arrangements and damage-related molecular motifs.',\n",
       "        -1],\n",
       "       ['glomerulosclerosis', 'Pralnacasan',\n",
       "        'The stimulation of the NF-κB signaling cascade is engaged in NLRP3 inflammasome activity modulation [14, 15] SGLT-2 Inhibitors(Dapagliflozin, Empagliflozin)-P2Y12 Antagonist(Ticagrelor) Dapagliflozin NLRP3 Extenuates inflammation-evoked renal damage and glomerulosclerosis in diabetic kidneys by ameliorating NLRP3 inflammasome stimulation; AMPK activation [16] Empagliflozin NLRP3 Impedes kindling of NLRP3 inflammasome and decrements downstream inflammatory signaling in the diabetic kidneys [17] Ticagrelor NLRP3 Repress NLRP3 inflammasome stimulation; AMPK activation [18] Xanthine oxidase(XOD) enzyme inhibitor Allopurinol NLRP3, XOD Represses xanthine oxidase(XOD) action and subsequently attenuates generation of uric acid (UA) and reactive oxygen species (ROS), which are known to kindle the NLRP3 pathway [19, 20] Vinylsulfones BAY11-7082 NLRP3, IKK, E2/3 enzymes, PTPs Leads to cysteine alkylation of NLRP3 inflammasome ATPase domains; represses NLRP3 ATPase actions [4, 21] Beta-Nitrostyrenes Leads to cysteine alteration of NLRP3 inflammasome ATPase domains; represses NLRP3 inflammasome actions [22] Acrylate Derivatives Abrogates NLRP3 inflammasome ATPase actions; represses priming [23] Acylhydrazone EMD638683 NLRP3 Suppression of NLRP3 and IL-1β expression [24] Benzimidazoles FC11A-2 NLRP3(indirect effect) Hampers pro-caspase-1 autocleavage; impedes IL-1beta/18 secretion [25, 26]  Sulfonylnitriles Dapansutrile (OLT1177) NLRP3 Abrogates NLRP3 inflammasome ATPase actions; suppresses NLRP3 inflammasome stimulation [27, 28] Benzoxathiole Derivatives BOT-4-one NLRP3 Akin to various covalent modulators that repress NLRP3, this agent blunts its ATPase activity; inhibits priming [29] [30] [31] Tryptophan Derivative Tranilast NLRP3 Interacts with NACHT segment of NLRP3 to abrogate NLRP3-NLRP3 and NLRP3-ASC association [4, 32] Natural Products BHB NLRP3(indirectly) Abrogation of outward movement of K+ with consequent decrement in ASC agglomeration and IL-1beta/18 release [33] Parthenolide NLRP1 & 3, Caspase-1, NF-kB, IKKB kinase activity Alkyl modification of cysteine moieties present in ATPase segments of NLRP3 and caspase-1; abrogates NLRP3 ATPase actions [34] Oridonin NLRP3 Selectively represses NLRP3 inflammasome stimulation; associates with cysteine 279 residue of NLRP3 and abrogates NLRP3-NEK7 association [35] Caspase Inhibitors Pralnacasan(VX-740) Caspase-1 Covalent alteration of catalytic cysteine moiety in caspase-1 active site with consequent abrogation of caspase-1 effects and splitting of pro-IL-1Beta/18 [36] [37] [38] Emricasan(VX-765) Caspase-1 Covalent alteration of catalytic cysteine moiety in caspase-1 active site with consequent abrogation of caspase-1 effects and splitting of pro-IL-1Beta/18 [36] [37] [38]  The NLRP3 inflammasome agglomerates are consequent to responding to a wide spectrum of pathogen-related molecular arrangements and damage-related molecular motifs.',\n",
       "        -1]], dtype=object)"
      ]
     },
     "execution_count": 27,
     "metadata": {},
     "output_type": "execute_result"
    }
   ],
   "source": [
    "df_drug_disease_sentences[df_drug_disease_sentences['distance'] == -1].values"
   ]
  },
  {
   "cell_type": "code",
   "execution_count": 28,
   "metadata": {},
   "outputs": [],
   "source": [
    "df_drug_disease_sentences.to_csv('drug_disease_sentences_with_distance.csv', index=False)"
   ]
  },
  {
   "cell_type": "markdown",
   "metadata": {},
   "source": [
    "## Appying on #1 & #2 dataset"
   ]
  },
  {
   "cell_type": "code",
   "execution_count": 113,
   "metadata": {},
   "outputs": [],
   "source": [
    "dataframe = pd.read_csv('Dataset/dataset_1_junaed.csv')\n",
    "dataframe2 = pd.read_csv('Dataset/dataset_2_hamada.csv')"
   ]
  },
  {
   "cell_type": "code",
   "execution_count": 114,
   "metadata": {},
   "outputs": [],
   "source": [
    "dataframe2 = dataframe2[['Disease Name', 'Drug Name', 'Common Sentence', 'Manual Label']]"
   ]
  },
  {
   "cell_type": "code",
   "execution_count": 115,
   "metadata": {},
   "outputs": [],
   "source": [
    "# Excluding -1 labels for binary classification\n",
    "dataframe2 = dataframe2[dataframe2['Manual Label'] != -1]"
   ]
  },
  {
   "cell_type": "code",
   "execution_count": 116,
   "metadata": {},
   "outputs": [
    {
     "name": "stderr",
     "output_type": "stream",
     "text": [
      "UserWarning: Due to https://github.com/pandas-dev/pandas/issues/35092, Pandas ignores sort=False; Modin correctly does not sort.\n"
     ]
    }
   ],
   "source": [
    "dataframe = dataframe.append(dataframe2)"
   ]
  },
  {
   "cell_type": "code",
   "execution_count": 117,
   "metadata": {},
   "outputs": [],
   "source": [
    "dataframe = dataframe[['Disease Name', 'Drug Name', 'Common Sentence', 'Manual Label']]"
   ]
  },
  {
   "cell_type": "code",
   "execution_count": 121,
   "metadata": {},
   "outputs": [
    {
     "data": {
      "text/html": [
       "<div>\n",
       "<style scoped>\n",
       "    .dataframe tbody tr th:only-of-type {\n",
       "        vertical-align: middle;\n",
       "    }\n",
       "\n",
       "    .dataframe tbody tr th {\n",
       "        vertical-align: top;\n",
       "    }\n",
       "\n",
       "    .dataframe thead th {\n",
       "        text-align: right;\n",
       "    }\n",
       "</style>\n",
       "<table border=\"1\" class=\"dataframe\">\n",
       "  <thead>\n",
       "    <tr style=\"text-align: right;\">\n",
       "      <th></th>\n",
       "      <th>Manual Label</th>\n",
       "    </tr>\n",
       "  </thead>\n",
       "  <tbody>\n",
       "    <tr>\n",
       "      <th>count</th>\n",
       "      <td>178.000000</td>\n",
       "    </tr>\n",
       "    <tr>\n",
       "      <th>mean</th>\n",
       "      <td>0.612360</td>\n",
       "    </tr>\n",
       "    <tr>\n",
       "      <th>std</th>\n",
       "      <td>0.488586</td>\n",
       "    </tr>\n",
       "    <tr>\n",
       "      <th>min</th>\n",
       "      <td>0.000000</td>\n",
       "    </tr>\n",
       "    <tr>\n",
       "      <th>25%</th>\n",
       "      <td>0.000000</td>\n",
       "    </tr>\n",
       "    <tr>\n",
       "      <th>50%</th>\n",
       "      <td>1.000000</td>\n",
       "    </tr>\n",
       "    <tr>\n",
       "      <th>75%</th>\n",
       "      <td>1.000000</td>\n",
       "    </tr>\n",
       "    <tr>\n",
       "      <th>max</th>\n",
       "      <td>1.000000</td>\n",
       "    </tr>\n",
       "  </tbody>\n",
       "</table>\n",
       "</div>"
      ],
      "text/plain": [
       "       Manual Label\n",
       "count    178.000000\n",
       "mean       0.612360\n",
       "std        0.488586\n",
       "min        0.000000\n",
       "25%        0.000000\n",
       "50%        1.000000\n",
       "75%        1.000000\n",
       "max        1.000000"
      ]
     },
     "execution_count": 121,
     "metadata": {},
     "output_type": "execute_result"
    }
   ],
   "source": [
    "dataframe.describe()"
   ]
  },
  {
   "cell_type": "markdown",
   "metadata": {},
   "source": [
    "Total 178 labels\n"
   ]
  },
  {
   "cell_type": "code",
   "execution_count": 122,
   "metadata": {},
   "outputs": [],
   "source": [
    "dataframe.rename(columns={'Disease Name': 'disease', 'Drug Name': 'drug', 'Common Sentence': 'sentences'}, inplace=True)"
   ]
  },
  {
   "cell_type": "code",
   "execution_count": 123,
   "metadata": {},
   "outputs": [],
   "source": [
    "dataframe = dataframe[dataframe.sentences.notna()]"
   ]
  },
  {
   "cell_type": "code",
   "execution_count": 124,
   "metadata": {},
   "outputs": [
    {
     "name": "stderr",
     "output_type": "stream",
     "text": [
      "UserWarning: User-defined function verification is still under development in Modin. The function provided is not verified.\n"
     ]
    }
   ],
   "source": [
    "dataframe['distance'] = dataframe.apply(process_disease_drug_rows, axis=1)"
   ]
  },
  {
   "cell_type": "code",
   "execution_count": 125,
   "metadata": {},
   "outputs": [],
   "source": [
    "dataframe = dataframe[dataframe.distance != -1]"
   ]
  },
  {
   "cell_type": "code",
   "execution_count": 126,
   "metadata": {},
   "outputs": [
    {
     "data": {
      "text/html": [
       "<div>\n",
       "<style scoped>\n",
       "    .dataframe tbody tr th:only-of-type {\n",
       "        vertical-align: middle;\n",
       "    }\n",
       "\n",
       "    .dataframe tbody tr th {\n",
       "        vertical-align: top;\n",
       "    }\n",
       "\n",
       "    .dataframe thead th {\n",
       "        text-align: right;\n",
       "    }\n",
       "</style>\n",
       "<table border=\"1\" class=\"dataframe\">\n",
       "  <thead>\n",
       "    <tr style=\"text-align: right;\">\n",
       "      <th></th>\n",
       "      <th>disease</th>\n",
       "      <th>drug</th>\n",
       "      <th>sentences</th>\n",
       "      <th>Manual Label</th>\n",
       "      <th>distance</th>\n",
       "    </tr>\n",
       "  </thead>\n",
       "  <tbody>\n",
       "    <tr>\n",
       "      <th>1</th>\n",
       "      <td>thrombosis</td>\n",
       "      <td>thalidomide</td>\n",
       "      <td>.   christmas disease-national survey (biggs a...</td>\n",
       "      <td>0.0</td>\n",
       "      <td>385</td>\n",
       "    </tr>\n",
       "    <tr>\n",
       "      <th>4</th>\n",
       "      <td>influenza</td>\n",
       "      <td>imatinib</td>\n",
       "      <td>.  5mg  00521183  dacarbazine  iv pws  200mg/v...</td>\n",
       "      <td>0.0</td>\n",
       "      <td>60</td>\n",
       "    </tr>\n",
       "    <tr>\n",
       "      <th>6</th>\n",
       "      <td>dermatitis</td>\n",
       "      <td>peanut</td>\n",
       "      <td>.   he had past history of asthma, allergic rh...</td>\n",
       "      <td>0.0</td>\n",
       "      <td>11</td>\n",
       "    </tr>\n",
       "    <tr>\n",
       "      <th>7</th>\n",
       "      <td>schizophrenia</td>\n",
       "      <td>glucose</td>\n",
       "      <td>.   troglitazone is a ligand to both pparα and...</td>\n",
       "      <td>0.0</td>\n",
       "      <td>14</td>\n",
       "    </tr>\n",
       "    <tr>\n",
       "      <th>9</th>\n",
       "      <td>rhinitis</td>\n",
       "      <td>peanut</td>\n",
       "      <td>.   he had past history of asthma, allergic rh...</td>\n",
       "      <td>0.0</td>\n",
       "      <td>14</td>\n",
       "    </tr>\n",
       "    <tr>\n",
       "      <th>...</th>\n",
       "      <td>...</td>\n",
       "      <td>...</td>\n",
       "      <td>...</td>\n",
       "      <td>...</td>\n",
       "      <td>...</td>\n",
       "    </tr>\n",
       "    <tr>\n",
       "      <th>28</th>\n",
       "      <td>covid-19</td>\n",
       "      <td>chloroquine</td>\n",
       "      <td>.   this has led in china to include chloroqui...</td>\n",
       "      <td>1.0</td>\n",
       "      <td>10</td>\n",
       "    </tr>\n",
       "    <tr>\n",
       "      <th>35</th>\n",
       "      <td>covid-19</td>\n",
       "      <td>creatinine</td>\n",
       "      <td>.   nevertheless, the renal function of patien...</td>\n",
       "      <td>0.0</td>\n",
       "      <td>12</td>\n",
       "    </tr>\n",
       "    <tr>\n",
       "      <th>37</th>\n",
       "      <td>covid-19</td>\n",
       "      <td>fedratinib</td>\n",
       "      <td>.   in summary, jak2 inhibitor fedratinib can ...</td>\n",
       "      <td>1.0</td>\n",
       "      <td>23</td>\n",
       "    </tr>\n",
       "    <tr>\n",
       "      <th>38</th>\n",
       "      <td>covid-19</td>\n",
       "      <td>oseltamivir</td>\n",
       "      <td>.   â€¢ oseltamivir: los inhibidores de la neu...</td>\n",
       "      <td>0.0</td>\n",
       "      <td>23</td>\n",
       "    </tr>\n",
       "    <tr>\n",
       "      <th>41</th>\n",
       "      <td>covid-19</td>\n",
       "      <td>teriflunomide</td>\n",
       "      <td>.   in this condition, the ec50 of teriflunomi...</td>\n",
       "      <td>1.0</td>\n",
       "      <td>22</td>\n",
       "    </tr>\n",
       "  </tbody>\n",
       "</table>\n",
       "<p>94 rows x 5 columns</p>\n",
       "</div>"
      ],
      "text/plain": [
       "          disease           drug  \\\n",
       "1      thrombosis    thalidomide   \n",
       "4       influenza       imatinib   \n",
       "6      dermatitis         peanut   \n",
       "7   schizophrenia        glucose   \n",
       "9        rhinitis         peanut   \n",
       "..            ...            ...   \n",
       "28       covid-19    chloroquine   \n",
       "35       covid-19     creatinine   \n",
       "37       covid-19     fedratinib   \n",
       "38       covid-19    oseltamivir   \n",
       "41       covid-19  teriflunomide   \n",
       "\n",
       "                                            sentences  Manual Label  distance  \n",
       "1   .   christmas disease-national survey (biggs a...           0.0       385  \n",
       "4   .  5mg  00521183  dacarbazine  iv pws  200mg/v...           0.0        60  \n",
       "6   .   he had past history of asthma, allergic rh...           0.0        11  \n",
       "7   .   troglitazone is a ligand to both pparα and...           0.0        14  \n",
       "9   .   he had past history of asthma, allergic rh...           0.0        14  \n",
       "..                                                ...           ...       ...  \n",
       "28  .   this has led in china to include chloroqui...           1.0        10  \n",
       "35  .   nevertheless, the renal function of patien...           0.0        12  \n",
       "37  .   in summary, jak2 inhibitor fedratinib can ...           1.0        23  \n",
       "38  .   â€¢ oseltamivir: los inhibidores de la neu...           0.0        23  \n",
       "41  .   in this condition, the ec50 of teriflunomi...           1.0        22  \n",
       "\n",
       "[94 rows x 5 columns]"
      ]
     },
     "execution_count": 126,
     "metadata": {},
     "output_type": "execute_result"
    }
   ],
   "source": [
    "dataframe"
   ]
  },
  {
   "cell_type": "code",
   "execution_count": null,
   "metadata": {},
   "outputs": [],
   "source": []
  }
 ],
 "metadata": {
  "kernelspec": {
   "display_name": "Python 3 (ipykernel)",
   "language": "python",
   "name": "python3"
  },
  "language_info": {
   "codemirror_mode": {
    "name": "ipython",
    "version": 3
   },
   "file_extension": ".py",
   "mimetype": "text/x-python",
   "name": "python",
   "nbconvert_exporter": "python",
   "pygments_lexer": "ipython3",
   "version": "3.8.5"
  }
 },
 "nbformat": 4,
 "nbformat_minor": 4
}
