{
 "cells": [
  {
   "cell_type": "code",
   "execution_count": 1,
   "id": "b6a2a84f",
   "metadata": {},
   "outputs": [
    {
     "name": "stderr",
     "output_type": "stream",
     "text": [
      "<frozen importlib._bootstrap>:219: RuntimeWarning: scipy._lib.messagestream.MessageStream size changed, may indicate binary incompatibility. Expected 56 from C header, got 64 from PyObject\n"
     ]
    }
   ],
   "source": [
    "# Data processing\n",
    "import pandas as pd\n",
    "import numpy as np\n",
    "import matplotlib.pyplot as plt\n",
    "import seaborn as sns\n",
    "# Machine Learning\n",
    "from sklearn.model_selection import train_test_split\n",
    "from sklearn.feature_extraction.text import CountVectorizer, TfidfVectorizer\n",
    "from sklearn.linear_model import LogisticRegression, SGDClassifier\n",
    "from sklearn.pipeline import Pipeline\n",
    "from sklearn.metrics import accuracy_score\n",
    "from sklearn.preprocessing import LabelBinarizer\n",
    "\n",
    "from tensorflow.keras import preprocessing as kprocessing\n",
    "from tensorflow.keras import models, layers, optimizers\n",
    "\n",
    "import transformers\n",
    "\n",
    "# Visualization\n",
    "from matplotlib import pyplot as plt\n",
    "\n",
    "# Text processing\n",
    "import re\n",
    "import nltk\n",
    "import gensim.downloader as api\n",
    "\n",
    "# Various\n",
    "from datetime import datetime"
   ]
  },
  {
   "cell_type": "code",
   "execution_count": 44,
   "id": "4e5bb914",
   "metadata": {},
   "outputs": [
    {
     "data": {
      "text/html": [
       "<div>\n",
       "<style scoped>\n",
       "    .dataframe tbody tr th:only-of-type {\n",
       "        vertical-align: middle;\n",
       "    }\n",
       "\n",
       "    .dataframe tbody tr th {\n",
       "        vertical-align: top;\n",
       "    }\n",
       "\n",
       "    .dataframe thead th {\n",
       "        text-align: right;\n",
       "    }\n",
       "</style>\n",
       "<table border=\"1\" class=\"dataframe\">\n",
       "  <thead>\n",
       "    <tr style=\"text-align: right;\">\n",
       "      <th></th>\n",
       "      <th>sentence</th>\n",
       "      <th>label</th>\n",
       "    </tr>\n",
       "  </thead>\n",
       "  <tbody>\n",
       "    <tr>\n",
       "      <th>0</th>\n",
       "      <td>usage and adverse effects of identified mtbfad...</td>\n",
       "      <td>0</td>\n",
       "    </tr>\n",
       "    <tr>\n",
       "      <th>1</th>\n",
       "      <td>long-term maternal administration of ritodrine...</td>\n",
       "      <td>0</td>\n",
       "    </tr>\n",
       "    <tr>\n",
       "      <th>2</th>\n",
       "      <td>/1010 assessed for eligibility (n=001) exclude...</td>\n",
       "      <td>0</td>\n",
       "    </tr>\n",
       "    <tr>\n",
       "      <th>3</th>\n",
       "      <td>35 this is an important consideration when com...</td>\n",
       "      <td>0</td>\n",
       "    </tr>\n",
       "    <tr>\n",
       "      <th>4</th>\n",
       "      <td>thus, hospital admission in itself is a severe...</td>\n",
       "      <td>0</td>\n",
       "    </tr>\n",
       "  </tbody>\n",
       "</table>\n",
       "</div>"
      ],
      "text/plain": [
       "                                            sentence  label\n",
       "0  usage and adverse effects of identified mtbfad...      0\n",
       "1  long-term maternal administration of ritodrine...      0\n",
       "2  /1010 assessed for eligibility (n=001) exclude...      0\n",
       "3  35 this is an important consideration when com...      0\n",
       "4  thus, hospital admission in itself is a severe...      0"
      ]
     },
     "execution_count": 44,
     "metadata": {},
     "output_type": "execute_result"
    }
   ],
   "source": [
    "# Select the dataset for the analysis\n",
    "df = pd.read_csv(\"Labelled_Datasets/final_3label01.csv\")\n",
    "df = df[[\"sentence\", \"label\"]]\n",
    "\n",
    "# Show the data\n",
    "df.head()"
   ]
  },
  {
   "cell_type": "code",
   "execution_count": 45,
   "id": "4958c8f8",
   "metadata": {},
   "outputs": [
    {
     "name": "stdout",
     "output_type": "stream",
     "text": [
      "Total number of news: 828\n",
      "----------------------------------------\n",
      "Split by category:\n",
      "1    528\n",
      "0    300\n",
      "Name: label, dtype: int64\n",
      "----------------------------------------\n",
      "Number of categories: 2\n"
     ]
    }
   ],
   "source": [
    "print('Total number of news: {}'.format(len(df)))\n",
    "print(40*'-')\n",
    "print('Split by category:')\n",
    "print(df[\"label\"].value_counts())\n",
    "print(40*'-')\n",
    "nr_categories = len(df[\"label\"].unique())\n",
    "print(\"Number of categories: {n}\".format(n=nr_categories))"
   ]
  },
  {
   "cell_type": "code",
   "execution_count": 46,
   "id": "82d0dd18",
   "metadata": {},
   "outputs": [
    {
     "name": "stdout",
     "output_type": "stream",
     "text": [
      "Category:  0\n",
      "----------------------------------------------------------------------------------------------------\n",
      "Text:\n",
      "although naltrexone/bupropion may increase blood pressure and should therefore not be used in patients with uncontrolled hypertension, no adverse signal for increased cardiovascular events was found in the interim analysis of a cardiovascular outcome trial 75 .in 1004, liraglutide 3 mg became the first glp0-based aom to be introduced to the us market for treatment of obesity in adults, and in 1010 was approved for weight management in adolescents aged 01 years and older with obesity (see related links).\n"
     ]
    }
   ],
   "source": [
    "# You can adjust n:\n",
    "n=100\n",
    "print('Category: ',df['label'][n])\n",
    "print(100*'-')\n",
    "print('Text:')\n",
    "print(df['sentence'][n])"
   ]
  },
  {
   "cell_type": "code",
   "execution_count": 47,
   "id": "2ffce259",
   "metadata": {},
   "outputs": [
    {
     "name": "stdout",
     "output_type": "stream",
     "text": [
      "Coding of labels into a one-hot vector: 0 is  0\n"
     ]
    },
    {
     "ename": "NameError",
     "evalue": "name 'y_test' is not defined",
     "output_type": "error",
     "traceback": [
      "\u001b[0;31m---------------------------------------------------------------------------\u001b[0m",
      "\u001b[0;31mNameError\u001b[0m                                 Traceback (most recent call last)",
      "\u001b[0;32m/tmp/ipykernel_124763/732692774.py\u001b[0m in \u001b[0;36m<module>\u001b[0;34m\u001b[0m\n\u001b[1;32m     11\u001b[0m \u001b[0;31m# Split into training and test data\u001b[0m\u001b[0;34m\u001b[0m\u001b[0;34m\u001b[0m\u001b[0;34m\u001b[0m\u001b[0m\n\u001b[1;32m     12\u001b[0m \u001b[0mX_tf_train\u001b[0m\u001b[0;34m,\u001b[0m \u001b[0mX_tf_test\u001b[0m\u001b[0;34m,\u001b[0m \u001b[0my_tf_train\u001b[0m\u001b[0;34m,\u001b[0m \u001b[0my_tf_test\u001b[0m \u001b[0;34m=\u001b[0m \u001b[0mtrain_test_split\u001b[0m\u001b[0;34m(\u001b[0m\u001b[0mX_tf\u001b[0m\u001b[0;34m,\u001b[0m \u001b[0my_tf_class\u001b[0m\u001b[0;34m,\u001b[0m \u001b[0mtest_size\u001b[0m\u001b[0;34m=\u001b[0m\u001b[0;36m0.2\u001b[0m\u001b[0;34m,\u001b[0m \u001b[0mrandom_state\u001b[0m\u001b[0;34m=\u001b[0m\u001b[0;36m42\u001b[0m\u001b[0;34m,\u001b[0m \u001b[0mstratify\u001b[0m\u001b[0;34m=\u001b[0m\u001b[0mdf\u001b[0m\u001b[0;34m[\u001b[0m\u001b[0;34m'label'\u001b[0m\u001b[0;34m]\u001b[0m\u001b[0;34m)\u001b[0m\u001b[0;34m\u001b[0m\u001b[0;34m\u001b[0m\u001b[0m\n\u001b[0;32m---> 13\u001b[0;31m \u001b[0my_test\u001b[0m\u001b[0;34m\u001b[0m\u001b[0;34m\u001b[0m\u001b[0m\n\u001b[0m",
      "\u001b[0;31mNameError\u001b[0m: name 'y_test' is not defined"
     ]
    }
   ],
   "source": [
    "# Renaming, Input -> X, Output -> y\n",
    "X_tf = df['sentence']\n",
    "y_tf_class = df['label']\n",
    "#Convert labels into a one-hot vector of size 5 (the number of distinct labels)\n",
    "# lab = LabelBinarizer()\n",
    "# lab.fit(y_tf_class)\n",
    "# y_tf = lab.transform(y_tf_class)\n",
    "n=100\n",
    "print('Coding of labels into a one-hot vector: ' +str(y_tf_class[n]) + ' is ', y_tf_class[n])\n",
    "\n",
    "# Split into training and test data\n",
    "X_tf_train, X_tf_test, y_tf_train, y_tf_test = train_test_split(X_tf, y_tf_class, test_size=0.2, random_state=42, stratify=df['label'])\n",
    "y_test"
   ]
  },
  {
   "cell_type": "code",
   "execution_count": 48,
   "id": "667a5061",
   "metadata": {},
   "outputs": [],
   "source": [
    "corpus = X_tf_train\n",
    "max_words = 2000\n",
    "tokenizer = kprocessing.text.Tokenizer(lower=True, split=' ', num_words=max_words, oov_token=\"<pad>\", filters='!\"#$%&()*+,-./:;<=>?@[\\\\]^_`{|}~\\t\\n')\n",
    "tokenizer.fit_on_texts(corpus)\n",
    "voc = tokenizer.word_index\n",
    "reverse_voc = dict([(value, key) for (key, value) in voc.items()])"
   ]
  },
  {
   "cell_type": "code",
   "execution_count": 49,
   "id": "ebcfcfc9",
   "metadata": {},
   "outputs": [
    {
     "name": "stdout",
     "output_type": "stream",
     "text": [
      "Shape:  (662, 300)\n",
      "----------------------------------------------------------------------------------------------------\n",
      "Example:  [   0    0    0    0    0    0    0    0    0    0    0    0    0    0\n",
      "    0    0    0    0    0    0    0    0    0    0    0    0    0    0\n",
      "    0    0    0    0    0    0    0    0    0    0    0    0    0    0\n",
      "    0    0    0    0    0    0    0    0    0    0    0    0    0    0\n",
      "    0    0    0    0    0    0    0    0    0    0    0    0    0    0\n",
      "    0    0    0    0    0    0    0    0    0    0    0    0    0    0\n",
      "    0    0    0    0    0    0    0    0    0    0    0    0    0    0\n",
      "    0    0    0    0    0    0    0    0    0    0    0    0    0    0\n",
      "    0    0    0    0    0    0    0    0    0    0    0    0    0    0\n",
      "    0    0    0    0    0    0    0    0    0    0    0    0    0    0\n",
      "    0    0    0    0    0    0    0    0    0    0    0    0    0    0\n",
      "    0    0    0    0    0    0    0    0    0    0    0    0    0    0\n",
      "    0    0    0    0    0    0    0    0    0    0    0    0    0    0\n",
      "    0    0    0    0    0    0    0    0    0    0    0    0    0    0\n",
      "    0    0    0    0    0    0    0    0    0    0    0    0    0    0\n",
      "    0    0    0    0    0    0    0    0    0    0    0    0    0    0\n",
      "    0    0    0    0    0    0    0    0    0    0    0    0    0    0\n",
      "    0    0    0    0    0    0    0    0    0    0    0    0    0    0\n",
      "    0    0    0    0    0    0    0    0    0    0    0    0    0    0\n",
      "    0    0    0    0    0    0    0    0    0    0    0    0    0    0\n",
      "    0   78   14  517    3 1689   19  118   24  173    2  174    1   41\n",
      "    1    1   10   74  517 1274]\n"
     ]
    }
   ],
   "source": [
    "max_len = 300\n",
    "sequences = tokenizer.texts_to_sequences(X_tf_train)\n",
    "X_tf_train_seq = kprocessing.sequence.pad_sequences(sequences, maxlen=max_len)\n",
    "# Apply the same to test data\n",
    "X_tf_test_seq = kprocessing.sequence.pad_sequences(tokenizer.texts_to_sequences(X_tf_test), maxlen=max_len)\n",
    "n=10 # You can adjust n\n",
    "print('Shape: ',X_tf_train_seq.shape)\n",
    "print(100*'-')\n",
    "print('Example: ',X_tf_train_seq[n,:])"
   ]
  },
  {
   "cell_type": "code",
   "execution_count": 22,
   "id": "f2ccd5fd",
   "metadata": {},
   "outputs": [],
   "source": [
    "# This may take several minutes\n",
    "w2v = api.load(\"word2vec-google-news-300\")\n",
    "# Example of a word representation:\n",
    "w2v['hello'].shape\n",
    "(300,)\n",
    "# Build weights of the embbeddings matrix using w2v\n",
    "emb_matrix=np.zeros((max_words+1, 300))\n",
    "for i in range(max_words):\n",
    "    w = reverse_voc[i+1]\n",
    "    if w in w2v:\n",
    "      emb_matrix[i+1,:] = w2v[w]\n",
    "emb_size = emb_matrix.shape[1]"
   ]
  },
  {
   "cell_type": "code",
   "execution_count": 50,
   "id": "2df3efae",
   "metadata": {},
   "outputs": [],
   "source": [
    "input_ = layers.Input(shape = X_tf_train_seq[0,:].shape,name='input')\n",
    "# Embedding layer (voc size plus un (\"UNK\", word with index 0)), using the pre-trained emb_matrix obtained from Word2Vec\n",
    "x = layers.Embedding(max_words+1,emb_size,weights=[emb_matrix],trainable=False, name='embedding')(input_)\n",
    "x = layers.Bidirectional(layers.LSTM(15,dropout=0.2),name='bidirectional-lstm')(x) # LSTM layer\n",
    "x = layers.Dropout(0.2, name='dropout')(x)\n",
    "x = layers.Dense(64, activation='relu', name='dense')(x)\n",
    "output = layers.Dense(1,activation='sigmoid', name='classification')(x)\n",
    "model = models.Model(input_, output)\n",
    "opt = optimizers.Adam(learning_rate=0.01, beta_1=0.9)\n",
    "model.compile(optimizer=opt,loss='binary_crossentropy', metrics=['accuracy'])"
   ]
  },
  {
   "cell_type": "code",
   "execution_count": 51,
   "id": "3b829fa2",
   "metadata": {},
   "outputs": [
    {
     "name": "stdout",
     "output_type": "stream",
     "text": [
      "Model: \"model_4\"\n",
      "_________________________________________________________________\n",
      "Layer (type)                 Output Shape              Param #   \n",
      "=================================================================\n",
      "input (InputLayer)           [(None, 300)]             0         \n",
      "_________________________________________________________________\n",
      "embedding (Embedding)        (None, 300, 300)          600300    \n",
      "_________________________________________________________________\n",
      "bidirectional-lstm (Bidirect (None, 30)                37920     \n",
      "_________________________________________________________________\n",
      "dropout (Dropout)            (None, 30)                0         \n",
      "_________________________________________________________________\n",
      "dense (Dense)                (None, 64)                1984      \n",
      "_________________________________________________________________\n",
      "classification (Dense)       (None, 1)                 65        \n",
      "=================================================================\n",
      "Total params: 640,269\n",
      "Trainable params: 39,969\n",
      "Non-trainable params: 600,300\n",
      "_________________________________________________________________\n"
     ]
    }
   ],
   "source": [
    "model.summary()\n"
   ]
  },
  {
   "cell_type": "code",
   "execution_count": 52,
   "id": "21f4e0ec",
   "metadata": {},
   "outputs": [],
   "source": [
    "# early stopping callback\n",
    "# This callback will stop the training when there is no improvement in  \n",
    "# the validation loss for 10 consecutive epochs. \n",
    "import keras\n",
    "from keras.callbacks import EarlyStopping\n",
    "es = keras.callbacks.EarlyStopping(monitor = 'val_loss',\n",
    "                                   mode = 'min',\n",
    "                                   patience = 50,\n",
    "                                   restore_best_weights = True,\n",
    "                                   verbose= 1)"
   ]
  },
  {
   "cell_type": "code",
   "execution_count": 53,
   "id": "1cca9fa6",
   "metadata": {},
   "outputs": [
    {
     "name": "stdout",
     "output_type": "stream",
     "text": [
      "Epoch 1/100\n",
      "21/21 [==============================] - 3s 87ms/step - loss: 0.6732 - accuracy: 0.6239 - val_loss: 0.6393 - val_accuracy: 0.6506\n",
      "Epoch 2/100\n",
      "21/21 [==============================] - 1s 68ms/step - loss: 0.6188 - accuracy: 0.6616 - val_loss: 0.6176 - val_accuracy: 0.6867\n",
      "Epoch 3/100\n",
      "21/21 [==============================] - 1s 66ms/step - loss: 0.5468 - accuracy: 0.7130 - val_loss: 0.5821 - val_accuracy: 0.7048\n",
      "Epoch 4/100\n",
      "21/21 [==============================] - 1s 68ms/step - loss: 0.4575 - accuracy: 0.7613 - val_loss: 0.4631 - val_accuracy: 0.7410\n",
      "Epoch 5/100\n",
      "21/21 [==============================] - 1s 68ms/step - loss: 0.4360 - accuracy: 0.7659 - val_loss: 0.5518 - val_accuracy: 0.7108\n",
      "Epoch 6/100\n",
      "21/21 [==============================] - 1s 67ms/step - loss: 0.3629 - accuracy: 0.8293 - val_loss: 0.4504 - val_accuracy: 0.8554\n",
      "Epoch 7/100\n",
      "21/21 [==============================] - 1s 67ms/step - loss: 0.1924 - accuracy: 0.9396 - val_loss: 0.2812 - val_accuracy: 0.9217\n",
      "Epoch 8/100\n",
      "21/21 [==============================] - 1s 68ms/step - loss: 0.1289 - accuracy: 0.9637 - val_loss: 0.2813 - val_accuracy: 0.9277\n",
      "Epoch 9/100\n",
      "21/21 [==============================] - 1s 68ms/step - loss: 0.0740 - accuracy: 0.9804 - val_loss: 0.3116 - val_accuracy: 0.9217\n",
      "Epoch 10/100\n",
      "21/21 [==============================] - 1s 67ms/step - loss: 0.1244 - accuracy: 0.9683 - val_loss: 0.2413 - val_accuracy: 0.9398\n",
      "Epoch 11/100\n",
      "21/21 [==============================] - 1s 68ms/step - loss: 0.0624 - accuracy: 0.9849 - val_loss: 0.3140 - val_accuracy: 0.9398\n",
      "Epoch 12/100\n",
      "21/21 [==============================] - 1s 68ms/step - loss: 0.0373 - accuracy: 0.9909 - val_loss: 0.3279 - val_accuracy: 0.9458\n",
      "Epoch 13/100\n",
      "21/21 [==============================] - 1s 67ms/step - loss: 0.0372 - accuracy: 0.9879 - val_loss: 0.2675 - val_accuracy: 0.9639\n",
      "Epoch 14/100\n",
      "21/21 [==============================] - 1s 68ms/step - loss: 0.0487 - accuracy: 0.9894 - val_loss: 0.3290 - val_accuracy: 0.9578\n",
      "Epoch 15/100\n",
      "21/21 [==============================] - 1s 68ms/step - loss: 0.0507 - accuracy: 0.9879 - val_loss: 0.3990 - val_accuracy: 0.9157\n",
      "Epoch 16/100\n",
      "21/21 [==============================] - 1s 67ms/step - loss: 0.0642 - accuracy: 0.9789 - val_loss: 0.3457 - val_accuracy: 0.9458\n",
      "Epoch 17/100\n",
      "21/21 [==============================] - 1s 67ms/step - loss: 0.0331 - accuracy: 0.9909 - val_loss: 0.3587 - val_accuracy: 0.9518\n",
      "Epoch 18/100\n",
      "21/21 [==============================] - 1s 68ms/step - loss: 0.0193 - accuracy: 0.9940 - val_loss: 0.3145 - val_accuracy: 0.9578\n",
      "Epoch 19/100\n",
      "21/21 [==============================] - 1s 68ms/step - loss: 0.0075 - accuracy: 0.9985 - val_loss: 0.3357 - val_accuracy: 0.9639\n",
      "Epoch 20/100\n",
      "21/21 [==============================] - 1s 68ms/step - loss: 0.0099 - accuracy: 0.9970 - val_loss: 0.3408 - val_accuracy: 0.9699\n",
      "Epoch 21/100\n",
      "21/21 [==============================] - 1s 68ms/step - loss: 0.0037 - accuracy: 1.0000 - val_loss: 0.3273 - val_accuracy: 0.9639\n",
      "Epoch 22/100\n",
      "21/21 [==============================] - 1s 68ms/step - loss: 0.0034 - accuracy: 1.0000 - val_loss: 0.3443 - val_accuracy: 0.9639\n",
      "Epoch 23/100\n",
      "21/21 [==============================] - 1s 68ms/step - loss: 0.0155 - accuracy: 0.9985 - val_loss: 0.3518 - val_accuracy: 0.9699\n",
      "Epoch 24/100\n",
      "21/21 [==============================] - 1s 67ms/step - loss: 0.0048 - accuracy: 0.9985 - val_loss: 0.3475 - val_accuracy: 0.9639\n",
      "Epoch 25/100\n",
      "21/21 [==============================] - 1s 68ms/step - loss: 0.0012 - accuracy: 1.0000 - val_loss: 0.3564 - val_accuracy: 0.9639\n",
      "Epoch 26/100\n",
      "21/21 [==============================] - 1s 67ms/step - loss: 0.0389 - accuracy: 0.9909 - val_loss: 0.3226 - val_accuracy: 0.9398\n",
      "Epoch 27/100\n",
      "21/21 [==============================] - 1s 68ms/step - loss: 0.0262 - accuracy: 0.9970 - val_loss: 0.3469 - val_accuracy: 0.9458\n",
      "Epoch 28/100\n",
      "21/21 [==============================] - 1s 67ms/step - loss: 0.0047 - accuracy: 0.9985 - val_loss: 0.3240 - val_accuracy: 0.9578\n",
      "Epoch 29/100\n",
      "21/21 [==============================] - 1s 68ms/step - loss: 0.0029 - accuracy: 1.0000 - val_loss: 0.3374 - val_accuracy: 0.9578\n",
      "Epoch 30/100\n",
      "21/21 [==============================] - 1s 68ms/step - loss: 0.0020 - accuracy: 1.0000 - val_loss: 0.3675 - val_accuracy: 0.9578\n",
      "Epoch 31/100\n",
      "21/21 [==============================] - 1s 68ms/step - loss: 0.0062 - accuracy: 0.9970 - val_loss: 0.3591 - val_accuracy: 0.9578\n",
      "Epoch 32/100\n",
      "21/21 [==============================] - 1s 68ms/step - loss: 0.0066 - accuracy: 0.9985 - val_loss: 0.3746 - val_accuracy: 0.9578\n",
      "Epoch 33/100\n",
      "21/21 [==============================] - 1s 68ms/step - loss: 9.0565e-04 - accuracy: 1.0000 - val_loss: 0.3806 - val_accuracy: 0.9578\n",
      "Epoch 34/100\n",
      "21/21 [==============================] - 1s 68ms/step - loss: 6.8212e-04 - accuracy: 1.0000 - val_loss: 0.3821 - val_accuracy: 0.9578\n",
      "Epoch 35/100\n",
      "21/21 [==============================] - 1s 67ms/step - loss: 0.0060 - accuracy: 0.9970 - val_loss: 0.3737 - val_accuracy: 0.9578\n",
      "Epoch 36/100\n",
      "21/21 [==============================] - 1s 68ms/step - loss: 0.0040 - accuracy: 0.9985 - val_loss: 0.4367 - val_accuracy: 0.9518\n",
      "Epoch 37/100\n",
      "21/21 [==============================] - 1s 68ms/step - loss: 0.0023 - accuracy: 0.9985 - val_loss: 0.4507 - val_accuracy: 0.9518\n",
      "Epoch 38/100\n",
      "21/21 [==============================] - 1s 67ms/step - loss: 0.0150 - accuracy: 0.9985 - val_loss: 0.5243 - val_accuracy: 0.9578\n",
      "Epoch 39/100\n",
      "21/21 [==============================] - 1s 68ms/step - loss: 0.0035 - accuracy: 1.0000 - val_loss: 0.4253 - val_accuracy: 0.9639\n",
      "Epoch 40/100\n",
      "21/21 [==============================] - 1s 68ms/step - loss: 0.0129 - accuracy: 0.9940 - val_loss: 0.4336 - val_accuracy: 0.9578\n",
      "Epoch 41/100\n",
      "21/21 [==============================] - 1s 67ms/step - loss: 0.0089 - accuracy: 0.9985 - val_loss: 0.4402 - val_accuracy: 0.9639\n",
      "Epoch 42/100\n",
      "21/21 [==============================] - 1s 67ms/step - loss: 0.0196 - accuracy: 0.9955 - val_loss: 0.3903 - val_accuracy: 0.9337\n",
      "Epoch 43/100\n",
      "21/21 [==============================] - 1s 68ms/step - loss: 0.0043 - accuracy: 0.9985 - val_loss: 0.3147 - val_accuracy: 0.9639\n",
      "Epoch 44/100\n",
      "21/21 [==============================] - 1s 68ms/step - loss: 0.0027 - accuracy: 0.9985 - val_loss: 0.3474 - val_accuracy: 0.9639\n",
      "Epoch 45/100\n",
      "21/21 [==============================] - 1s 68ms/step - loss: 0.0028 - accuracy: 1.0000 - val_loss: 0.4447 - val_accuracy: 0.9639\n",
      "Epoch 46/100\n",
      "21/21 [==============================] - 1s 67ms/step - loss: 0.0141 - accuracy: 0.9955 - val_loss: 0.5698 - val_accuracy: 0.9217\n",
      "Epoch 47/100\n",
      "21/21 [==============================] - 1s 67ms/step - loss: 0.0044 - accuracy: 1.0000 - val_loss: 0.5420 - val_accuracy: 0.9458\n",
      "Epoch 48/100\n",
      "21/21 [==============================] - 1s 67ms/step - loss: 0.0083 - accuracy: 0.9955 - val_loss: 0.4442 - val_accuracy: 0.9639\n",
      "Epoch 49/100\n",
      "21/21 [==============================] - 1s 67ms/step - loss: 0.0502 - accuracy: 0.9864 - val_loss: 0.3453 - val_accuracy: 0.9699\n",
      "Epoch 50/100\n",
      "21/21 [==============================] - 1s 67ms/step - loss: 0.0219 - accuracy: 0.9940 - val_loss: 0.2819 - val_accuracy: 0.9639\n",
      "Epoch 51/100\n",
      "21/21 [==============================] - 1s 67ms/step - loss: 0.0059 - accuracy: 0.9985 - val_loss: 0.2849 - val_accuracy: 0.9699\n",
      "Epoch 52/100\n",
      "21/21 [==============================] - 1s 69ms/step - loss: 0.0023 - accuracy: 1.0000 - val_loss: 0.3213 - val_accuracy: 0.9699\n",
      "Epoch 53/100\n",
      "21/21 [==============================] - 1s 67ms/step - loss: 0.0022 - accuracy: 1.0000 - val_loss: 0.3717 - val_accuracy: 0.9699\n",
      "Epoch 54/100\n",
      "21/21 [==============================] - 1s 68ms/step - loss: 9.3352e-04 - accuracy: 1.0000 - val_loss: 0.3911 - val_accuracy: 0.9639\n",
      "Epoch 55/100\n",
      "21/21 [==============================] - 1s 67ms/step - loss: 0.0013 - accuracy: 1.0000 - val_loss: 0.3829 - val_accuracy: 0.9639\n",
      "Epoch 56/100\n",
      "21/21 [==============================] - 1s 67ms/step - loss: 5.2867e-04 - accuracy: 1.0000 - val_loss: 0.3849 - val_accuracy: 0.9639\n",
      "Epoch 57/100\n",
      "21/21 [==============================] - 1s 68ms/step - loss: 9.0107e-04 - accuracy: 1.0000 - val_loss: 0.4024 - val_accuracy: 0.9699\n",
      "Epoch 58/100\n"
     ]
    },
    {
     "name": "stdout",
     "output_type": "stream",
     "text": [
      "21/21 [==============================] - 1s 67ms/step - loss: 6.8087e-04 - accuracy: 1.0000 - val_loss: 0.4051 - val_accuracy: 0.9699\n",
      "Epoch 59/100\n",
      "21/21 [==============================] - 1s 68ms/step - loss: 4.7848e-04 - accuracy: 1.0000 - val_loss: 0.4076 - val_accuracy: 0.9699\n",
      "Epoch 60/100\n",
      "21/21 [==============================] - 1s 67ms/step - loss: 5.7442e-04 - accuracy: 1.0000 - val_loss: 0.4163 - val_accuracy: 0.9699\n",
      "Restoring model weights from the end of the best epoch.\n",
      "Epoch 00060: early stopping\n"
     ]
    }
   ],
   "source": [
    "start_time = datetime.now()\n",
    "history = model.fit(X_tf_train_seq, y_tf_train, batch_size=32, shuffle=True, callbacks = [es], verbose=1, epochs=100, validation_data=(X_tf_test_seq, y_tf_test))\n",
    "end_time = datetime.now()\n",
    "training_time_rnn = (end_time - start_time).total_seconds()"
   ]
  },
  {
   "cell_type": "code",
   "execution_count": 54,
   "id": "3c0314d2",
   "metadata": {},
   "outputs": [
    {
     "data": {
      "text/plain": [
       "<matplotlib.legend.Legend at 0x7fc213e37e20>"
      ]
     },
     "execution_count": 54,
     "metadata": {},
     "output_type": "execute_result"
    },
    {
     "data": {
      "image/png": "[encoded data removed]",
      "text/plain": [
       "<Figure size 1080x360 with 2 Axes>"
      ]
     },
     "metadata": {
      "needs_background": "light"
     },
     "output_type": "display_data"
    }
   ],
   "source": [
    "fig, ax = plt.subplots(nrows=1, ncols=2, figsize=(15, 5))\n",
    "ax[0].set(title='Loss')\n",
    "ax[0].plot(history.history['loss'], label='Training')\n",
    "ax[0].plot(history.history['val_loss'], label='Validation')\n",
    "ax[0].legend(loc=\"upper right\")\n",
    "\n",
    "ax[1].set(title='Accuracy')\n",
    "ax[1].plot(history.history['accuracy'], label='Training')\n",
    "ax[1].plot(history.history['val_accuracy'], label='Validation')\n",
    "ax[1].legend(loc=\"lower right\")"
   ]
  },
  {
   "cell_type": "code",
   "execution_count": 55,
   "id": "c4dd8b9d",
   "metadata": {},
   "outputs": [
    {
     "name": "stdout",
     "output_type": "stream",
     "text": [
      "Accuracy Training data: 100.0%\n",
      "Accuracy Test data: 97.0%\n",
      "Training time: 86.9s\n"
     ]
    }
   ],
   "source": [
    "accuracy_rnn = history.history['val_accuracy'][-1]\n",
    "print('Accuracy Training data: {:.1%}'.format(history.history['accuracy'][-1]))\n",
    "print('Accuracy Test data: {:.1%}'.format(history.history['val_accuracy'][-1]))\n",
    "print('Training time: {:.1f}s'.format(training_time_rnn))"
   ]
  },
  {
   "cell_type": "code",
   "execution_count": 57,
   "id": "04042f37",
   "metadata": {},
   "outputs": [
    {
     "data": {
      "text/plain": [
       "811    1\n",
       "298    0\n",
       "605    1\n",
       "391    1\n",
       "641    1\n",
       "      ..\n",
       "350    1\n",
       "270    0\n",
       "43     0\n",
       "214    0\n",
       "519    1\n",
       "Name: label, Length: 166, dtype: int64"
      ]
     },
     "execution_count": 57,
     "metadata": {},
     "output_type": "execute_result"
    }
   ],
   "source": [
    "y_tf_test"
   ]
  },
  {
   "cell_type": "code",
   "execution_count": 59,
   "id": "869c3863",
   "metadata": {},
   "outputs": [
    {
     "data": {
      "text/plain": [
       "811    1\n",
       "298    0\n",
       "605    1\n",
       "391    1\n",
       "641    1\n",
       "      ..\n",
       "350    1\n",
       "270    0\n",
       "43     0\n",
       "214    0\n",
       "519    1\n",
       "Name: label, Length: 166, dtype: int64"
      ]
     },
     "execution_count": 59,
     "metadata": {},
     "output_type": "execute_result"
    }
   ],
   "source": [
    "import tensorflow as tf\n",
    "#y_pred = tf.nn.softmax(model.predict(X_tf_test_seq))\n",
    "#y_pred_argmax = tf.math.argmax(y_pred, axis=1)\n",
    "#y_tf_test= y_tf_test.argmax(axis=1)\n",
    "#y_tf_test = y_tf_test.flatten()\n",
    "y_tf_test"
   ]
  },
  {
   "cell_type": "code",
   "execution_count": 60,
   "id": "05b43acf",
   "metadata": {},
   "outputs": [
    {
     "data": {
      "text/plain": [
       "array([1, 0, 1, 1, 1, 1, 1, 1, 0, 0, 1, 0, 0, 0, 1, 1, 1, 1, 0, 1, 1, 1,\n",
       "       1, 0, 1, 0, 1, 1, 0, 1, 1, 1, 1, 0, 0, 0, 0, 1, 1, 1, 1, 1, 0, 1,\n",
       "       1, 0, 0, 0, 1, 1, 0, 0, 1, 0, 0, 1, 0, 0, 1, 1, 1, 1, 0, 1, 0, 1,\n",
       "       1, 0, 1, 1, 1, 1, 1, 0, 1, 1, 1, 1, 0, 1, 0, 1, 1, 0, 1, 1, 0, 1,\n",
       "       0, 1, 1, 1, 1, 0, 1, 1, 0, 1, 1, 0, 1, 0, 1, 1, 0, 1, 1, 1, 1, 1,\n",
       "       1, 1, 0, 1, 1, 0, 1, 1, 1, 1, 1, 0, 1, 1, 1, 0, 1, 0, 1, 1, 1, 1,\n",
       "       1, 1, 1, 0, 1, 1, 0, 1, 1, 1, 0, 1, 0, 0, 1, 1, 0, 1, 1, 0, 0, 1,\n",
       "       1, 1, 1, 0, 1, 1, 1, 1, 1, 0, 0, 1])"
      ]
     },
     "execution_count": 60,
     "metadata": {},
     "output_type": "execute_result"
    }
   ],
   "source": [
    "y_predict = model.predict(X_tf_test_seq)\n",
    "y_predict = y_predict.flatten()\n",
    "y_predict = np.where(y_predict > 0.5, 1, 0)\n",
    "y_predict"
   ]
  },
  {
   "cell_type": "code",
   "execution_count": 61,
   "id": "238fc544",
   "metadata": {},
   "outputs": [
    {
     "data": {
      "text/plain": [
       "array([[ 52,   8],\n",
       "       [  2, 104]])"
      ]
     },
     "execution_count": 61,
     "metadata": {},
     "output_type": "execute_result"
    }
   ],
   "source": [
    "from sklearn.metrics import confusion_matrix, ConfusionMatrixDisplay\n",
    "from sklearn.metrics import classification_report\n",
    "cm = confusion_matrix(y_tf_test, y_predict)\n",
    "cm"
   ]
  },
  {
   "cell_type": "code",
   "execution_count": 66,
   "id": "2170831d",
   "metadata": {},
   "outputs": [
    {
     "data": {
      "image/png": "[encoded data removed]",
      "text/plain": [
       "<Figure size 432x288 with 2 Axes>"
      ]
     },
     "metadata": {
      "needs_background": "light"
     },
     "output_type": "display_data"
    }
   ],
   "source": [
    "ax= plt.subplot()\n",
    "conf_matrix = pd.DataFrame(cm)\n",
    "conf_matrix=sns.heatmap(cm, annot=True, fmt='g', ax=ax);\n",
    "#conf_matrix = conf_matrix.astype('float') / conf_matrix.sum(axis=1)[:, np.newaxis]\n",
    "ax.set_title('Confusion Matrix BERT Model'); \n",
    "ax.set_xlabel('Predicted labels');\n",
    "ax.set_ylabel('True labels'); \n",
    "ax.xaxis.set_ticklabels(['Negative', 'Positive']); \n",
    "ax.yaxis.set_ticklabels(['Negative', 'Positive']);"
   ]
  },
  {
   "cell_type": "code",
   "execution_count": 67,
   "id": "204eafab",
   "metadata": {},
   "outputs": [
    {
     "name": "stdout",
     "output_type": "stream",
     "text": [
      "              precision    recall  f1-score   support\n",
      "\n",
      "           0       0.96      0.87      0.91        60\n",
      "           1       0.93      0.98      0.95       106\n",
      "\n",
      "    accuracy                           0.94       166\n",
      "   macro avg       0.95      0.92      0.93       166\n",
      "weighted avg       0.94      0.94      0.94       166\n",
      "\n"
     ]
    }
   ],
   "source": [
    "from sklearn.metrics import classification_report\n",
    "print(classification_report(y_tf_test, y_predict))"
   ]
  },
  {
   "cell_type": "code",
   "execution_count": 68,
   "id": "c306f116",
   "metadata": {},
   "outputs": [
    {
     "data": {
      "image/png": "[encoded data removed]",
      "text/plain": [
       "<Figure size 432x288 with 2 Axes>"
      ]
     },
     "metadata": {
      "needs_background": "light"
     },
     "output_type": "display_data"
    }
   ],
   "source": [
    "clf_report_nn = classification_report(y_tf_test, y_predict, labels=[0, 1 ], target_names=['Negative', 'Positive'], output_dict=True)\n",
    "sns.heatmap(pd.DataFrame(clf_report_nn).iloc[:-1, :].T, annot=True)\n",
    "ax.set_title('Classification Report RNN Network'); "
   ]
  },
  {
   "cell_type": "code",
   "execution_count": 69,
   "id": "7d1cae03",
   "metadata": {},
   "outputs": [],
   "source": [
    "corpus_results = pd.read_csv('Results/corpus.csv')"
   ]
  },
  {
   "cell_type": "code",
   "execution_count": 84,
   "id": "a2225b64",
   "metadata": {},
   "outputs": [
    {
     "data": {
      "text/plain": [
       "Positive    554199\n",
       "Negative     32834\n",
       "Name: label, dtype: int64"
      ]
     },
     "execution_count": 84,
     "metadata": {},
     "output_type": "execute_result"
    }
   ],
   "source": [
    "corpus_results.label.value_counts()"
   ]
  },
  {
   "cell_type": "code",
   "execution_count": 71,
   "id": "19d57366",
   "metadata": {},
   "outputs": [],
   "source": [
    "sequences = kprocessing.sequence.pad_sequences(tokenizer.texts_to_sequences(corpus_results['sentence']), maxlen=max_len)"
   ]
  },
  {
   "cell_type": "code",
   "execution_count": 72,
   "id": "a60aa262",
   "metadata": {},
   "outputs": [],
   "source": [
    "predictions = model.predict(sequences)"
   ]
  },
  {
   "cell_type": "code",
   "execution_count": 73,
   "id": "ea0b4db7",
   "metadata": {},
   "outputs": [
    {
     "data": {
      "text/plain": [
       "array([[0.95530665],\n",
       "       [0.95530665],\n",
       "       [0.95530665],\n",
       "       [0.8962023 ],\n",
       "       [0.9854861 ],\n",
       "       [0.9423294 ],\n",
       "       [0.9632846 ],\n",
       "       [0.8614813 ],\n",
       "       [0.8614813 ],\n",
       "       [0.99087346]], dtype=float32)"
      ]
     },
     "execution_count": 73,
     "metadata": {},
     "output_type": "execute_result"
    }
   ],
   "source": [
    "predictions[0:10]"
   ]
  },
  {
   "cell_type": "code",
   "execution_count": 74,
   "id": "82b1374a",
   "metadata": {},
   "outputs": [],
   "source": [
    "corpus_results['confidence'] = predictions"
   ]
  },
  {
   "cell_type": "code",
   "execution_count": 80,
   "id": "d332c1ce",
   "metadata": {},
   "outputs": [],
   "source": [
    "corpus_results['label'] = corpus_results.confidence.apply(lambda x: 'Positive' if x > 0.5 else 'Negative')"
   ]
  },
  {
   "cell_type": "code",
   "execution_count": 89,
   "id": "70faa0ed",
   "metadata": {},
   "outputs": [
    {
     "data": {
      "text/html": [
       "<div>\n",
       "<style scoped>\n",
       "    .dataframe tbody tr th:only-of-type {\n",
       "        vertical-align: middle;\n",
       "    }\n",
       "\n",
       "    .dataframe tbody tr th {\n",
       "        vertical-align: top;\n",
       "    }\n",
       "\n",
       "    .dataframe thead th {\n",
       "        text-align: right;\n",
       "    }\n",
       "</style>\n",
       "<table border=\"1\" class=\"dataframe\">\n",
       "  <thead>\n",
       "    <tr style=\"text-align: right;\">\n",
       "      <th></th>\n",
       "      <th>cord_uid</th>\n",
       "      <th>sentence</th>\n",
       "      <th>drug</th>\n",
       "      <th>disease</th>\n",
       "      <th>confidence</th>\n",
       "      <th>label</th>\n",
       "    </tr>\n",
       "  </thead>\n",
       "  <tbody>\n",
       "    <tr>\n",
       "      <th>612</th>\n",
       "      <td>12hn49x2</td>\n",
       "      <td>patients with a prior history of stroke before...</td>\n",
       "      <td>Date</td>\n",
       "      <td>heart disease</td>\n",
       "      <td>0.929226</td>\n",
       "      <td>Negative</td>\n",
       "    </tr>\n",
       "    <tr>\n",
       "      <th>613</th>\n",
       "      <td>12hn49x2</td>\n",
       "      <td>patients with a prior history of stroke before...</td>\n",
       "      <td>Date</td>\n",
       "      <td>peripheral vascular disease</td>\n",
       "      <td>0.929226</td>\n",
       "      <td>Negative</td>\n",
       "    </tr>\n",
       "    <tr>\n",
       "      <th>614</th>\n",
       "      <td>12hn49x2</td>\n",
       "      <td>censored at earliest of outcome of interest, d...</td>\n",
       "      <td>Date</td>\n",
       "      <td>heart disease</td>\n",
       "      <td>0.998537</td>\n",
       "      <td>Negative</td>\n",
       "    </tr>\n",
       "    <tr>\n",
       "      <th>615</th>\n",
       "      <td>12hn49x2</td>\n",
       "      <td>censored at earliest of outcome of interest, d...</td>\n",
       "      <td>Date</td>\n",
       "      <td>peripheral vascular disease</td>\n",
       "      <td>0.998537</td>\n",
       "      <td>Negative</td>\n",
       "    </tr>\n",
       "    <tr>\n",
       "      <th>635</th>\n",
       "      <td>po144zi3</td>\n",
       "      <td>according to a systematic review article, chem...</td>\n",
       "      <td>Doxycycline</td>\n",
       "      <td>leptospirosis</td>\n",
       "      <td>0.999346</td>\n",
       "      <td>Negative</td>\n",
       "    </tr>\n",
       "    <tr>\n",
       "      <th>...</th>\n",
       "      <td>...</td>\n",
       "      <td>...</td>\n",
       "      <td>...</td>\n",
       "      <td>...</td>\n",
       "      <td>...</td>\n",
       "      <td>...</td>\n",
       "    </tr>\n",
       "    <tr>\n",
       "      <th>586779</th>\n",
       "      <td>f85yhu69</td>\n",
       "      <td>the adverse events of statins are dose depende...</td>\n",
       "      <td>Vitamin D</td>\n",
       "      <td>myopathy</td>\n",
       "      <td>0.971664</td>\n",
       "      <td>Negative</td>\n",
       "    </tr>\n",
       "    <tr>\n",
       "      <th>586780</th>\n",
       "      <td>f85yhu69</td>\n",
       "      <td>the adverse events of statins are dose depende...</td>\n",
       "      <td>Vitamin D</td>\n",
       "      <td>hypothyroidism</td>\n",
       "      <td>0.971664</td>\n",
       "      <td>Negative</td>\n",
       "    </tr>\n",
       "    <tr>\n",
       "      <th>586781</th>\n",
       "      <td>f85yhu69</td>\n",
       "      <td>the adverse events of statins are dose depende...</td>\n",
       "      <td>Vitamin D</td>\n",
       "      <td>fibromyalgia</td>\n",
       "      <td>0.971664</td>\n",
       "      <td>Negative</td>\n",
       "    </tr>\n",
       "    <tr>\n",
       "      <th>586905</th>\n",
       "      <td>qvmfotkv</td>\n",
       "      <td>second, the daily confirmed new covid-19 cases...</td>\n",
       "      <td>Turkey</td>\n",
       "      <td>COVID-19</td>\n",
       "      <td>0.906553</td>\n",
       "      <td>Negative</td>\n",
       "    </tr>\n",
       "    <tr>\n",
       "      <th>586906</th>\n",
       "      <td>qvmfotkv</td>\n",
       "      <td>second, the daily confirmed new covid-19 cases...</td>\n",
       "      <td>Turkey</td>\n",
       "      <td>influenza</td>\n",
       "      <td>0.906553</td>\n",
       "      <td>Negative</td>\n",
       "    </tr>\n",
       "  </tbody>\n",
       "</table>\n",
       "<p>32834 rows × 6 columns</p>\n",
       "</div>"
      ],
      "text/plain": [
       "        cord_uid                                           sentence  \\\n",
       "612     12hn49x2  patients with a prior history of stroke before...   \n",
       "613     12hn49x2  patients with a prior history of stroke before...   \n",
       "614     12hn49x2  censored at earliest of outcome of interest, d...   \n",
       "615     12hn49x2  censored at earliest of outcome of interest, d...   \n",
       "635     po144zi3  according to a systematic review article, chem...   \n",
       "...          ...                                                ...   \n",
       "586779  f85yhu69  the adverse events of statins are dose depende...   \n",
       "586780  f85yhu69  the adverse events of statins are dose depende...   \n",
       "586781  f85yhu69  the adverse events of statins are dose depende...   \n",
       "586905  qvmfotkv  second, the daily confirmed new covid-19 cases...   \n",
       "586906  qvmfotkv  second, the daily confirmed new covid-19 cases...   \n",
       "\n",
       "               drug                      disease  confidence     label  \n",
       "612            Date                heart disease    0.929226  Negative  \n",
       "613            Date  peripheral vascular disease    0.929226  Negative  \n",
       "614            Date                heart disease    0.998537  Negative  \n",
       "615            Date  peripheral vascular disease    0.998537  Negative  \n",
       "635     Doxycycline                leptospirosis    0.999346  Negative  \n",
       "...             ...                          ...         ...       ...  \n",
       "586779    Vitamin D                     myopathy    0.971664  Negative  \n",
       "586780    Vitamin D               hypothyroidism    0.971664  Negative  \n",
       "586781    Vitamin D                 fibromyalgia    0.971664  Negative  \n",
       "586905       Turkey                     COVID-19    0.906553  Negative  \n",
       "586906       Turkey                    influenza    0.906553  Negative  \n",
       "\n",
       "[32834 rows x 6 columns]"
      ]
     },
     "execution_count": 89,
     "metadata": {},
     "output_type": "execute_result"
    }
   ],
   "source": [
    "corpus_results[corpus_results['label'] == 'Negative']"
   ]
  },
  {
   "cell_type": "code",
   "execution_count": 88,
   "id": "ec9ea8e4",
   "metadata": {},
   "outputs": [],
   "source": [
    "corpus_results['confidence'] = corpus_results.apply(lambda x: x.confidence if x.label == 'Positive' else 1 - x.confidence, axis=1)"
   ]
  },
  {
   "cell_type": "code",
   "execution_count": 90,
   "id": "54eb37a2",
   "metadata": {},
   "outputs": [],
   "source": [
    "corpus_results.to_csv('Results/final_results_after_model_application.csv', index=False)"
   ]
  },
  {
   "cell_type": "code",
   "execution_count": 103,
   "id": "84e97cd9",
   "metadata": {},
   "outputs": [
    {
     "name": "stdout",
     "output_type": "stream",
     "text": [
      "  adding: Results/final_results_after_model_application.csv (deflated 92%)\n"
     ]
    }
   ],
   "source": [
    "!zip -r final_results_after_model_application.zip Results/final_results_after_model_application.csv"
   ]
  },
  {
   "cell_type": "code",
   "execution_count": 92,
   "id": "737d15a2",
   "metadata": {},
   "outputs": [],
   "source": [
    "altMedicine = pd.read_csv('Results/corpus_AM.csv')"
   ]
  },
  {
   "cell_type": "code",
   "execution_count": 94,
   "id": "7a48140a",
   "metadata": {},
   "outputs": [],
   "source": [
    "altMedicineSeqs = kprocessing.sequence.pad_sequences(tokenizer.texts_to_sequences(altMedicine['sentence']), maxlen=max_len)"
   ]
  },
  {
   "cell_type": "code",
   "execution_count": 95,
   "id": "3ff978f6",
   "metadata": {},
   "outputs": [],
   "source": [
    "altPredictios = model.predict(altMedicineSeqs)"
   ]
  },
  {
   "cell_type": "code",
   "execution_count": 98,
   "id": "bd330644",
   "metadata": {},
   "outputs": [
    {
     "data": {
      "text/plain": [
       "array([[0.9742477 ],\n",
       "       [0.9742477 ],\n",
       "       [0.6911124 ],\n",
       "       [0.9586606 ],\n",
       "       [0.9137657 ],\n",
       "       [0.96949   ],\n",
       "       [0.95906067],\n",
       "       [0.97537196],\n",
       "       [0.90322125],\n",
       "       [0.9644052 ]], dtype=float32)"
      ]
     },
     "execution_count": 98,
     "metadata": {},
     "output_type": "execute_result"
    }
   ],
   "source": [
    "altPredictios[0:10]"
   ]
  },
  {
   "cell_type": "code",
   "execution_count": 99,
   "id": "44ca1c02",
   "metadata": {},
   "outputs": [],
   "source": [
    "altMedicine['confidence'] = altPredictios"
   ]
  },
  {
   "cell_type": "code",
   "execution_count": 100,
   "id": "f03edc67",
   "metadata": {},
   "outputs": [],
   "source": [
    "altMedicine['label'] = altMedicine.confidence.apply(lambda x: 'Positive' if x > 0.5 else 'Negative')"
   ]
  },
  {
   "cell_type": "code",
   "execution_count": 101,
   "id": "4f5e5910",
   "metadata": {},
   "outputs": [],
   "source": [
    "altMedicine['confidence'] = altMedicine.apply(lambda x: x.confidence if x.label == 'Positive' else 1 - x.confidence, axis=1)"
   ]
  },
  {
   "cell_type": "code",
   "execution_count": 102,
   "id": "2f6c5920",
   "metadata": {},
   "outputs": [],
   "source": [
    "altMedicine.to_csv('Results/final_raltMedicine_after_model_application.csv', index=False)"
   ]
  },
  {
   "cell_type": "code",
   "execution_count": null,
   "id": "567503e3",
   "metadata": {},
   "outputs": [],
   "source": []
  }
 ],
 "metadata": {
  "kernelspec": {
   "display_name": "Python 3 (ipykernel)",
   "language": "python",
   "name": "python3"
  },
  "language_info": {
   "codemirror_mode": {
    "name": "ipython",
    "version": 3
   },
   "file_extension": ".py",
   "mimetype": "text/x-python",
   "name": "python",
   "nbconvert_exporter": "python",
   "pygments_lexer": "ipython3",
   "version": "3.8.12"
  }
 },
 "nbformat": 4,
 "nbformat_minor": 5
}
