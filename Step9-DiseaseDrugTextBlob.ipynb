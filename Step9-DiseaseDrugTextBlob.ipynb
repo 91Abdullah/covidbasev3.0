{
 "cells": [
  {
   "cell_type": "markdown",
   "metadata": {},
   "source": [
    "# Step 9: Disease Drug Sentiment using TextBlob"
   ]
  },
  {
   "cell_type": "code",
   "execution_count": 1,
   "metadata": {},
   "outputs": [],
   "source": [
    "# Applying textblob sentiment on sentences\n",
    "import modin.pandas as pd\n",
    "import csv\n",
    "from textblob import TextBlob \n",
    "from sklearn.feature_extraction.text import TfidfVectorizer\n",
    "from tqdm import tqdm"
   ]
  },
  {
   "cell_type": "code",
   "execution_count": 3,
   "metadata": {},
   "outputs": [],
   "source": [
    "dataset = pd.read_csv('disease_drug_with_sentences_and_outlier_flag.csv')"
   ]
  },
  {
   "cell_type": "code",
   "execution_count": 4,
   "metadata": {},
   "outputs": [
    {
     "data": {
      "text/html": [
       "<div>\n",
       "<style scoped>\n",
       "    .dataframe tbody tr th:only-of-type {\n",
       "        vertical-align: middle;\n",
       "    }\n",
       "\n",
       "    .dataframe tbody tr th {\n",
       "        vertical-align: top;\n",
       "    }\n",
       "\n",
       "    .dataframe thead th {\n",
       "        text-align: right;\n",
       "    }\n",
       "</style>\n",
       "<table border=\"1\" class=\"dataframe\">\n",
       "  <thead>\n",
       "    <tr style=\"text-align: right;\">\n",
       "      <th></th>\n",
       "      <th>disease</th>\n",
       "      <th>drug</th>\n",
       "      <th>sentences</th>\n",
       "      <th>distance</th>\n",
       "      <th>outlier_flag</th>\n",
       "    </tr>\n",
       "  </thead>\n",
       "  <tbody>\n",
       "    <tr>\n",
       "      <th>4215</th>\n",
       "      <td>necatoriasis</td>\n",
       "      <td>Albendazole</td>\n",
       "      <td>� Adapted from https://www.who.int/teams/contr...</td>\n",
       "      <td>15</td>\n",
       "      <td>1</td>\n",
       "    </tr>\n",
       "    <tr>\n",
       "      <th>4216</th>\n",
       "      <td>necatoriasis</td>\n",
       "      <td>Mebendazole</td>\n",
       "      <td>� Adapted from https://www.who.int/teams/contr...</td>\n",
       "      <td>13</td>\n",
       "      <td>1</td>\n",
       "    </tr>\n",
       "    <tr>\n",
       "      <th>4217</th>\n",
       "      <td>histiocytoma</td>\n",
       "      <td>Risankizumab</td>\n",
       "      <td>Three patients had previous malignancy (malign...</td>\n",
       "      <td>10</td>\n",
       "      <td>1</td>\n",
       "    </tr>\n",
       "    <tr>\n",
       "      <th>4218</th>\n",
       "      <td>neuroacanthocytosis</td>\n",
       "      <td>Iron</td>\n",
       "      <td>further write that \"Hereditary etiologies of c...</td>\n",
       "      <td>13</td>\n",
       "      <td>1</td>\n",
       "    </tr>\n",
       "    <tr>\n",
       "      <th>4219</th>\n",
       "      <td>neuroacanthocytosis</td>\n",
       "      <td>Creatine</td>\n",
       "      <td>Neuroacanthocytosis was ruled out as acanthocy...</td>\n",
       "      <td>21</td>\n",
       "      <td>1</td>\n",
       "    </tr>\n",
       "  </tbody>\n",
       "</table>\n",
       "</div>"
      ],
      "text/plain": [
       "                  disease          drug  \\\n",
       "4215         necatoriasis   Albendazole   \n",
       "4216         necatoriasis   Mebendazole   \n",
       "4217         histiocytoma  Risankizumab   \n",
       "4218  neuroacanthocytosis          Iron   \n",
       "4219  neuroacanthocytosis      Creatine   \n",
       "\n",
       "                                              sentences  distance  \\\n",
       "4215  � Adapted from https://www.who.int/teams/contr...        15   \n",
       "4216  � Adapted from https://www.who.int/teams/contr...        13   \n",
       "4217  Three patients had previous malignancy (malign...        10   \n",
       "4218  further write that \"Hereditary etiologies of c...        13   \n",
       "4219  Neuroacanthocytosis was ruled out as acanthocy...        21   \n",
       "\n",
       "      outlier_flag  \n",
       "4215             1  \n",
       "4216             1  \n",
       "4217             1  \n",
       "4218             1  \n",
       "4219             1  "
      ]
     },
     "execution_count": 4,
     "metadata": {},
     "output_type": "execute_result"
    }
   ],
   "source": [
    "dataset.tail()"
   ]
  },
  {
   "cell_type": "code",
   "execution_count": 6,
   "metadata": {},
   "outputs": [],
   "source": [
    "def calculateAveragePolarity(row):\n",
    "    drug = row['drug'].lower()\n",
    "    disease = row['disease'].lower()\n",
    "    sentences = row['sentences'].split('.')\n",
    "    avg_polarity = 0\n",
    "    total_polarity = 0\n",
    "    for sentence in sentences:\n",
    "        result = TextBlob(sentence.strip())\n",
    "        total_polarity = total_polarity + result.polarity\n",
    "    return total_polarity/len(sentences)\n",
    "    "
   ]
  },
  {
   "cell_type": "code",
   "execution_count": 7,
   "metadata": {},
   "outputs": [],
   "source": [
    "dataset['avg_polarity'] = dataset.apply(calculateAveragePolarity, axis=1)"
   ]
  },
  {
   "cell_type": "code",
   "execution_count": 11,
   "metadata": {},
   "outputs": [
    {
     "data": {
      "text/html": [
       "<div>\n",
       "<style scoped>\n",
       "    .dataframe tbody tr th:only-of-type {\n",
       "        vertical-align: middle;\n",
       "    }\n",
       "\n",
       "    .dataframe tbody tr th {\n",
       "        vertical-align: top;\n",
       "    }\n",
       "\n",
       "    .dataframe thead th {\n",
       "        text-align: right;\n",
       "    }\n",
       "</style>\n",
       "<table border=\"1\" class=\"dataframe\">\n",
       "  <thead>\n",
       "    <tr style=\"text-align: right;\">\n",
       "      <th></th>\n",
       "      <th>distance</th>\n",
       "      <th>outlier_flag</th>\n",
       "      <th>avg_polarity</th>\n",
       "    </tr>\n",
       "  </thead>\n",
       "  <tbody>\n",
       "    <tr>\n",
       "      <th>count</th>\n",
       "      <td>4220.000000</td>\n",
       "      <td>4220.000000</td>\n",
       "      <td>4220.000000</td>\n",
       "    </tr>\n",
       "    <tr>\n",
       "      <th>mean</th>\n",
       "      <td>39.785545</td>\n",
       "      <td>0.824171</td>\n",
       "      <td>0.031650</td>\n",
       "    </tr>\n",
       "    <tr>\n",
       "      <th>std</th>\n",
       "      <td>71.729775</td>\n",
       "      <td>0.380720</td>\n",
       "      <td>0.079965</td>\n",
       "    </tr>\n",
       "    <tr>\n",
       "      <th>min</th>\n",
       "      <td>-1.000000</td>\n",
       "      <td>0.000000</td>\n",
       "      <td>-0.250000</td>\n",
       "    </tr>\n",
       "    <tr>\n",
       "      <th>25%</th>\n",
       "      <td>8.000000</td>\n",
       "      <td>1.000000</td>\n",
       "      <td>0.000000</td>\n",
       "    </tr>\n",
       "    <tr>\n",
       "      <th>50%</th>\n",
       "      <td>15.000000</td>\n",
       "      <td>1.000000</td>\n",
       "      <td>0.009375</td>\n",
       "    </tr>\n",
       "    <tr>\n",
       "      <th>75%</th>\n",
       "      <td>29.000000</td>\n",
       "      <td>1.000000</td>\n",
       "      <td>0.059431</td>\n",
       "    </tr>\n",
       "    <tr>\n",
       "      <th>max</th>\n",
       "      <td>487.000000</td>\n",
       "      <td>1.000000</td>\n",
       "      <td>0.600000</td>\n",
       "    </tr>\n",
       "  </tbody>\n",
       "</table>\n",
       "</div>"
      ],
      "text/plain": [
       "          distance  outlier_flag  avg_polarity\n",
       "count  4220.000000   4220.000000   4220.000000\n",
       "mean     39.785545      0.824171      0.031650\n",
       "std      71.729775      0.380720      0.079965\n",
       "min      -1.000000      0.000000     -0.250000\n",
       "25%       8.000000      1.000000      0.000000\n",
       "50%      15.000000      1.000000      0.009375\n",
       "75%      29.000000      1.000000      0.059431\n",
       "max     487.000000      1.000000      0.600000"
      ]
     },
     "execution_count": 11,
     "metadata": {},
     "output_type": "execute_result"
    }
   ],
   "source": [
    "dataset.describe()"
   ]
  },
  {
   "cell_type": "code",
   "execution_count": 12,
   "metadata": {},
   "outputs": [],
   "source": [
    "dataset.to_csv('disease_drug_sentiment_textblob_and_outlier_flag.csv', index=False)"
   ]
  },
  {
   "cell_type": "code",
   "execution_count": null,
   "metadata": {},
   "outputs": [],
   "source": []
  }
 ],
 "metadata": {
  "kernelspec": {
   "display_name": "Python 3 (ipykernel)",
   "language": "python",
   "name": "python3"
  },
  "language_info": {
   "codemirror_mode": {
    "name": "ipython",
    "version": 3
   },
   "file_extension": ".py",
   "mimetype": "text/x-python",
   "name": "python",
   "nbconvert_exporter": "python",
   "pygments_lexer": "ipython3",
   "version": "3.8.5"
  }
 },
 "nbformat": 4,
 "nbformat_minor": 4
}
