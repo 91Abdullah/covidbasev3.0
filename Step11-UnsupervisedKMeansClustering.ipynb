{
 "cells": [
  {
   "cell_type": "markdown",
   "metadata": {},
   "source": [
    "# Step 11: Unsupervised k-means clustering"
   ]
  },
  {
   "cell_type": "code",
   "execution_count": 2,
   "metadata": {},
   "outputs": [],
   "source": [
    "import pandas as pd\n",
    "import numpy as np\n",
    "from gensim.models import Word2Vec\n",
    "from sklearn.cluster import KMeans"
   ]
  },
  {
   "cell_type": "code",
   "execution_count": 3,
   "metadata": {},
   "outputs": [],
   "source": [
    "word_vectors = Word2Vec.load(\"word2vec.model\").wv"
   ]
  },
  {
   "cell_type": "code",
   "execution_count": 4,
   "metadata": {},
   "outputs": [],
   "source": [
    "model = KMeans(n_clusters=2, max_iter=1000, random_state=True, n_init=50).fit(X=word_vectors.vectors.astype('double'))"
   ]
  },
  {
   "cell_type": "code",
   "execution_count": 5,
   "metadata": {},
   "outputs": [
    {
     "data": {
      "text/plain": [
       "[('suffici', 0.9916220307350159),\n",
       " ('next', 0.9907612800598145),\n",
       " ('remiss', 0.9899042248725891),\n",
       " ('glucocorticoid', 0.9898771643638611),\n",
       " ('make', 0.9898754358291626),\n",
       " ('intern', 0.9892132878303528),\n",
       " ('we_found', 0.988933801651001),\n",
       " ('teprotumumab', 0.9882659912109375),\n",
       " ('esophag', 0.9881330728530884),\n",
       " ('thought', 0.9880006313323975)]"
      ]
     },
     "execution_count": 5,
     "metadata": {},
     "output_type": "execute_result"
    }
   ],
   "source": [
    "word_vectors.similar_by_vector(model.cluster_centers_[0], topn=10, restrict_vocab=None)"
   ]
  },
  {
   "cell_type": "code",
   "execution_count": 6,
   "metadata": {},
   "outputs": [],
   "source": [
    "positive_cluster_center = model.cluster_centers_[0]\n",
    "negative_cluster_center = model.cluster_centers_[1]"
   ]
  },
  {
   "cell_type": "code",
   "execution_count": 7,
   "metadata": {},
   "outputs": [],
   "source": [
    "words = pd.DataFrame(np.array([list(word_vectors.index_to_key)]).T)\n",
    "words.columns = ['words']\n",
    "words['vectors'] = words.words.apply(lambda x: word_vectors[f'{x}'])\n",
    "words['cluster'] = words.vectors.apply(lambda x: model.predict([np.array(x)]))\n",
    "words.cluster = words.cluster.apply(lambda x: x[0])"
   ]
  },
  {
   "cell_type": "code",
   "execution_count": 8,
   "metadata": {},
   "outputs": [],
   "source": [
    "words['cluster_value'] = [1 if i==0 else -1 for i in words.cluster]\n",
    "words['closeness_score'] = words.apply(lambda x: 1/(model.transform([x.vectors]).min()), axis=1)\n",
    "words['sentiment_coeff'] = words.closeness_score * words.cluster_value\n",
    "words[['words', 'sentiment_coeff']].to_csv('sentiment_dictionary.csv', index=False)"
   ]
  },
  {
   "cell_type": "code",
   "execution_count": 24,
   "metadata": {},
   "outputs": [
    {
     "data": {
      "text/html": [
       "<div>\n",
       "<style scoped>\n",
       "    .dataframe tbody tr th:only-of-type {\n",
       "        vertical-align: middle;\n",
       "    }\n",
       "\n",
       "    .dataframe tbody tr th {\n",
       "        vertical-align: top;\n",
       "    }\n",
       "\n",
       "    .dataframe thead th {\n",
       "        text-align: right;\n",
       "    }\n",
       "</style>\n",
       "<table border=\"1\" class=\"dataframe\">\n",
       "  <thead>\n",
       "    <tr style=\"text-align: right;\">\n",
       "      <th></th>\n",
       "      <th>words</th>\n",
       "      <th>vectors</th>\n",
       "      <th>cluster</th>\n",
       "      <th>cluster_value</th>\n",
       "      <th>closeness_score</th>\n",
       "      <th>sentiment_coeff</th>\n",
       "    </tr>\n",
       "  </thead>\n",
       "  <tbody>\n",
       "    <tr>\n",
       "      <th>0</th>\n",
       "      <td>or</td>\n",
       "      <td>[0.10209823, -0.07570479, -0.011496712, -0.066...</td>\n",
       "      <td>1</td>\n",
       "      <td>-1</td>\n",
       "      <td>0.772296</td>\n",
       "      <td>-0.772296</td>\n",
       "    </tr>\n",
       "    <tr>\n",
       "      <th>1</th>\n",
       "      <td>pressur</td>\n",
       "      <td>[0.047711316, -0.07002459, -0.024057176, -0.08...</td>\n",
       "      <td>1</td>\n",
       "      <td>-1</td>\n",
       "      <td>0.770109</td>\n",
       "      <td>-0.770109</td>\n",
       "    </tr>\n",
       "    <tr>\n",
       "      <th>2</th>\n",
       "      <td>train</td>\n",
       "      <td>[0.0758576, -0.10417662, -0.020020593, -0.0693...</td>\n",
       "      <td>1</td>\n",
       "      <td>-1</td>\n",
       "      <td>0.769759</td>\n",
       "      <td>-0.769759</td>\n",
       "    </tr>\n",
       "    <tr>\n",
       "      <th>3</th>\n",
       "      <td>hypertens</td>\n",
       "      <td>[0.119882256, -0.086356066, -0.060781825, -0.0...</td>\n",
       "      <td>1</td>\n",
       "      <td>-1</td>\n",
       "      <td>0.779188</td>\n",
       "      <td>-0.779188</td>\n",
       "    </tr>\n",
       "    <tr>\n",
       "      <th>4</th>\n",
       "      <td>anti</td>\n",
       "      <td>[0.08376609, -0.07109665, -0.06981209, 0.01331...</td>\n",
       "      <td>1</td>\n",
       "      <td>-1</td>\n",
       "      <td>0.805614</td>\n",
       "      <td>-0.805614</td>\n",
       "    </tr>\n",
       "    <tr>\n",
       "      <th>...</th>\n",
       "      <td>...</td>\n",
       "      <td>...</td>\n",
       "      <td>...</td>\n",
       "      <td>...</td>\n",
       "      <td>...</td>\n",
       "      <td>...</td>\n",
       "    </tr>\n",
       "    <tr>\n",
       "      <th>5418</th>\n",
       "      <td>sodium_bicarbon</td>\n",
       "      <td>[-0.06830417, 0.01134732, 0.020890148, -0.0582...</td>\n",
       "      <td>0</td>\n",
       "      <td>1</td>\n",
       "      <td>2.997169</td>\n",
       "      <td>2.997169</td>\n",
       "    </tr>\n",
       "    <tr>\n",
       "      <th>5419</th>\n",
       "      <td>convert</td>\n",
       "      <td>[-0.06554523, 0.021923034, 0.020463716, -0.071...</td>\n",
       "      <td>0</td>\n",
       "      <td>1</td>\n",
       "      <td>3.261610</td>\n",
       "      <td>3.261610</td>\n",
       "    </tr>\n",
       "    <tr>\n",
       "      <th>5420</th>\n",
       "      <td>axi</td>\n",
       "      <td>[-0.06985295, 0.020333901, 0.022981338, -0.083...</td>\n",
       "      <td>0</td>\n",
       "      <td>1</td>\n",
       "      <td>3.463481</td>\n",
       "      <td>3.463481</td>\n",
       "    </tr>\n",
       "    <tr>\n",
       "      <th>5421</th>\n",
       "      <td>special</td>\n",
       "      <td>[-0.05797433, 0.0030707512, 0.009448027, -0.03...</td>\n",
       "      <td>0</td>\n",
       "      <td>1</td>\n",
       "      <td>3.752625</td>\n",
       "      <td>3.752625</td>\n",
       "    </tr>\n",
       "    <tr>\n",
       "      <th>5422</th>\n",
       "      <td>allopurinol_load</td>\n",
       "      <td>[-0.05155097, -0.0043333033, -0.0071494323, -0...</td>\n",
       "      <td>0</td>\n",
       "      <td>1</td>\n",
       "      <td>3.349195</td>\n",
       "      <td>3.349195</td>\n",
       "    </tr>\n",
       "  </tbody>\n",
       "</table>\n",
       "<p>5423 rows × 6 columns</p>\n",
       "</div>"
      ],
      "text/plain": [
       "                 words                                            vectors  \\\n",
       "0                   or  [0.10209823, -0.07570479, -0.011496712, -0.066...   \n",
       "1              pressur  [0.047711316, -0.07002459, -0.024057176, -0.08...   \n",
       "2                train  [0.0758576, -0.10417662, -0.020020593, -0.0693...   \n",
       "3            hypertens  [0.119882256, -0.086356066, -0.060781825, -0.0...   \n",
       "4                 anti  [0.08376609, -0.07109665, -0.06981209, 0.01331...   \n",
       "...                ...                                                ...   \n",
       "5418   sodium_bicarbon  [-0.06830417, 0.01134732, 0.020890148, -0.0582...   \n",
       "5419           convert  [-0.06554523, 0.021923034, 0.020463716, -0.071...   \n",
       "5420               axi  [-0.06985295, 0.020333901, 0.022981338, -0.083...   \n",
       "5421           special  [-0.05797433, 0.0030707512, 0.009448027, -0.03...   \n",
       "5422  allopurinol_load  [-0.05155097, -0.0043333033, -0.0071494323, -0...   \n",
       "\n",
       "      cluster  cluster_value  closeness_score  sentiment_coeff  \n",
       "0           1             -1         0.772296        -0.772296  \n",
       "1           1             -1         0.770109        -0.770109  \n",
       "2           1             -1         0.769759        -0.769759  \n",
       "3           1             -1         0.779188        -0.779188  \n",
       "4           1             -1         0.805614        -0.805614  \n",
       "...       ...            ...              ...              ...  \n",
       "5418        0              1         2.997169         2.997169  \n",
       "5419        0              1         3.261610         3.261610  \n",
       "5420        0              1         3.463481         3.463481  \n",
       "5421        0              1         3.752625         3.752625  \n",
       "5422        0              1         3.349195         3.349195  \n",
       "\n",
       "[5423 rows x 6 columns]"
      ]
     },
     "execution_count": 24,
     "metadata": {},
     "output_type": "execute_result"
    }
   ],
   "source": [
    "words[words['cluster_value'] != 0]"
   ]
  },
  {
   "cell_type": "code",
   "execution_count": null,
   "metadata": {},
   "outputs": [],
   "source": []
  }
 ],
 "metadata": {
  "kernelspec": {
   "display_name": "Python 3 (ipykernel)",
   "language": "python",
   "name": "python3"
  },
  "language_info": {
   "codemirror_mode": {
    "name": "ipython",
    "version": 3
   },
   "file_extension": ".py",
   "mimetype": "text/x-python",
   "name": "python",
   "nbconvert_exporter": "python",
   "pygments_lexer": "ipython3",
   "version": "3.8.5"
  }
 },
 "nbformat": 4,
 "nbformat_minor": 4
}
