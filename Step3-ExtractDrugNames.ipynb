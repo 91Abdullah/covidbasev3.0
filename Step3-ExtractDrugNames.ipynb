{
 "cells": [
  {
   "cell_type": "markdown",
   "metadata": {},
   "source": [
    "# Step 3: Extract drug names from corpus"
   ]
  },
  {
   "cell_type": "code",
   "execution_count": 2,
   "metadata": {},
   "outputs": [],
   "source": [
    "import pandas as pd  # data processing, CSV file I/O (e.g. pd.read_csv)\n",
    "import math\n",
    "from textsearch import TextSearch"
   ]
  },
  {
   "cell_type": "code",
   "execution_count": 3,
   "metadata": {},
   "outputs": [],
   "source": [
    "df_results = pd.read_csv('total_corpus.csv')"
   ]
  },
  {
   "cell_type": "code",
   "execution_count": 4,
   "metadata": {},
   "outputs": [
    {
     "data": {
      "text/html": [
       "<div>\n",
       "<style scoped>\n",
       "    .dataframe tbody tr th:only-of-type {\n",
       "        vertical-align: middle;\n",
       "    }\n",
       "\n",
       "    .dataframe tbody tr th {\n",
       "        vertical-align: top;\n",
       "    }\n",
       "\n",
       "    .dataframe thead th {\n",
       "        text-align: right;\n",
       "    }\n",
       "</style>\n",
       "<table border=\"1\" class=\"dataframe\">\n",
       "  <thead>\n",
       "    <tr style=\"text-align: right;\">\n",
       "      <th></th>\n",
       "      <th>doc_id</th>\n",
       "      <th>title</th>\n",
       "      <th>cord_uid</th>\n",
       "      <th>abstract</th>\n",
       "      <th>full_text</th>\n",
       "    </tr>\n",
       "  </thead>\n",
       "  <tbody>\n",
       "    <tr>\n",
       "      <th>0</th>\n",
       "      <td>3798d3bcb09df782968320b8ad39f28a1bed48e6</td>\n",
       "      <td>NaN</td>\n",
       "      <td>aoiambb8</td>\n",
       "      <td>NaN</td>\n",
       "      <td>I n April 2017, the Institute of Epidemiology ...</td>\n",
       "    </tr>\n",
       "    <tr>\n",
       "      <th>1</th>\n",
       "      <td>2b4690b639d799f33bbf7cb9eec5522878310594</td>\n",
       "      <td>Accuracy of a battery-powered portable capnome...</td>\n",
       "      <td>embv1el9</td>\n",
       "      <td>Carbon dioxide measurement is useful for confi...</td>\n",
       "      <td>Measurement of carbon dioxide (CO 2 ) using a ...</td>\n",
       "    </tr>\n",
       "    <tr>\n",
       "      <th>2</th>\n",
       "      <td>83a841d74d4f6bf8bffb818a5cd6b7fa85d63ff2</td>\n",
       "      <td>The influence of diabetes on postoperative com...</td>\n",
       "      <td>8dcgzyst</td>\n",
       "      <td>Background Diabetes mellitus has been commonly...</td>\n",
       "      <td>Twenty percent of surgical patients have diabe...</td>\n",
       "    </tr>\n",
       "    <tr>\n",
       "      <th>3</th>\n",
       "      <td>7dd8097ba18590caa431084fa22b6580702d5788</td>\n",
       "      <td>In vivo delivery of a multiepitope peptide and...</td>\n",
       "      <td>sgtvecj8</td>\n",
       "      <td>Objectives A potent HIV vaccine should overcom...</td>\n",
       "      <td>Since the onset of the AIDS epidemic, 75 milli...</td>\n",
       "    </tr>\n",
       "    <tr>\n",
       "      <th>4</th>\n",
       "      <td>9bd542f156f108ef170a0eec832161d0edb3d2f8</td>\n",
       "      <td>Relationship Between Compassion Fatigue in Nur...</td>\n",
       "      <td>3vtq6d8f</td>\n",
       "      <td>This research was conducted in order to examin...</td>\n",
       "      <td>Nurses are the largest and the most significan...</td>\n",
       "    </tr>\n",
       "  </tbody>\n",
       "</table>\n",
       "</div>"
      ],
      "text/plain": [
       "                                     doc_id  \\\n",
       "0  3798d3bcb09df782968320b8ad39f28a1bed48e6   \n",
       "1  2b4690b639d799f33bbf7cb9eec5522878310594   \n",
       "2  83a841d74d4f6bf8bffb818a5cd6b7fa85d63ff2   \n",
       "3  7dd8097ba18590caa431084fa22b6580702d5788   \n",
       "4  9bd542f156f108ef170a0eec832161d0edb3d2f8   \n",
       "\n",
       "                                               title  cord_uid  \\\n",
       "0                                                NaN  aoiambb8   \n",
       "1  Accuracy of a battery-powered portable capnome...  embv1el9   \n",
       "2  The influence of diabetes on postoperative com...  8dcgzyst   \n",
       "3  In vivo delivery of a multiepitope peptide and...  sgtvecj8   \n",
       "4  Relationship Between Compassion Fatigue in Nur...  3vtq6d8f   \n",
       "\n",
       "                                            abstract  \\\n",
       "0                                                NaN   \n",
       "1  Carbon dioxide measurement is useful for confi...   \n",
       "2  Background Diabetes mellitus has been commonly...   \n",
       "3  Objectives A potent HIV vaccine should overcom...   \n",
       "4  This research was conducted in order to examin...   \n",
       "\n",
       "                                           full_text  \n",
       "0  I n April 2017, the Institute of Epidemiology ...  \n",
       "1  Measurement of carbon dioxide (CO 2 ) using a ...  \n",
       "2  Twenty percent of surgical patients have diabe...  \n",
       "3  Since the onset of the AIDS epidemic, 75 milli...  \n",
       "4  Nurses are the largest and the most significan...  "
      ]
     },
     "execution_count": 4,
     "metadata": {},
     "output_type": "execute_result"
    }
   ],
   "source": [
    "df_results.head()"
   ]
  },
  {
   "cell_type": "code",
   "execution_count": 4,
   "metadata": {},
   "outputs": [],
   "source": [
    "#corpus = ' '.join(df_results['full_text'].tolist())"
   ]
  },
  {
   "cell_type": "code",
   "execution_count": 5,
   "metadata": {},
   "outputs": [],
   "source": [
    "drug_data = pd.read_csv('../Data_Dictionary/Drugs.csv', encoding=\"utf-8\", skipinitialspace=True)"
   ]
  },
  {
   "cell_type": "code",
   "execution_count": 5,
   "metadata": {},
   "outputs": [],
   "source": [
    "drug_names = drug_data['Common name'].tolist()"
   ]
  },
  {
   "cell_type": "code",
   "execution_count": 8,
   "metadata": {},
   "outputs": [
    {
     "data": {
      "text/plain": [
       "'Lepirudin'"
      ]
     },
     "execution_count": 8,
     "metadata": {},
     "output_type": "execute_result"
    }
   ],
   "source": [
    "drug_names[0]"
   ]
  },
  {
   "cell_type": "code",
   "execution_count": 6,
   "metadata": {},
   "outputs": [],
   "source": [
    "corpus1 = ' '.join(df_results['full_text'][0:54763].tolist())\n",
    "corpus2 = ' '.join(df_results['full_text'][54764:].tolist())"
   ]
  },
  {
   "cell_type": "code",
   "execution_count": 7,
   "metadata": {},
   "outputs": [
    {
     "name": "stdout",
     "output_type": "stream",
     "text": [
      "1393287599\n",
      "1295366005\n"
     ]
    }
   ],
   "source": [
    "print(len(corpus1))\n",
    "print(len(corpus2))"
   ]
  },
  {
   "cell_type": "code",
   "execution_count": 9,
   "metadata": {},
   "outputs": [],
   "source": [
    "ts = TextSearch(case=\"ignore\", returns=\"match\", replace_foreign_chars=True)\n",
    "ts.add(drug_names)"
   ]
  },
  {
   "cell_type": "code",
   "execution_count": 10,
   "metadata": {},
   "outputs": [],
   "source": [
    "found_list1 = ts.findall(corpus1)"
   ]
  },
  {
   "cell_type": "code",
   "execution_count": 11,
   "metadata": {},
   "outputs": [],
   "source": [
    "found_list2 = ts.findall(corpus2)"
   ]
  },
  {
   "cell_type": "code",
   "execution_count": 12,
   "metadata": {},
   "outputs": [],
   "source": [
    "found_list = found_list1 + found_list2"
   ]
  },
  {
   "cell_type": "code",
   "execution_count": 13,
   "metadata": {},
   "outputs": [],
   "source": [
    "unique_found_list = list(dict.fromkeys(found_list))"
   ]
  },
  {
   "cell_type": "code",
   "execution_count": 14,
   "metadata": {},
   "outputs": [],
   "source": [
    "with open('corona_related_drug_name_FINAL.txt', 'w') as filehandle:\n",
    "    for listitem in unique_found_list:\n",
    "        filehandle.write('%s\\n' % listitem)"
   ]
  },
  {
   "cell_type": "code",
   "execution_count": 15,
   "metadata": {},
   "outputs": [
    {
     "data": {
      "text/plain": [
       "['Carbon dioxide',\n",
       " 'Hemoglobin',\n",
       " 'Nitric Oxide',\n",
       " 'Fig',\n",
       " 'Erythromycin',\n",
       " 'Metoclopramide',\n",
       " 'Cisapride',\n",
       " 'Water',\n",
       " 'Amino acids',\n",
       " 'Histidine']"
      ]
     },
     "execution_count": 15,
     "metadata": {},
     "output_type": "execute_result"
    }
   ],
   "source": [
    "unique_found_list[0:10]"
   ]
  },
  {
   "cell_type": "code",
   "execution_count": 17,
   "metadata": {},
   "outputs": [],
   "source": [
    "df_unique_found_list = pd.DataFrame(unique_found_list, columns=['drug'])"
   ]
  },
  {
   "cell_type": "code",
   "execution_count": 18,
   "metadata": {},
   "outputs": [],
   "source": [
    "df_unique_found_list.to_csv('drug_found_list.csv', index=False)"
   ]
  },
  {
   "cell_type": "code",
   "execution_count": 6,
   "metadata": {},
   "outputs": [],
   "source": [
    "df_unique_found_list = pd.read_csv('drug_found_list.csv')"
   ]
  },
  {
   "cell_type": "code",
   "execution_count": 17,
   "metadata": {},
   "outputs": [
    {
     "data": {
      "text/html": [
       "<div>\n",
       "<style scoped>\n",
       "    .dataframe tbody tr th:only-of-type {\n",
       "        vertical-align: middle;\n",
       "    }\n",
       "\n",
       "    .dataframe tbody tr th {\n",
       "        vertical-align: top;\n",
       "    }\n",
       "\n",
       "    .dataframe thead th {\n",
       "        text-align: right;\n",
       "    }\n",
       "</style>\n",
       "<table border=\"1\" class=\"dataframe\">\n",
       "  <thead>\n",
       "    <tr style=\"text-align: right;\">\n",
       "      <th></th>\n",
       "      <th>drug</th>\n",
       "    </tr>\n",
       "  </thead>\n",
       "  <tbody>\n",
       "    <tr>\n",
       "      <th>1558</th>\n",
       "      <td>Baricitinib</td>\n",
       "    </tr>\n",
       "  </tbody>\n",
       "</table>\n",
       "</div>"
      ],
      "text/plain": [
       "             drug\n",
       "1558  Baricitinib"
      ]
     },
     "execution_count": 17,
     "metadata": {},
     "output_type": "execute_result"
    }
   ],
   "source": [
    "df_unique_found_list[df_unique_found_list.drug.str.contains('Baricitinib')]"
   ]
  },
  {
   "cell_type": "code",
   "execution_count": 34,
   "metadata": {},
   "outputs": [
    {
     "data": {
      "text/html": [
       "<div>\n",
       "<style scoped>\n",
       "    .dataframe tbody tr th:only-of-type {\n",
       "        vertical-align: middle;\n",
       "    }\n",
       "\n",
       "    .dataframe tbody tr th {\n",
       "        vertical-align: top;\n",
       "    }\n",
       "\n",
       "    .dataframe thead th {\n",
       "        text-align: right;\n",
       "    }\n",
       "</style>\n",
       "<table border=\"1\" class=\"dataframe\">\n",
       "  <thead>\n",
       "    <tr style=\"text-align: right;\">\n",
       "      <th></th>\n",
       "      <th>DrugBank ID</th>\n",
       "      <th>Accession Numbers</th>\n",
       "      <th>Common name</th>\n",
       "      <th>CAS</th>\n",
       "      <th>UNII</th>\n",
       "      <th>Synonyms</th>\n",
       "      <th>Standard InChI Key</th>\n",
       "    </tr>\n",
       "  </thead>\n",
       "  <tbody>\n",
       "    <tr>\n",
       "      <th>9806</th>\n",
       "      <td>DB11817</td>\n",
       "      <td>NaN</td>\n",
       "      <td>Baricitinib</td>\n",
       "      <td>1187594-09-7</td>\n",
       "      <td>ISP4442I3Y</td>\n",
       "      <td>Baricitinib</td>\n",
       "      <td>XUZMWHLSFXCVMG-UHFFFAOYSA-N</td>\n",
       "    </tr>\n",
       "  </tbody>\n",
       "</table>\n",
       "</div>"
      ],
      "text/plain": [
       "     DrugBank ID Accession Numbers  Common name           CAS        UNII  \\\n",
       "9806     DB11817               NaN  Baricitinib  1187594-09-7  ISP4442I3Y   \n",
       "\n",
       "         Synonyms           Standard InChI Key  \n",
       "9806  Baricitinib  XUZMWHLSFXCVMG-UHFFFAOYSA-N  "
      ]
     },
     "execution_count": 34,
     "metadata": {},
     "output_type": "execute_result"
    }
   ],
   "source": [
    "drug_data[drug_data['Common name'].str.contains('Baricitinib', case=False)]"
   ]
  },
  {
   "cell_type": "code",
   "execution_count": 33,
   "metadata": {},
   "outputs": [
    {
     "data": {
      "text/html": [
       "<div>\n",
       "<style scoped>\n",
       "    .dataframe tbody tr th:only-of-type {\n",
       "        vertical-align: middle;\n",
       "    }\n",
       "\n",
       "    .dataframe tbody tr th {\n",
       "        vertical-align: top;\n",
       "    }\n",
       "\n",
       "    .dataframe thead th {\n",
       "        text-align: right;\n",
       "    }\n",
       "</style>\n",
       "<table border=\"1\" class=\"dataframe\">\n",
       "  <thead>\n",
       "    <tr style=\"text-align: right;\">\n",
       "      <th></th>\n",
       "      <th>doc_id</th>\n",
       "      <th>title</th>\n",
       "      <th>cord_uid</th>\n",
       "      <th>abstract</th>\n",
       "      <th>full_text</th>\n",
       "    </tr>\n",
       "  </thead>\n",
       "  <tbody>\n",
       "  </tbody>\n",
       "</table>\n",
       "</div>"
      ],
      "text/plain": [
       "Empty DataFrame\n",
       "Columns: [doc_id, title, cord_uid, abstract, full_text]\n",
       "Index: []"
      ]
     },
     "execution_count": 33,
     "metadata": {},
     "output_type": "execute_result"
    }
   ],
   "source": [
    "df_results[df_results.full_text.str.contains('paxlovid', case=False)]"
   ]
  },
  {
   "cell_type": "code",
   "execution_count": 32,
   "metadata": {},
   "outputs": [
    {
     "data": {
      "text/plain": [
       "\"Histoplasmosis is caused by the inhalation of the dimorphic fungus Histoplasma capsulatum var. capsulatum or duboisii. Although infection is generally asymptomatic or mild, Histoplasma can cause severe pulmonary and disseminated disease, particularly in immunocompromised populations [1] . CNS disease occurs in 5-10% of patients with disseminated infection and has a 1-year mortality of 20-25% despite therapy. A small proportion of patients with CNS histoplasmosis are previously healthy prior to infection [2] . Immune reconstitution inflammatory syndrome (IRIS) has been reported in association with histoplasmosis in HIV-infected patients [3] , and more recently, in those on waning TNF-alpha inhibition [4] . Here, we present the first report of an IRIS-like, PIIRS in a non-HIV patient with history of HCV infection and CNS histoplasmosis, based on elevated CSF cytokines in the setting of improved serologic and antigenic fungal parameters. Case A 23-year-old male with a history of intravenous heroin use began experiencing diffuse headaches in the absence of significant fever. After 4 months of symptoms and presenting to the emergency department multiple times, he was admitted due to concerns of meningitis. His initial lumbar puncture revealed a lymphocytic pleocytosis (353 cells/mm 3 , 65% lymphocytes, 36% segmented neutrophils), low glucose 8 mg/dL, high protein 234 mg/dL, and no organisms on gram stain (Fig.  1) . He was diagnosed with CNS histoplasmosis by serum and cerebrospinal fluid (CSF) enzyme immunoassay (EIA) antibody testing. At that time (day 0), his serum (1,3)-β-D-glucan was > 500 pg/mL (normal < 20 pg/mL) and < 31 pg/mL (normal < 31 pg/mL) in the CSF (Table 1) . Alternative diagnoses including coccidioidomycosis, Lyme disease, HTLV, HSV, syphilis, brucellosis, leptospirosis, toxoplasmosis, and Legionnaire's disease were ruled out by relevant serologies. TB exposure was excluded by a negative quantiferon test and results of a meningitis/encephalitis CSF panel were negative. His serum CD4+ T cell count was 609 cells/mm 3 and his Creactive protein (CRP) was 7.11 mg/dL. Immune workup including HIV-1 antibody, HIV-1 antigen, and HIV-2 antibody, Hepatitis A and B antibody were non-reactive (day 0). Although his initial HCV antibody was negative (day 0), it was reactive on day 14 and his viral load was 1,520,000 IU/L. He was treated with liposomal amphotericin for 4 weeks and transitioned to an 11-month itraconazole course on discharge. He was started on sofosbuvir and velpatasvir for HCV management due to high viral loads and liver enzymes. He was from Pennsylvania and worked in heating, ventilation, and air conditioning. He had a dog, but denied any exposure to rodents or birds. Four months later, he was readmitted with severe headache, fevers, meningismus, and difficulty walking. An MRI of the brain revealed enhancement of the right internal auditory canal and cochlea concerning for a meningeal process (day 110). CRP had declined to 4.10 mg/dL and the patient had a low fever (T max 100.3F). A lumbar puncture (day 113) demonstrated low glucose and pleocytosis (Fig. 1a, c) . Recurrence of CNS histoplasmosis was suspected given a positive CSF antibody by complement fixation (CF) on repeat lumbar puncture, despite other Histoplasma testing, including CSF fungal PCR and antigen by EIA, remaining negative (Table 1) . Itraconazole was replaced with liposomal amphotericin B because of the suspected relapse. On day 112, his HCV viral load had declined to 168,000 IU/L with improved aspartate transaminase (AST) and alanine aminotransferase (ALT) 57 U/L and 37 U/L, respectively. HIV-1/2 status was also re-evaluated with a 4th generation antibody test and was negative. Two weeks later (day 123), a brain MRI revealed abnormal enhancement along the surface of the brainstem (interpeduncular cistern and surface of the pons and medulla) and multiple cranial nerves, including the internal auditory canals consistent with granulomatous meningitis with involvement of vestibular anatomy on dedicated studies of the internal auditory canal (Fig. 2a-d) . There was also focal solid enhancement in the prepontine cistern, suspicious for a granuloma or early abscess. An LP on day 137 revealed pleocytosis (5.3 × 10 4 leukocytes/μL, 63% lymphocytes, 27% segmented neutrophils), low glucose (32 mg/dL), and high protein (155 mg/dL). A VP shunt was placed due to worsening headaches and persistently elevated intracranial pressure (day 141). Following surgery, the patient's headaches briefly improved but subsequently worsened. No shunt malfunction was detected at the time. Prednisone 40 mg daily was initiated on day 147 because of worsening clinical condition and the suspicion of an inflammatory syndrome. Two days later his headaches dissipated, his gait improved, and he was discharged to a nursing facility. CSF cytokines measured 2 days following corticosteroid initiation revealed elevated IL-6, soluble CD25, and IL-8 levels (Fig. 1d) . Other autoimmune workup consisted of a negative rheumatoid factor, anti-nuclear antibody, antineutrophil cytoplasmic antibody (ANCA) panel, anti-cyclic citrullinated peptide ab, anti-mitochondrial antibody, anti-smooth muscle Ab, and negative tissue transglutaminase IgA/IgG. He was transitioned to itraconazole 200 mg TID following the second course of 4 weeks of amphotericin B. A brain MRI on day 201 showed resolution of previous abnormal enhancement along the brainstem, internal auditory canals, and prepontine cistern (Fig. 2e) . His hospital course was complicated by recurrent knee arthritis. During his first admission, he was diagnosed with bilateral methicillin-sensitive Staphylococcal aureus (MSSA) septic arthritis treated with intravenous cefazolin and irrigation. Knee pain and swelling persisted through readmission. An arthrocentesis of the right knee revealed a mildly inflammatory fluid prior to corticosteroid start. Cefazolin treatment was initiated despite negative synovial fluid cultures and an unremarkable MRI of the knee (day 115) and minor improvement was noted. The week prior to VP shunt placement, his knee became increasingly painful and swollen while receiving cefazolin. A repeat arthrocentesis (day 137) revealed pleocytosis (9 × 10 4 leukocytes/μL) and he underwent surgical irrigation of the right joint (day 139). All cultures of the synovial fluid remained negative. As corticosteroids were started for his worsening neurologic condition, he noted improvement in knee pain. After 1 month of prednisone at 40 mg daily, he was gradually tapered to 5 mg daily over another 6 months. His itraconazole dose was maintained at 200 mg TID. Itraconazole and hydroxyitraconazole levels were monitored weekly and parent drug levels were maintained above 3 mcg/ mL. Repeat LPs demonstrated reduction in pro-inflammatory CSF cytokines, normalization of WBC count and glucose ( Fig. 1 ) over the next year. Six months following his diagnosis, his HCV viral load was < 15 IU/L and his AST and ALT had normalized (11 U/L and 7 U/L respectively). After 1 year, he was independent, free of headaches, and without residual neurologic deficits. He was able to ambulate unassisted although he noted continued knee pain bilaterally. Given intermittent adherence to itraconazole due to the taste of the medication and dosing schedule, treatment was changed to fluconazole 400 mg daily. CSF Histoplasma antibodies remained negative by complement fixation over 2 years of follow-up (Table 1 ). The refractory nature of this patient's neurological symptoms was attributed to an inflammatory syndrome based on a worsening clinical presentation despite a negative CSF fungal antigen and persistently negative cultures after treatment with antifungal agents and ventriculoperitoneal shunting ( Table 1) . The patient underwent rapid clinical improvement following corticosteroid therapy. Supportive of an inflammatory syndrome were elevations in CSF cytokines including IL-6 and soluble CD25 and compatible MRI findings that resolved over a year. Fungal recurrence risk was ameliorated by high-dose itraconazole therapy throughout the steroid taper. Previously, Klein et al. reported a 20-year-old woman who presented with CNS histoplasmosis mistaken for a glioma. Despite amphotericin treatment and ventriculostomy, her hydrocephalus progressed. She was started on prednisone with clinical improvement. Prednisone was tapered over 1 month but her hydrocephalus progressed a month later despite itraconazole therapy [7] . The clinical similarity between these two cases and a recently defined post-infectious inflammatory response syndrome (PIIRS) in non-HIV-associated cryptococcal meningoencephalitis suggests that such an inflammatory syndrome may also exist in Histoplasma infection and may explain the response to corticosteroids in the previously reported case. Other infectious and autoimmune diseases were excluded in the present case although anti-N-methyl-daspartate receptor antibodies were not measured and are an important, though rare differential [8] . PIIRS is defined as clinical deterioration in the setting of appropriate antifungal treatment and microbiologic control of the underlying fungal infection [9] . In cryptococcal meningoencephalitis, PIIRS is thought to be associated with a highly activated intrathecal T cell population following effective antigen presentation of newly lysed fungal organisms [10] . Crypto-PIIRS is highly responsive to initial pulses of antiinflammatory corticosteroid doses and may require extended tapers of corticosteroids to control flares of inflammation months after infection [9, 11, 12] . The clinical and laboratory similarities of these cases to Crypto-PIIRS postulate the existence of a similar immune response in HIV-negative, previously healthy patients with CNS Histoplasma infection with elevations in IL-6 and sCD25. Shared also were a lack of TNF-α production, which may explain the lack of high fever in both patient populations. However, the present case did not show elevated levels of IL-10 as described in Crypto-PIIRS, associated with an alternatively activated M2 macrophage population [9] , suggesting possible preservation of classical macrophage activation in the present case. Th1 responses, consisting of pro-inflammatory cytokines, are integral to the host response to Histoplasma infection [13] . Dysregulated pro-inflammatory responses can also cause host damage. Although CSF cytokines were not assayed prior to corticosteroid therapy, we noted abnormally elevated proinflammatory cytokines (soluble CD25 or IL-2 receptor, IL-6, and IL-8) during the 2 days subsequent to steroid initiation that declined during corticosteroid therapy (Fig. 1) . Soluble CD25 reflects immune activation and is used in the diagnosis of histoplasmosis-associated hemophagocytic lymphohistiocytosis [14] . IL-6 is involved in naïve T cell polarization, classically Th17 differentiation, and is released by activated astrocytes during CNS inflammation [15] . However, IL-17 was not detectable, similar to that often found in Crypto-PIIRS, which may be due to an overall Th1 bias in these syndromes [16] . IL-8 is another biomarker of neuroinflammation, primarily attracting and activating neutrophils and basophils [17] . Notably, the antiinflammatory cytokines IL-4 and IL-10, which suppress the generation of Th1 responses in histoplasmosis [18] , were not elevated in the CSF of this patient. Similar inflammatory cytokine profiles, and a lack of anti-inflammatory cytokines, are seen in Crypto-PIIRS [11] . While we were not able to evaluate cellular markers of CSF inflammation due to the patient declining to come to the NIH, the finding of an elevated Il-6 level in the setting of an improved CRP on antifungal therapy, from an initial low value, suggests that CSF parameters were less likely due to systemic-CSF transmigration, similar to the intrathecal compartmentalization of inflammation in Crypto-PIIRS [11] . Previously, elevated blood CRP levels have been associated with elevations in systemic IL-6 due to induction of hepatic CRP synthesis by IL-6 [19] . MRI findings also reflected CNS inflammatory changes with abnormal enhancement in the prepontine cistern, as well as meningeal enhancement along the trigeminal nerves, anterior aspect of the pons, medulla, and inferior cerebellum, both similar to Crypto-PIIRS [20] . As reflected by clinical improvement and reduction of pro-inflammatory cytokines and improvement in MRI findings, the deleterious inflammatory response was likely controlled by corticosteroid treatment, suggesting a role for these parameters as biomarkers of CNS Histo-PIIRS, in addition to standard microbiological markers. It is not clear if concurrent HCV infection was involved in host susceptibility to histoplasmosis in this case. Chronic HCV is known to effect both innate and adaptive immunity, including impaired effector T cell and dendritic cell function [21] . Both are considered necessary for adequate histoplasmosis control [22] , and concurrent HCV and histoplasmosis have been reported but are rare, typically associated with granulomatous hepatitis [23] [24] [25] and is also associated rarely with cryptococcal disease [26] . Future studies of disseminated histoplasma disease including more detailed immune studies and whole-exome sequencing offer the promise to shed more light on this rare disease. Complicating the diagnosis of CNS histoplasmosis is the limited sensitivity and specificity of current microbiological laboratory tests (Table 1) . According to a recent multicenter study of CNS histoplasmosis by Wheat et al., fungal cultures had low sensitivity and could take up to 6 weeks to demonstrate growth. Serological testing by complement fixation (CF) or immunodiffusion was not as helpful as EIA based on inferior sensitivity patterns [2] . Although not used in this case, a combined approach of testing CSF antigen and antibody by EIA is considered the most sensitive detection method (98% sensitivity, 90.8% specificity) to diagnose CNS histoplasmosis [27] . Our patient was initially diagnosed based on CSF IgG detection by EIA (Table 1) . (1,3)-β-D-Glucan levels were negative in the CSF despite high levels in the serum. CNS histoplasmosis is also known to relapse, with an estimated incidence of 6% [2] . On representation, our suspicion for relapsed infection was low based on a combination of negative CSF and serum antigen by EIA (Table 1) . These results, in the setting of worsening neurological status and elevated CSF inflammatory markers, support the diagnosis of Histo-PIIRS rather than relapsed infection. Of note, the antigen may be falsely negative in CNS histoplasmosis [27] . This patient's hospital course was also complicated by recurrent arthritis of the knee. On initial presentation, the diagnosis was MSSA septic arthritis. Histoplasmosis was not thought to be a causal factor at that time. On readmission, a specific inflammatory or infectious cause could not be identified. Cause of improvement could not be determined because treatment included cefazolin and prednisone. Whether the arthritis was PIIRS or infectious is unclear. In summary, the present case suggests that CNS histoplasmosis may be followed by a post-infectious inflammatory response syndrome with similarity to PIIRS in cryptococcal meningoencephalitis. It can be recognized in a patient with confirmed CNS histoplasmosis by three criteria: (1) worsening clinical condition despite standard antifungal therapy, (2) improving serologic or antigenic parameters, and (3) evidence of elevated immune activation in the CSF. When recognized, CNS Histo-PIIRS may respond to corticosteroid therapy followed by a slow taper, during which reduction of CSF inflammatory markers and MRI findings may help confirm suppression of an overactive inflammatory response and help diagnose immunological flairs during the steroid taper. Continued antifungal therapy is crucial to prevent relapse caused by the immunosuppressive effects of prednisone. \""
      ]
     },
     "execution_count": 32,
     "metadata": {},
     "output_type": "execute_result"
    }
   ],
   "source": [
    "df_results.iloc[7].full_text"
   ]
  },
  {
   "cell_type": "code",
   "execution_count": null,
   "metadata": {},
   "outputs": [],
   "source": []
  }
 ],
 "metadata": {
  "kernelspec": {
   "display_name": "Python 3 (ipykernel)",
   "language": "python",
   "name": "python3"
  },
  "language_info": {
   "codemirror_mode": {
    "name": "ipython",
    "version": 3
   },
   "file_extension": ".py",
   "mimetype": "text/x-python",
   "name": "python",
   "nbconvert_exporter": "python",
   "pygments_lexer": "ipython3",
   "version": "3.8.12"
  }
 },
 "nbformat": 4,
 "nbformat_minor": 4
}
